{
 "cells": [
  {
   "attachments": {},
   "cell_type": "markdown",
   "id": "3a85463a",
   "metadata": {
    "tags": []
   },
   "source": [
    "$\\newcommand{\\ax}{\\mathbf{a}_x}$\n",
    "$\\newcommand{\\ay}{\\mathbf{a}_y}$\n",
    "$\\newcommand{\\az}{\\mathbf{a}_z}$\n",
    "$\\newcommand{\\arho}{\\mathbf{a}_\\rho}$\n",
    "$\\newcommand{\\ap}{\\mathbf{a}_\\phi}$\n",
    "$\\newcommand{\\ar}{\\mathbf{a}_r}$\n",
    "$\\newcommand{\\at}{\\mathbf{a}_\\theta}$\n",
    "$\\newcommand{\\grad}[1]{\\nabla #1}$\n",
    "$\\renewcommand{\\div}[1]{\\mathbf{\\nabla} \\cdot \\mathbf{#1}}$\n",
    "$\\newcommand{\\rot}[1]{\\mathbf{\\nabla} \\times \\mathbf{#1}}$\n",
    "$\\newcommand{\\parcial}[2]{\\displaystyle\\frac{\\partial #1}{\\partial #2}}$\n",
    "$\\newcommand{\\pard}[2]{\\displaystyle\\frac{\\partial^2 {#1}}{\\partial {#2}^2}}$\n",
    "$\\newcommand{\\lapcart}[1]{\\pard{#1}{x}+\\pard{#1}{y}+\\pard{#1}{z}}$\n",
    "$\\newcommand{\\lapcili}[1]{\\frac{1}{\\rho}\\parcial{}{\\rho}\\left(\\rho \\parcial{#1}{\\rho}\\right)+\\frac{1}{\\rho^2}\\pard{#1}{\\phi}+\\pard{#1}{z}}$\n",
    "$\\newcommand{\\lapesf}[1]{\\frac{1}{r^2}\\parcial{}{r}\\left(r^2 \\parcial{#1}{r}\\right)+\\frac{1}{r^2\\sin \\theta }\\left(\\sin \\theta \\, \\parcial{#1}{\\theta}\\right)+\\frac{1}{r^2\\sin \\theta}\\pard{V}{\\phi}}$\n",
    "\n"
   ]
  },
  {
   "attachments": {},
   "cell_type": "markdown",
   "id": "b25518e0",
   "metadata": {},
   "source": [
    "# Campos gerados por distribuições de carga"
   ]
  },
  {
   "attachments": {},
   "cell_type": "markdown",
   "id": "abd4df78",
   "metadata": {},
   "source": [
    "## Distribuições contínuas de carga\n",
    "\n",
    "<center> <img src='./Figs/Fig4.5.svg'> </center>\n",
    "\n",
    "Linear. Densidade $\\rho_L$, carga/comprimento.\n",
    "\n",
    "Superficial. Densidade $\\rho_S$, carga/área.\n",
    "\n",
    "Volumétrica. Densidade $\\rho_V$, carga/volume."
   ]
  },
  {
   "attachments": {},
   "cell_type": "markdown",
   "id": "b0677c6d",
   "metadata": {},
   "source": [
    "## Elemento de carga\n",
    "\n",
    "Trabalha como se fosse uma carga pontual. A carga do elemento é igual à densidade $\\times$ dimensão, onde ambas as grandezas dependem do tipo de distribuição. Por exemplo, se a distribuição é de área, então usamos a densidade de área e dimensão = elemento de área. \n",
    "\n",
    "Se somarmos todos os elementos ao longo da geometria (linha, área ou volume), o resultado é a carga total dela. Por exemplo, para uma distribuição linear:\n",
    "$$\n",
    "\\begin{align}\n",
    "    dQ = \\rho_L \\, dl \\Rightarrow Q = \\int_L \\rho_L dl\n",
    "\\end{align}\n",
    "$$"
   ]
  },
  {
   "attachments": {},
   "cell_type": "markdown",
   "id": "a72ac356",
   "metadata": {},
   "source": [
    "Se somarmos todas as contribuições dos elementos ao longo da mesma geometria, temos o campo total. \n",
    "$$\n",
    "\\begin{align}\n",
    "    \\mathbf{E} &= \\int_{L} \\frac{dQ}{4\\pi \\epsilon_0 R^2}\\mathbf{a}_R\n",
    "\\end{align}\n",
    "$$\n",
    "\n",
    "Assim, se o problema é de distribuição linear ou superficial, use o $dQ$ correspondente. A parte complicada é descrever como o vetor $\\mathbf{R}$ de um ponto arbitrário do espaço varia em relação aos elementos de carga $dQ$. "
   ]
  },
  {
   "attachments": {},
   "cell_type": "markdown",
   "id": "0feb2c13",
   "metadata": {},
   "source": [
    "## Solução geral\n",
    "\n",
    "1. Localize um elemento de carga\n",
    "2. Escreva a carga do elemento como se fosse um ponto\n",
    "3. Escreva o vetor posição do elemento\n",
    "4. Localize um ponto genérico no espaço\n",
    "5. Escreva o vetor posição do ponto\n",
    "6. Calcule o vetor deslocamento entre o ponto e o elemento \n",
    "7. Escreva a contribuição do elemento em função da carga e do vetor deslocamento\n",
    "8. Descreva a geometria da distribuição\n",
    "9. Analise se o problema possui simetria e simplifique quando ela permitir.\n",
    "10. Integre a contribuição do elemento ao longo da geometria da distribuição para determinar o campo total. "
   ]
  },
  {
   "attachments": {},
   "cell_type": "markdown",
   "id": "48a34c31",
   "metadata": {},
   "source": [
    "## Linha de carga"
   ]
  },
  {
   "attachments": {},
   "cell_type": "markdown",
   "id": "e522c875",
   "metadata": {},
   "source": [
    "<center> <img src='Fig4.6.svg'> </center>"
   ]
  },
  {
   "cell_type": "code",
   "execution_count": 51,
   "id": "dc9e0d6a",
   "metadata": {},
   "outputs": [],
   "source": [
    "# Imports\n",
    "import sympy as sp\n",
    "from IPython.display import display, Math"
   ]
  },
  {
   "attachments": {},
   "cell_type": "markdown",
   "id": "571d7ab7",
   "metadata": {},
   "source": [
    "- Distribuição unidimensional\n",
    "- Densidade linear $\\rho_L$. \n",
    "- O condutor está posicionado ao longo do eixo $z$. \n",
    "- Extremidade inferior em $z=A$\n",
    "- Extremidade superior em $z=B$. "
   ]
  },
  {
   "cell_type": "code",
   "execution_count": 74,
   "id": "11cc8fc2",
   "metadata": {},
   "outputs": [],
   "source": [
    "# Símbolos\n",
    "x,y,z,z0,dz0 = sp.symbols(['x','y','z','z_0','dz0'], nonzero=True)\n",
    "# Constantes do problema\n",
    "rL, eps0 = sp.symbols(['\\\\rho_L','\\\\epsilon_0'])\n",
    "# Extremidades da liha\n",
    "A,B = sp.symbols(['A', 'B'])"
   ]
  },
  {
   "cell_type": "code",
   "execution_count": 75,
   "id": "3bdb6b9d",
   "metadata": {},
   "outputs": [
    {
     "data": {
      "text/latex": [
       "$\\displaystyle \\left[\\begin{matrix}x\\\\y\\\\z\\end{matrix}\\right]$"
      ],
      "text/plain": [
       "Matrix([\n",
       "[x],\n",
       "[y],\n",
       "[z]])"
      ]
     },
     "execution_count": 75,
     "metadata": {},
     "output_type": "execute_result"
    }
   ],
   "source": [
    "# Ponto arbitrário no espaço\n",
    "P = sp.ImmutableDenseMatrix([x,y,z])\n",
    "P\n"
   ]
  },
  {
   "cell_type": "code",
   "execution_count": 76,
   "id": "f7942283",
   "metadata": {},
   "outputs": [
    {
     "data": {
      "text/latex": [
       "$\\displaystyle \\left[\\begin{matrix}0\\\\0\\\\z_{0}\\end{matrix}\\right]$"
      ],
      "text/plain": [
       "Matrix([\n",
       "[  0],\n",
       "[  0],\n",
       "[z_0]])"
      ]
     },
     "execution_count": 76,
     "metadata": {},
     "output_type": "execute_result"
    }
   ],
   "source": [
    "# Posição do elemento de carga\n",
    "X = sp.ImmutableDenseMatrix([0,0,z0])\n",
    "X"
   ]
  },
  {
   "cell_type": "code",
   "execution_count": 77,
   "id": "10253ada",
   "metadata": {},
   "outputs": [
    {
     "data": {
      "text/latex": [
       "$\\displaystyle \\left[\\begin{matrix}x\\\\y\\\\z - z_{0}\\end{matrix}\\right]$"
      ],
      "text/plain": [
       "Matrix([\n",
       "[      x],\n",
       "[      y],\n",
       "[z - z_0]])"
      ]
     },
     "execution_count": 77,
     "metadata": {},
     "output_type": "execute_result"
    }
   ],
   "source": [
    "# Vetor deslocamento\n",
    "R = P-X\n",
    "R"
   ]
  },
  {
   "cell_type": "code",
   "execution_count": 78,
   "id": "8e8098fa",
   "metadata": {},
   "outputs": [
    {
     "data": {
      "text/latex": [
       "$\\displaystyle d\\mathbf{E} = \\left[\\begin{matrix}\\frac{\\rho_{L} dz_{0} x}{4 \\pi \\epsilon_{0} \\left(x^{2} + y^{2} + \\left(z - z_{0}\\right)^{2}\\right)^{\\frac{3}{2}}}\\\\\\frac{\\rho_{L} dz_{0} y}{4 \\pi \\epsilon_{0} \\left(x^{2} + y^{2} + \\left(z - z_{0}\\right)^{2}\\right)^{\\frac{3}{2}}}\\\\\\frac{\\rho_{L} dz_{0} \\left(z - z_{0}\\right)}{4 \\pi \\epsilon_{0} \\left(x^{2} + y^{2} + \\left(z - z_{0}\\right)^{2}\\right)^{\\frac{3}{2}}}\\end{matrix}\\right]$"
      ],
      "text/plain": [
       "<IPython.core.display.Math object>"
      ]
     },
     "metadata": {},
     "output_type": "display_data"
    }
   ],
   "source": [
    "# Campo devido ao elemento de carga\n",
    "dE = rL*R/(4*sp.pi*eps0*R.norm()**3)\n",
    "display(Math(r'd\\mathbf{E} = ' + sp.latex(dE*dz0)))"
   ]
  },
  {
   "cell_type": "code",
   "execution_count": 57,
   "id": "476bad50",
   "metadata": {},
   "outputs": [
    {
     "data": {
      "text/latex": [
       "$\\displaystyle \\mathbf{E} = \\int\\limits_{A}^{B} \\left[\\begin{matrix}\\frac{\\rho_{L} x}{4 \\pi \\epsilon_{0} \\left(x^{2} + y^{2} + \\left(z - z_{0}\\right)^{2}\\right)^{\\frac{3}{2}}}\\\\\\frac{\\rho_{L} y}{4 \\pi \\epsilon_{0} \\left(x^{2} + y^{2} + \\left(z - z_{0}\\right)^{2}\\right)^{\\frac{3}{2}}}\\\\\\frac{\\rho_{L} \\left(z - z_{0}\\right)}{4 \\pi \\epsilon_{0} \\left(x^{2} + y^{2} + \\left(z - z_{0}\\right)^{2}\\right)^{\\frac{3}{2}}}\\end{matrix}\\right]\\, dz_{0}$"
      ],
      "text/plain": [
       "<IPython.core.display.Math object>"
      ]
     },
     "metadata": {},
     "output_type": "display_data"
    }
   ],
   "source": [
    "# Constrói a integral (sem resolver)\n",
    "E = sp.Integral(dE,(z0,A,B))\n",
    "display(Math('\\mathbf{E} = '+ sp.latex(E)))"
   ]
  },
  {
   "cell_type": "code",
   "execution_count": 58,
   "id": "1c990a91",
   "metadata": {},
   "outputs": [
    {
     "data": {
      "text/latex": [
       "$\\displaystyle \\mathbf{E} = \\left[\\begin{matrix}\\frac{\\rho_{L} x \\left(\\sqrt{x^{2} + y^{2} + \\left(A - z\\right)^{2}} \\left|{B - z}\\right| - \\sqrt{x^{2} + y^{2} + \\left(B - z\\right)^{2}} \\left|{A - z}\\right|\\right)}{4 \\pi \\epsilon_{0} \\left(x^{2} + y^{2}\\right) \\sqrt{x^{2} + y^{2} + \\left(A - z\\right)^{2}} \\sqrt{x^{2} + y^{2} + \\left(B - z\\right)^{2}}}\\\\\\frac{\\rho_{L} y \\left(\\sqrt{x^{2} + y^{2} + \\left(A - z\\right)^{2}} \\left|{B - z}\\right| - \\sqrt{x^{2} + y^{2} + \\left(B - z\\right)^{2}} \\left|{A - z}\\right|\\right)}{4 \\pi \\epsilon_{0} \\left(x^{2} + y^{2}\\right) \\sqrt{x^{2} + y^{2} + \\left(A - z\\right)^{2}} \\sqrt{x^{2} + y^{2} + \\left(B - z\\right)^{2}}}\\\\\\frac{\\rho_{L}}{4 \\pi \\epsilon_{0} \\sqrt{B^{2} - 2 B z + x^{2} + y^{2} + z^{2}}} - \\frac{\\rho_{L}}{4 \\pi \\epsilon_{0} \\sqrt{A^{2} - 2 A z + x^{2} + y^{2} + z^{2}}}\\end{matrix}\\right]$"
      ],
      "text/plain": [
       "<IPython.core.display.Math object>"
      ]
     },
     "metadata": {},
     "output_type": "display_data"
    }
   ],
   "source": [
    "# Agora resolve\n",
    "display(Math('\\mathbf{E} = ' +  sp.latex(E.doit().simplify())))"
   ]
  },
  {
   "attachments": {},
   "cell_type": "markdown",
   "id": "98781e5c",
   "metadata": {},
   "source": [
    "O resultado é bem complicado de escrever. Vamos ver se em coordenadas cilíndricas fica mais apresentável. "
   ]
  },
  {
   "cell_type": "code",
   "execution_count": 59,
   "id": "3e143b9f",
   "metadata": {},
   "outputs": [],
   "source": [
    "# Coordenadas cilíndricas\n",
    "rho = sp.symbols('\\\\rho', positive=True)\n",
    "phi = sp.symbols('\\\\phi', real=True)"
   ]
  },
  {
   "cell_type": "code",
   "execution_count": 60,
   "id": "44865ca5",
   "metadata": {},
   "outputs": [
    {
     "data": {
      "text/latex": [
       "$\\displaystyle \\left[ \\left( x, \\  \\rho \\cos{\\left(\\phi \\right)}\\right), \\  \\left( y, \\  \\rho \\sin{\\left(\\phi \\right)}\\right)\\right]$"
      ],
      "text/plain": [
       "<IPython.core.display.Math object>"
      ]
     },
     "metadata": {},
     "output_type": "display_data"
    }
   ],
   "source": [
    "# Substituições para coordenadas cilíndricas\n",
    "coord_cili = [(x,rho*sp.cos(phi)),\n",
    "              (y,rho*sp.sin(phi))]\n",
    "display(Math(sp.latex(coord_cili)))"
   ]
  },
  {
   "cell_type": "code",
   "execution_count": 61,
   "id": "59b39276",
   "metadata": {},
   "outputs": [
    {
     "data": {
      "text/latex": [
       "$\\displaystyle \\left[\\begin{matrix}\\cos{\\left(\\phi \\right)} & \\sin{\\left(\\phi \\right)} & 0\\\\- \\sin{\\left(\\phi \\right)} & \\cos{\\left(\\phi \\right)} & 0\\\\0 & 0 & 1\\end{matrix}\\right]$"
      ],
      "text/plain": [
       "Matrix([\n",
       "[ cos(\\phi), sin(\\phi), 0],\n",
       "[-sin(\\phi), cos(\\phi), 0],\n",
       "[         0,         0, 1]])"
      ]
     },
     "execution_count": 61,
     "metadata": {},
     "output_type": "execute_result"
    }
   ],
   "source": [
    "# Matriz de transformação\n",
    "ret2cil = sp.ImmutableDenseMatrix([[sp.cos(phi), sp.sin(phi),0],\n",
    "                                   [-sp.sin(phi), sp.cos(phi),0],\n",
    "                                   [0,0,1]])\n",
    "ret2cil"
   ]
  },
  {
   "cell_type": "code",
   "execution_count": 62,
   "id": "3896d971",
   "metadata": {},
   "outputs": [
    {
     "data": {
      "text/latex": [
       "$\\displaystyle \\mathbf{E} = \\left[\\begin{matrix}\\frac{\\rho_{L} \\left|{B - z}\\right|}{4 \\pi \\epsilon_{0} \\rho \\sqrt{B^{2} - 2 B z + \\rho^{2} + z^{2}}} - \\frac{\\rho_{L} \\left|{A - z}\\right|}{4 \\pi \\epsilon_{0} \\rho \\sqrt{A^{2} - 2 A z + \\rho^{2} + z^{2}}}\\\\0\\\\\\frac{\\rho_{L}}{4 \\pi \\epsilon_{0} \\sqrt{B^{2} - 2 B z + \\rho^{2} + z^{2}}} - \\frac{\\rho_{L}}{4 \\pi \\epsilon_{0} \\sqrt{A^{2} - 2 A z + \\rho^{2} + z^{2}}}\\end{matrix}\\right]$"
      ],
      "text/plain": [
       "<IPython.core.display.Math object>"
      ]
     },
     "metadata": {},
     "output_type": "display_data"
    }
   ],
   "source": [
    "# Converte\n",
    "Ecil = ret2cil@E.doit().subs(coord_cili)\n",
    "Ecil = Ecil.simplify()\n",
    "display(Math(r'\\mathbf{E} = ' + sp.latex(Ecil)))"
   ]
  },
  {
   "attachments": {},
   "cell_type": "markdown",
   "id": "9d406440",
   "metadata": {},
   "source": [
    "## Linha infinita\n",
    "\n",
    "Este é um caso especial do anterior, onde o resultado fica bem simplificado. \n",
    "\n",
    "Ele se aplica quando a linha é muito extensa em relação à distância até o ponto. Isso ocorre quando o comprimento da linha é realmente muito grande ou quando estudamos o campo bem próximo da linha.\n",
    "\n",
    "Em termos matemáticos é como se a linha fosse \"infinita\". Neste caso, podemos tentar simplificar as expressões fazendo $A\\rightarrow -\\infty$ e $B\\rightarrow \\infty$."
   ]
  },
  {
   "cell_type": "code",
   "execution_count": 63,
   "id": "41a5a686",
   "metadata": {},
   "outputs": [
    {
     "data": {
      "text/latex": [
       "$\\displaystyle \\mathbf{E} = \\int\\limits_{-\\infty}^{\\infty} \\left[\\begin{matrix}\\frac{\\rho_{L} x}{4 \\pi \\epsilon_{0} \\left(x^{2} + y^{2} + \\left(z - z_{0}\\right)^{2}\\right)^{\\frac{3}{2}}}\\\\\\frac{\\rho_{L} y}{4 \\pi \\epsilon_{0} \\left(x^{2} + y^{2} + \\left(z - z_{0}\\right)^{2}\\right)^{\\frac{3}{2}}}\\\\\\frac{\\rho_{L} \\left(z - z_{0}\\right)}{4 \\pi \\epsilon_{0} \\left(x^{2} + y^{2} + \\left(z - z_{0}\\right)^{2}\\right)^{\\frac{3}{2}}}\\end{matrix}\\right]\\, dz_{0} = \\left[\\begin{matrix}\\frac{\\rho_{L} x}{2 \\pi \\epsilon_{0} \\left(x^{2} + y^{2}\\right)}\\\\\\frac{\\rho_{L} y}{2 \\pi \\epsilon_{0} \\left(x^{2} + y^{2}\\right)}\\\\0\\end{matrix}\\right]$"
      ],
      "text/plain": [
       "<IPython.core.display.Math object>"
      ]
     },
     "metadata": {},
     "output_type": "display_data"
    }
   ],
   "source": [
    "# Resolvendo novamente, mas agora com limites infinitos\n",
    "A = -sp.oo\n",
    "B = sp.oo\n",
    "Einf = sp.Integral(rL*R/(4*sp.pi*eps0*R.norm()**3),(z0,A,B))\n",
    "display(Math(r'\\mathbf{E} = ' + \n",
    "             sp.latex(Einf) + ' = ' \n",
    "             + sp.latex(Einf.doit())))"
   ]
  },
  {
   "cell_type": "code",
   "execution_count": 64,
   "id": "151f543f",
   "metadata": {},
   "outputs": [
    {
     "data": {
      "text/latex": [
       "$\\displaystyle \\mathbf{E} = \\left[\\begin{matrix}\\frac{\\rho \\rho_{L} \\sin^{2}{\\left(\\phi \\right)}}{2 \\pi \\epsilon_{0} \\left(\\rho^{2} \\sin^{2}{\\left(\\phi \\right)} + \\rho^{2} \\cos^{2}{\\left(\\phi \\right)}\\right)} + \\frac{\\rho \\rho_{L} \\cos^{2}{\\left(\\phi \\right)}}{2 \\pi \\epsilon_{0} \\left(\\rho^{2} \\sin^{2}{\\left(\\phi \\right)} + \\rho^{2} \\cos^{2}{\\left(\\phi \\right)}\\right)}\\\\0\\\\0\\end{matrix}\\right] = \\left[\\begin{matrix}\\frac{\\rho_{L}}{2 \\pi \\epsilon_{0} \\rho}\\\\0\\\\0\\end{matrix}\\right]$"
      ],
      "text/plain": [
       "<IPython.core.display.Math object>"
      ]
     },
     "metadata": {},
     "output_type": "display_data"
    }
   ],
   "source": [
    "# Convertendo agora para coordenadas cilíndricas\n",
    "E_inf_cil = ret2cil@Einf.doit().subs(coord_cili)\n",
    "display(Math(r'\\mathbf{E} = ' + \n",
    "             sp.latex(E_inf_cil) + \n",
    "             ' = ' + sp.latex(E_inf_cil.simplify())))"
   ]
  },
  {
   "attachments": {},
   "cell_type": "markdown",
   "id": "320a7e59",
   "metadata": {},
   "source": [
    "Vamos desenhar o campo agora, para ter uma ideia mais visual. O desenho é feito no plano; tente imaginar como se a linha de carga estivesse saindo ou entrando na tela. "
   ]
  },
  {
   "cell_type": "code",
   "execution_count": 65,
   "id": "ecfd8818",
   "metadata": {},
   "outputs": [],
   "source": [
    "# Plotagem\n",
    "import numpy as np\n",
    "from matplotlib import pyplot as plt\n",
    "\n",
    "a = np.arange(-2,2,.21)\n",
    "a = a[a!=0]\n",
    "X, Y = np.meshgrid(a,a)"
   ]
  },
  {
   "cell_type": "code",
   "execution_count": 66,
   "id": "c6131a8b",
   "metadata": {},
   "outputs": [
    {
     "data": {
      "image/png": "[encoded data removed]",
      "text/plain": [
       "<Figure size 640x480 with 1 Axes>"
      ]
     },
     "metadata": {},
     "output_type": "display_data"
    }
   ],
   "source": [
    "Efun = Einf.doit()\n",
    "Efun = Efun.subs([(eps0,1e-9/(36.*np.pi)),(rL,1.e-10)]).evalf()\n",
    "Ex = sp.lambdify([x,y], Efun[0])\n",
    "Ey = sp.lambdify([x,y], Efun[1])\n",
    "Ez = sp.lambdify([x,y], Efun[2])\n",
    "plt.quiver(X,Y,Ex(X,Y),Ey(X,Y));"
   ]
  },
  {
   "attachments": {},
   "cell_type": "markdown",
   "id": "348a8dc0",
   "metadata": {},
   "source": [
    "## Placa circular"
   ]
  },
  {
   "attachments": {},
   "cell_type": "markdown",
   "id": "548d6436",
   "metadata": {},
   "source": [
    "Nesse problema queremos o fluxo/campo produzido por uma placa circular de determinado raio $r$, carregada com uma densidade $q_s$. O campo deve ser calculado apenas em um ponto a uma distância $h$ da placa, ao longo de uma linha perpendicular e passando pelo centro da placa. \n",
    "\n",
    "<center> <img src='placa-circular.svg'> </center>"
   ]
  },
  {
   "cell_type": "code",
   "execution_count": 82,
   "id": "50da8dfe",
   "metadata": {},
   "outputs": [],
   "source": [
    "# Símbolos\n",
    "h = sp.symbols('h', positive=True)\n",
    "qs = sp.symbols('q_s')\n",
    "dx,dy = sp.symbols(['dx', 'dy'])"
   ]
  },
  {
   "cell_type": "code",
   "execution_count": 79,
   "id": "8c74df02",
   "metadata": {},
   "outputs": [
    {
     "data": {
      "text/latex": [
       "$\\displaystyle \\left[\\begin{matrix}0\\\\0\\\\h\\end{matrix}\\right]$"
      ],
      "text/plain": [
       "Matrix([\n",
       "[0],\n",
       "[0],\n",
       "[h]])"
      ]
     },
     "execution_count": 79,
     "metadata": {},
     "output_type": "execute_result"
    }
   ],
   "source": [
    "# Ponto acima da placa\n",
    "P = sp.ImmutableDenseMatrix([0,0,h])\n",
    "P"
   ]
  },
  {
   "cell_type": "code",
   "execution_count": 80,
   "id": "9d30b5fb",
   "metadata": {},
   "outputs": [
    {
     "data": {
      "text/latex": [
       "$\\displaystyle \\left[\\begin{matrix}x\\\\y\\\\0\\end{matrix}\\right]$"
      ],
      "text/plain": [
       "Matrix([\n",
       "[x],\n",
       "[y],\n",
       "[0]])"
      ]
     },
     "execution_count": 80,
     "metadata": {},
     "output_type": "execute_result"
    }
   ],
   "source": [
    "# Posição do elemento\n",
    "Q = sp.ImmutableDenseMatrix([x,y,0])\n",
    "Q"
   ]
  },
  {
   "cell_type": "code",
   "execution_count": 93,
   "id": "8524cacb",
   "metadata": {},
   "outputs": [
    {
     "data": {
      "text/latex": [
       "$\\displaystyle \\mathbf{R} = \\left[\\begin{matrix}0\\\\0\\\\h\\end{matrix}\\right]-\\left[\\begin{matrix}x\\\\y\\\\0\\end{matrix}\\right]=\\left[\\begin{matrix}- x\\\\- y\\\\h\\end{matrix}\\right]$"
      ],
      "text/plain": [
       "<IPython.core.display.Math object>"
      ]
     },
     "metadata": {},
     "output_type": "display_data"
    }
   ],
   "source": [
    "# Vetor deslocamento\n",
    "R = P-Q\n",
    "display(Math(r'\\mathbf{R} = ' + sp.latex(P) + '-' + sp.latex(Q) + '=' + sp.latex(R)))"
   ]
  },
  {
   "attachments": {},
   "cell_type": "markdown",
   "id": "cee932d4",
   "metadata": {},
   "source": [
    "Uma observação importante. O vetor posição possui uma simetria de quadrante. Para ver isso, pegue dois pontos diametralmente opostos no disco, isto é, com coordenadas $x$ e $y$ de sinais opostos. \n",
    "$$ \\begin{align}\n",
    "\\mathbf{R}_1 &= \\left[-x,\\, -y,\\, h\\right]^T\\\\\n",
    "\\mathbf{R}_2 &= \\left[-(-x),\\, -(-y),\\, h\\right]^T\n",
    "\\end{align}\n",
    "$$\n",
    "\n",
    "Observe que as duas primeiras componentes desses vetores são opostas, de modo que se somarmos quaisquer dois vetores simétricos, as duas primeiras componentes sempre se anularão. Isso vale para qualquer quadrante do disco.\n",
    "\n",
    "<center> <img src='simetria-disco.svg'> </center>"
   ]
  },
  {
   "attachments": {},
   "cell_type": "markdown",
   "id": "d8e2bf99",
   "metadata": {},
   "source": [
    "\n",
    "Lembre que integrar os elementos é basicamente somar todos os elementos possíveis.\n",
    "\n",
    "As componentes do vetor de campo são a soma das componentes do vetor deslocamento. Assim, podemos concluir que o campo terá apenas a componente na direção $z$. "
   ]
  },
  {
   "attachments": {},
   "cell_type": "markdown",
   "id": "13f58223",
   "metadata": {},
   "source": [
    "Em se tratando de área (disco), nosso elemento de carga seria, em coordenadas cartesianas:\n",
    "$$\n",
    "dQ = q_s\\, dx\\,dy"
   ]
  },
  {
   "cell_type": "code",
   "execution_count": 88,
   "id": "83be8b2e",
   "metadata": {},
   "outputs": [
    {
     "data": {
      "text/latex": [
       "$\\displaystyle \\left[\\begin{matrix}- \\frac{dx dy q_{s} x}{4 \\pi \\epsilon_{0} \\left(h^{2} + x^{2} + y^{2}\\right)^{\\frac{3}{2}}}\\\\- \\frac{dx dy q_{s} y}{4 \\pi \\epsilon_{0} \\left(h^{2} + x^{2} + y^{2}\\right)^{\\frac{3}{2}}}\\\\\\frac{dx dy h q_{s}}{4 \\pi \\epsilon_{0} \\left(h^{2} + x^{2} + y^{2}\\right)^{\\frac{3}{2}}}\\end{matrix}\\right]$"
      ],
      "text/plain": [
       "Matrix([\n",
       "[-dx*dy*q_s*x/(4*pi*\\epsilon_0*(h**2 + x**2 + y**2)**(3/2))],\n",
       "[-dx*dy*q_s*y/(4*pi*\\epsilon_0*(h**2 + x**2 + y**2)**(3/2))],\n",
       "[ dx*dy*h*q_s/(4*pi*\\epsilon_0*(h**2 + x**2 + y**2)**(3/2))]])"
      ]
     },
     "execution_count": 88,
     "metadata": {},
     "output_type": "execute_result"
    }
   ],
   "source": [
    "# Assim, teríamos o elemento de campo\n",
    "dE = qs*dx*dy*R/(4*sp.pi*eps0*R.norm()**3)\n",
    "dE"
   ]
  },
  {
   "attachments": {},
   "cell_type": "markdown",
   "id": "dd3aebf8",
   "metadata": {},
   "source": [
    "Agora, o problema aqui é escrever a geometria do disco em coordenadas retangulares. O que se faz normalmente é escrever os limites da integral conforme a equação do círculo, por exemplo:\n",
    "\n",
    "Quando $-r\\leq x \\leq r$, temos: $-\\sqrt{r^2-x^2}\\leq y \\leq \\sqrt{r^2-x^2}$. Mas ainda assim temos que dividir a integral em duas parcelas, a metade de cima e a metade de baixo do círculo!"
   ]
  },
  {
   "attachments": {},
   "cell_type": "markdown",
   "id": "d90b49e6",
   "metadata": {},
   "source": [
    "Felizmente, descrever um círculo em torno do eixo $z$ em coordenadas cilíndricas é muito mais simples que isso. \n",
    "\n",
    "Basta fazer: $0\\leq \\rho \\leq r$ e $0\\leq \\phi \\leq 2\\pi$.\n",
    "\n",
    "Sendo assim, vamos converter tudo que foi feito até aqui para coordenadas cilíndricas:"
   ]
  },
  {
   "cell_type": "code",
   "execution_count": 97,
   "id": "005a9642",
   "metadata": {},
   "outputs": [
    {
     "data": {
      "text/latex": [
       "$\\displaystyle \\mathbf{R} = \\left[\\begin{matrix}\\cos{\\left(\\phi \\right)} & \\sin{\\left(\\phi \\right)} & 0\\\\- \\sin{\\left(\\phi \\right)} & \\cos{\\left(\\phi \\right)} & 0\\\\0 & 0 & 1\\end{matrix}\\right]\\left[\\begin{matrix}- x\\\\- y\\\\h\\end{matrix}\\right]=\\left[\\begin{matrix}- x \\cos{\\left(\\phi \\right)} - y \\sin{\\left(\\phi \\right)}\\\\x \\sin{\\left(\\phi \\right)} - y \\cos{\\left(\\phi \\right)}\\\\h\\end{matrix}\\right]$"
      ],
      "text/plain": [
       "<IPython.core.display.Math object>"
      ]
     },
     "metadata": {},
     "output_type": "display_data"
    }
   ],
   "source": [
    "# Transforma o vetor deslocamento para componentes cilíndricas\n",
    "Rc = (ret2cil@R).simplify()\n",
    "display(Math(r'\\mathbf{R} = ' + sp.latex(ret2cil) + sp.latex(R) + \n",
    "             '=' + sp.latex(Rc)))"
   ]
  },
  {
   "cell_type": "code",
   "execution_count": 101,
   "id": "fed2d5b7",
   "metadata": {},
   "outputs": [
    {
     "data": {
      "text/latex": [
       "$\\displaystyle \\mathbf{R} = \\left[\\begin{matrix}- \\rho \\sin^{2}{\\left(\\phi \\right)} - \\rho \\cos^{2}{\\left(\\phi \\right)}\\\\0\\\\h\\end{matrix}\\right]$"
      ],
      "text/plain": [
       "<IPython.core.display.Math object>"
      ]
     },
     "metadata": {},
     "output_type": "display_data"
    }
   ],
   "source": [
    "# Converte as coordenadas das componentes para sistema cilíndrico\n",
    "display(Math(r'\\mathbf{R} = ' + sp.latex(Rc.subs(coord_cili))))\n",
    "Rc = Rc.subs(coord_cili)"
   ]
  },
  {
   "cell_type": "code",
   "execution_count": 102,
   "id": "b1ca09d2",
   "metadata": {},
   "outputs": [
    {
     "data": {
      "text/latex": [
       "$\\displaystyle \\mathbf{R} = \\left[\\begin{matrix}- \\rho\\\\0\\\\h\\end{matrix}\\right]$"
      ],
      "text/plain": [
       "<IPython.core.display.Math object>"
      ]
     },
     "metadata": {},
     "output_type": "display_data"
    }
   ],
   "source": [
    "# Simplifica\n",
    "display(Math(r'\\mathbf{R} = ' + sp.latex(Rc.simplify())))\n",
    "Rc = Rc.simplify()"
   ]
  },
  {
   "attachments": {},
   "cell_type": "markdown",
   "id": "10a2f1b9",
   "metadata": {},
   "source": [
    "Elemento de área cilíndrico:\n",
    "$$\n",
    "dS = \\rho\\,d\\rho\\, d\\phi\n",
    "$$\n",
    "\n",
    "Elemento de carga:\n",
    "$$\n",
    "dQ = q_s dS = \\rho\\,d\\rho\\, d\\phi\n",
    "$$\n",
    "\n",
    "\n",
    "O elemento de campo vai ser: \n",
    "$$d\\mathbf{E} = \\frac{dQ\\,\\mathbf{R}}{4\\pi \\epsilon_0|\\mathbf{R}|^3}$$"
   ]
  },
  {
   "cell_type": "code",
   "execution_count": 112,
   "id": "9ff0517f",
   "metadata": {},
   "outputs": [
    {
     "data": {
      "text/latex": [
       "$\\displaystyle d\\mathbf{E} = dQ\\,\\left[\\begin{matrix}- \\frac{\\rho}{4 \\pi \\epsilon_{0} \\left(\\rho^{2} + h^{2}\\right)^{\\frac{3}{2}}}\\\\0\\\\\\frac{h}{4 \\pi \\epsilon_{0} \\left(\\rho^{2} + h^{2}\\right)^{\\frac{3}{2}}}\\end{matrix}\\right]$"
      ],
      "text/plain": [
       "<IPython.core.display.Math object>"
      ]
     },
     "metadata": {},
     "output_type": "display_data"
    }
   ],
   "source": [
    "# Equacionando\n",
    "dE = (1/(4*sp.pi*eps0))*Rc/Rc.norm()**3\n",
    "display(Math(r'd\\mathbf{E} = dQ\\,' + sp.latex(dE)  ))"
   ]
  },
  {
   "cell_type": "code",
   "execution_count": 114,
   "id": "8c0f4111",
   "metadata": {},
   "outputs": [
    {
     "data": {
      "text/latex": [
       "$\\displaystyle \\mathbf{E} = \\int\\limits_{0}^{2 \\pi}\\int\\limits_{0}^{r} \\left[\\begin{matrix}- \\frac{\\rho^{2} q_{s}}{4 \\pi \\epsilon_{0} \\left(\\rho^{2} + h^{2}\\right)^{\\frac{3}{2}}}\\\\0\\\\\\frac{\\rho h q_{s}}{4 \\pi \\epsilon_{0} \\left(\\rho^{2} + h^{2}\\right)^{\\frac{3}{2}}}\\end{matrix}\\right]\\, d\\rho\\, d\\phi$"
      ],
      "text/plain": [
       "<IPython.core.display.Math object>"
      ]
     },
     "metadata": {},
     "output_type": "display_data"
    }
   ],
   "source": [
    "# Integral do campo\n",
    "r = sp.symbols('r',positive=True)\n",
    "E = sp.Integral(sp.Integral(qs*rho*dE,\n",
    "                            (rho,0,r)),(phi,0,2*sp.pi))\n",
    "display(Math(r'\\mathbf{E} = '+ sp.latex(E)))"
   ]
  },
  {
   "attachments": {},
   "cell_type": "markdown",
   "id": "218e704c",
   "metadata": {},
   "source": [
    "Agora... a primeira componente é realmente difícil de resolver. Você pode tentar, mas o sympy vai demorar muito tempo e não vai devolver uma resposta. \n",
    "\n",
    "Dessa forma, vamos nos preocupar apenas com a componente $z$. "
   ]
  },
  {
   "cell_type": "code",
   "execution_count": 115,
   "id": "4a9b0a7e",
   "metadata": {},
   "outputs": [
    {
     "data": {
      "text/latex": [
       "$\\displaystyle E_z = \\int\\limits_{0}^{2 \\pi}\\int\\limits_{0}^{r} \\frac{\\rho h q_{s}}{4 \\pi \\epsilon_{0} \\left(\\rho^{2} + h^{2}\\right)^{\\frac{3}{2}}}\\, d\\rho\\, d\\phi$"
      ],
      "text/plain": [
       "<IPython.core.display.Math object>"
      ]
     },
     "metadata": {},
     "output_type": "display_data"
    }
   ],
   "source": [
    "# Extrai apenas a componente z\n",
    "Ez = sp.Integral(sp.Integral(qs*dE[2]*rho ,\n",
    "                             (rho,0,r)),(phi,0,2*sp.pi))\n",
    "display(Math('E_z = ' + sp.latex(Ez)))"
   ]
  },
  {
   "cell_type": "code",
   "execution_count": 116,
   "id": "6346a1c4",
   "metadata": {},
   "outputs": [
    {
     "data": {
      "text/latex": [
       "$\\displaystyle E_z = 2 \\pi \\left(- \\frac{h q_{s}}{4 \\pi \\epsilon_{0} \\sqrt{h^{2} + r^{2}}} + \\frac{q_{s}}{4 \\pi \\epsilon_{0}}\\right)$"
      ],
      "text/plain": [
       "<IPython.core.display.Math object>"
      ]
     },
     "metadata": {},
     "output_type": "display_data"
    },
    {
     "data": {
      "text/latex": [
       "$\\displaystyle E_z = - \\frac{h q_{s}}{2 \\epsilon_{0} \\sqrt{h^{2} + r^{2}}} + \\frac{q_{s}}{2 \\epsilon_{0}}$"
      ],
      "text/plain": [
       "<IPython.core.display.Math object>"
      ]
     },
     "metadata": {},
     "output_type": "display_data"
    }
   ],
   "source": [
    "# Resolve a integral\n",
    "display(Math('E_z = ' + sp.latex(Ez.doit())))\n",
    "display(Math('E_z = ' + sp.latex(Ez.doit().simplify())))"
   ]
  },
  {
   "attachments": {},
   "cell_type": "markdown",
   "id": "9f7a1e22",
   "metadata": {},
   "source": [
    "Suponha que $q_s = 2\\epsilon_0$ e $r = 1$. Vamos plotar essa função e estudar seu comportamento. "
   ]
  },
  {
   "cell_type": "code",
   "execution_count": 22,
   "id": "ab17813d",
   "metadata": {},
   "outputs": [
    {
     "data": {
      "image/png": "[encoded data removed]",
      "text/plain": [
       "<Figure size 640x480 with 1 Axes>"
      ]
     },
     "metadata": {},
     "output_type": "display_data"
    }
   ],
   "source": [
    "# Plotagem da componente z do campo\n",
    "from sympy.plotting import plot\n",
    "campo = Ez.doit().simplify().subs({qs: 2*eps0, r:1})\n",
    "plot(campo, xlim=[0,4],ylim=[0,1]);\n"
   ]
  },
  {
   "attachments": {},
   "cell_type": "markdown",
   "id": "00339fb1",
   "metadata": {},
   "source": [
    "Outro resultado interessante é se fizermos $r\\rightarrow \\infty$. Isso equivale a um disco infinito, ou, se o plano inteiro estivesse carregado. \n",
    "\n",
    "Na prática queremos dizer que a distância $h$ é pequena em relação ao raio da placa. Se tirarmos o limite de $E_z$ temos um resultado bem compacto."
   ]
  },
  {
   "cell_type": "code",
   "execution_count": 117,
   "id": "fda62cc8",
   "metadata": {},
   "outputs": [
    {
     "data": {
      "text/latex": [
       "$\\displaystyle E_z = \\frac{q_{s}}{2 \\epsilon_{0}}$"
      ],
      "text/plain": [
       "<IPython.core.display.Math object>"
      ]
     },
     "metadata": {},
     "output_type": "display_data"
    }
   ],
   "source": [
    "# Campo produzido por placa infinita:\n",
    "Ez_inf = sp.limit(Ez.doit().simplify(), r,sp.oo)\n",
    "display(Math('E_z = ' + sp.latex(Ez_inf)))"
   ]
  },
  {
   "attachments": {},
   "cell_type": "markdown",
   "id": "988d704c",
   "metadata": {},
   "source": [
    "Perceba que o campo é uniforme. "
   ]
  },
  {
   "attachments": {},
   "cell_type": "markdown",
   "id": "49166041",
   "metadata": {},
   "source": [
    "## Outros exemplos:"
   ]
  },
  {
   "attachments": {},
   "cell_type": "markdown",
   "id": "5b2c0fa5",
   "metadata": {},
   "source": [
    "<center> <img src='./Figs/Ex4.4.svg'> </center>"
   ]
  },
  {
   "cell_type": "code",
   "execution_count": null,
   "id": "3325850d",
   "metadata": {},
   "outputs": [],
   "source": []
  },
  {
   "attachments": {},
   "cell_type": "markdown",
   "id": "2f17e7a1",
   "metadata": {},
   "source": [
    "<center> <img src='./Figs/Ex4.5.svg'> </center>"
   ]
  },
  {
   "cell_type": "code",
   "execution_count": null,
   "id": "4edd0d70",
   "metadata": {},
   "outputs": [],
   "source": []
  },
  {
   "attachments": {},
   "cell_type": "markdown",
   "id": "36399f8d",
   "metadata": {},
   "source": [
    "<center> <img src='./Figs/Ex4.6.svg'> </center>"
   ]
  },
  {
   "cell_type": "code",
   "execution_count": null,
   "id": "9496f739",
   "metadata": {},
   "outputs": [],
   "source": []
  }
 ],
 "metadata": {
  "kernelspec": {
   "display_name": "Python 3 (ipykernel)",
   "language": "python",
   "name": "python3"
  },
  "language_info": {
   "codemirror_mode": {
    "name": "ipython",
    "version": 3
   },
   "file_extension": ".py",
   "mimetype": "text/x-python",
   "name": "python",
   "nbconvert_exporter": "python",
   "pygments_lexer": "ipython3",
   "version": "3.11.2"
  }
 },
 "nbformat": 4,
 "nbformat_minor": 5
}
