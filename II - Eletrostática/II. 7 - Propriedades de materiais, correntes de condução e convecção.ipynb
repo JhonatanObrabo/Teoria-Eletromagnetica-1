{
 "cells": [
  {
   "attachments": {},
   "cell_type": "markdown",
   "id": "3a85463a",
   "metadata": {
    "tags": []
   },
   "source": [
    "$\\newcommand{\\ax}{\\mathbf{a}_x}$\n",
    "$\\newcommand{\\ay}{\\mathbf{a}_y}$\n",
    "$\\newcommand{\\az}{\\mathbf{a}_z}$\n",
    "$\\newcommand{\\arho}{\\mathbf{a}_\\rho}$\n",
    "$\\newcommand{\\ap}{\\mathbf{a}_\\phi}$\n",
    "$\\newcommand{\\ar}{\\mathbf{a}_r}$\n",
    "$\\newcommand{\\at}{\\mathbf{a}_\\theta}$\n",
    "$\\newcommand{\\grad}[1]{\\nabla #1}$\n",
    "$\\renewcommand{\\div}[1]{\\mathbf{\\nabla} \\cdot \\mathbf{#1}}$\n",
    "$\\newcommand{\\rot}[1]{\\mathbf{\\nabla} \\times \\mathbf{#1}}$\n",
    "$\\newcommand{\\parcial}[2]{\\displaystyle\\frac{\\partial #1}{\\partial #2}}$\n",
    "$\\newcommand{\\pard}[2]{\\displaystyle\\frac{\\partial^2 {#1}}{\\partial {#2}^2}}$\n",
    "$\\newcommand{\\lapcart}[1]{\\pard{#1}{x}+\\pard{#1}{y}+\\pard{#1}{z}}$\n",
    "$\\newcommand{\\lapcili}[1]{\\frac{1}{\\rho}\\parcial{}{\\rho}\\left(\\rho \\parcial{#1}{\\rho}\\right)+\\frac{1}{\\rho^2}\\pard{#1}{\\phi}+\\pard{#1}{z}}$\n",
    "$\\newcommand{\\lapesf}[1]{\\frac{1}{r^2}\\parcial{}{r}\\left(r^2 \\parcial{#1}{r}\\right)+\\frac{1}{r^2\\sin \\theta }\\left(\\sin \\theta \\, \\parcial{#1}{\\theta}\\right)+\\frac{1}{r^2\\sin \\theta}\\pard{V}{\\phi}}$\n",
    "\n"
   ]
  },
  {
   "attachments": {},
   "cell_type": "markdown",
   "id": "b25518e0",
   "metadata": {},
   "source": [
    "# Propriedades de materiais"
   ]
  },
  {
   "attachments": {},
   "cell_type": "markdown",
   "id": "25d6d09e",
   "metadata": {},
   "source": [
    "Materiais:\n",
    "- Condutores e não condutores.\n",
    "- Metal ou isolante\n",
    "- Condutividade $\\sigma$ (Siemens/metro)\n",
    "- Condutor $\\sigma \\gg 1$\n",
    "- Isolante $\\sigma \\ll 1$\n",
    "- Semicondutor: intermediário\n",
    "\n",
    "Condutividade depende da temperatura\n",
    "- Disponibilidade de elétrons\n",
    "- Aumenta conforme a temperatura diminui\n",
    "- Condutor ideal ou supercondutor: infinita\n",
    "\n"
   ]
  },
  {
   "attachments": {},
   "cell_type": "markdown",
   "id": "aa8ea757",
   "metadata": {},
   "source": [
    "## Corrente elétrica\n",
    "\n",
    "É a taxa de carga elétrica que flui em uma área:\n",
    "$$\n",
    "I = \\frac{dQ}{dt}\n",
    "$$\n",
    "\n",
    "Densidade de corrente elétrica $\\mathbf{J}$ é uma grandeza vetorial que quantifica a corrente que passa em uma superfície:\n",
    "$$\n",
    "I = \\int_S \\mathbf{J}\\cdot d\\mathbf{S}\n",
    "$$\n",
    "\n",
    "A densidade de corrente também satisfaz:\n",
    "$$\n",
    "\\mathbf{J} = \\rho_v \\,\\mathbf{u}\n",
    "$$\n",
    "onde $\\rho_v$ é a densidade volumétrica de carga e $\\mathbf{u}$ é a velocidade do fluxo de cargas. Outra forma de escrever esta equação é:\n",
    "$$\n",
    "\\mathbf{J} = \\sigma \\,\\mathbf{E}\n",
    "$$\n",
    "onde $\\sigma$ é a condutividade do condutor. \n"
   ]
  },
  {
   "attachments": {},
   "cell_type": "markdown",
   "id": "1abfce9d",
   "metadata": {},
   "source": [
    "## **Condutores**"
   ]
  },
  {
   "attachments": {},
   "cell_type": "markdown",
   "id": "b0dbfa6e",
   "metadata": {},
   "source": [
    "- Um condutor é um material (normalmente metal, na tabela periódica), com excesso de elétrons nas camadas externas dos átomos, que podem se mover livremente ao longo da superfície.\n",
    "- Corrente elétrica circula em um condutor quando aplicamos um campo elétrico externo sobre ele\n",
    "- Supõe-se que no interior do condutor, um campo interno se forma em oposição ao campo externo acumulado.\n",
    "- Como resultado, a densidade de carga no interior é nula (ou muito pequena).\n",
    "- Um condutor ideal perfeito, $\\sigma = \\infty$"
   ]
  },
  {
   "attachments": {},
   "cell_type": "markdown",
   "id": "4fa2fc67",
   "metadata": {},
   "source": [
    "<center> <img src='./Figs/Fig5.2.svg'> </center>"
   ]
  },
  {
   "attachments": {},
   "cell_type": "markdown",
   "id": "6dd22c9e",
   "metadata": {},
   "source": [
    "**Dentro** do condutor: \n",
    "$$\n",
    "\\begin{align*}\n",
    "\\mathbf{E}&=\\mathbf{0}\\\\\n",
    "\\rho_v &=0\\\\\n",
    "V_{ab} &=0\n",
    "\\end{align*}\n",
    "$$\n",
    "\n",
    "Justificativa para $E=0$:\n",
    "$$\n",
    "    J = \\sigma E \\neq 0\n",
    "$$\n",
    "\n",
    "Como $\\sigma = \\infty$, $J$ só pode ser finito se $E=0$. \n",
    "\n",
    "$\\rho_v = 0$, porque $\\rho_v = \\nabla \\cdot \\mathbf{\\epsilon\\, E}$\n",
    "\n",
    "\n",
    "$V_{ab} = 0$ entre quaisquer dois pontos porque $E = -\\grad{V}$"
   ]
  },
  {
   "attachments": {},
   "cell_type": "markdown",
   "id": "db86d2eb",
   "metadata": {},
   "source": [
    "Ao aplicarmos uma tensão elétrica externa $V$ sobre um condutor, um campo se forma e produz o movimento de cargas"
   ]
  },
  {
   "attachments": {},
   "cell_type": "markdown",
   "id": "db5351b1",
   "metadata": {},
   "source": [
    "<center> <img src='./Figs/Fig5.3.svg'> </center>"
   ]
  },
  {
   "attachments": {},
   "cell_type": "markdown",
   "id": "b17efb90",
   "metadata": {},
   "source": [
    "Forças internas do material produzem resistência ao movimento das cargas, dissipando energia de movimento dos elétrons e produzindo calor. Esse é conhecido efeito Joule ou de resistência elétrica.\n",
    "\n",
    "Para um condutor ideal de comprimento $l$ e seção uniforme $S$:\n",
    "$$\n",
    "R = \\frac{\\rho_c \\, l}{S}\n",
    "$$\n",
    "onde $\\rho_c = 1/\\sigma$ é a resistividade (inverso da condutividade) do material. \n",
    "\n",
    "A resistividade é uma propriedade constante que depende da natureza química do material. "
   ]
  },
  {
   "attachments": {},
   "cell_type": "markdown",
   "id": "a9d2f316",
   "metadata": {},
   "source": [
    "Lei de Ohm para um condutor com seção não uniforme:\n",
    "$$\n",
    "R = \\frac{V}{I} = \\frac{\\int \\mathbf{E\\cdot }d\\mathbf{l}}{\\int \\sigma \\mathbf{E}\\cdot d\\mathbf{S}}\n",
    "$$"
   ]
  },
  {
   "attachments": {},
   "cell_type": "markdown",
   "id": "3f5957b5",
   "metadata": {},
   "source": [
    "Lei de Joule: potência dissipada no condutor:\n",
    "$$\n",
    "    P = \\int \\mathbf{E\\cdot J} dv\n",
    "$$\n",
    "\n",
    "Densidade de potência:\n",
    "$$\n",
    "    w_p = \\frac{dP}{dv} = \\mathbf{E\\cdot J} = \\sigma |\\mathbf{E}|^2\n",
    "$$"
   ]
  },
  {
   "attachments": {},
   "cell_type": "markdown",
   "id": "b3e74f88",
   "metadata": {},
   "source": [
    "<center> <img src='./Figs/Ex5.1.svg'> </center>"
   ]
  },
  {
   "cell_type": "code",
   "execution_count": 2,
   "id": "b60c31d4",
   "metadata": {},
   "outputs": [],
   "source": [
    "from sympy import Integral, symbols, sin, cos, pi,Eq\n",
    "from sympy import ImmutableMatrix as Matriz\n",
    "from IPython.display import display\n",
    "\n",
    "r, theta, phi = symbols(['r', 'theta', 'phi'])"
   ]
  },
  {
   "cell_type": "code",
   "execution_count": 3,
   "id": "af952d91",
   "metadata": {},
   "outputs": [
    {
     "data": {
      "text/latex": [
       "$\\displaystyle \\int\\limits_{0}^{2 \\pi}\\int\\limits_{0}^{\\frac{\\pi}{2}} 10.0 \\sin{\\left(\\theta \\right)} \\cos{\\left(\\theta \\right)}\\, d\\theta\\, d\\phi = 10.0 \\pi$"
      ],
      "text/plain": [
       "Eq(Integral(10.0*sin(theta)*cos(theta), (theta, 0, pi/2), (phi, 0, 2*pi)), 10.0*pi)"
      ]
     },
     "metadata": {},
     "output_type": "display_data"
    }
   ],
   "source": [
    "# a\n",
    "J = (1/r**3)*Matriz([2*cos(theta), sin(theta), 0])\n",
    "dS = Matriz([r**2*sin(theta), 0, 0])\n",
    "lims = [(theta,0,pi/2), (phi,0,2*pi)]\n",
    "superf = [(r,20e-2)]\n",
    "I = Integral(J.dot(dS).subs(superf),*lims)\n",
    "display(Eq(I,I.doit()))"
   ]
  },
  {
   "attachments": {},
   "cell_type": "markdown",
   "id": "25c15ea5",
   "metadata": {},
   "source": [
    "Resp: $10\\pi$ A"
   ]
  },
  {
   "attachments": {},
   "cell_type": "markdown",
   "id": "cb3e834c",
   "metadata": {},
   "source": [
    "<center> <img src='./Figs/Pratico5.1.svg'> </center>"
   ]
  },
  {
   "attachments": {},
   "cell_type": "markdown",
   "id": "ea242a91",
   "metadata": {},
   "source": [
    "<center> <img src='./Figs/Ex5.2.svg'> </center>"
   ]
  },
  {
   "attachments": {},
   "cell_type": "markdown",
   "id": "8820097a",
   "metadata": {},
   "source": [
    "$$\n",
    "\\begin{align}\n",
    "    I = \\frac{\\rho_s\\, S}{t} = \\frac{\\rho_s\\,w\\,l}{t}\n",
    "\\end{align}\n",
    "$$\n",
    "onde $S$ é área percorrida pelas cargas, $t$ é o tempo de percurso. $S = wl$, $w$ largura de percurso, $l$ comprimento de percurso. \n",
    "\n",
    "Então:\n",
    "$$\n",
    "\\begin{align}\n",
    "    I = \\rho_s\\, v\\, w\n",
    "\\end{align}\n",
    "$$\n",
    "onde $v$ é a velocidade da correia. Então\n",
    "$$\n",
    "    I = 10^{-7} \\cdot 2 \\cdot 0.1 = 2\\cdot 10^{-8}\\,\\, A\n",
    "$$\n",
    "\n",
    "Então $Q = I\\cdot t = 2\\cdot 10^{-8} \\cdot 5 = 100\\, nC$"
   ]
  },
  {
   "attachments": {},
   "cell_type": "markdown",
   "id": "afcf19ae",
   "metadata": {},
   "source": [
    "<center> <img src='./Figs/Pratico5.2.svg'> </center>"
   ]
  },
  {
   "attachments": {},
   "cell_type": "markdown",
   "id": "5d766fc2",
   "metadata": {},
   "source": [
    "<center> <img src='./Figs/Ex5.3.svg'> </center>"
   ]
  },
  {
   "attachments": {},
   "cell_type": "markdown",
   "id": "c8a98cb9",
   "metadata": {},
   "source": [
    "<center> <img src='./Figs/Pratico5.3.svg'> </center>"
   ]
  },
  {
   "attachments": {},
   "cell_type": "markdown",
   "id": "ac30c566",
   "metadata": {},
   "source": [
    "a) $\\rho_v = ne = 10^{29} \\cdot 1.6\\cdot 10^{-19} = 1.6 \\cdot 10^{10}$. \n",
    "\n",
    "$e$ é a carga elétrica fundamental, $e = 1.67\\cdot 10^{-9}$.\n",
    "\n",
    "b) $J = \\sigma\\, E = 5\\cdot 10^7\\, (10\\cdot 10^{-3}) = 500\\, kA/m^2$\n",
    "\n",
    "c) $I = J\\,S = 500k  \\cdot \\left(\\pi (10^{-3})^2/4\\right) = 0.393 $ A\n",
    "\n",
    "d) $J = \\rho_v\\, u$, então $u = J/\\rho_v = 3,125 \\cdot 10^{-5}$ m/s. "
   ]
  },
  {
   "cell_type": "code",
   "execution_count": null,
   "id": "331401cf",
   "metadata": {},
   "outputs": [],
   "source": []
  },
  {
   "attachments": {},
   "cell_type": "markdown",
   "id": "3d7a2343",
   "metadata": {},
   "source": [
    "<center> <img src='./Figs/Ex5.4.svg'> </center>"
   ]
  },
  {
   "cell_type": "code",
   "execution_count": 5,
   "id": "9e5292c3",
   "metadata": {},
   "outputs": [
    {
     "name": "stdout",
     "output_type": "stream",
     "text": [
      "973.9  Ohms\n"
     ]
    }
   ],
   "source": [
    "sigma = 5e6\n",
    "l = 4\n",
    "S = (3e-2)**2 - pi*(1e-2)**2/4\n",
    "R = (l/(sigma*S))\n",
    "print((1E6*R).evalf(4), ' Ohms')"
   ]
  },
  {
   "attachments": {},
   "cell_type": "markdown",
   "id": "843df4d5",
   "metadata": {},
   "source": [
    "<center> <img src='./Figs/Pratico5.4.svg'> </center>"
   ]
  }
 ],
 "metadata": {
  "kernelspec": {
   "display_name": "Python 3 (ipykernel)",
   "language": "python",
   "name": "python3"
  },
  "language_info": {
   "codemirror_mode": {
    "name": "ipython",
    "version": 3
   },
   "file_extension": ".py",
   "mimetype": "text/x-python",
   "name": "python",
   "nbconvert_exporter": "python",
   "pygments_lexer": "ipython3",
   "version": "3.11.1"
  }
 },
 "nbformat": 4,
 "nbformat_minor": 5
}
