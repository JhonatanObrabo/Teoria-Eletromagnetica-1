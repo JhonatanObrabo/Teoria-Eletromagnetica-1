{
 "cells": [
  {
   "attachments": {},
   "cell_type": "markdown",
   "id": "3a85463a",
   "metadata": {
    "tags": []
   },
   "source": [
    "$\\newcommand{\\ax}{\\mathbf{a}_x}$\n",
    "$\\newcommand{\\ay}{\\mathbf{a}_y}$\n",
    "$\\newcommand{\\az}{\\mathbf{a}_z}$\n",
    "$\\newcommand{\\arho}{\\mathbf{a}_\\rho}$\n",
    "$\\newcommand{\\ap}{\\mathbf{a}_\\phi}$\n",
    "$\\newcommand{\\ar}{\\mathbf{a}_r}$\n",
    "$\\newcommand{\\at}{\\mathbf{a}_\\theta}$\n",
    "$\\newcommand{\\grad}[1]{\\nabla #1}$\n",
    "$\\renewcommand{\\div}[1]{\\mathbf{\\nabla} \\cdot \\mathbf{#1}}$\n",
    "$\\newcommand{\\rot}[1]{\\mathbf{\\nabla} \\times \\mathbf{#1}}$\n",
    "$\\newcommand{\\parcial}[2]{\\displaystyle\\frac{\\partial #1}{\\partial #2}}$\n",
    "$\\newcommand{\\pard}[2]{\\displaystyle\\frac{\\partial^2 {#1}}{\\partial {#2}^2}}$\n",
    "$\\newcommand{\\lapcart}[1]{\\pard{#1}{x}+\\pard{#1}{y}+\\pard{#1}{z}}$\n",
    "$\\newcommand{\\lapcili}[1]{\\frac{1}{\\rho}\\parcial{}{\\rho}\\left(\\rho \\parcial{#1}{\\rho}\\right)+\\frac{1}{\\rho^2}\\pard{#1}{\\phi}+\\pard{#1}{z}}$\n",
    "$\\newcommand{\\lapesf}[1]{\\frac{1}{r^2}\\parcial{}{r}\\left(r^2 \\parcial{#1}{r}\\right)+\\frac{1}{r^2\\sin \\theta }\\left(\\sin \\theta \\, \\parcial{#1}{\\theta}\\right)+\\frac{1}{r^2\\sin \\theta}\\pard{V}{\\phi}}$\n",
    "\n"
   ]
  },
  {
   "attachments": {},
   "cell_type": "markdown",
   "id": "b25518e0",
   "metadata": {},
   "source": [
    "# Eletrostática"
   ]
  },
  {
   "attachments": {},
   "cell_type": "markdown",
   "id": "7e53519d-02dd-4d8f-83c4-883b41f21742",
   "metadata": {},
   "source": [
    "Aplicações:\n",
    "- Transmissão de energia elétrica, \n",
    "- Máquinas de raios-X \n",
    "- Proteção contra raios\n",
    "- Eletrônica de estado sólido: resistores, capacitores, transistores bipolares e de efeito de campo, que são baseados no controle de elétrons movimento por campos eletrostáticos. \n",
    "- Quase todos os periféricos de computador, com exceção de memória magnética: Touch pads, teclados de capacitância, tubos de raios catódicos, telas de cristal líquido e impressoras eletrostáticas\n",
    "- Eletrocardiogramas, eletroencefalogramas e outros registros da atividade elétrica de órgãos, incluindo olhos, ouvidos e estômago. \n",
    "- Pulverização de tinta, eletrodeposição, usinagem eletroquímica, e separação de partículas finas. - \n"
   ]
  },
  {
   "attachments": {},
   "cell_type": "markdown",
   "id": "bd488d2c-aef0-4ab6-8c94-4674557f02ae",
   "metadata": {},
   "source": [
    "## Lei de Coulomb"
   ]
  },
  {
   "attachments": {},
   "cell_type": "markdown",
   "id": "42a9a480-f718-4ee4-aec6-5ca0abc8248a",
   "metadata": {},
   "source": [
    "A força de atração ou repulsão entre duas cargas elétricas $Q_1$ e $Q_2$ é:\n",
    "- Na direção da linha que liga as duas cargas\n",
    "- Proporcional ao produto das cargas\n",
    "- Inversamente proporcional ao quadrado da distância que as separa\n",
    "\n",
    "$$\n",
    "\\begin{align}\n",
    "    \\mathbf{F}_{12} = \\frac{Q_1Q_2}{4\\pi \\epsilon_0 R^2}\\mathbf{a}_{R}\n",
    "\\end{align}\n",
    "$$\n",
    "onde:\n",
    "$$\n",
    "\\begin{align}\n",
    "    \\mathbf{a}_{R} &= \\frac{\\mathbf{R}}{|\\mathbf{R}|}\n",
    "\\end{align}\n",
    "$$\n",
    "e $\\mathbf{R}=\\mathbf{r}_2-\\mathbf{r}_1$ é o vetor deslocamento entre a carga 1 e a carga 2. $\\epsilon_0 = 8.854\\cdot 10^{-12}\\approx \\displaystyle\\frac{10^{-9}}{36\\pi}$ F/m é a permissividade do espaço livre (Farads por metro), uma constante universal. A equação da força entre cargas também pode ser escrita como:\n",
    "$$\n",
    "\\begin{align}\n",
    "    \\mathbf{F}_{12} = \\frac{Q_1Q_2}{4\\pi \\epsilon_0 R^3}\\mathbf{R}\n",
    "\\end{align}\n",
    "$$\n",
    "\n",
    "Deve-se notar que $\\mathbf{F}_{12} = -\\mathbf{F}_{21}$. \n",
    "\n",
    "Os sinais das cargas são levados em consideração na expressão vetorial. Cargas de mesmo sinal se repelem. Cargas de sinais opostos se atraem. "
   ]
  },
  {
   "attachments": {},
   "cell_type": "markdown",
   "id": "25db532d",
   "metadata": {},
   "source": [
    "Para considerarmos as cargas como pontuais, a distância entre elas deve ser suficientemente grande a ponto de ser possível desprezar as dimensões dos corpos. As cargas devem estar em repouso."
   ]
  },
  {
   "attachments": {},
   "cell_type": "markdown",
   "id": "57be8613",
   "metadata": {},
   "source": [
    "Em um sistema que consiste de mais de 2 cargas, a força em uma carga $Q$ é a soma (vetorial) da força exercida sobre ela devido a cada uma das outras cargas tomadas individualmente. \n",
    "$$\n",
    "\\begin{align}\n",
    "    \\mathbf{F} &= \\frac{Q}{4\\pi\\epsilon_0}\\sum_{k=1}^N\\frac{Q_k(\\mathbf{r}-\\mathbf{r}_k)}{|\\mathbf{r}-\\mathbf{r}_k|^3}\n",
    "\\end{align}\n",
    "$$"
   ]
  },
  {
   "attachments": {},
   "cell_type": "markdown",
   "id": "348ff3a9",
   "metadata": {},
   "source": [
    "## **Campo Elétrico**"
   ]
  },
  {
   "attachments": {},
   "cell_type": "markdown",
   "id": "6f92e691",
   "metadata": {},
   "source": [
    "A intensidade ou força de campo elétrico é a força que uma unidade de carga positiva experimenta quando colocada em um campo elétrico. \n",
    "\n",
    "Campo elétrico é a força por unidade de carga (Newton/Coulomb). \n",
    "$$\n",
    "\\begin{align}\n",
    "    \\mathbf{E} &= \\frac{\\mathbf{F}}{Q}\n",
    "\\end{align}\n",
    "$$"
   ]
  },
  {
   "attachments": {},
   "cell_type": "markdown",
   "id": "bcbd73f6",
   "metadata": {},
   "source": [
    "Para uma carga positiva, a direção do campo elétrico é a mesma da força exercida. \n",
    "\n",
    "O campo elétrico em um ponto $\\mathbf{r}$ provocado por uma carga pontual $Q$ posicionada em $\\mathbf{r}'$ pode ser facilmente obtido usando a lei de Coulomb. \n",
    "$$\n",
    "\\begin{align}\n",
    "    \\mathbf{E} &= \\frac{Q(\\mathbf{r}-\\mathbf{r}')}{4\\pi\\epsilon_0|\\mathbf{r}-\\mathbf{r}'|^3}\n",
    "\\end{align}\n",
    "$$\n",
    "\n",
    "Da mesma forma que anteriormente, o campo produzido em um ponto por um conjunto de cargas pode ser calculado como a soma das contribuições de cada carga individualmente. \n",
    "$$\n",
    "\\begin{align}\n",
    "    \\mathbf{E} &= \\frac{1}{4\\pi\\epsilon_0}\\sum_{k=1}^N\\frac{Q_k(\\mathbf{r}-\\mathbf{r}_k)}{|\\mathbf{r}-\\mathbf{r}_k|^3}\n",
    "\\end{align}\n",
    "$$"
   ]
  },
  {
   "attachments": {},
   "cell_type": "markdown",
   "id": "616e8c13",
   "metadata": {},
   "source": [
    "<center> <img src='./Figs/Ex4.1.svg'> </center> "
   ]
  },
  {
   "cell_type": "code",
   "execution_count": 1,
   "id": "d5b6b791",
   "metadata": {},
   "outputs": [],
   "source": [
    "import sympy as sp\n",
    "pi = sp.pi"
   ]
  },
  {
   "cell_type": "code",
   "execution_count": 2,
   "id": "270d24f5",
   "metadata": {},
   "outputs": [],
   "source": [
    "q1 = 1e-3\n",
    "q2 = -2e-3\n",
    "r1 = sp.Matrix([3,2,-1])\n",
    "r2 = sp.Matrix([-1,-1,4])\n",
    "q = 10e-9\n",
    "r = sp.Matrix([0,3,1])\n",
    "eps0 = 1e-9/(36*pi)"
   ]
  },
  {
   "cell_type": "code",
   "execution_count": 3,
   "id": "a4c4719e",
   "metadata": {},
   "outputs": [
    {
     "data": {
      "text/latex": [
       "$\\displaystyle \\left[\\begin{matrix}-0.006512\\\\-0.003713\\\\0.007509\\end{matrix}\\right]$"
      ],
      "text/plain": [
       "Matrix([\n",
       "[-0.006512],\n",
       "[-0.003713],\n",
       "[ 0.007509]])"
      ]
     },
     "execution_count": 3,
     "metadata": {},
     "output_type": "execute_result"
    }
   ],
   "source": [
    "R1 = r-r1\n",
    "F1 = (1/(4*pi*eps0))*(q*q1*R1)/R1.norm()**3\n",
    "R2 = r-r2\n",
    "F2 = (1/(4*pi*eps0))*(q*q2*R2)/R2.norm()**3\n",
    "F = F1+F2\n",
    "F.evalf(4)"
   ]
  },
  {
   "cell_type": "code",
   "execution_count": 10,
   "id": "b9b6434f",
   "metadata": {},
   "outputs": [
    {
     "data": {
      "text/latex": [
       "$\\displaystyle \\left[\\begin{matrix}-0.006512\\\\-0.003713\\\\0.007509\\end{matrix}\\right]$"
      ],
      "text/plain": [
       "Matrix([\n",
       "[-0.006512],\n",
       "[-0.003713],\n",
       "[ 0.007509]])"
      ]
     },
     "execution_count": 10,
     "metadata": {},
     "output_type": "execute_result"
    }
   ],
   "source": [
    "F = q*E\n",
    "F.evalf(4)"
   ]
  },
  {
   "attachments": {},
   "cell_type": "markdown",
   "id": "9e14611a",
   "metadata": {},
   "source": [
    "<center> <img src='./Figs/Ex4.2.svg'> </center> "
   ]
  },
  {
   "cell_type": "code",
   "execution_count": 6,
   "id": "64791187",
   "metadata": {},
   "outputs": [
    {
     "data": {
      "text/latex": [
       "$\\displaystyle 0.00199999866666693$"
      ],
      "text/plain": [
       "0.00199999866666693"
      ]
     },
     "execution_count": 6,
     "metadata": {},
     "output_type": "execute_result"
    }
   ],
   "source": [
    "from sympy import sin\n",
    "sin(0.002)\n"
   ]
  },
  {
   "attachments": {},
   "cell_type": "markdown",
   "id": "64048333",
   "metadata": {},
   "source": [
    "<center> <img src='./Figs/Ex4.3.svg'> </center> "
   ]
  },
  {
   "cell_type": "code",
   "execution_count": 7,
   "id": "74b04972",
   "metadata": {},
   "outputs": [
    {
     "data": {
      "text/latex": [
       "$\\displaystyle 0.73469387755102 m^{2}$"
      ],
      "text/plain": [
       "0.73469387755102*m**2"
      ]
     },
     "execution_count": 7,
     "metadata": {},
     "output_type": "execute_result"
    }
   ],
   "source": [
    "m = sp.symbols('m')\n",
    "g = 9.8\n",
    "h = 0.8\n",
    "q = 9e-6*m\n",
    "E = 500e3\n",
    "Fx = q*E\n",
    "x = (q*m*E*h/g)\n",
    "d = 2*x\n",
    "d"
   ]
  }
 ],
 "metadata": {
  "kernelspec": {
   "display_name": "Python 3 (ipykernel)",
   "language": "python",
   "name": "python3"
  },
  "language_info": {
   "codemirror_mode": {
    "name": "ipython",
    "version": 3
   },
   "file_extension": ".py",
   "mimetype": "text/x-python",
   "name": "python",
   "nbconvert_exporter": "python",
   "pygments_lexer": "ipython3",
   "version": "3.11.1"
  }
 },
 "nbformat": 4,
 "nbformat_minor": 5
}
