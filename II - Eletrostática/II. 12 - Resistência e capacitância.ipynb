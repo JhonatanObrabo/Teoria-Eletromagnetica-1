{
 "cells": [
  {
   "attachments": {},
   "cell_type": "markdown",
   "id": "3a85463a",
   "metadata": {
    "tags": []
   },
   "source": [
    "$\\newcommand{\\ax}{\\mathbf{a}_x}$\n",
    "$\\newcommand{\\ay}{\\mathbf{a}_y}$\n",
    "$\\newcommand{\\az}{\\mathbf{a}_z}$\n",
    "$\\newcommand{\\arho}{\\mathbf{a}_\\rho}$\n",
    "$\\newcommand{\\ap}{\\mathbf{a}_\\phi}$\n",
    "$\\newcommand{\\ar}{\\mathbf{a}_r}$\n",
    "$\\newcommand{\\at}{\\mathbf{a}_\\theta}$\n",
    "$\\newcommand{\\grad}[1]{\\nabla #1}$\n",
    "$\\renewcommand{\\div}[1]{\\mathbf{\\nabla} \\cdot \\mathbf{#1}}$\n",
    "$\\newcommand{\\rot}[1]{\\mathbf{\\nabla} \\times \\mathbf{#1}}$\n",
    "$\\newcommand{\\parcial}[2]{\\displaystyle\\frac{\\partial #1}{\\partial #2}}$\n",
    "$\\newcommand{\\pard}[2]{\\displaystyle\\frac{\\partial^2 {#1}}{\\partial {#2}^2}}$\n",
    "$\\newcommand{\\lapcart}[1]{\\pard{#1}{x}+\\pard{#1}{y}+\\pard{#1}{z}}$\n",
    "$\\newcommand{\\lapcili}[1]{\\frac{1}{\\rho}\\parcial{}{\\rho}\\left(\\rho \\parcial{#1}{\\rho}\\right)+\\frac{1}{\\rho^2}\\pard{#1}{\\phi}+\\pard{#1}{z}}$\n",
    "$\\newcommand{\\lapesf}[1]{\\frac{1}{r^2}\\parcial{}{r}\\left(r^2 \\parcial{#1}{r}\\right)+\\frac{1}{r^2\\sin \\theta }\\left(\\sin \\theta \\, \\parcial{#1}{\\theta}\\right)+\\frac{1}{r^2\\sin \\theta}\\pard{V}{\\phi}}$\n",
    "\n"
   ]
  },
  {
   "attachments": {},
   "cell_type": "markdown",
   "id": "b25518e0",
   "metadata": {},
   "source": [
    "# Resistência e capacitância"
   ]
  },
  {
   "attachments": {},
   "cell_type": "markdown",
   "id": "08551049",
   "metadata": {},
   "source": [
    "## Resistência:"
   ]
  },
  {
   "attachments": {},
   "cell_type": "markdown",
   "id": "ac116573",
   "metadata": {},
   "source": [
    "$$\n",
    "R = \\frac{V}{I} = \\frac{\\int \\mathbf{E}\\cdot d\\mathbf{l}}{\\int \\sigma\\mathbf{E}\\cdot d\\mathbf{S}}"
   ]
  },
  {
   "attachments": {},
   "cell_type": "markdown",
   "id": "bc178f91",
   "metadata": {},
   "source": [
    "## Capacitância"
   ]
  },
  {
   "attachments": {},
   "cell_type": "markdown",
   "id": "fa573699",
   "metadata": {},
   "source": [
    "$$\n",
    "C = \\frac{Q}{V} = \\frac{\\oint \\epsilon \\mathbf{E}\\cdot d\\mathbf{S}}{\\int \\mathbf{E}\\cdot d\\mathbf{l}}\n",
    "$$"
   ]
  },
  {
   "attachments": {},
   "cell_type": "markdown",
   "id": "7f74542d",
   "metadata": {},
   "source": [
    "## Placas paralelas"
   ]
  },
  {
   "attachments": {},
   "cell_type": "markdown",
   "id": "20f853ec",
   "metadata": {},
   "source": [
    "<center> <img src = './Figs/Fig 6.13.svg'> </center>"
   ]
  },
  {
   "attachments": {},
   "cell_type": "markdown",
   "id": "b11291d3",
   "metadata": {},
   "source": [
    "Densidade de carga no local:\n",
    "$$\n",
    "\\rho_s = \\frac{Q}{S}\n",
    "$$"
   ]
  },
  {
   "attachments": {},
   "cell_type": "markdown",
   "id": "7200cf1a",
   "metadata": {},
   "source": [
    "Campo:\n",
    "$$\n",
    "    \\mathbf{E} = \\frac{\\rho_s}{\\epsilon}(-\\ax) = \\frac{-Q}{S\\epsilon}\\ax\n",
    "$$\n",
    "\n",
    "Potencial:\n",
    "$$\n",
    "\\begin{align}\n",
    "    V &= -\\int \\mathbf{E}\\cdot d\\mathbf{l} = \\int_0^d \\frac{-Q}{S\\epsilon}\\ax \\cdot dx \\,\\ax\\\\\n",
    "    &= \\frac{Qd}{\\epsilon S}\n",
    "\\end{align}\n",
    "$$\n",
    "\n",
    "Logo:\n",
    "$$\n",
    "    \\frac{Q}{V} = C = \\frac{\\epsilon S}{d}\n",
    "$$"
   ]
  },
  {
   "attachments": {},
   "cell_type": "markdown",
   "id": "a30a3373",
   "metadata": {},
   "source": [
    "A capacitância pode ser usada para medir a permissividade relativa.\n",
    "$$\n",
    "    \\epsilon_r = \\frac{C}{C_o} = \\frac{\\text{Cap. com dielétrico}}{\\text{Cap. sem dielétrico}}\n",
    "$$"
   ]
  },
  {
   "attachments": {},
   "cell_type": "markdown",
   "id": "3b03c569",
   "metadata": {},
   "source": [
    "## Capacitor coaxial (cilíndrico)"
   ]
  },
  {
   "attachments": {},
   "cell_type": "markdown",
   "id": "13a842dc",
   "metadata": {},
   "source": [
    "<center> <img src = './Figs/Fig 6.14.svg'> </center>"
   ]
  },
  {
   "attachments": {},
   "cell_type": "markdown",
   "id": "5f886150",
   "metadata": {},
   "source": [
    "Aplique a lei de Gauss: superfície gaussiana cilíndrica entre as placas.\n",
    "$$\n",
    "\\begin{align}\n",
    "    \\mathbf{E} &= E_\\rho \\arho\\\\\n",
    "    Q &= \\epsilon \\oint_S \\mathbf{E}\\cdot d\\mathbf{S} = \\epsilon \\, E_\\rho\\, 2\\pi \\rho\\, L\n",
    "\\end{align}\n",
    "$$\n",
    "\n",
    "Campo:\n",
    "$$\n",
    "E_\\rho = \\frac{Q}{2\\pi \\epsilon\\rho\\, L} \n",
    "$$\n",
    "\n",
    "Potencial:\n",
    "$$\n",
    "\\begin{align}\n",
    "V & = - \\int \\mathbf{E}\\cdot d\\mathbf{l} = -\\int_{b}^a \\frac{Q}{2\\pi \\epsilon\\rho\\, L} \\arho \\cdot d\\rho\\,\\arho\\\\\n",
    "& = \\frac{Q}{2\\pi \\epsilon L}\\ln \\frac{b}{a}\n",
    "\\end{align}\n",
    "$$\n",
    "\n",
    "Capacitância\n",
    "$$\n",
    "    C = \\frac{Q}{V} = \\frac{2\\pi \\epsilon L}{\\ln \\frac{b}{a}}\n",
    "$$\n"
   ]
  },
  {
   "attachments": {},
   "cell_type": "markdown",
   "id": "f0613873",
   "metadata": {},
   "source": [
    "## Capacitor esférico"
   ]
  },
  {
   "attachments": {},
   "cell_type": "markdown",
   "id": "3f60c7d2",
   "metadata": {},
   "source": [
    "<center> <img src = './Figs/Fig 6.15.svg'> </center>"
   ]
  },
  {
   "attachments": {},
   "cell_type": "markdown",
   "id": "4704ff9d",
   "metadata": {},
   "source": [
    "Lei de Gauss. Superfície esférica de raio $r$ no interior do capacitor. "
   ]
  },
  {
   "attachments": {},
   "cell_type": "markdown",
   "id": "1166550f",
   "metadata": {},
   "source": [
    "\n",
    "$$\n",
    "    \\begin{align}\n",
    "    Q &= \\epsilon \\oint_S \\mathbf{E}\\cdot d\\mathbf{S} = \\epsilon\\, E_r \\,4 \\pi  r^2\\\\\n",
    "    E_r &= \\frac{Q}{4\\pi \\epsilon \\, r^2}\\\\\n",
    "    \\mathbf{E} &= E_r\\, \\ar \n",
    "    \\end{align}\n",
    "$$"
   ]
  },
  {
   "attachments": {},
   "cell_type": "markdown",
   "id": "765afc75",
   "metadata": {},
   "source": [
    "Potencial:\n",
    "$$\n",
    "\\begin{align}\n",
    "    V &= -\\int \\mathbf{E\\cdot} d\\mathbf{l} = -\\int_{b}^a\\frac{Q}{4\\pi \\epsilon \\, r^2} \\,\\ar \\cdot dr\\,\\ar\\\\\n",
    "    &= \\frac{Q}{4 \\pi \\epsilon} \\left(\\frac{1}{a}-\\frac{1}{b}\\right)\n",
    "\\end{align}\n",
    "$$"
   ]
  },
  {
   "attachments": {},
   "cell_type": "markdown",
   "id": "ad59c750",
   "metadata": {},
   "source": [
    "Capacitância:\n",
    "\n",
    "$$\n",
    "    C = \\frac{Q}{V} = \\frac{4\\pi \\epsilon}{\\frac{1}{a}-\\frac{1}{b}}\n",
    "$$"
   ]
  },
  {
   "attachments": {},
   "cell_type": "markdown",
   "id": "e3be5439",
   "metadata": {},
   "source": [
    "Capacitância própria (condutor $b$ muito grande):\n",
    "$$\n",
    "    C = 4\\pi \\epsilon a\n",
    "$$"
   ]
  },
  {
   "attachments": {},
   "cell_type": "markdown",
   "id": "a1f5e193",
   "metadata": {},
   "source": [
    "Caracteriza a capacitância própria (parasita) de um dispositivo."
   ]
  },
  {
   "attachments": {},
   "cell_type": "markdown",
   "id": "fb3bb928",
   "metadata": {},
   "source": [
    "### Tempo de relaxação"
   ]
  },
  {
   "attachments": {},
   "cell_type": "markdown",
   "id": "ac66b73d",
   "metadata": {},
   "source": [
    "$$\n",
    "    RC = \\frac{\\varepsilon}{\\sigma}\n",
    "$$"
   ]
  },
  {
   "attachments": {},
   "cell_type": "markdown",
   "id": "32215e0d",
   "metadata": {},
   "source": [
    "É utilizado para determinar a resistência própria dos capacitores básicos. "
   ]
  },
  {
   "attachments": {},
   "cell_type": "markdown",
   "id": "c5754774",
   "metadata": {},
   "source": [
    "$\\newcommand{\\eps}{\\varepsilon}$\n",
    "**Placas paralelas**\n",
    "$$\n",
    "    C = \\frac{\\eps S}{d}\\quad R = \\frac{d}{\\sigma S}\n",
    "$$"
   ]
  },
  {
   "attachments": {},
   "cell_type": "markdown",
   "id": "98f2055d",
   "metadata": {},
   "source": [
    "**Cap. cilíndrico**\n",
    "$$\n",
    "    C = \\frac{2\\pi \\eps L}{\\ln \\frac{b}{a}}\\quad R = \\frac{\\ln \\frac{b}{a}}{2\\pi \\sigma L}\n",
    "$$"
   ]
  },
  {
   "attachments": {},
   "cell_type": "markdown",
   "id": "0c6d8f85",
   "metadata": {},
   "source": [
    "**Cap. esférico**\n",
    "$$\n",
    "    C = \\frac{4\\pi \\eps}{\\frac{1}{a}-\\frac{1}{b}}\\quad R = \\frac{\\frac{1}{a}-\\frac{1}{b}}{4\\pi \\sigma}\n",
    "$$"
   ]
  },
  {
   "attachments": {},
   "cell_type": "markdown",
   "id": "231ffe89",
   "metadata": {},
   "source": [
    "**Condutor esférico isolado**\n",
    "$$\n",
    "    C = 4\\pi \\eps a\\quad R = \\frac{1}{4\\pi \\sigma a}\n",
    "$$"
   ]
  },
  {
   "attachments": {},
   "cell_type": "markdown",
   "id": "c1570ea4",
   "metadata": {},
   "source": [
    "Obs: as resistências são referentes as perdas **entre** as placas. $\\sigma$ é a condutividade do meio dielétrico. "
   ]
  },
  {
   "attachments": {},
   "cell_type": "markdown",
   "id": "38c6814d",
   "metadata": {},
   "source": [
    "<center> <img src='./Figs/Ex6.8.svg'> </center>"
   ]
  },
  {
   "cell_type": "code",
   "execution_count": 13,
   "id": "a8bd1ec5",
   "metadata": {},
   "outputs": [
    {
     "data": {
      "text/latex": [
       "$\\displaystyle \\frac{V_{o} \\left(\\log{\\left(a \\right)} - \\log{\\left(\\rho \\right)}\\right)}{\\log{\\left(a \\right)} - \\log{\\left(b \\right)}}$"
      ],
      "text/plain": [
       "V_o*(log(a) - log(rho))/(log(a) - log(b))"
      ]
     },
     "execution_count": 13,
     "metadata": {},
     "output_type": "execute_result"
    }
   ],
   "source": [
    "import sympy as sp\n",
    "a,b,t, rho, phi, z, Vo = sp.symbols('a b t rho phi z V_o')\n",
    "C1, C2 = sp.symbols('C_1 C_2')\n",
    "V = C1*sp.log(rho)+C2\n",
    "sis = [sp.Eq(V.subs(rho,a),0), sp.Eq(V.subs(rho,b),Vo)]\n",
    "sol = sp.solve(sis,[C1,C2])\n",
    "V = V.subs(sol).simplify()\n",
    "V"
   ]
  },
  {
   "cell_type": "code",
   "execution_count": 22,
   "id": "ce4e90a2",
   "metadata": {},
   "outputs": [
    {
     "data": {
      "text/latex": [
       "$\\displaystyle \\left[\\begin{matrix}\\frac{V_{o} \\sigma}{\\rho \\left(\\log{\\left(a \\right)} - \\log{\\left(b \\right)}\\right)}\\\\0\\\\0\\end{matrix}\\right]$"
      ],
      "text/plain": [
       "Matrix([\n",
       "[V_o*sigma/(rho*(log(a) - log(b)))],\n",
       "[                                0],\n",
       "[                                0]])"
      ]
     },
     "metadata": {},
     "output_type": "display_data"
    },
    {
     "data": {
      "text/latex": [
       "$\\displaystyle - \\frac{\\pi V_{o} \\sigma t}{2 \\left(\\log{\\left(a \\right)} - \\log{\\left(b \\right)}\\right)}$"
      ],
      "text/plain": [
       "-pi*V_o*sigma*t/(2*(log(a) - log(b)))"
      ]
     },
     "execution_count": 22,
     "metadata": {},
     "output_type": "execute_result"
    }
   ],
   "source": [
    "from IPython.display import display, Math\n",
    "eps,sigma = sp.symbols('varepsilon sigma')\n",
    "E = sp.ImmutableMatrix([-sp.diff(V, rho), 0,0])\n",
    "J = sigma*E\n",
    "display(J)\n",
    "dS = sp.ImmutableMatrix([-rho, 0,0])\n",
    "lims = [(phi,0,sp.pi/2),(z,0,t)]\n",
    "I = sp.Integral(J.dot(dS),*lims)\n",
    "I.doit()"
   ]
  },
  {
   "cell_type": "code",
   "execution_count": 21,
   "id": "cf5b92f0",
   "metadata": {},
   "outputs": [
    {
     "data": {
      "text/latex": [
       "$\\displaystyle \\frac{2 \\left(- \\log{\\left(a \\right)} + \\log{\\left(b \\right)}\\right)}{\\pi \\sigma t}$"
      ],
      "text/plain": [
       "2*(-log(a) + log(b))/(pi*sigma*t)"
      ]
     },
     "metadata": {},
     "output_type": "display_data"
    }
   ],
   "source": [
    "R = (Vo/I.doit()).simplify()\n",
    "display(R)"
   ]
  },
  {
   "attachments": {},
   "cell_type": "markdown",
   "id": "58de7baa",
   "metadata": {},
   "source": [
    "Item (b)"
   ]
  },
  {
   "cell_type": "code",
   "execution_count": 23,
   "id": "ec14f2bd",
   "metadata": {},
   "outputs": [
    {
     "data": {
      "text/latex": [
       "$\\displaystyle \\frac{V_{o} z}{t}$"
      ],
      "text/plain": [
       "V_o*z/t"
      ]
     },
     "execution_count": 23,
     "metadata": {},
     "output_type": "execute_result"
    }
   ],
   "source": [
    "V = C1*z+C2\n",
    "sis = [sp.Eq(V.subs(z,0),0), sp.Eq(V.subs(z,t),Vo)]\n",
    "sol = sp.solve(sis,[C1,C2])\n",
    "V = V.subs(sol).simplify()\n",
    "V"
   ]
  },
  {
   "cell_type": "code",
   "execution_count": 24,
   "id": "dc2a9c7a",
   "metadata": {},
   "outputs": [
    {
     "data": {
      "text/latex": [
       "$\\displaystyle \\left[\\begin{matrix}0\\\\0\\\\- \\frac{V_{o} \\sigma}{t}\\end{matrix}\\right]$"
      ],
      "text/plain": [
       "Matrix([\n",
       "[           0],\n",
       "[           0],\n",
       "[-V_o*sigma/t]])"
      ]
     },
     "metadata": {},
     "output_type": "display_data"
    },
    {
     "data": {
      "text/latex": [
       "$\\displaystyle - \\frac{\\pi V_{o} a^{2} \\sigma}{4 t} + \\frac{\\pi V_{o} b^{2} \\sigma}{4 t}$"
      ],
      "text/plain": [
       "-pi*V_o*a**2*sigma/(4*t) + pi*V_o*b**2*sigma/(4*t)"
      ]
     },
     "metadata": {},
     "output_type": "display_data"
    },
    {
     "data": {
      "text/latex": [
       "$\\displaystyle - \\frac{4 t}{\\pi \\sigma \\left(a^{2} - b^{2}\\right)}$"
      ],
      "text/plain": [
       "-4*t/(pi*sigma*(a**2 - b**2))"
      ]
     },
     "metadata": {},
     "output_type": "display_data"
    }
   ],
   "source": [
    "E = sp.ImmutableMatrix([0, 0,-sp.diff(V, z)])\n",
    "J = sigma*E\n",
    "display(J)\n",
    "dS = sp.ImmutableMatrix([0, 0,-rho])\n",
    "lims = [(phi,0,sp.pi/2),(rho,a,b)]\n",
    "I = sp.Integral(J.dot(dS),*lims)\n",
    "display(I.doit())\n",
    "R = (Vo/I.doit()).simplify()\n",
    "display(R)"
   ]
  },
  {
   "attachments": {},
   "cell_type": "markdown",
   "id": "658344a9",
   "metadata": {},
   "source": [
    "<center> <img src='./Figs/Ex6.9.svg'> </center>"
   ]
  },
  {
   "cell_type": "code",
   "execution_count": 25,
   "id": "95bc6575",
   "metadata": {},
   "outputs": [
    {
     "data": {
      "text/latex": [
       "$\\displaystyle \\frac{V_{o} \\left(\\log{\\left(a \\right)} - \\log{\\left(\\rho \\right)}\\right)}{\\log{\\left(a \\right)} - \\log{\\left(b \\right)}}$"
      ],
      "text/plain": [
       "V_o*(log(a) - log(rho))/(log(a) - log(b))"
      ]
     },
     "execution_count": 25,
     "metadata": {},
     "output_type": "execute_result"
    }
   ],
   "source": [
    "V = C1*sp.log(rho)+C2\n",
    "sis = [sp.Eq(V.subs(rho,a),0), sp.Eq(V.subs(rho,b),Vo)]\n",
    "sol = sp.solve(sis,[C1,C2])\n",
    "V = V.subs(sol).simplify()\n",
    "V"
   ]
  },
  {
   "cell_type": "code",
   "execution_count": 26,
   "id": "8dccd011",
   "metadata": {},
   "outputs": [
    {
     "data": {
      "text/latex": [
       "$\\displaystyle \\left[\\begin{matrix}\\frac{V_{o} \\sigma}{\\rho \\left(\\log{\\left(a \\right)} - \\log{\\left(b \\right)}\\right)}\\\\0\\\\0\\end{matrix}\\right]$"
      ],
      "text/plain": [
       "Matrix([\n",
       "[V_o*sigma/(rho*(log(a) - log(b)))],\n",
       "[                                0],\n",
       "[                                0]])"
      ]
     },
     "metadata": {},
     "output_type": "display_data"
    },
    {
     "data": {
      "text/latex": [
       "$\\displaystyle - \\frac{2 \\pi L V_{o} \\sigma}{\\log{\\left(a \\right)} - \\log{\\left(b \\right)}}$"
      ],
      "text/plain": [
       "-2*pi*L*V_o*sigma/(log(a) - log(b))"
      ]
     },
     "execution_count": 26,
     "metadata": {},
     "output_type": "execute_result"
    }
   ],
   "source": [
    "L = sp.symbols('L')\n",
    "E = sp.ImmutableMatrix([-sp.diff(V, rho), 0,0])\n",
    "J = sigma*E\n",
    "display(J)\n",
    "dS = sp.ImmutableMatrix([-rho, 0,0])\n",
    "lims = [(phi,0,2*sp.pi),(z,0,L)]\n",
    "I = sp.Integral(J.dot(dS),*lims)\n",
    "I.doit()"
   ]
  },
  {
   "cell_type": "code",
   "execution_count": 28,
   "id": "4d99b41a",
   "metadata": {},
   "outputs": [
    {
     "data": {
      "text/latex": [
       "$\\displaystyle \\frac{2 \\pi \\sigma}{- \\log{\\left(a \\right)} + \\log{\\left(b \\right)}}$"
      ],
      "text/plain": [
       "2*pi*sigma/(-log(a) + log(b))"
      ]
     },
     "metadata": {},
     "output_type": "display_data"
    }
   ],
   "source": [
    "R = (Vo/I.doit()).simplify()\n",
    "G = (1/R)/L\n",
    "display(G)"
   ]
  },
  {
   "attachments": {},
   "cell_type": "markdown",
   "id": "ebc63db8",
   "metadata": {},
   "source": [
    "<center> <img src='./Figs/Ex6.10.svg'> </center>"
   ]
  },
  {
   "cell_type": "code",
   "execution_count": 29,
   "id": "330dfa1e",
   "metadata": {},
   "outputs": [
    {
     "data": {
      "text/latex": [
       "$\\displaystyle \\frac{V_{o} a \\left(- b + r\\right)}{r \\left(a - b\\right)}$"
      ],
      "text/plain": [
       "V_o*a*(-b + r)/(r*(a - b))"
      ]
     },
     "metadata": {},
     "output_type": "display_data"
    }
   ],
   "source": [
    "r = sp.symbols('r')\n",
    "V = -C1/r+C2\n",
    "sis = [sp.Eq(V.subs(r,a),Vo), sp.Eq(V.subs(r,b),0)]\n",
    "sol = sp.solve(sis,[C1,C2])\n",
    "V = V.subs(sol).simplify()\n",
    "display(V)"
   ]
  },
  {
   "cell_type": "code",
   "execution_count": 34,
   "id": "0efd0c05",
   "metadata": {},
   "outputs": [
    {
     "data": {
      "text/latex": [
       "$\\displaystyle \\left[\\begin{matrix}- \\frac{V_{o} a b}{r^{2} \\left(a - b\\right)}\\\\0\\\\0\\end{matrix}\\right]$"
      ],
      "text/plain": [
       "Matrix([\n",
       "[-V_o*a*b/(r**2*(a - b))],\n",
       "[                      0],\n",
       "[                      0]])"
      ]
     },
     "metadata": {},
     "output_type": "display_data"
    },
    {
     "data": {
      "text/latex": [
       "$\\displaystyle \\int\\limits_{0}^{2 \\pi}\\int\\limits_{0}^{\\pi} \\left(- \\frac{V_{o} a b \\varepsilon \\sin{\\left(\\theta \\right)}}{a - b}\\right)\\, d\\theta\\, d\\phi$"
      ],
      "text/plain": [
       "Integral(-V_o*a*b*varepsilon*sin(theta)/(a - b), (theta, 0, pi), (phi, 0, 2*pi))"
      ]
     },
     "metadata": {},
     "output_type": "display_data"
    },
    {
     "data": {
      "text/latex": [
       "$\\displaystyle - \\frac{4 \\pi V_{o} a b \\varepsilon}{a - b}$"
      ],
      "text/plain": [
       "-4*pi*V_o*a*b*varepsilon/(a - b)"
      ]
     },
     "metadata": {},
     "output_type": "display_data"
    }
   ],
   "source": [
    "theta = sp.symbols('theta')\n",
    "E = sp.ImmutableMatrix([-sp.diff(V, r), 0,0]).simplify()\n",
    "display(E)\n",
    "dS = sp.ImmutableMatrix([r**2*sp.sin(theta), 0,0])\n",
    "lims = [(theta,0,sp.pi),(phi,0,2*sp.pi)]\n",
    "Q = sp.Integral(eps*E.dot(dS),*lims)\n",
    "display(Q)\n",
    "display(Q.doit())"
   ]
  },
  {
   "cell_type": "code",
   "execution_count": 35,
   "id": "07259c5d",
   "metadata": {},
   "outputs": [
    {
     "data": {
      "text/latex": [
       "$\\displaystyle - \\frac{4 \\pi a b \\varepsilon}{a - b}$"
      ],
      "text/plain": [
       "-4*pi*a*b*varepsilon/(a - b)"
      ]
     },
     "metadata": {},
     "output_type": "display_data"
    }
   ],
   "source": [
    "C = (Q/Vo).simplify()\n",
    "display(C)"
   ]
  },
  {
   "cell_type": "code",
   "execution_count": 43,
   "id": "7ba6c681",
   "metadata": {},
   "outputs": [
    {
     "data": {
      "text/latex": [
       "$\\displaystyle \\left[\\begin{matrix}\\frac{15.0}{r^{2}}\\\\0\\\\0\\end{matrix}\\right]$"
      ],
      "text/plain": [
       "Matrix([\n",
       "[15.0/r**2],\n",
       "[        0],\n",
       "[        0]])"
      ]
     },
     "metadata": {},
     "output_type": "display_data"
    },
    {
     "name": "stdout",
     "output_type": "stream",
     "text": [
      "V/m\n"
     ]
    },
    {
     "data": {
      "text/latex": [
       "$\\displaystyle 4.16639522882178$"
      ],
      "text/plain": [
       "4.16639522882178"
      ]
     },
     "metadata": {},
     "output_type": "display_data"
    },
    {
     "name": "stdout",
     "output_type": "stream",
     "text": [
      "nC\n"
     ]
    },
    {
     "data": {
      "text/latex": [
       "$\\displaystyle 41.6662260249723$"
      ],
      "text/plain": [
       "41.6662260249723"
      ]
     },
     "metadata": {},
     "output_type": "display_data"
    },
    {
     "name": "stdout",
     "output_type": "stream",
     "text": [
      "pF\n"
     ]
    }
   ],
   "source": [
    "eps0 = 1e-9/(36*sp.pi)\n",
    "av = [(a,0.1), (b,0.3), (Vo,100),(eps,2.5*eps0)]\n",
    "display(E.subs(av).evalf(3))   # V/m\n",
    "print('V/m')\n",
    "display(Q.doit().subs(av).evalf(3)*1e9)  # nC\n",
    "print('nC')\n",
    "display(C.subs(av).evalf(3)*1e12)\n",
    "print('pF')"
   ]
  },
  {
   "attachments": {},
   "cell_type": "markdown",
   "id": "6f71aa88",
   "metadata": {},
   "source": [
    "<center> <img src='./Figs/Ex6.11.svg'> </center>"
   ]
  },
  {
   "cell_type": "code",
   "execution_count": null,
   "id": "8ce4a929",
   "metadata": {},
   "outputs": [],
   "source": []
  },
  {
   "attachments": {},
   "cell_type": "markdown",
   "id": "35ddc63c",
   "metadata": {},
   "source": [
    "<center> <img src='./Figs/Ex6.12.svg'> </center>"
   ]
  },
  {
   "cell_type": "code",
   "execution_count": null,
   "id": "aa83c843",
   "metadata": {},
   "outputs": [],
   "source": []
  },
  {
   "attachments": {},
   "cell_type": "markdown",
   "id": "5ab283a1",
   "metadata": {},
   "source": [
    "<center> <img src='./Figs/Ex6.13.svg'> </center>"
   ]
  },
  {
   "cell_type": "code",
   "execution_count": 47,
   "id": "b384a84c",
   "metadata": {},
   "outputs": [
    {
     "data": {
      "text/latex": [
       "$\\displaystyle - \\frac{1.8 \\cdot 10^{10} Q \\log{\\left(6.11111111111111 \\cdot 10^{-10} L \\right)}}{L} + \\frac{1.8 \\cdot 10^{10} Q \\log{\\left(6.94444444444444 \\cdot 10^{-10} L \\right)}}{L}$"
      ],
      "text/plain": [
       "-1.8e+10*Q*log(6.11111111111111e-10*L)/L + 1.8e+10*Q*log(6.94444444444444e-10*L)/L"
      ]
     },
     "metadata": {},
     "output_type": "display_data"
    }
   ],
   "source": [
    "Q = sp.symbols('Q')\n",
    "eps = (10+rho)*eps0/rho\n",
    "av = [(a,1), (b,2.5)]\n",
    "V = sp.Integral(Q/(2*sp.pi*eps*rho*L),(rho,a,b)).subs(av)\n",
    "display(V.doit().evalf(3))"
   ]
  },
  {
   "cell_type": "code",
   "execution_count": 54,
   "id": "12e90f68",
   "metadata": {},
   "outputs": [
    {
     "data": {
      "text/latex": [
       "$\\displaystyle 4.34593525144242 \\cdot 10^{-10} L$"
      ],
      "text/plain": [
       "4.34593525144242e-10*L"
      ]
     },
     "metadata": {},
     "output_type": "display_data"
    },
    {
     "data": {
      "text/latex": [
       "$\\displaystyle 434.6$"
      ],
      "text/plain": [
       "434.6"
      ]
     },
     "metadata": {},
     "output_type": "display_data"
    },
    {
     "name": "stdout",
     "output_type": "stream",
     "text": [
      "pico Farad/metro\n"
     ]
    }
   ],
   "source": [
    "C = (Q/V).simplify()\n",
    "display(C)\n",
    "display((1e12*C/L).evalf(4))\n",
    "print('pico Farad/metro')"
   ]
  }
 ],
 "metadata": {
  "kernelspec": {
   "display_name": "Python 3 (ipykernel)",
   "language": "python",
   "name": "python3"
  },
  "language_info": {
   "codemirror_mode": {
    "name": "ipython",
    "version": 3
   },
   "file_extension": ".py",
   "mimetype": "text/x-python",
   "name": "python",
   "nbconvert_exporter": "python",
   "pygments_lexer": "ipython3",
   "version": "3.11.1"
  }
 },
 "nbformat": 4,
 "nbformat_minor": 5
}
