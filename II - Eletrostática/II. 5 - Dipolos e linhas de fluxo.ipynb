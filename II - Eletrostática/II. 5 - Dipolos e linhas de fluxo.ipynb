{
 "cells": [
  {
   "attachments": {},
   "cell_type": "markdown",
   "id": "3a85463a",
   "metadata": {
    "tags": []
   },
   "source": [
    "$\\newcommand{\\ax}{\\mathbf{a}_x}$\n",
    "$\\newcommand{\\ay}{\\mathbf{a}_y}$\n",
    "$\\newcommand{\\az}{\\mathbf{a}_z}$\n",
    "$\\newcommand{\\arho}{\\mathbf{a}_\\rho}$\n",
    "$\\newcommand{\\ap}{\\mathbf{a}_\\phi}$\n",
    "$\\newcommand{\\ar}{\\mathbf{a}_r}$\n",
    "$\\newcommand{\\at}{\\mathbf{a}_\\theta}$\n",
    "$\\newcommand{\\grad}[1]{\\nabla #1}$\n",
    "$\\renewcommand{\\div}[1]{\\mathbf{\\nabla} \\cdot \\mathbf{#1}}$\n",
    "$\\newcommand{\\rot}[1]{\\mathbf{\\nabla} \\times \\mathbf{#1}}$\n",
    "$\\newcommand{\\parcial}[2]{\\displaystyle\\frac{\\partial #1}{\\partial #2}}$\n",
    "$\\newcommand{\\pard}[2]{\\displaystyle\\frac{\\partial^2 {#1}}{\\partial {#2}^2}}$\n",
    "$\\newcommand{\\lapcart}[1]{\\pard{#1}{x}+\\pard{#1}{y}+\\pard{#1}{z}}$\n",
    "$\\newcommand{\\lapcili}[1]{\\frac{1}{\\rho}\\parcial{}{\\rho}\\left(\\rho \\parcial{#1}{\\rho}\\right)+\\frac{1}{\\rho^2}\\pard{#1}{\\phi}+\\pard{#1}{z}}$\n",
    "$\\newcommand{\\lapesf}[1]{\\frac{1}{r^2}\\parcial{}{r}\\left(r^2 \\parcial{#1}{r}\\right)+\\frac{1}{r^2\\sin \\theta }\\left(\\sin \\theta \\, \\parcial{#1}{\\theta}\\right)+\\frac{1}{r^2\\sin \\theta}\\pard{V}{\\phi}}$\n",
    "\n"
   ]
  },
  {
   "attachments": {},
   "cell_type": "markdown",
   "id": "b25518e0",
   "metadata": {},
   "source": [
    "# Dipolos e linhas de fluxo"
   ]
  },
  {
   "attachments": {},
   "cell_type": "markdown",
   "id": "0a1c9489",
   "metadata": {},
   "source": [
    "## Dipolo elétrico \n",
    "\n",
    "**Definição:** um dipolo elétrico é um arranjo de duas cargas de mesma magnitude e sinais opostos separados por uma pequena distância. \n",
    "\n",
    "<center> <img src='./Figs/Fig4.20.svg'> </center>"
   ]
  },
  {
   "attachments": {},
   "cell_type": "markdown",
   "id": "2a16d9de",
   "metadata": {},
   "source": [
    "**Potencial em um ponto devido ao dipolo**\n",
    "$$\n",
    "V = \\frac{Q}{4\\pi \\epsilon_0}\\left[\\frac{1}{r_1}-\\frac{1}{r_2}\\right]\n",
    "$$\n",
    "\n",
    "$$\n",
    "\\mathbf{p} = Q\\mathbf{d}\n",
    "$$\n",
    "\n",
    "$$\n",
    "V = \\frac{\\mathbf{p\\cdot}\\mathbf{a}_r}{4\\pi \\epsilon_0\\,r^2}\n",
    "$$"
   ]
  },
  {
   "attachments": {},
   "cell_type": "markdown",
   "id": "33d66ca8",
   "metadata": {},
   "source": [
    "<center> <img src='./Figs/Ex4.13.svg'> </center>"
   ]
  },
  {
   "cell_type": "code",
   "execution_count": 3,
   "id": "83ce91da",
   "metadata": {},
   "outputs": [],
   "source": [
    "import sympy as sp"
   ]
  },
  {
   "cell_type": "code",
   "execution_count": 4,
   "id": "974eb34d",
   "metadata": {},
   "outputs": [
    {
     "data": {
      "text/latex": [
       "$\\displaystyle -20.25$"
      ],
      "text/plain": [
       "-20.2500000000000"
      ]
     },
     "execution_count": 4,
     "metadata": {},
     "output_type": "execute_result"
    }
   ],
   "source": [
    "p1 = sp.ImmutableMatrix([0,0,-5])*1e-9\n",
    "p2 = sp.ImmutableMatrix([0,0,9])*1e-9\n",
    "r1 = sp.ImmutableMatrix([0,0,-2])\n",
    "r2 = sp.ImmutableMatrix([0,0,3])\n",
    "r = sp.ImmutableMatrix([0,0,0])\n",
    "v1 = r-r1\n",
    "v2 = r-r2\n",
    "ar1 = v1/v1.norm()\n",
    "ar2 = v2/v2.norm()\n",
    "eps0 = 1e-9/(36*sp.pi)\n",
    "V1 = p1.dot(ar1)/(4*sp.pi*eps0*v1.norm()**2)\n",
    "V2 = p2.dot(ar2)/(4*sp.pi*eps0*v2.norm()**2)\n",
    "V = V1 + V2\n",
    "V"
   ]
  },
  {
   "attachments": {},
   "cell_type": "markdown",
   "id": "b8a7e52b",
   "metadata": {},
   "source": [
    "## Linha de fluxo\n",
    "\n",
    "É uma linha imaginária utilizada para descrever a orientação do campo elétrico no espaço. O campo é tangente à linha em qualquer ponto. "
   ]
  },
  {
   "attachments": {},
   "cell_type": "markdown",
   "id": "7265fb68",
   "metadata": {},
   "source": [
    "## Superfícies e linhas equipotenciais\n",
    "\n",
    "São geometrias no espaço cujo potencial elétrico é o mesmo. \n",
    "\n",
    "<center> <img src='./Figs/Fig4.21.svg'> </center>"
   ]
  },
  {
   "attachments": {},
   "cell_type": "markdown",
   "id": "3c438276",
   "metadata": {},
   "source": [
    "Linhas de fluxo e linhas equipotenciais são perpendiculares entre si."
   ]
  }
 ],
 "metadata": {
  "kernelspec": {
   "display_name": "Python 3 (ipykernel)",
   "language": "python",
   "name": "python3"
  },
  "language_info": {
   "codemirror_mode": {
    "name": "ipython",
    "version": 3
   },
   "file_extension": ".py",
   "mimetype": "text/x-python",
   "name": "python",
   "nbconvert_exporter": "python",
   "pygments_lexer": "ipython3",
   "version": "3.11.1"
  }
 },
 "nbformat": 4,
 "nbformat_minor": 5
}
