{
 "cells": [
  {
   "attachments": {},
   "cell_type": "markdown",
   "id": "3a85463a",
   "metadata": {
    "tags": []
   },
   "source": [
    "$\\newcommand{\\ax}{\\mathbf{a}_x}$\n",
    "$\\newcommand{\\ay}{\\mathbf{a}_y}$\n",
    "$\\newcommand{\\az}{\\mathbf{a}_z}$\n",
    "$\\newcommand{\\arho}{\\mathbf{a}_\\rho}$\n",
    "$\\newcommand{\\ap}{\\mathbf{a}_\\phi}$\n",
    "$\\newcommand{\\ar}{\\mathbf{a}_r}$\n",
    "$\\newcommand{\\at}{\\mathbf{a}_\\theta}$\n",
    "$\\newcommand{\\grad}[1]{\\nabla #1}$\n",
    "$\\renewcommand{\\div}[1]{\\mathbf{\\nabla} \\cdot \\mathbf{#1}}$\n",
    "$\\newcommand{\\rot}[1]{\\mathbf{\\nabla} \\times \\mathbf{#1}}$\n",
    "$\\newcommand{\\parcial}[2]{\\displaystyle\\frac{\\partial #1}{\\partial #2}}$\n",
    "$\\newcommand{\\pard}[2]{\\displaystyle\\frac{\\partial^2 {#1}}{\\partial {#2}^2}}$\n",
    "$\\newcommand{\\lapcart}[1]{\\pard{#1}{x}+\\pard{#1}{y}+\\pard{#1}{z}}$\n",
    "$\\newcommand{\\lapcili}[1]{\\frac{1}{\\rho}\\parcial{}{\\rho}\\left(\\rho \\parcial{#1}{\\rho}\\right)+\\frac{1}{\\rho^2}\\pard{#1}{\\phi}+\\pard{#1}{z}}$\n",
    "$\\newcommand{\\lapesf}[1]{\\frac{1}{r^2}\\parcial{}{r}\\left(r^2 \\parcial{#1}{r}\\right)+\\frac{1}{r^2\\sin \\theta }\\left(\\sin \\theta \\, \\parcial{#1}{\\theta}\\right)+\\frac{1}{r^2\\sin \\theta}\\pard{V}{\\phi}}$\n",
    "\n"
   ]
  },
  {
   "attachments": {},
   "cell_type": "markdown",
   "id": "b25518e0",
   "metadata": {},
   "source": [
    "# Densidade de Fluxo Elétrico"
   ]
  },
  {
   "attachments": {},
   "cell_type": "markdown",
   "id": "abd4df78",
   "metadata": {},
   "source": [
    "$$\n",
    "\\begin{align}\n",
    "    \\mathbf{D} = \\epsilon_0 \\mathbf{E}\n",
    "\\end{align}\n",
    "$$\n",
    "\n",
    "Se considerarmos o campo elétrico e as linhas que os vetores de campo formam, temos umas espécie de fluxo de campo \"circulando\" no espaço. \n",
    "\n",
    "Uma medida da quantidade de linhas por unidade de área é a densidade de fluxo elétrico. "
   ]
  },
  {
   "attachments": {},
   "cell_type": "markdown",
   "id": "9f7a1e22",
   "metadata": {},
   "source": [
    "## Fluxo Elétrico\n",
    "\n",
    "O fluxo elétrico total é uma medida da quantidade de linhas numa determinada área. \n",
    "\n",
    "$$\n",
    "\\begin{align}\n",
    "    {\\psi} = \\int_{S} \\mathbf{D}\\cdot d\\mathbf{S}\n",
    "\\end{align}\n",
    "$$"
   ]
  },
  {
   "attachments": {},
   "cell_type": "markdown",
   "id": "f32c0ba8",
   "metadata": {},
   "source": [
    "<center> <img src='./Figs/Ex4.7.svg'> </center>"
   ]
  },
  {
   "cell_type": "code",
   "execution_count": 3,
   "id": "cda10a12",
   "metadata": {},
   "outputs": [],
   "source": [
    "import sympy as sp\n",
    "from sympy import Integral, pi\n",
    "from sympy import ImmutableMatrix as Matriz\n",
    "from IPython.display import display, Math\n",
    "\n",
    "x,y,z = sp.symbols(['x', 'y', 'z'])"
   ]
  },
  {
   "cell_type": "code",
   "execution_count": 4,
   "id": "15f3e8a5",
   "metadata": {},
   "outputs": [
    {
     "data": {
      "text/latex": [
       "$\\displaystyle \\left[\\begin{matrix}0\\\\0\\\\-0.0001389\\end{matrix}\\right]$"
      ],
      "text/plain": [
       "Matrix([\n",
       "[         0],\n",
       "[         0],\n",
       "[-0.0001389]])"
      ]
     },
     "execution_count": 4,
     "metadata": {},
     "output_type": "execute_result"
    }
   ],
   "source": [
    "ponto = [(x,4), (y,0), (z,3)]\n",
    "rp = Matriz([x,y,z]).subs(ponto)\n",
    "rq = Matriz([4,0,0])\n",
    "r = rp-rq\n",
    "eps0 = 1e-9/(36*pi)\n",
    "q = -5*pi*1e-3\n",
    "E_carga = q*r/(4*pi*eps0*r.norm()**3) \n",
    "D_carga = eps0*E_carga\n",
    "D_carga.evalf(4)"
   ]
  },
  {
   "attachments": {},
   "cell_type": "markdown",
   "id": "79a0bf4c",
   "metadata": {},
   "source": [
    "A contribuição da linha infinita deve ser:\n",
    "$$\n",
    "    \\mathbf{E} = \\frac{3\\pi\\,10^{-3}}{2\\pi \\rho} \\mathbf{a}_\\rho\n",
    "$$\n",
    "\n",
    "Mas, como em um caso anterior, o vetor unitário aqui não é o convencional devido à disposição da linha ser no eixo $y$, e precisamos determiná-lo em termos de componentes cartesianas.\n",
    "\n",
    "A direção da linha é $\\ay$. Como a linha é o eixo $y$, ela passa na origem, logo um ponto sobre ela é $(0,t,0)$. Deslocamento entre o ponto do problema e um ponto na linha é $[4,t,3]$. Para ser perpendicular a $\\ay$, $t=0$. Logo, o vetor radial buscado é $[4,0,3]$. "
   ]
  },
  {
   "cell_type": "code",
   "execution_count": 5,
   "id": "6a12ebb7",
   "metadata": {},
   "outputs": [
    {
     "data": {
      "text/latex": [
       "$\\displaystyle \\left[\\begin{matrix}0.00024\\\\0\\\\4.111 \\cdot 10^{-5}\\end{matrix}\\right]$"
      ],
      "text/plain": [
       "Matrix([\n",
       "[ 0.00024],\n",
       "[       0],\n",
       "[4.111e-5]])"
      ]
     },
     "metadata": {},
     "output_type": "display_data"
    },
    {
     "data": {
      "text/latex": [
       "$\\displaystyle \\left[\\begin{matrix}240.0\\\\0\\\\41.11\\end{matrix}\\right]$"
      ],
      "text/plain": [
       "Matrix([\n",
       "[240.0],\n",
       "[    0],\n",
       "[41.11]])"
      ]
     },
     "metadata": {},
     "output_type": "display_data"
    }
   ],
   "source": [
    "v = Matriz([4,0,3]) \n",
    "av = v/v.norm()\n",
    "rho = v.norm()\n",
    "E_linha = (3*pi*1e-3)/(2*pi*eps0*rho)*av\n",
    "D_linha = E_linha*eps0\n",
    "D_total = D_carga + D_linha\n",
    "display(D_total.evalf(4))\n",
    "display((D_total*1e6).evalf(4))"
   ]
  },
  {
   "attachments": {},
   "cell_type": "markdown",
   "id": "cd5e30c0",
   "metadata": {},
   "source": [
    "## Lei de Gauss\n",
    "\n",
    "*O fluxo elétrico total $\\psi$ através de qualquer superfície fechada é igual à carga total envolvida pela superfície.*\n",
    "\n",
    "$$\n",
    "\\begin{align}\n",
    "    \\psi &= Q_{\\text{env.}}\\\\\n",
    "    \\oint_S \\mathbf{D}\\cdot d\\mathbf{S} &= \\int_{V} \\rho_v dv\n",
    "\\end{align}\n",
    "$$\n",
    "\n",
    "Pelo teorema da divergência: \n",
    "$$\n",
    "\\begin{align}\n",
    "    \\oint_S \\mathbf{D}\\cdot d\\mathbf{S} &= \\int_{V} \\div{D} \\,dv\n",
    "\\end{align}\n",
    "$$\n",
    "\n",
    "Essa é a primeira equação de Maxwell na *forma integral*\n",
    "\n",
    "Comparando então as integrais de volume\n",
    "$$\n",
    "\\begin{align}\n",
    "    \\div{D} = \\rho_v\n",
    "\\end{align}\n",
    "$$\n",
    "\n",
    "Essa é a primeira equação de Maxwell na *forma diferencial*. Esta equação é equivalente à lei de Coulomb entre duas cargas pontuais. \n"
   ]
  },
  {
   "attachments": {},
   "cell_type": "markdown",
   "id": "a53369d4",
   "metadata": {},
   "source": [
    "A lei de Gauss fornece um meio fácil para encontrar o campo em problemas que possuem distribuições simétricas de carga: linha infinita, cilindro infinito e esfera. \n",
    "\n",
    "Uma distribuição de carga contínua possui simetria retangular se depende **apenas** de uma direção, $x$ por exemplo (ou $y$, ou $z$); a simetria é cilíndrica se depende apenas de $\\rho$ e esférica se depende apenas de $r$. "
   ]
  },
  {
   "attachments": {},
   "cell_type": "markdown",
   "id": "7ce44f91",
   "metadata": {},
   "source": [
    "## Aplicação: carga pontual.\n",
    "\n",
    "Recorde que no problema da carga pontual, queremos saber o campo (ou a densidade de fluxo) em um ponto arbitrário do espaço. \n",
    "\n",
    "Para uma carga pontual $Q$, sabemos que o campo só depende da distância até carga. Neste caso, a simetria é esférica (qualquer ponto à mesma distância da carga terá a mesma intensidade de campo). Convém usar coordenadas esféricas para esse problema.\n"
   ]
  },
  {
   "attachments": {},
   "cell_type": "markdown",
   "id": "340b801d",
   "metadata": {},
   "source": [
    "A superfície Gaussiana (aquela sobre a qual calculamos o fluxo) é uma esfera arbitrária e raio $r$. O ponto onde queremos o campo vai estar **em cima dessa superfície** (por isso ela é arbitrária). Nesse caso, o elemento de área que precisamos é esférico, \n",
    "$$\n",
    "\\begin{align}\n",
    "d\\mathbf{S} = r^2\\,\\sin\\theta\\, d\\theta d\\phi\\,\\mathbf{a}_r\n",
    "\\end{align}\n",
    "$$\n",
    "\n",
    "Observe que a densidade de fluxo $\\mathbf{D}$ é perpendicular, em qualquer ponto, à superfície esférica considerada. Então podemos dizer com segurança que o fluxo possui apenas a componente radial, $\\mathbf{D}=D_r(r)\\,\\mathbf{a}_r$. Para encontrar a densidade basta acharmos $D_r(r)$. \n",
    "\n",
    "$$\n",
    "\\begin{align}\n",
    "    Q  &= \\oint_{\\text{esf.}} \\mathbf{D}\\cdot d\\mathbf{S}\\\\\n",
    "    &= \\int_{\\phi=0}^{2\\pi}\\int_{\\theta = 0}^{\\pi} D_r(r)\\mathbf{a}_r \\cdot r^2\\,\\sin\\theta\\, d\\theta d\\phi\\,\\mathbf{a}_r\n",
    "\\end{align}\n",
    "$$\n",
    "\n",
    "Lembre que $\\mathbf{a}_r\\cdot \\mathbf{a}_r=1$.\n",
    "$$\n",
    "\\begin{align}\n",
    "Q&= D_r(r) \\, r^2 \\int_{\\phi=0}^{2\\pi}\\int_{\\theta = 0}^{\\pi} \\sin\\theta\\, d\\theta d\\phi\n",
    "\\end{align}\n",
    "$$\n",
    "\n",
    "A integral restante pode ser facilmente resolvida, mas lembre-se que ela representa a área de superfície de uma esfera de raio $r$, isto é $4\\pi r^2$. Então:\n",
    "$$\n",
    "\\begin{align}\n",
    "Q&= D_r(r) \\, 4\\pi r^2 \\Rightarrow D_r(r) = \\frac{Q}{4\\pi r^2}\n",
    "\\end{align}\n",
    "$$\n",
    "\n",
    "Por fim:\n",
    "$$\n",
    "\\begin{align}\n",
    "\\mathbf{D}(r) = \\frac{Q}{4\\pi r^2}\\,\\mathbf{a}_r\n",
    "\\end{align}\n",
    "$$\n",
    "\n"
   ]
  },
  {
   "attachments": {},
   "cell_type": "markdown",
   "id": "052e6c83",
   "metadata": {},
   "source": [
    "## Aplicação: linha infinita"
   ]
  },
  {
   "attachments": {},
   "cell_type": "markdown",
   "id": "4a681bdf",
   "metadata": {},
   "source": [
    "<center> <img src='Fig4.14.svg' width='80%'> </center>\n",
    "\n",
    "Supomos que a linha está uniformemente carregada com $\\rho_L$ C/m. "
   ]
  },
  {
   "attachments": {},
   "cell_type": "markdown",
   "id": "014d3717",
   "metadata": {},
   "source": [
    "Simetria cilíndrica: campo deve depender somente da distância radial até a linha, e não da direção ($\\phi$) ou da altura ($z$).\n",
    "\n",
    "A superfície Gaussiana mais apropriada é um cilindro. Suponhamos um cilindro de comprimento $l$ arbitrário. O ponto arbitrário do campo deve estar em cima da superfície cilíndrica. "
   ]
  },
  {
   "attachments": {},
   "cell_type": "markdown",
   "id": "69201c38",
   "metadata": {},
   "source": [
    "\n",
    "A área total do cilindro é dividida em 3 partes: topo, fundo e lateral.\n",
    "\n",
    "Elementos de área cilíndrico: \n",
    "- Topo e fundo: $d\\mathbf{S} = \\rho\\,d\\rho\\,d\\phi\\,\\mathbf{a}_{z}$. \n",
    "- Lateral: $d\\mathbf{S} = dS\\,\\mathbf{a}_{\\rho}=\\rho\\,d\\phi\\,dz\\,\\mathbf{a}_{\\rho}$. \n",
    "\n",
    "Vetor $\\mathbf{D}$ só possui componente radial e ela só depende de $\\rho$. $\\mathbf{D}(\\rho) = D_{\\rho}(\\rho)\\,\\mathbf{a}_{\\rho}$\n",
    "\n",
    "Observe que $\\mathbf{D}\\cdot d\\mathbf{S}$ é zero no topo e fundo, porque os vetores são perpendiculares. "
   ]
  },
  {
   "attachments": {},
   "cell_type": "markdown",
   "id": "a8f277ef",
   "metadata": {},
   "source": [
    "\n",
    "Carga total dentro da superfície: $Q=\\rho_L\\,l$. \n",
    "\n",
    "Fluxo na superfície fechada: \n",
    "$$\\begin{align}\n",
    "\\psi &= \\int_{\\text{topo}} \\mathbf{D}\\cdot d\\mathbf{S}+\\int_{\\text{fundo}} \\mathbf{D}\\cdot d\\mathbf{S}+\\int_{\\text{lateral}} \\mathbf{D}\\cdot d\\mathbf{S}\\\\\n",
    "&= \\int_{\\text{lateral}} \\mathbf{D}\\cdot d\\mathbf{S}\\\\\n",
    "&= \\int_{\\text{lateral}} D_\\rho(\\rho)\\,\\mathbf{a}_{\\rho}\\cdot dS\\mathbf{a}_{\\rho}\n",
    "\\end{align}$$\n"
   ]
  },
  {
   "attachments": {},
   "cell_type": "markdown",
   "id": "29097bf2",
   "metadata": {},
   "source": [
    "Na superfície lateral $dS$ depende apenas de $z$ e de $\\phi$. Assim $D_\\rho(\\rho)$ pode sair da integral, pois só depende de $\\rho$. \n",
    "$$\n",
    "\\begin{align}\n",
    "    \\psi &= D_\\rho(\\rho)\\,\\int_{\\text{lateral}} dS\n",
    "\\end{align}\n",
    "$$\n",
    "\n",
    "A integral é simplesmente a área lateral do cilindro: $2\\pi\\, \\rho\\, l$. Igualando a carga e o fluxo então resulta:\n",
    "$$\n",
    "\\begin{align}\n",
    "    \\rho_L \\,l &= D_\\rho(\\rho)\\,2\\pi \\rho \\, l \\Rightarrow D_\\rho(\\rho) = \\frac{\\rho_L}{2\\pi \\rho}\n",
    "\\end{align}\n",
    "$$\n",
    "\n",
    "Assim $\\mathbf{D} = \\frac{\\rho_L}{2\\pi \\rho}\\,\\mathbf{a}_{\\rho}$"
   ]
  },
  {
   "attachments": {},
   "cell_type": "markdown",
   "id": "a0199727",
   "metadata": {},
   "source": [
    "## Placa infinita"
   ]
  },
  {
   "attachments": {},
   "cell_type": "markdown",
   "id": "70b1b038",
   "metadata": {},
   "source": [
    "Para uma superfície carregada plana sobre o plano $XY$,\n",
    "$$\n",
    "\\mathbf{D}=D_z\\,\\az\n",
    "$$. \n",
    "\n",
    "A superfície Gaussiana pode ser uma caixa retangular.\n",
    "\n",
    "$$\n",
    "\\begin{align}\n",
    "    \\rho_s\\int_S dS = Q &= \\oint_S \\mathbf{D}\\cdot d\\mathbf{S}\\\\\n",
    "    &= D_z\\left[\\int_{\\text{fundo}}+\\int_{\\text{topo}}\\right]\n",
    "\\end{align}\n",
    "$$\n",
    "\n",
    "As áreas laterais não entram no cálculo porque o fluxo só possui componente $z$. As áreas podem ser tomadas como iguais, sem perda de generalidade. Assim:\n",
    "\n",
    "$$\n",
    "    \\rho_s\\, A = D_z (A+A) \\Rightarrow D_z = \\frac{\\rho_s}{2}\n",
    "$$"
   ]
  },
  {
   "attachments": {},
   "cell_type": "markdown",
   "id": "9e4abfe3",
   "metadata": {},
   "source": [
    "## Esfera carregada uniformemente"
   ]
  },
  {
   "attachments": {},
   "cell_type": "markdown",
   "id": "fabf5989",
   "metadata": {},
   "source": [
    "Considere uma esfera de raio $a$ com carga $\\rho_o$ C/$m^3$. Analisamos o que acontece dentro da esfera $r\\leq a$ e fora dela $r>a$. "
   ]
  },
  {
   "attachments": {},
   "cell_type": "markdown",
   "id": "4b32a143",
   "metadata": {},
   "source": [
    "O problema possui simetria esférica: \n",
    "$$\\mathbf{D}=D_r(r)\\ar$$\n",
    "\n",
    "Para $r\\leq a$ a superfície gaussiana é uma esfera de raio $r$. "
   ]
  },
  {
   "attachments": {},
   "cell_type": "markdown",
   "id": "09bfb7ac",
   "metadata": {},
   "source": [
    "\n",
    "Carga total dentro da superfície:\n",
    "$$\n",
    "\\begin{align}\n",
    "    Q &= \\int_v \\rho_o dv = \\rho_o\\int_v dv = \\frac{4\\pi \\rho_o r^3}{3}\n",
    "\\end{align}\n",
    "$$"
   ]
  },
  {
   "attachments": {},
   "cell_type": "markdown",
   "id": "dc4b1971",
   "metadata": {},
   "source": [
    "Elemento de área da esfera: $d\\mathbf{S} = dS\\,\\ar$\n",
    "\n",
    "Neste caso, $dS = r^2\\,\\sin \\theta \\,d\\theta\\, d\\phi$, mas não precisamos realmente dessa informação. \n",
    "\n",
    "Fluxo total na superfície esférica\n",
    "$$\n",
    "\\begin{align}\n",
    "\\psi &= \\oint_S \\mathbf{D}\\cdot d\\mathbf{S} \\\\\n",
    "&= \\oint_S D_r(r) dS\n",
    "\\end{align}\n",
    "$$\n",
    "\n",
    "mas $dS$ é apenas em $d\\theta$ e $d\\phi$, logo $D_r(r)$ é constante para essa integral.\n",
    "$$\n",
    "\\begin{align}\n",
    "\\psi &= D_r(r)\\oint_S dS\n",
    "\\end{align}\n",
    "$$\n",
    "\n",
    "A integral que restou é a área de superfície da esfera, $4\\pi r^2$. Igualando a carga e o fluxo temos:\n",
    "$$\n",
    "\\begin{align}\n",
    " \\frac{4\\pi \\rho_o r^3}{3}&= D_r(r)\\, 4\\pi r^2\\\\\n",
    " \\Rightarrow D_r(r) &= \\frac{\\rho_o r}{3}\n",
    "\\end{align}\n",
    "$$\n"
   ]
  },
  {
   "attachments": {},
   "cell_type": "markdown",
   "id": "fd0e12e1",
   "metadata": {},
   "source": [
    "**Fora da esfera carregada** ($r>a$). "
   ]
  },
  {
   "attachments": {},
   "cell_type": "markdown",
   "id": "7a89a9a5",
   "metadata": {},
   "source": [
    "No exterior da esfera carregada, supomos uma superfície gaussiana também esférica. Todas as condições de campo e simetria são as mesmas, a única coisa que muda é a carga total envolvida.\n",
    "\n",
    "No exterior da esfera, não importa o ponto, a carga envolvida é sempre a carga total da esfera, que não depende do posição radial do ponto. A carga total é:\n",
    "$$\n",
    "\\int_v \\rho_o\\, dv = \\frac{4\\pi\\rho_o\\, a^3}{3}"
   ]
  },
  {
   "attachments": {},
   "cell_type": "markdown",
   "id": "d60ee4ad",
   "metadata": {},
   "source": [
    "O fluxo numa superfície gaussiana arbitrária de raio $r$ será:\n",
    "$$\n",
    "\\oint_S D_r(r) \\,dS = 4\\pi r^2 D_r(r)\n",
    "$$\n",
    "\n",
    "Igualando e resolvendo para $D_r(r)$\n",
    "$$\n",
    "4\\pi r^2 D_r(r) = \\frac{4\\pi\\rho_o\\, a^3}{3} \\Rightarrow\n",
    "D_r(r) = \\frac{\\rho_o\\, a^3}{3r^2}\n",
    "$$"
   ]
  },
  {
   "attachments": {},
   "cell_type": "markdown",
   "id": "fda9d728",
   "metadata": {},
   "source": [
    "Note que o uso da Lei de Gauss para encontrar o fluxo depende da nossa capacidade de conseguir remover o fluxo ou uma de suas componentes da integral. **Isso só é possível se $\\mathbf{D}$ for constante na superfície gaussiana**, o que não é verdade em alguns problemas.  "
   ]
  },
  {
   "attachments": {},
   "cell_type": "markdown",
   "id": "01071c06",
   "metadata": {},
   "source": [
    "<center> <img src='./Figs/Ex4.8.svg'> </center>"
   ]
  },
  {
   "cell_type": "code",
   "execution_count": 6,
   "id": "65df4fa9",
   "metadata": {},
   "outputs": [
    {
     "data": {
      "text/latex": [
       "$\\displaystyle \\rho \\cos^{2}{\\left(\\phi \\right)}$"
      ],
      "text/plain": [
       "rho*cos(phi)**2"
      ]
     },
     "metadata": {},
     "output_type": "display_data"
    },
    {
     "data": {
      "text/latex": [
       "$\\displaystyle \\frac{1}{2}$"
      ],
      "text/plain": [
       "1/2"
      ]
     },
     "metadata": {},
     "output_type": "display_data"
    }
   ],
   "source": [
    "from sympy import cos\n",
    "rho, z, phi = sp.symbols(['rho', 'z', 'phi'])\n",
    "D = Matriz([0,0, z*rho*cos(phi)**2])\n",
    "P = [(rho,1), (phi, pi/4), (z,3)]\n",
    "def div_cil(A):\n",
    "        return (1/rho)*sp.diff(rho*A[0],rho)+(1/rho)*sp.diff(A[1],phi)+sp.diff(A[2],z)\n",
    "\n",
    "rho_v = div_cil(D)\n",
    "display(rho_v)\n",
    "display(rho_v.subs(P))"
   ]
  },
  {
   "cell_type": "code",
   "execution_count": 7,
   "id": "4b629dc4",
   "metadata": {},
   "outputs": [
    {
     "data": {
      "text/latex": [
       "$\\displaystyle \\int\\limits_{-2}^{2}\\int\\limits_{0}^{2 \\pi}\\int\\limits_{0}^{1} \\rho^{2} \\cos^{2}{\\left(\\phi \\right)}\\, d\\rho\\, d\\phi\\, dz$"
      ],
      "text/plain": [
       "Integral(rho**2*cos(phi)**2, (rho, 0, 1), (phi, 0, 2*pi), (z, -2, 2))"
      ]
     },
     "metadata": {},
     "output_type": "display_data"
    },
    {
     "data": {
      "text/latex": [
       "$\\displaystyle \\frac{4 \\pi}{3}$"
      ],
      "text/plain": [
       "4*pi/3"
      ]
     },
     "metadata": {},
     "output_type": "display_data"
    }
   ],
   "source": [
    "dv = rho\n",
    "lim = [(rho, 0,1), (phi,0,2*pi), (z,-2,2)]\n",
    "carga = Integral(rho_v*dv, *lim)\n",
    "display(carga)\n",
    "display(carga.doit())"
   ]
  },
  {
   "attachments": {},
   "cell_type": "markdown",
   "id": "d8352a37",
   "metadata": {},
   "source": [
    "<center> <img src='./Figs/ExPratico4.8.svg'> </center>"
   ]
  },
  {
   "attachments": {},
   "cell_type": "markdown",
   "id": "7d9b2a1a",
   "metadata": {},
   "source": [
    "<center> <img src='./Figs/Ex4.9.svg'> </center>"
   ]
  },
  {
   "attachments": {},
   "cell_type": "markdown",
   "id": "cfeac347",
   "metadata": {},
   "source": [
    "Com a densidade volumétrica, podemos calcular a carga enclausurada a qualquer distância $r$ do centro. \n",
    "\n",
    "A uma distância $r$ do centro, podemos imaginar uma superfície Gaussiana esférica. Como o problema tem simetria esférica, o fluxo vai ter apenas componente $\\ar$, que depende somente de $r$, isto é $\\mathbf{D} = D_r(r) \\ar$\n",
    "\n",
    "O elemento de superfície esférica é $d\\mathbf{S} = r\\sin\\theta\\,d\\theta\\, d\\phi\\,\\ar$. \n",
    "\n",
    "$$\n",
    "\\begin{align}\n",
    "    \\Psi & = Q = \\int_v \\rho_v dv\\\\\n",
    "    \\oint_S \\mathbf{D}\\cdot d\\mathbf{S} &= \\int_v \\rho_v dv\\\\\n",
    "\\end{align}\n",
    "$$\n"
   ]
  },
  {
   "cell_type": "code",
   "execution_count": 8,
   "id": "05f9b39c",
   "metadata": {},
   "outputs": [],
   "source": [
    "from sympy import sin\n",
    "r, theta, phi = sp.symbols(['r', 'theta', 'phi'])\n",
    "Dr = sp.Function('D_r')(r)\n",
    "dS = Matriz([1,0,0])*r**2*sin(theta)\n",
    "D = Matriz([Dr,0,0])\n",
    "R = sp.symbols('R', positive=True)\n",
    "rho_0 = sp.symbols('rho_0',positive=True)"
   ]
  },
  {
   "cell_type": "code",
   "execution_count": 9,
   "id": "6654c17d",
   "metadata": {},
   "outputs": [
    {
     "data": {
      "text/latex": [
       "$\\displaystyle 4 \\pi r^{2} D_{r}{\\left(r \\right)} = \\frac{\\pi r^{4} \\rho_{0}}{R}$"
      ],
      "text/plain": [
       "Eq(4*pi*r**2*D_r(r), pi*r**4*rho_0/R)"
      ]
     },
     "metadata": {},
     "output_type": "display_data"
    },
    {
     "data": {
      "text/latex": [
       "$\\displaystyle \\frac{r^{2} \\rho_{0}}{4 R}$"
      ],
      "text/plain": [
       "r**2*rho_0/(4*R)"
      ]
     },
     "metadata": {},
     "output_type": "display_data"
    }
   ],
   "source": [
    "# Para r <= R\n",
    "rho_v = rho_0*r/R\n",
    "dv = r**2*sin(theta)\n",
    "lims = [(theta,0,pi), (phi,0,2*pi)]\n",
    "I = sp.Eq(Integral(D.dot(dS),*lims).doit(), \n",
    "          Integral(rho_v*dv,(r,0,r),(theta,0,pi),(phi,0,2*pi)).doit())\n",
    "display(I)\n",
    "sol = sp.solve(I,Dr)\n",
    "display(sol[0])"
   ]
  },
  {
   "cell_type": "code",
   "execution_count": 10,
   "id": "d8aa52e7",
   "metadata": {},
   "outputs": [
    {
     "data": {
      "text/latex": [
       "$\\displaystyle 4 \\pi r^{2} D_{r}{\\left(r \\right)} = \\pi R^{3} \\rho_{0}$"
      ],
      "text/plain": [
       "Eq(4*pi*r**2*D_r(r), pi*R**3*rho_0)"
      ]
     },
     "metadata": {},
     "output_type": "display_data"
    },
    {
     "data": {
      "text/latex": [
       "$\\displaystyle \\frac{R^{3} \\rho_{0}}{4 r^{2}}$"
      ],
      "text/plain": [
       "R**3*rho_0/(4*r**2)"
      ]
     },
     "metadata": {},
     "output_type": "display_data"
    }
   ],
   "source": [
    "# Para r > R\n",
    "rho_v = rho_0*r/R\n",
    "dv = r**2*sin(theta)\n",
    "lims = [(theta,0,pi), (phi,0,2*pi)]\n",
    "I = sp.Eq(Integral(D.dot(dS),*lims).doit(), \n",
    "          Integral(rho_v*dv,(r,0,R),(theta,0,pi),(phi,0,2*pi)).doit())\n",
    "display(I)\n",
    "sol = sp.solve(I,Dr)\n",
    "display(sol[0])"
   ]
  },
  {
   "attachments": {},
   "cell_type": "markdown",
   "id": "5ca532d1",
   "metadata": {},
   "source": [
    "<center> <img src='./Figs/pratico4.9.svg'> </center>"
   ]
  }
 ],
 "metadata": {
  "kernelspec": {
   "display_name": "Python 3 (ipykernel)",
   "language": "python",
   "name": "python3"
  },
  "language_info": {
   "codemirror_mode": {
    "name": "ipython",
    "version": 3
   },
   "file_extension": ".py",
   "mimetype": "text/x-python",
   "name": "python",
   "nbconvert_exporter": "python",
   "pygments_lexer": "ipython3",
   "version": "3.11.1"
  }
 },
 "nbformat": 4,
 "nbformat_minor": 5
}
