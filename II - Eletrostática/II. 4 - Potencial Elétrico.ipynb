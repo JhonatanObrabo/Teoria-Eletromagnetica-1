{
 "cells": [
  {
   "attachments": {},
   "cell_type": "markdown",
   "id": "3a85463a",
   "metadata": {
    "tags": []
   },
   "source": [
    "$\\newcommand{\\ax}{\\mathbf{a}_x}$\n",
    "$\\newcommand{\\ay}{\\mathbf{a}_y}$\n",
    "$\\newcommand{\\az}{\\mathbf{a}_z}$\n",
    "$\\newcommand{\\arho}{\\mathbf{a}_\\rho}$\n",
    "$\\newcommand{\\ap}{\\mathbf{a}_\\phi}$\n",
    "$\\newcommand{\\ar}{\\mathbf{a}_r}$\n",
    "$\\newcommand{\\at}{\\mathbf{a}_\\theta}$\n",
    "$\\newcommand{\\grad}[1]{\\nabla #1}$\n",
    "$\\renewcommand{\\div}[1]{\\mathbf{\\nabla} \\cdot \\mathbf{#1}}$\n",
    "$\\newcommand{\\rot}[1]{\\mathbf{\\nabla} \\times \\mathbf{#1}}$\n",
    "$\\newcommand{\\parcial}[2]{\\displaystyle\\frac{\\partial #1}{\\partial #2}}$\n",
    "$\\newcommand{\\pard}[2]{\\displaystyle\\frac{\\partial^2 {#1}}{\\partial {#2}^2}}$\n",
    "$\\newcommand{\\lapcart}[1]{\\pard{#1}{x}+\\pard{#1}{y}+\\pard{#1}{z}}$\n",
    "$\\newcommand{\\lapcili}[1]{\\frac{1}{\\rho}\\parcial{}{\\rho}\\left(\\rho \\parcial{#1}{\\rho}\\right)+\\frac{1}{\\rho^2}\\pard{#1}{\\phi}+\\pard{#1}{z}}$\n",
    "$\\newcommand{\\lapesf}[1]{\\frac{1}{r^2}\\parcial{}{r}\\left(r^2 \\parcial{#1}{r}\\right)+\\frac{1}{r^2\\sin \\theta }\\left(\\sin \\theta \\, \\parcial{#1}{\\theta}\\right)+\\frac{1}{r^2\\sin \\theta}\\pard{V}{\\phi}}$\n",
    "\n"
   ]
  },
  {
   "attachments": {},
   "cell_type": "markdown",
   "id": "b25518e0",
   "metadata": {},
   "source": [
    "# Potencial elétrico"
   ]
  },
  {
   "attachments": {},
   "cell_type": "markdown",
   "id": "83ee2883",
   "metadata": {},
   "source": [
    "## Trabalho\n",
    "\n",
    "Lembre-se da mecânica, que o trabalho executado por uma força para deslocar algo é o produto da intensidade da força pelo deslocamento realizado. \n",
    "\n",
    "O trabalho $dW$ realizado por uma força elétrica $\\mathbf{F}$ ao longo de um pequeno deslocamento $d\\mathbf{l}$ é:\n",
    "$$\n",
    "dW = -\\mathbf{F} \\cdot d\\mathbf{l} = -q\\mathbf{E}\\cdot d\\mathbf{l}\n",
    "$$\n",
    "\n",
    "<center> <img src='./Figs/Fig4.18.svg'> </center>\n",
    "\n",
    "O trabalho total realizado por essa força para deslocar entre dois pontos $A$ e $B$ é:\n",
    "$$\n",
    "W = -\\int_{A}^{B} q\\mathbf{E}\\cdot d\\mathbf{l}\n",
    "$$\n"
   ]
  },
  {
   "attachments": {},
   "cell_type": "markdown",
   "id": "06a38e14",
   "metadata": {},
   "source": [
    "O potencial elétrico do campo $\\mathbf{E}$ é denotado como o trabalho por unidade de carga deslocada:\n",
    "$$\n",
    "V_{AB} = \\frac{W}{q} = -\\int_{A}^{B} \\mathbf{E}\\cdot d\\mathbf{l}"
   ]
  },
  {
   "attachments": {},
   "cell_type": "markdown",
   "id": "a169eb01",
   "metadata": {},
   "source": [
    "Unidade de potencial elétrico: Joule/Coulomb = Volt. "
   ]
  },
  {
   "attachments": {},
   "cell_type": "markdown",
   "id": "4ee3f512",
   "metadata": {},
   "source": [
    "## Potencial devido uma carga pontual\n",
    "\n",
    "$$\n",
    "\\mathbf{E} = \\frac{Q}{4\\pi \\epsilon_0\\, r^2}\\ar\n",
    "$$\n",
    "\n",
    "Para um caminho radial $d\\mathbf{l} = dr\\,\\ar$\n",
    "\n",
    "$$\n",
    "\\begin{align}\n",
    "    V_{AB} &= -\\int_{r_A}^{r_B}\\frac{Q}{4\\pi \\epsilon_0\\, r^2}\\ar\\,\\cdot dr\\,\\ar\\\\\n",
    "     &= \\frac{Q}{4\\pi \\epsilon_0}\\left(\\frac{1}{r_B}-\\frac{1}{r_A}\\right)\\\\\n",
    "     &= V_B-V_A\n",
    "\\end{align}\n",
    "$$\n"
   ]
  },
  {
   "attachments": {},
   "cell_type": "markdown",
   "id": "64bc6afe",
   "metadata": {},
   "source": [
    "Potencial absoluto\n",
    "$$\n",
    "V= \\frac{Q}{4\\pi \\epsilon_0r}\n",
    "$$\n",
    "\n",
    "Medido em relação a outro ponto no infinito. \n",
    "\n",
    "Potencial é sempre relativo. O potencial em um ponto é a diferença entre esse ponto e outro no qual o potencial é arbitrado como zero. \n",
    "$$\n",
    "    V = -\\int_{\\infty}^r \\mathbf{E}\\cdot d\\mathbf{l}\n",
    "$$"
   ]
  },
  {
   "attachments": {},
   "cell_type": "markdown",
   "id": "713bcf84",
   "metadata": {},
   "source": [
    "**Campo potencial**\n",
    "\n",
    "Para uma carga pontual na posição $\\mathbf{r'}$.\n",
    "\n",
    "$$\n",
    "V(\\mathbf{r}) = \\frac{Q}{4\\pi \\epsilon_0|\\mathbf{r-r'}|}\n",
    "$$"
   ]
  },
  {
   "attachments": {},
   "cell_type": "markdown",
   "id": "5bc8b530",
   "metadata": {},
   "source": [
    "**Potencial devido a um conjunto de cargas discretas**\n",
    "$$\n",
    "V(\\mathbf{r}) = \\frac{1}{4\\pi \\epsilon_0}\\sum_{k=1}^n \\frac{Q_k}{|\\mathbf{r}-\\mathbf{r}_k|}\n",
    "$$"
   ]
  },
  {
   "attachments": {},
   "cell_type": "markdown",
   "id": "0c02ea83",
   "metadata": {},
   "source": [
    "**Potencial devido a distribuições contínuas**\n",
    "$$\n",
    "V(\\mathbf{r}) = \\int \\frac{dQ}{4\\pi\\epsilon_0|\\mathbf{r}-\\mathbf{r'}|}\n",
    "$$"
   ]
  },
  {
   "attachments": {},
   "cell_type": "markdown",
   "id": "f243929e",
   "metadata": {},
   "source": [
    "<center> <img src='./Figs/Ex4.10.svg'> </center>"
   ]
  },
  {
   "cell_type": "code",
   "execution_count": 3,
   "id": "e795d277",
   "metadata": {},
   "outputs": [
    {
     "data": {
      "text/latex": [
       "$\\displaystyle - 6000.0 \\sqrt{6} + 1730.76923076923 \\sqrt{26}$"
      ],
      "text/plain": [
       "-6000.0*sqrt(6) + 1730.76923076923*sqrt(26)"
      ]
     },
     "metadata": {},
     "output_type": "display_data"
    },
    {
     "data": {
      "text/latex": [
       "$\\displaystyle -5872.0$"
      ],
      "text/plain": [
       "-5872."
      ]
     },
     "metadata": {},
     "output_type": "display_data"
    }
   ],
   "source": [
    "import sympy as sp\n",
    "from sympy import pi, log\n",
    "from IPython.display import display\n",
    "from sympy import ImmutableMatrix as Matriz\n",
    "r1 = sp.ImmutableMatrix([2,-1,3])\n",
    "r2 = sp.ImmutableMatrix([0,4,-2])\n",
    "r = sp.ImmutableMatrix([1,0,1])\n",
    "q1 = -4e-6\n",
    "q2 = 5e-6\n",
    "eps0 = 1e-9/(36*pi)\n",
    "V = q1/(4*pi*eps0*(r-r1).norm()) + q2/(4*pi*eps0*(r-r2).norm())\n",
    "display(V)\n",
    "display(V.evalf(4))"
   ]
  },
  {
   "attachments": {},
   "cell_type": "markdown",
   "id": "e3a965ff",
   "metadata": {},
   "source": [
    "<center> <img src='./Figs/Ex4.11.svg'> </center>"
   ]
  },
  {
   "cell_type": "code",
   "execution_count": 13,
   "id": "ad601435",
   "metadata": {},
   "outputs": [],
   "source": [
    "q = 5e-9\n",
    "p_carga = Matriz([-3,4,0])\n",
    "q_linha = 2e-9\n",
    "eps0 = 1e-9/(36*pi)"
   ]
  },
  {
   "cell_type": "code",
   "execution_count": 19,
   "id": "b2e7d15b",
   "metadata": {},
   "outputs": [
    {
     "name": "stdout",
     "output_type": "stream",
     "text": [
      "V_A =  8.477 V\n"
     ]
    }
   ],
   "source": [
    "# (a)\n",
    "Vq = lambda r: q/(4*pi*eps0*r.norm())\n",
    "Vl = lambda r: -q_linha/(2*pi*eps0)*log(r.norm())\n",
    "pO = Matriz([0,0,0])\n",
    "pA = Matriz([5,0,1])\n",
    "pO_linha = Matriz([0,1,1])\n",
    "pA_linha = Matriz([5,1,1])\n",
    "Vo_carga = Vq(pO-p_carga)\n",
    "Va_carga = Vq(pA-p_carga) \n",
    "Vo_linha = Vl(pO-pO_linha)\n",
    "Va_linha = Vl(pA-pA_linha) \n",
    "VO = 0\n",
    "VA = VO + Va_carga - Vo_carga + Va_linha - Vo_linha\n",
    "print('V_A = ', VA.evalf(4), 'V')"
   ]
  },
  {
   "cell_type": "code",
   "execution_count": 21,
   "id": "f91f6fe9",
   "metadata": {},
   "outputs": [
    {
     "name": "stdout",
     "output_type": "stream",
     "text": [
      "Vc =  49.825 V\n"
     ]
    }
   ],
   "source": [
    "# b\n",
    "pB = Matriz([1,2,1])\n",
    "pC = Matriz([-2,5,3])\n",
    "pB_linha = Matriz([1,1,1])\n",
    "pC_linha = Matriz([-2,1,1])\n",
    "Vb_carga = Vq(pB-p_carga)\n",
    "Vc_carga = Vq(pC-p_carga) \n",
    "Vb_linha = Vl(pB-pB_linha)\n",
    "Vc_linha = Vl(pC-pC_linha) \n",
    "Vb = 100\n",
    "Vc = Vb + Vc_carga - Vb_carga + Vc_linha - Vb_linha\n",
    "print('Vc = ', Vc.evalf(5), 'V')"
   ]
  },
  {
   "cell_type": "code",
   "execution_count": 23,
   "id": "e52de6a5",
   "metadata": {},
   "outputs": [
    {
     "name": "stdout",
     "output_type": "stream",
     "text": [
      "Vbc =  -50.175 V\n"
     ]
    }
   ],
   "source": [
    "# c\n",
    "Vbc = Vc - Vb\n",
    "print('Vbc = ', Vbc.evalf(5), 'V')"
   ]
  },
  {
   "attachments": {},
   "cell_type": "markdown",
   "id": "34c7a847",
   "metadata": {},
   "source": [
    "## Campo elétrico e potencial elétrico"
   ]
  },
  {
   "attachments": {},
   "cell_type": "markdown",
   "id": "8c2d5c3d",
   "metadata": {},
   "source": [
    "$V_{AB}=-V_{BA}$: veja a definição, basta trocar os limites de integração."
   ]
  },
  {
   "attachments": {},
   "cell_type": "markdown",
   "id": "cd4378ab",
   "metadata": {},
   "source": [
    "Isso significa que $V_{AB}+V_{BA}=0$. Isso significa que se o caminho começar e terminar no mesmo ponto, o potencial é nulo. Outra forma de escrever isso é:\n",
    "$$\n",
    "    \\oint \\mathbf{E}\\cdot d\\mathbf{l} = 0\n",
    "$$\n",
    "\n",
    "**A integral de linha do campo elétrico em um caminho fechado é zero**"
   ]
  },
  {
   "attachments": {},
   "cell_type": "markdown",
   "id": "c87cf5ce",
   "metadata": {},
   "source": [
    "Aplicando o teorema de Stokes:\n",
    "$$\n",
    "    \\oint \\mathbf{E}\\cdot d\\mathbf{l} = \\int_S (\\rot{E})\\cdot d\\mathbf{S} = 0\n",
    "$$\n",
    "\n",
    "Essa é forma integral da segunda Equação de Maxwell para um campo eletrostático. \n",
    "\n",
    "Isso significa que \n",
    "$$\\rot{E}=\\mathbf{0}$$\n",
    "\n",
    "Essa é a segunda equação de Maxwell, forma diferencial, para o campo elétrostático. "
   ]
  },
  {
   "attachments": {},
   "cell_type": "markdown",
   "id": "136ce39d",
   "metadata": {},
   "source": [
    "Usando a definição:\n",
    "$$\n",
    "V = -\\int \\mathbf{E} \\cdot d\\mathbf{l} = -\\int \\left(E_xdx+E_ydy+E_zdz\\right)\n",
    "$$\n",
    "\n",
    "Usando a definição de integral\n",
    "$$\n",
    "dV = -\\frac{\\partial E_x}{\\partial x}dx -\\frac{\\partial E_y}{\\partial y}dy -\\frac{\\partial E_z}{\\partial z}dz \n",
    "$$\n",
    "\n",
    "Concluimos:\n",
    "$$\n",
    "\\mathbf{E} = -\\grad{V}\n",
    "$$"
   ]
  },
  {
   "attachments": {},
   "cell_type": "markdown",
   "id": "b85d8443",
   "metadata": {},
   "source": [
    "<center> <img src='./Figs/Ex4.12.svg'> </center>"
   ]
  },
  {
   "cell_type": "code",
   "execution_count": null,
   "id": "cf4d32f5",
   "metadata": {},
   "outputs": [],
   "source": [
    "r, theta, phi = sp.symbols(['r', 'theta', 'phi'])\n",
    "V  = 10*sp.sin(theta)*sp.cos(phi)/r**2\n"
   ]
  }
 ],
 "metadata": {
  "kernelspec": {
   "display_name": "Python 3 (ipykernel)",
   "language": "python",
   "name": "python3"
  },
  "language_info": {
   "codemirror_mode": {
    "name": "ipython",
    "version": 3
   },
   "file_extension": ".py",
   "mimetype": "text/x-python",
   "name": "python",
   "nbconvert_exporter": "python",
   "pygments_lexer": "ipython3",
   "version": "3.11.1"
  }
 },
 "nbformat": 4,
 "nbformat_minor": 5
}
