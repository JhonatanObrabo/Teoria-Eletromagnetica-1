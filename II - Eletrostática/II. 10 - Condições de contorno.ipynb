{
 "cells": [
  {
   "attachments": {},
   "cell_type": "markdown",
   "id": "3a85463a",
   "metadata": {
    "tags": []
   },
   "source": [
    "$\\newcommand{\\ax}{\\mathbf{a}_x}$\n",
    "$\\newcommand{\\ay}{\\mathbf{a}_y}$\n",
    "$\\newcommand{\\az}{\\mathbf{a}_z}$\n",
    "$\\newcommand{\\arho}{\\mathbf{a}_\\rho}$\n",
    "$\\newcommand{\\ap}{\\mathbf{a}_\\phi}$\n",
    "$\\newcommand{\\ar}{\\mathbf{a}_r}$\n",
    "$\\newcommand{\\at}{\\mathbf{a}_\\theta}$\n",
    "$\\newcommand{\\grad}[1]{\\nabla #1}$\n",
    "$\\renewcommand{\\div}[1]{\\mathbf{\\nabla} \\cdot \\mathbf{#1}}$\n",
    "$\\newcommand{\\rot}[1]{\\mathbf{\\nabla} \\times \\mathbf{#1}}$\n",
    "$\\newcommand{\\parcial}[2]{\\displaystyle\\frac{\\partial #1}{\\partial #2}}$\n",
    "$\\newcommand{\\pard}[2]{\\displaystyle\\frac{\\partial^2 {#1}}{\\partial {#2}^2}}$\n",
    "$\\newcommand{\\lapcart}[1]{\\pard{#1}{x}+\\pard{#1}{y}+\\pard{#1}{z}}$\n",
    "$\\newcommand{\\lapcili}[1]{\\frac{1}{\\rho}\\parcial{}{\\rho}\\left(\\rho \\parcial{#1}{\\rho}\\right)+\\frac{1}{\\rho^2}\\pard{#1}{\\phi}+\\pard{#1}{z}}$\n",
    "$\\newcommand{\\lapesf}[1]{\\frac{1}{r^2}\\parcial{}{r}\\left(r^2 \\parcial{#1}{r}\\right)+\\frac{1}{r^2\\sin \\theta }\\left(\\sin \\theta \\, \\parcial{#1}{\\theta}\\right)+\\frac{1}{r^2\\sin \\theta}\\pard{V}{\\phi}}$\n",
    "$\\newcommand{\\eps}{\\varepsilon}$\n"
   ]
  },
  {
   "attachments": {},
   "cell_type": "markdown",
   "id": "b25518e0",
   "metadata": {},
   "source": [
    "# Condições de contorno (ou de fronteira)"
   ]
  },
  {
   "attachments": {},
   "cell_type": "markdown",
   "id": "3d3d4e98",
   "metadata": {},
   "source": [
    "Estas são equações que precisamos aplicar quando lidamos com problemas de um campo que atravessa diferentes meios no espaço.\n",
    "\n",
    "Os casos de interesse são quando campo atravessa interfaces:\n",
    "- Dielétrico para dielétrico\n",
    "- Condutor para dielétrico\n",
    "- Condutor para espaço livre"
   ]
  },
  {
   "attachments": {},
   "cell_type": "markdown",
   "id": "bd6894ac",
   "metadata": {},
   "source": [
    "Todas as expressões são deduzidas usando os resultados já conhecidos:\n",
    "$$\n",
    "\\begin{align*}\n",
    "\\oint \\mathbf{E\\cdot} d\\mathbf{l} &= 0\\\\\n",
    "\\oint \\mathbf{D\\cdot} d\\mathbf{S} &= Q_{env}\\\\\n",
    "\\mathbf{E} &= \\mathbf{E}_t+ \\mathbf{E}_n    \n",
    "\\end{align*}\n",
    "$$"
   ]
  },
  {
   "attachments": {},
   "cell_type": "markdown",
   "id": "cb988010",
   "metadata": {},
   "source": [
    "## **Dois dielétricos**"
   ]
  },
  {
   "attachments": {},
   "cell_type": "markdown",
   "id": "e2f83b9f",
   "metadata": {},
   "source": [
    "<center> <img src='./Figs/Fig5.10.svg'> </center>"
   ]
  },
  {
   "attachments": {},
   "cell_type": "markdown",
   "id": "28be5372",
   "metadata": {},
   "source": [
    "$$\n",
    "E_{1t} = E_{2t}\n",
    "$$\n",
    "\n",
    "$$\n",
    "D_{1n} - D_{2n} = \\rho_S\n",
    "$$\n",
    "supondo $\\mathbf{D}$ apontando da região 2 para a região 1. $\\rho_S$ é a densidade de cargas livres. "
   ]
  },
  {
   "attachments": {},
   "cell_type": "markdown",
   "id": "1bc58e43",
   "metadata": {},
   "source": [
    "### Quando não há cargas livres $\\rho_S=0$"
   ]
  },
  {
   "attachments": {},
   "cell_type": "markdown",
   "id": "1a2eb210",
   "metadata": {},
   "source": [
    "$$\n",
    "D_{1n} = D_{2n}\n",
    "$$\n",
    "\n",
    "O fluxo é contínuo de uma região para outra. Consequentemente:\n",
    "$$\n",
    "\\epsilon_1E_{1n} = \\epsilon_2E_{2n}\n",
    "$$"
   ]
  },
  {
   "attachments": {},
   "cell_type": "markdown",
   "id": "8d6c7719",
   "metadata": {},
   "source": [
    "### Refração de campo na fronteira"
   ]
  },
  {
   "attachments": {},
   "cell_type": "markdown",
   "id": "31817472",
   "metadata": {},
   "source": [
    "<center> <img src='./Figs/Fig5.11.svg'> </center>"
   ]
  },
  {
   "attachments": {},
   "cell_type": "markdown",
   "id": "b29f16a2",
   "metadata": {},
   "source": [
    "$$\n",
    "\\frac{\\tan \\theta_1}{\\tan \\theta_2} = \\frac{\\epsilon_{r1}}{\\epsilon_{r2}}\n",
    "$$\n",
    "\n",
    "Interpretação: as linhas de fluxo sofrem um desvio de direção ao atravessar uma fronteira entre dois meios diferentes, em razão da diferença do acúmulo de cargas entre os dielétricos. "
   ]
  },
  {
   "attachments": {},
   "cell_type": "markdown",
   "id": "d185ae9b",
   "metadata": {},
   "source": [
    "## **Condutor-Dielétrico**"
   ]
  },
  {
   "attachments": {},
   "cell_type": "markdown",
   "id": "15addf5c",
   "metadata": {},
   "source": [
    "<center> <img src='./Figs/Fig5.12.svg'> </center>"
   ]
  },
  {
   "attachments": {},
   "cell_type": "markdown",
   "id": "d3f7df7f",
   "metadata": {},
   "source": [
    "No interior do condutor não existe campo elétrico:\n",
    "$$\n",
    "\\rho_v = 0, \\quad \\quad \\mathbf{E=0}\n",
    "$$\n",
    "\n",
    "O condutor é um corpo equipotencial (não há diferença de potencial elétrico no condutor)"
   ]
  },
  {
   "attachments": {},
   "cell_type": "markdown",
   "id": "d02e35b4",
   "metadata": {},
   "source": [
    "O campo externo ao condutor é normal à sua superfície:\n",
    "$$\n",
    "D_t = 0\n",
    "$$\n",
    "e\n",
    "$$\n",
    "D_n = \\rho_S\n",
    "$$"
   ]
  },
  {
   "attachments": {},
   "cell_type": "markdown",
   "id": "fa6e3bcd",
   "metadata": {},
   "source": [
    "### Isolamento eletrostático"
   ]
  },
  {
   "attachments": {},
   "cell_type": "markdown",
   "id": "4f99eb2e",
   "metadata": {},
   "source": [
    "<center> <img src='./Figs/Fig5.13.svg'> </center>"
   ]
  },
  {
   "attachments": {},
   "cell_type": "markdown",
   "id": "d2dff098",
   "metadata": {},
   "source": [
    "Uso de condutores para blindar um corpo no seu interior. "
   ]
  },
  {
   "attachments": {},
   "cell_type": "markdown",
   "id": "2834f7fa",
   "metadata": {},
   "source": [
    "## **Condutor-espaço livre**"
   ]
  },
  {
   "attachments": {},
   "cell_type": "markdown",
   "id": "fbf63b27",
   "metadata": {},
   "source": [
    "<center> <img src='./Figs/Fig5.14.svg'> </center>"
   ]
  },
  {
   "attachments": {},
   "cell_type": "markdown",
   "id": "34926d0d",
   "metadata": {},
   "source": [
    "$$\n",
    "D_t = 0\n",
    "$$\n",
    "e\n",
    "$$\n",
    "D_n = \\rho_S\n",
    "$$"
   ]
  },
  {
   "attachments": {},
   "cell_type": "markdown",
   "id": "7f1d7a50",
   "metadata": {},
   "source": [
    "<center> <img src='./Figs/Ex5.9.svg'> </center>"
   ]
  },
  {
   "attachments": {},
   "cell_type": "markdown",
   "id": "73bde1e7",
   "metadata": {},
   "source": [
    "**Item (a)**\n",
    "\n",
    "O plano é do tipo $z=$ constante, logo a normal ao plano é $\\az$. Sendo o campo $\\mathbf{E} = 5\\ax - 2\\ay + 3\\az$, temos que:\n",
    "$$\n",
    "\\begin{align*}\n",
    "    \\mathbf{E}_{1t} &= 5\\ax - 2 \\ay\\\\\n",
    "    \\mathbf{E}_{1n} &= 3\\az\n",
    "\\end{align*}\n",
    "$$\n"
   ]
  },
  {
   "attachments": {},
   "cell_type": "markdown",
   "id": "27152752",
   "metadata": {},
   "source": [
    "Como são dois dielétricos, temos as condições de fronteira:\n",
    "$$\n",
    "\\begin{align*}\n",
    "E_{1t} &= E_{2t}\\\\\n",
    "D_{1n} - D_{2n} &= \\rho_s\n",
    "\\end{align*}\n",
    "$$"
   ]
  },
  {
   "attachments": {},
   "cell_type": "markdown",
   "id": "ba4a824d",
   "metadata": {},
   "source": [
    "Então, o campo tangencial de \"saída\" é: $\\mathbf{E}_{2t} = \\mathbf{E}_{1t} = 5\\ax - 2\\ay$"
   ]
  },
  {
   "attachments": {},
   "cell_type": "markdown",
   "id": "6d7d6356",
   "metadata": {},
   "source": [
    "O problema não nos dá $\\rho_s$, e como nada é dito sobre a distribuição de carga na interface, só podemos supor que $\\rho_s=0$.  \n",
    "\n",
    "Então, para as componentes normais $D_{1n} = D_{2n}$. Logo:\n",
    "$$\n",
    "\\begin{align*}\n",
    "\\mathbf{D}_{2n} &= \\varepsilon_{r1}\\varepsilon_0 \\mathbf{E}_{1n} = (\\varepsilon_{r1}\\varepsilon_0)3\\az\\\\\n",
    "\\eps_{r2}\\eps_0 \\mathbf{E}_{2n} &= (\\eps_{r1}\\eps_0)3\\az\\\\\n",
    "\\mathbf{E}_{2n} &= 3\\az (\\eps_{r1}/\\eps_{r2}) = 3 (4/3) \\az = 4 \\az\n",
    "\\end{align*}\n",
    "$$"
   ]
  },
  {
   "attachments": {},
   "cell_type": "markdown",
   "id": "c8ac0be4",
   "metadata": {},
   "source": [
    "Logo $\\mathbf{E}_2 = 5\\ax-2\\ay+4\\az$ kV/m"
   ]
  },
  {
   "attachments": {},
   "cell_type": "markdown",
   "id": "ab8fcbea",
   "metadata": {},
   "source": [
    "**Item (b)**"
   ]
  },
  {
   "attachments": {},
   "cell_type": "markdown",
   "id": "ca0f50f0",
   "metadata": {},
   "source": [
    "Ângulo entre $\\mathbf{E}_1$ e a normal $\\az$ (em direção a $z>0$). "
   ]
  },
  {
   "cell_type": "code",
   "execution_count": 1,
   "id": "f7461979",
   "metadata": {},
   "outputs": [],
   "source": [
    "import sympy as sp"
   ]
  },
  {
   "cell_type": "code",
   "execution_count": 17,
   "id": "0271adee",
   "metadata": {},
   "outputs": [
    {
     "data": {
      "text/latex": [
       "$\\displaystyle 60.9$"
      ],
      "text/plain": [
       "60.9"
      ]
     },
     "execution_count": 17,
     "metadata": {},
     "output_type": "execute_result"
    }
   ],
   "source": [
    "E1 = sp.ImmutableMatrix([5,-2,3])*1e3\n",
    "az = sp.ImmutableMatrix([0,0,1])\n",
    "theta1 = sp.acos(E1.dot(az)/(E1.norm()*az.norm()))*180/sp.pi\n",
    "theta1.evalf(3)\n"
   ]
  },
  {
   "attachments": {},
   "cell_type": "markdown",
   "id": "61e89938",
   "metadata": {},
   "source": [
    "Ângulo entre $\\mathbf{E}_2$ e a normal $\\az$ ao plano"
   ]
  },
  {
   "attachments": {},
   "cell_type": "markdown",
   "id": "33098339",
   "metadata": {},
   "source": [
    "$$\n",
    "\\begin{align*}\n",
    "\\frac{\\tan \\theta_2}{\\tan \\theta_1} &= \\frac{\\eps_{r2}}{\\eps_{r1}}\\\\\n",
    "\\tan \\theta_2 &= \\frac{3}{4}\\tan \\theta_1\\\\\n",
    "\\theta_2 &=\\arctan\\left(\\frac{3}{4}\\tan \\theta_1\\right)\n",
    "\\end{align*}\n",
    "$$"
   ]
  },
  {
   "cell_type": "code",
   "execution_count": 18,
   "id": "116cb0a3",
   "metadata": {},
   "outputs": [
    {
     "data": {
      "text/latex": [
       "$\\displaystyle 53.5$"
      ],
      "text/plain": [
       "53.5"
      ]
     },
     "execution_count": 18,
     "metadata": {},
     "output_type": "execute_result"
    }
   ],
   "source": [
    "rad = sp.pi/180\n",
    "grau = 180/sp.pi\n",
    "theta2 = sp.atan(3*sp.tan(61*rad)/4)*grau\n",
    "theta2.evalf(3)\n"
   ]
  },
  {
   "attachments": {},
   "cell_type": "markdown",
   "id": "12d3dd60",
   "metadata": {},
   "source": [
    "Como já conhecemos o campo $\\mathbf{E}_2$ também poderíamos ter calculado direto:"
   ]
  },
  {
   "cell_type": "code",
   "execution_count": 19,
   "id": "57434013",
   "metadata": {},
   "outputs": [
    {
     "data": {
      "text/latex": [
       "$\\displaystyle 53.4$"
      ],
      "text/plain": [
       "53.4"
      ]
     },
     "execution_count": 19,
     "metadata": {},
     "output_type": "execute_result"
    }
   ],
   "source": [
    "E2 = sp.ImmutableMatrix([5,-2,4])*1e3\n",
    "theta2 = sp.acos(E2.dot(az)/(E2.norm()*az.norm()))*grau\n",
    "theta2.evalf(3)"
   ]
  },
  {
   "attachments": {},
   "cell_type": "markdown",
   "id": "90476625",
   "metadata": {},
   "source": [
    "**Item (c)**\n",
    "\n",
    "Densidades de energia: $w = \\frac{1}{2}\\eps |\\mathbf{E}|^2$"
   ]
  },
  {
   "cell_type": "code",
   "execution_count": 38,
   "id": "98f18e1d",
   "metadata": {},
   "outputs": [
    {
     "data": {
      "text/latex": [
       "$\\displaystyle w_1 = 672.0\\quad \\mu J/m^3$"
      ],
      "text/plain": [
       "<IPython.core.display.Math object>"
      ]
     },
     "metadata": {},
     "output_type": "display_data"
    },
    {
     "data": {
      "text/latex": [
       "$\\displaystyle w_2 = 597.0\\quad \\mu J/m^3$"
      ],
      "text/plain": [
       "<IPython.core.display.Math object>"
      ]
     },
     "metadata": {},
     "output_type": "display_data"
    }
   ],
   "source": [
    "e0 = 1e-9/(36*sp.pi)\n",
    "er1 = 4\n",
    "er2 = 3 \n",
    "e1 = er1*e0\n",
    "e2 = er2*e0\n",
    "w1 = e1*E1.norm()**2/2\n",
    "w2 = e2*E2.norm()**2/2\n",
    "from IPython.display import display, Math\n",
    "from sympy import latex\n",
    "display(Math('w_1 = ' +  latex((w1*1e6).evalf(3))  + r'\\quad \\mu J/m^3')) \n",
    "display(Math('w_2 = ' +  latex((w2*1e6).evalf(3))  + r'\\quad \\mu J/m^3')) "
   ]
  },
  {
   "attachments": {},
   "cell_type": "markdown",
   "id": "1df45433",
   "metadata": {},
   "source": [
    "**Item (d)**\n",
    "\n",
    "Como os campos são uniformes, a energia dentro do cubo será $w_1v_1+w_2v_2$, onde $v_1$ e $v_2$ são os volumes nas regiões 1 e 2 respectivamente. Podemos determinar esses volumes por inspeção geométrica. Porém é mais fácil resolver usando integral de volume e definido a densidade de energia por partes "
   ]
  },
  {
   "cell_type": "code",
   "execution_count": 27,
   "id": "fa1781c4",
   "metadata": {},
   "outputs": [
    {
     "data": {
      "text/latex": [
       "$\\displaystyle \\begin{cases} 0.000672 & \\text{for}\\: z > 0 \\\\0.0005968 & \\text{otherwise} \\end{cases}$"
      ],
      "text/plain": [
       "Piecewise((0.000672, z > 0), (0.0005968, True))"
      ]
     },
     "metadata": {},
     "output_type": "display_data"
    }
   ],
   "source": [
    "# Definindo a densidade de energia como uma função por partes\n",
    "x,y,z = sp.symbols(['x', 'y','z'])\n",
    "w = sp.Piecewise((w1.evalf(4),z>0),\n",
    "                 (w2.evalf(4),z<=0))\n",
    "display(w)"
   ]
  },
  {
   "cell_type": "code",
   "execution_count": 36,
   "id": "b7d5025c",
   "metadata": {},
   "outputs": [],
   "source": [
    "# Definindo o cubo agora\n",
    "a = 2 # aresta\n",
    "centro = (3,4,-5)\n",
    "limites = [(x,centro[0]-a/2,centro[0]+a/2), \n",
    "           (y,centro[1]-a/2,centro[1]+a/2), \n",
    "           (z,centro[2]-a/2,centro[2]+a/2)]"
   ]
  },
  {
   "cell_type": "code",
   "execution_count": 37,
   "id": "05ded02a",
   "metadata": {},
   "outputs": [
    {
     "data": {
      "text/latex": [
       "$\\displaystyle W = 4.7746\\quad mJ$"
      ],
      "text/plain": [
       "<IPython.core.display.Math object>"
      ]
     },
     "metadata": {},
     "output_type": "display_data"
    }
   ],
   "source": [
    "# Calculamos a energia como a integral da densidade no volume total\n",
    "W = sp.Integral(w,*limites)\n",
    "display(Math('W = ' + latex((W.doit()*1e3).evalf(5)) + r'\\quad mJ'))"
   ]
  },
  {
   "attachments": {},
   "cell_type": "markdown",
   "id": "ada394ef",
   "metadata": {},
   "source": [
    "Observe que desta forma o computador é que verifica como quebrar a integral. "
   ]
  },
  {
   "attachments": {},
   "cell_type": "markdown",
   "id": "c1bc1d71",
   "metadata": {},
   "source": [
    "<center> <img src='./Figs/Ex5.10.svg'> </center>"
   ]
  },
  {
   "attachments": {},
   "cell_type": "markdown",
   "id": "422684d3",
   "metadata": {},
   "source": [
    "Para uma interface condutor-dielétrico:\n",
    "$$\\begin{align*}\n",
    "    E_t &=0\\\\\n",
    "    D_n &=\\rho_s\n",
    "\\end{align*}$$\n",
    "\n",
    "O que separa os materiais é o plano $y= 0$; quando $y\\geq 0$, estamos dentro do dielétrico."
   ]
  },
  {
   "attachments": {},
   "cell_type": "markdown",
   "id": "622fc493",
   "metadata": {},
   "source": [
    "O ponto $A$ está no condutor. Então $\\mathbf{E = D = 0} $"
   ]
  },
  {
   "attachments": {},
   "cell_type": "markdown",
   "id": "780c7127",
   "metadata": {},
   "source": [
    "O ponto $B$ está no dielétrico. Então $\\mathbf{D}_n = 2\\cdot 10^{-9}\\ay$. Lembre-se que $\\ay$ é normal ao plano de separação. "
   ]
  },
  {
   "attachments": {},
   "cell_type": "markdown",
   "id": "bc8121af",
   "metadata": {},
   "source": [
    "Assim, no dielétrico: $\\mathbf{E}_n = \\mathbf{D}_n/\\eps_1 = 2\\cdot 10^{-9}\\ay/(2\\eps_0)= 36\\pi \\ay \\approx 113,1\\ay$ V/m. "
   ]
  },
  {
   "cell_type": "code",
   "execution_count": null,
   "id": "40ffe21b",
   "metadata": {},
   "outputs": [],
   "source": []
  }
 ],
 "metadata": {
  "kernelspec": {
   "display_name": "Python 3 (ipykernel)",
   "language": "python",
   "name": "python3"
  },
  "language_info": {
   "codemirror_mode": {
    "name": "ipython",
    "version": 3
   },
   "file_extension": ".py",
   "mimetype": "text/x-python",
   "name": "python",
   "nbconvert_exporter": "python",
   "pygments_lexer": "ipython3",
   "version": "3.11.1"
  }
 },
 "nbformat": 4,
 "nbformat_minor": 5
}
