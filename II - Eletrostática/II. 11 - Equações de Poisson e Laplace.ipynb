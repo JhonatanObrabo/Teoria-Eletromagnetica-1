{
 "cells": [
  {
   "attachments": {},
   "cell_type": "markdown",
   "id": "3a85463a",
   "metadata": {
    "tags": []
   },
   "source": [
    "$\\newcommand{\\ax}{\\mathbf{a}_x}$\n",
    "$\\newcommand{\\ay}{\\mathbf{a}_y}$\n",
    "$\\newcommand{\\az}{\\mathbf{a}_z}$\n",
    "$\\newcommand{\\arho}{\\mathbf{a}_\\rho}$\n",
    "$\\newcommand{\\ap}{\\mathbf{a}_\\phi}$\n",
    "$\\newcommand{\\ar}{\\mathbf{a}_r}$\n",
    "$\\newcommand{\\at}{\\mathbf{a}_\\theta}$\n",
    "$\\newcommand{\\grad}[1]{\\nabla #1}$\n",
    "$\\renewcommand{\\div}[1]{\\mathbf{\\nabla} \\cdot \\mathbf{#1}}$\n",
    "$\\newcommand{\\rot}[1]{\\mathbf{\\nabla} \\times \\mathbf{#1}}$\n",
    "$\\newcommand{\\parcial}[2]{\\displaystyle\\frac{\\partial #1}{\\partial #2}}$\n",
    "$\\newcommand{\\pard}[2]{\\displaystyle\\frac{\\partial^2 {#1}}{\\partial {#2}^2}}$\n",
    "$\\newcommand{\\lapcart}[1]{\\pard{#1}{x}+\\pard{#1}{y}+\\pard{#1}{z}}$\n",
    "$\\newcommand{\\lapcili}[1]{\\frac{1}{\\rho}\\parcial{}{\\rho}\\left(\\rho \\parcial{#1}{\\rho}\\right)+\\frac{1}{\\rho^2}\\pard{#1}{\\phi}+\\pard{#1}{z}}$\n",
    "$\\newcommand{\\lapesf}[1]{\\frac{1}{r^2}\\parcial{}{r}\\left(r^2 \\parcial{#1}{r}\\right)+\\frac{1}{r^2\\sin \\theta }\\left(\\sin \\theta \\, \\parcial{#1}{\\theta}\\right)+\\frac{1}{r^2\\sin \\theta}\\pard{V}{\\phi}}$\n",
    "\n"
   ]
  },
  {
   "attachments": {},
   "cell_type": "markdown",
   "id": "b25518e0",
   "metadata": {},
   "source": [
    "# Equações de Poisson e Laplace"
   ]
  },
  {
   "attachments": {},
   "cell_type": "markdown",
   "id": "a8457436",
   "metadata": {},
   "source": [
    "São equações *diferenciais parciais* provenientes das leis de campo elétrostático, para determinarmos o campo potencial elétrico em um problema.\n",
    "\n",
    "O potencial é escolhido por ser uma grandeza física de mais fácil medida."
   ]
  },
  {
   "attachments": {},
   "cell_type": "markdown",
   "id": "b2883d9c",
   "metadata": {},
   "source": [
    "## Equação de Poisson"
   ]
  },
  {
   "attachments": {},
   "cell_type": "markdown",
   "id": "eef185e7",
   "metadata": {},
   "source": [
    "$$\n",
    "\\begin{align*}    \n",
    "    \\div{D} &= \\rho_v\\\\\n",
    "    \\mathbf{D} &= \\epsilon\\,\\mathbf{E}\\\\\n",
    "    \\mathbf{E} &= -\\grad{V}\\\\\n",
    "    \\Rightarrow \\nabla \\cdot{(-\\epsilon\\grad{V})} &= \\rho_v\\\\\n",
    "    \\nabla^2{V} &= \\frac{-\\rho_v}{\\epsilon}\n",
    "\\end{align*}\n",
    "$$"
   ]
  },
  {
   "attachments": {},
   "cell_type": "markdown",
   "id": "356a907b",
   "metadata": {},
   "source": [
    "## Equação de Laplace"
   ]
  },
  {
   "attachments": {},
   "cell_type": "markdown",
   "id": "817e1cfb",
   "metadata": {},
   "source": [
    "É a equação de Poisson quando $\\rho_v=0$\n",
    "$$\n",
    "\\begin{align*}    \n",
    "    \\nabla^2{V} &= 0\n",
    "\\end{align*}\n",
    "$$\n",
    "\n"
   ]
  },
  {
   "attachments": {},
   "cell_type": "markdown",
   "id": "493962a9",
   "metadata": {},
   "source": [
    "## Laplaciano em diferentes sistemas de coordenadas"
   ]
  },
  {
   "attachments": {},
   "cell_type": "markdown",
   "id": "ccb84bc4",
   "metadata": {},
   "source": [
    "Cartesiano:\n",
    "$$\n",
    "\\nabla^2V = \\lapcart{V}\n",
    "$$\n",
    "\n",
    "Cilíndrico:\n",
    "$$\n",
    "\\nabla^2V = \\lapcili{V}\n",
    "$$\n",
    "\n",
    "Esférico:\n",
    "$$\n",
    "\\nabla^2V = \\lapesf{V}\n",
    "$$"
   ]
  },
  {
   "attachments": {},
   "cell_type": "markdown",
   "id": "2e539888",
   "metadata": {},
   "source": [
    "## Teorema da unicidade:\n",
    "\n",
    "Dado um problema e uma condição de fronteira específica, a solução do problema, se puder ser encontrada, é única.\n",
    "\n",
    "Isso é importante devido à natureza das equações diferenciais, cuja solução geral às vezes representa um número infinito de soluções. "
   ]
  },
  {
   "attachments": {},
   "cell_type": "markdown",
   "id": "525ebdd7",
   "metadata": {},
   "source": [
    "## Técnicas de solução\n",
    "\n",
    "- Simplificação + Integração direta\n",
    "- Separação de variáveis\n",
    "- Métodos numéricos"
   ]
  },
  {
   "attachments": {},
   "cell_type": "markdown",
   "id": "4a2b968a",
   "metadata": {},
   "source": [
    "## Alguns exemplos:"
   ]
  },
  {
   "attachments": {},
   "cell_type": "markdown",
   "id": "51ee3049",
   "metadata": {},
   "source": [
    "<center> <img src='./Figs/Ex6.1.svg'> </center>"
   ]
  },
  {
   "cell_type": "code",
   "execution_count": 164,
   "id": "4ff728a0",
   "metadata": {},
   "outputs": [],
   "source": [
    "import sympy as sp\n",
    "from sympy import pi, Function, dsolve, Derivative"
   ]
  },
  {
   "cell_type": "code",
   "execution_count": 165,
   "id": "38fe8669",
   "metadata": {},
   "outputs": [],
   "source": [
    "z = sp.symbols('z')\n",
    "ro = 25e-3\n",
    "Vo = 22e3\n",
    "e0 = 1e-9/(36*pi)\n",
    "eps = sp.symbols(r'\\varepsilon')\n",
    "rho_v = sp.symbols('rho_0')\n",
    "Vo = sp.symbols('V_o')\n",
    "d = sp.symbols('d')\n",
    "V = Function('V')"
   ]
  },
  {
   "cell_type": "code",
   "execution_count": 166,
   "id": "42afc64c",
   "metadata": {},
   "outputs": [
    {
     "data": {
      "text/latex": [
       "$\\displaystyle V_{o} - \\frac{\\rho_{0} z^{2}}{2 \\varepsilon} + \\frac{z \\left(- 2 V_{o} \\varepsilon + d^{2} \\rho_{0}\\right)}{2 \\varepsilon d}$"
      ],
      "text/plain": [
       "V_o - rho_0*z**2/(2*\\varepsilon) + z*(-2*V_o*\\varepsilon + d**2*rho_0)/(2*\\varepsilon*d)"
      ]
     },
     "execution_count": 166,
     "metadata": {},
     "output_type": "execute_result"
    }
   ],
   "source": [
    "sol = dsolve( Derivative(V(z),z,2)+rho_v/eps, \n",
    "             V(z), ics={ V(0):Vo,  V(d):0}  )\n",
    "sol.rhs"
   ]
  },
  {
   "attachments": {},
   "cell_type": "markdown",
   "id": "a94e3548",
   "metadata": {},
   "source": [
    "<center> <img src='./Figs/Ex6.2.svg'> </center>"
   ]
  },
  {
   "cell_type": "code",
   "execution_count": 167,
   "id": "87166be6",
   "metadata": {},
   "outputs": [
    {
     "data": {
      "text/latex": [
       "$\\displaystyle - \\frac{a \\rho_{s} - d \\rho_{s}}{a \\epsilon_{2} - a \\epsilon_{1} - d \\epsilon_{2}}$"
      ],
      "text/plain": [
       "-(a*rho_s - d*rho_s)/(a*epsilon2 - a*epsilon_1 - d*epsilon2)"
      ]
     },
     "execution_count": 167,
     "metadata": {},
     "output_type": "execute_result"
    }
   ],
   "source": [
    "x = sp.symbols('x')\n",
    "A1, B1, A2, B2, d, a = sp.symbols(\"A_1 B_1 A_2 B_2 d a\")\n",
    "rho_s, e1, e2 = sp.symbols(\"rho_s epsilon_1 epsilon2\")\n",
    "V1 = A1*x+B1\n",
    "V2 = A2*x+B2\n",
    "eq1 = sp.Eq(0,V1.subs(x,d))\n",
    "eq2 = sp.Eq(0,V2.subs(x,0))\n",
    "eq3 = sp.Eq(V1.subs(x,a),V2.subs(x,a))\n",
    "eq4 = sp.Eq(rho_s, -e1*Derivative(V1,x).doit().subs(x,a)+\n",
    "            e2*Derivative(V2,x).doit().subs(x,a))\n",
    "sis = [eq1,eq2,eq3,eq4]\n",
    "sol = sp.solve(sis,[A1,A2,B1,B2])\n",
    "-Derivative(V2.subs(sol),x).doit()"
   ]
  },
  {
   "attachments": {},
   "cell_type": "markdown",
   "id": "2be6935d",
   "metadata": {},
   "source": [
    "<center> <img src='./Figs/Ex6.3.svg'> </center>"
   ]
  },
  {
   "attachments": {},
   "cell_type": "markdown",
   "id": "1fcbfe3b",
   "metadata": {},
   "source": [
    "Pelas condições do exemplo 6.3, o potencial só depende de $\\phi$, isto é $V = V(\\phi)$.\n",
    "\n",
    "Não temos distribuiçõs de carga, logo $\\rho_v=0$. A equação a resolver é a de Laplace.\n",
    "\n",
    "Em coordenadas cilíndricas o Laplaciano vai ser:\n",
    "$$\n",
    "    \\frac{1}{\\rho^2}\\frac{\\partial^2 V}{\\partial \\phi^2} = 0\n",
    "$$\n",
    "\n",
    "Devemos supor que $\\rho\\neq 0$, pois o problema diz que os planos são separados por uma fenda. Assim a equação simplifica para:\n",
    "$$\n",
    "    \\frac{d^2 V}{d \\phi^2} = 0\n",
    "$$\n",
    "\n",
    "As condições de contorno são: $V(0) = 0$ e $V(\\phi/6)=100 V$. \n",
    "\n",
    "A solução já vimos:\n",
    "$$\n",
    "    V(\\phi) = C_1 \\phi + C_2\n",
    "$$\n",
    "\n",
    "Podemos resolver diretamente com *dsolve*"
   ]
  },
  {
   "cell_type": "code",
   "execution_count": 168,
   "id": "9646980a",
   "metadata": {},
   "outputs": [
    {
     "data": {
      "text/latex": [
       "$\\displaystyle V{\\left(\\phi \\right)} = \\frac{600 \\phi}{\\pi}$"
      ],
      "text/plain": [
       "Eq(V(phi), 600*phi/pi)"
      ]
     },
     "execution_count": 168,
     "metadata": {},
     "output_type": "execute_result"
    }
   ],
   "source": [
    "rho, phi, z = sp.symbols('rho phi z')\n",
    "sol = dsolve( Derivative(V(phi), phi, 2), ics= {V(0): 0, V(pi/6):100})\n",
    "sol"
   ]
  },
  {
   "attachments": {},
   "cell_type": "markdown",
   "id": "72e7d45e",
   "metadata": {},
   "source": [
    "Para achar o campo, usamos $\\mathbf{E}=-\\nabla V$, com o operador del em coordenadas cilíndricas. "
   ]
  },
  {
   "cell_type": "code",
   "execution_count": 169,
   "id": "f84c57d6",
   "metadata": {},
   "outputs": [
    {
     "data": {
      "text/latex": [
       "$\\displaystyle \\left[\\begin{matrix}0\\\\- \\frac{600}{\\pi \\rho}\\\\0\\end{matrix}\\right]$"
      ],
      "text/plain": [
       "Matrix([\n",
       "[            0],\n",
       "[-600/(pi*rho)],\n",
       "[            0]])"
      ]
     },
     "metadata": {},
     "output_type": "display_data"
    }
   ],
   "source": [
    "def grad_cili(V):\n",
    "    return sp.Matrix([sp.diff(V,rho), \n",
    "                      (1/rho)* sp.diff(V,phi), \n",
    "                      sp.diff(V,z)])\n",
    "\n",
    "E = -grad_cili(sol.rhs)\n",
    "display(E)    "
   ]
  },
  {
   "attachments": {},
   "cell_type": "markdown",
   "id": "adf3fa21",
   "metadata": {},
   "source": [
    "<center> <img src='./Figs/Ex6.4.svg'> </center>"
   ]
  },
  {
   "attachments": {},
   "cell_type": "markdown",
   "id": "674705fb",
   "metadata": {},
   "source": [
    "Esse é um problema que podemos simplificar para uma dimensão também. No caso, a variação é cônica, que em coordenadas esféricas podemos trabalhar com $V = V(\\theta)$. Não há cargas livres, então novamente temos a equação de Laplace. As condições de contorno são $V(\\pi/10)=0$ e $V(\\pi/6)=50 V$."
   ]
  },
  {
   "attachments": {},
   "cell_type": "markdown",
   "id": "9cfeaa7c",
   "metadata": {},
   "source": [
    "Usando coordenadas esféricas, focando apenas na parcela que depende de $\\theta$, o laplaciano fica:\n",
    "\n",
    "$$\n",
    "    \\frac{1}{r^2 \\sin \\theta} \\frac{d}{d\\theta} \\left(\\sin \\theta \\frac{dV}{d \\theta}\\right) = 0\n",
    "$$"
   ]
  },
  {
   "attachments": {},
   "cell_type": "markdown",
   "id": "2c709b11",
   "metadata": {},
   "source": [
    "As condições do problema excluem $r = 0$ e $\\sin \\theta = 0$, logo podemos simplificar:\n",
    "$$\n",
    "    \\frac{d}{d\\theta} \\left(\\sin \\theta \\frac{dV}{d \\theta}\\right) = 0\n",
    "$$\n"
   ]
  },
  {
   "attachments": {},
   "cell_type": "markdown",
   "id": "9a49bbea",
   "metadata": {},
   "source": [
    "Resolvendo:\n",
    "$$\\begin{align}\n",
    "    \\sin \\theta \\,\\frac{dV}{d\\theta} &= C_1\\\\\n",
    "    \\frac{dV}{d\\theta} &= \\frac{C_1}{\\sin \\theta}\\\\\n",
    "    V &= \\int \\frac{C_1\\, d\\theta}{\\sin \\theta}\n",
    "\\end{align}$$"
   ]
  },
  {
   "attachments": {},
   "cell_type": "markdown",
   "id": "e973b1a8",
   "metadata": {},
   "source": [
    "A última integral pode ser resolvida por substituição. O resultado é:"
   ]
  },
  {
   "cell_type": "code",
   "execution_count": 170,
   "id": "3dfe9c62",
   "metadata": {},
   "outputs": [
    {
     "data": {
      "text/latex": [
       "$\\displaystyle V{\\left(\\theta \\right)} = 47.55 \\log{\\left(\\cos{\\left(\\theta \\right)} - 1 \\right)} - 47.55 \\log{\\left(\\cos{\\left(\\theta \\right)} + 1 \\right)} + 175.2 - 149.4 i$"
      ],
      "text/plain": [
       "Eq(V(theta), 47.55*log(cos(theta) - 1) - 47.55*log(cos(theta) + 1) + 175.2 - 149.4*I)"
      ]
     },
     "execution_count": 170,
     "metadata": {},
     "output_type": "execute_result"
    }
   ],
   "source": [
    "V = Function('V')\n",
    "theta = sp.symbols('theta')\n",
    "sol = dsolve(Derivative(sp.sin(theta)*Derivative(V(theta),theta),theta),ics={V(pi/10):0,V(pi/6):50})\n",
    "sol.evalf(4)"
   ]
  },
  {
   "cell_type": "code",
   "execution_count": 171,
   "id": "b61d277a",
   "metadata": {},
   "outputs": [
    {
     "data": {
      "text/latex": [
       "$\\displaystyle \\int \\frac{1}{\\sin{\\left(\\theta \\right)}}\\, d\\theta = \\frac{\\log{\\left(\\cos{\\left(\\theta \\right)} - 1 \\right)}}{2} - \\frac{\\log{\\left(\\cos{\\left(\\theta \\right)} + 1 \\right)}}{2}$"
      ],
      "text/plain": [
       "Eq(Integral(1/sin(theta), theta), log(cos(theta) - 1)/2 - log(cos(theta) + 1)/2)"
      ]
     },
     "execution_count": 171,
     "metadata": {},
     "output_type": "execute_result"
    }
   ],
   "source": [
    "r, theta, phi = sp.symbols('r theta phi', real=True)\n",
    "sp.Eq(sp.Integral(1/sp.sin(theta)),\n",
    "       sp.integrate(1/sp.sin(theta)))"
   ]
  },
  {
   "attachments": {},
   "cell_type": "markdown",
   "id": "2bf3a141",
   "metadata": {},
   "source": [
    "Esse resultado difere um pouco do que está no livro. Precisamos ter cuidado com ele, pois não queremos resultados complexos que a função log pode dar, caso o argumento seja negativo. Da forma como está escrito, ela vai resultar em valores imaginários.\n",
    "\n",
    "Para evitar isso, temos que lembrar que o log resultante de integrais deve ter o argumento modulado. Assim, o correto no resultado acima, deveria ser:"
   ]
  },
  {
   "attachments": {},
   "cell_type": "markdown",
   "id": "873a818c",
   "metadata": {},
   "source": [
    "\n",
    "$$\n",
    "    V(\\theta) = \\frac{C_1}{2}\\, \\log\\left|\\frac{\\cos \\theta -1}{\\cos \\theta +1}\\right| + C_2\n",
    "$$"
   ]
  },
  {
   "attachments": {},
   "cell_type": "markdown",
   "id": "56418620",
   "metadata": {},
   "source": [
    "No entanto, como em coordenadas esféricas $0< \\theta < \\pi$, então podemos escrever seguramente:\n",
    "$$\n",
    "    V(\\theta) = \\frac{C_1}{2}\\, \\log\\left(\\frac{1-\\cos \\theta}{\\cos \\theta +1}\\right) + C_2\n",
    "$$"
   ]
  },
  {
   "attachments": {},
   "cell_type": "markdown",
   "id": "d53468d1",
   "metadata": {},
   "source": [
    "Com isso podemos resolver $C_1$ e $C_2$. Observação: utilizar diretamente o dsolve obtemos problema, haja vista que o sympy falha em reconhecer a transformação acima e acaba fornecendo valores complexos para o potencial. "
   ]
  },
  {
   "cell_type": "code",
   "execution_count": 172,
   "id": "2803e39f",
   "metadata": {},
   "outputs": [
    {
     "data": {
      "text/latex": [
       "$\\displaystyle \\frac{C_{1} \\log{\\left(\\left|{\\frac{\\cos{\\left(\\theta \\right)} - 1}{\\cos{\\left(\\theta \\right)} + 1}}\\right| \\right)}}{2} + C_{2}$"
      ],
      "text/plain": [
       "C_1*log(Abs((cos(theta) - 1)/(cos(theta) + 1)))/2 + C_2"
      ]
     },
     "execution_count": 172,
     "metadata": {},
     "output_type": "execute_result"
    }
   ],
   "source": [
    "from sympy import log, cos, sin, Eq\n",
    "C1, C2 = sp.symbols('C_1 C_2')\n",
    "V = (C1/2)*log(abs((1-cos(theta))/(cos(theta)+1)))+C2\n",
    "V"
   ]
  },
  {
   "cell_type": "code",
   "execution_count": 173,
   "id": "b402ce8a",
   "metadata": {},
   "outputs": [
    {
     "data": {
      "text/latex": [
       "$\\displaystyle \\frac{C_{1} \\log{\\left(\\frac{1 - \\sqrt{\\frac{\\sqrt{5}}{8} + \\frac{5}{8}}}{\\sqrt{\\frac{\\sqrt{5}}{8} + \\frac{5}{8}} + 1} \\right)}}{2} + C_{2} = 0$"
      ],
      "text/plain": [
       "Eq(C_1*log((1 - sqrt(sqrt(5)/8 + 5/8))/(sqrt(sqrt(5)/8 + 5/8) + 1))/2 + C_2, 0)"
      ]
     },
     "metadata": {},
     "output_type": "display_data"
    },
    {
     "data": {
      "text/latex": [
       "$\\displaystyle \\frac{C_{1} \\log{\\left(\\frac{1 - \\frac{\\sqrt{3}}{2}}{\\frac{\\sqrt{3}}{2} + 1} \\right)}}{2} + C_{2} = 50$"
      ],
      "text/plain": [
       "Eq(C_1*log((1 - sqrt(3)/2)/(sqrt(3)/2 + 1))/2 + C_2, 50)"
      ]
     },
     "metadata": {},
     "output_type": "display_data"
    },
    {
     "data": {
      "text/latex": [
       "$\\displaystyle 47.55 \\log{\\left(\\left|{\\frac{\\cos{\\left(\\theta \\right)} - 1}{\\cos{\\left(\\theta \\right)} + 1}}\\right| \\right)} + 175.2$"
      ],
      "text/plain": [
       "47.55*log(Abs((cos(theta) - 1)/(cos(theta) + 1))) + 175.2"
      ]
     },
     "execution_count": 173,
     "metadata": {},
     "output_type": "execute_result"
    }
   ],
   "source": [
    "eq1 = Eq(V.subs(theta,pi/10),0)\n",
    "eq2 = Eq(V.subs(theta,pi/6),50)\n",
    "display(eq1)\n",
    "display(eq2)\n",
    "sol = sp.solve([eq1, eq2])\n",
    "V = V.subs(sol)\n",
    "# Notar que o resultado exato é extenso. Use evalf() para encurtar\n",
    "V.evalf(4)"
   ]
  },
  {
   "cell_type": "code",
   "execution_count": 174,
   "id": "777feeb8",
   "metadata": {},
   "outputs": [
    {
     "data": {
      "text/latex": [
       "$\\displaystyle \\left[\\begin{matrix}0\\\\\\begin{cases} 0 & \\text{for}\\: \\frac{\\cos{\\left(\\theta \\right)} - 1}{\\cos{\\left(\\theta \\right)} + 1} = 0 \\\\\\frac{95.1 \\sin{\\left(\\theta \\right)} - 47.55 \\sin{\\left(2 \\theta \\right)}}{r \\left(\\cos{\\left(\\theta \\right)} + 1\\right)^{3} \\left|{\\frac{\\cos{\\left(\\theta \\right)} - 1}{\\cos{\\left(\\theta \\right)} + 1}}\\right|^{2}} & \\text{otherwise} \\end{cases}\\\\0\\end{matrix}\\right]$"
      ],
      "text/plain": [
       "Matrix([\n",
       "[                                                                                                                                                                         0],\n",
       "[Piecewise((0, Eq((cos(theta) - 1)/(cos(theta) + 1), 0)), ((95.1*sin(theta) - 47.55*sin(2*theta))/(r*(cos(theta) + 1)**3*Abs((cos(theta) - 1)/(cos(theta) + 1))**2), True))],\n",
       "[                                                                                                                                                                         0]])"
      ]
     },
     "metadata": {},
     "output_type": "display_data"
    }
   ],
   "source": [
    "# Para o campo, basta calcular agora o gradiente\n",
    "def grad_esf(V):\n",
    "    return sp.Matrix([sp.diff(V,r), \n",
    "                      (1/r)* sp.diff(V,theta), \n",
    "                      (1/(r*sin(theta)))*sp.diff(V,phi)])\n",
    "\n",
    "E = grad_esf(V).evalf(4)\n",
    "# Este último passo é necessário para simplificar as expressões trigonométricas\n",
    "E = sp.ImmutableMatrix([e.simplify() for e in E])\n",
    "display(E)"
   ]
  },
  {
   "attachments": {},
   "cell_type": "markdown",
   "id": "d6d3f030",
   "metadata": {},
   "source": [
    "<center> <img src='./Figs/Ex6.5.svg'> </center>"
   ]
  },
  {
   "attachments": {},
   "cell_type": "markdown",
   "id": "fc4cf5d8",
   "metadata": {},
   "source": [
    "Esse é um problema dimensional. Pelas condições do problema, deve ficar evidente que precisamos resolver a equação de Laplace para $V(x,y)$, com as condições de fronteira:\n",
    "\n",
    "$$\n",
    "\\begin{align}\n",
    "    V(0,y) &= 0\\\\\n",
    "    V(b,y) & =0\\\\\n",
    "    V(x,0) &= 0\\\\\n",
    "    V(x,a) & = V_o = 100\n",
    "\\end{align}\n",
    "$$\n",
    "onde $0<x<b$, $0<y<a$. "
   ]
  },
  {
   "attachments": {},
   "cell_type": "markdown",
   "id": "d959e207",
   "metadata": {},
   "source": [
    "A equação de Laplace é:\n",
    "$$\n",
    "    \\frac{\\partial^2 V}{\\partial x^2} + \\frac{\\partial^2 V}{\\partial y^2} = 0\n",
    "$$"
   ]
  },
  {
   "attachments": {},
   "cell_type": "markdown",
   "id": "8aa4e133",
   "metadata": {},
   "source": [
    "Resolvemos esse tipo de problema propondo uma função separável $V(x,y)=F(x)G(y)$. \n",
    "\n",
    "Ao fazer isso concluímos que as funções $F$ e $G$ devem satisfazer as equações ordinárias:\n",
    "$$\n",
    "    \\frac{d^2 F}{dx^2}= -\\lambda F(x)\n",
    "$$\n",
    "e\n",
    "$$\n",
    "    \\frac{d^2 G}{dy^2}= \\lambda G(y)\n",
    "$$"
   ]
  },
  {
   "attachments": {},
   "cell_type": "markdown",
   "id": "419be82f",
   "metadata": {},
   "source": [
    "Onde $\\lambda$ é uma constante. O livro faz uma análise bem detalhada das possibilidades para $\\lambda$ e chega a conclusão que a única de interesse é $\\lambda = \\beta^2$ um número real positivo. \n",
    "\n",
    "Aplicação das condições de fronteira mostram que $\\beta = \\frac{n\\pi}{b}$, onde $n$ é um inteiro, o que resulta:\n",
    "$$\n",
    "    F_n(x) = a_n\\, \\sin \\frac{n\\pi x}{b}\n",
    "$$"
   ]
  },
  {
   "attachments": {},
   "cell_type": "markdown",
   "id": "a684ee22",
   "metadata": {},
   "source": [
    "Utilizando o valor de $\\beta$ e as condições de fronteira na equação para $G(y)$, resulta:\n",
    "$$\n",
    "    G_n(y) = b_n \\sinh\\frac{n\\pi y}{b}\n",
    "$$ "
   ]
  },
  {
   "attachments": {},
   "cell_type": "markdown",
   "id": "3234682d",
   "metadata": {},
   "source": [
    "Assim a solução do potencial é:\n",
    "$$\n",
    "    V_n(x,y) = c_n \\sin\\left(\\frac{n\\pi x}{b}\\right)\\sinh\\left(\\frac{n\\pi y}{b}\\right)\n",
    "$$"
   ]
  },
  {
   "attachments": {},
   "cell_type": "markdown",
   "id": "409575a3",
   "metadata": {},
   "source": [
    "Note que usamos o índice $n$ porque para cada $n$ diferente, temos um $\\beta$ diferente, que produz uma função $V_n$ diferente. \n",
    "\n",
    "Como a equação é linear, ela obedece ao princípio da superposição. Dessa maneira, a solução geral da equação é uma combinação linear de cada uma dessas soluções de índice $n$. \n",
    "\n",
    "$$\n",
    "    V(x,y) = \\sum_{n=1}^\\infty c_n \\sin\\left(\\frac{n\\pi x}{b}\\right)\\sinh\\left(\\frac{n\\pi y}{b}\\right)\n",
    "$$"
   ]
  },
  {
   "attachments": {},
   "cell_type": "markdown",
   "id": "c1eee14b",
   "metadata": {},
   "source": [
    "Para finalizar, precisamos determinar as constantes $c_n$. Usando as condições de fronteira em $y$, temos que:\n",
    "$$\n",
    "    V(x,a) = \\sum_{n=1}^\\infty c_n \\sin\\left(\\frac{n\\pi x}{b}\\right)\\sinh\\left(\\frac{n\\pi a}{b}\\right)\n",
    "$$\n",
    "\n",
    "Vemos que $c_n\\sinh\\left(\\frac{n\\pi a}{b}\\right)$ são os coeficientes da série Fourier seno da funçÃo $V(x,a)$, considerando um intervalo $0<x<b$. Então: \n",
    "$$\n",
    "    c_n\\sinh\\left(\\frac{n\\pi a}{b}\\right) = \\frac{2}{b} \\int_{0}^b V(x,a) \\sin\\left(\\frac{n\\pi x}{b}\\right)\\,dx\n",
    "$$"
   ]
  },
  {
   "attachments": {},
   "cell_type": "markdown",
   "id": "518a8f23",
   "metadata": {},
   "source": [
    "Logo:\n",
    "$$\n",
    "    c_n = \\frac{2}{b\\,\\sinh\\left(\\frac{n\\pi a}{b}\\right)}\\int_{0}^b V(x,a) \\sin\\left(\\frac{n\\pi x}{b}\\right)\\,dx\n",
    "$$"
   ]
  },
  {
   "attachments": {},
   "cell_type": "markdown",
   "id": "3cf6e305",
   "metadata": {},
   "source": [
    "Então, no nosso caso presente, basta resolver a integral de Fourier para a função $V(x,a)$ dada, que é apenas uma constante. \n",
    "\n",
    "Antes de finalizar, é importante consolidar o procedimento todo. Você não precisa resolver tudo novamente! Dada uma equação de Laplace  com a geometria fornecida, basta calcular $c_n$ e substituir na expressão geral. Note porém, que isso só vale para as condições de fronteira constantes fornecidas no problema. "
   ]
  },
  {
   "attachments": {},
   "cell_type": "markdown",
   "id": "2fc3b0b2",
   "metadata": {},
   "source": [
    "Para o problema em questão $V(x,a)=V_o = 100$"
   ]
  },
  {
   "cell_type": "code",
   "execution_count": 175,
   "id": "022d3e22",
   "metadata": {},
   "outputs": [
    {
     "data": {
      "text/latex": [
       "$\\displaystyle c_n = \\frac{2 \\int\\limits_{0}^{b} V_{o} \\sin{\\left(\\frac{\\pi n x}{b} \\right)}\\, dx}{b \\sinh{\\left(\\frac{\\pi a n}{b} \\right)}}= \\frac{2 \\left(- \\frac{\\left(-1\\right)^{n} V_{o} b}{\\pi n} + \\frac{V_{o} b}{\\pi n}\\right)}{b \\sinh{\\left(\\frac{\\pi a n}{b} \\right)}}$"
      ],
      "text/plain": [
       "<IPython.core.display.Math object>"
      ]
     },
     "metadata": {},
     "output_type": "display_data"
    }
   ],
   "source": [
    "from sympy import symbols, pi, sinh, sin, pi, Integral, latex\n",
    "from IPython.display import display, Math\n",
    "x = symbols('x')\n",
    "a, b, Vo= symbols('a b V_o', positive = True)\n",
    "n = symbols('n', integer = True, positive=True)\n",
    "cn  = (2/(b*sinh(n*pi*a/b))) * Integral(Vo * sin(n*pi*x/b), (x,0,b))\n",
    "display(Math('c_n = ' + latex(cn) + '= ' + latex(cn.doit())))"
   ]
  },
  {
   "cell_type": "code",
   "execution_count": 176,
   "id": "95bbd3f5",
   "metadata": {},
   "outputs": [
    {
     "data": {
      "text/latex": [
       "$\\displaystyle \\frac{4 V_{o}}{\\pi \\left(2 k + 1\\right) \\sinh{\\left(\\frac{\\pi a \\left(2 k + 1\\right)}{b} \\right)}}$"
      ],
      "text/plain": [
       "4*V_o/(pi*(2*k + 1)*sinh(pi*a*(2*k + 1)/b))"
      ]
     },
     "execution_count": 176,
     "metadata": {},
     "output_type": "execute_result"
    }
   ],
   "source": [
    "k = symbols('k', integer = True)\n",
    "cn = cn.doit()\n",
    "(cn.subs(n,2*k+1))"
   ]
  },
  {
   "cell_type": "code",
   "execution_count": 177,
   "id": "19aa1e25",
   "metadata": {},
   "outputs": [],
   "source": [
    "import sympy as sp\n",
    "y, N = symbols('y N')"
   ]
  },
  {
   "cell_type": "code",
   "execution_count": 178,
   "id": "db792568",
   "metadata": {},
   "outputs": [
    {
     "data": {
      "text/latex": [
       "$\\displaystyle V(x,y) = \\sum_{n=1}^{N} \\frac{2 \\left(- \\frac{\\left(-1\\right)^{n} V_{o} b}{\\pi n} + \\frac{V_{o} b}{\\pi n}\\right) \\sin{\\left(\\frac{\\pi n x}{b} \\right)} \\sinh{\\left(\\frac{\\pi n y}{b} \\right)}}{b \\sinh{\\left(\\frac{\\pi a n}{b} \\right)}}$"
      ],
      "text/plain": [
       "<IPython.core.display.Math object>"
      ]
     },
     "metadata": {},
     "output_type": "display_data"
    },
    {
     "data": {
      "text/latex": [
       "$\\displaystyle V(x,y) = \\frac{2 \\cdot \\left(\\frac{2 V_{o} b \\sin{\\left(\\frac{\\pi x}{b} \\right)} \\sinh{\\left(\\frac{\\pi y}{b} \\right)}}{\\pi \\sinh{\\left(\\frac{\\pi a}{b} \\right)}} + \\frac{2 V_{o} b \\sin{\\left(\\frac{3 \\pi x}{b} \\right)} \\sinh{\\left(\\frac{3 \\pi y}{b} \\right)}}{3 \\pi \\sinh{\\left(\\frac{3 \\pi a}{b} \\right)}} + \\frac{2 V_{o} b \\sin{\\left(\\frac{5 \\pi x}{b} \\right)} \\sinh{\\left(\\frac{5 \\pi y}{b} \\right)}}{5 \\pi \\sinh{\\left(\\frac{5 \\pi a}{b} \\right)}}\\right)}{b}$"
      ],
      "text/plain": [
       "<IPython.core.display.Math object>"
      ]
     },
     "metadata": {},
     "output_type": "display_data"
    }
   ],
   "source": [
    "V = sp.Sum(cn*sin(n*pi*x/b)*sinh(n*pi*y/b), (n,1,N))\n",
    "display(Math('V(x,y) = ' + latex(V)))\n",
    "display(Math('V(x,y) = ' + latex(V.subs(N,5).doit())))"
   ]
  },
  {
   "attachments": {},
   "cell_type": "markdown",
   "id": "2e43f516",
   "metadata": {},
   "source": [
    "Note que a solução não é \"fácil\" de entender, mas podemos usá-la para calcular $V$ em qualquer ponto que quisermos. "
   ]
  },
  {
   "attachments": {},
   "cell_type": "markdown",
   "id": "df21b1ef",
   "metadata": {},
   "source": [
    "Para o item (b), queremos determinar $V(a/2, 3a/4)$ quando $b=2a$.  "
   ]
  },
  {
   "cell_type": "code",
   "execution_count": 179,
   "id": "b73c5d88",
   "metadata": {},
   "outputs": [
    {
     "data": {
      "text/latex": [
       "$\\displaystyle \\frac{2 V_{o} \\sum_{n=1}^{N} \\frac{\\left(1 - \\left(-1\\right)^{n}\\right) \\sin{\\left(\\frac{\\pi n}{4} \\right)} \\sinh{\\left(\\frac{3 \\pi n}{8} \\right)}}{n \\sinh{\\left(\\frac{\\pi n}{2} \\right)}}}{\\pi}$"
      ],
      "text/plain": [
       "2*V_o*Sum((1 - (-1)**n)*sin(pi*n/4)*sinh(3*pi*n/8)/(n*sinh(pi*n/2)), (n, 1, N))/pi"
      ]
     },
     "metadata": {},
     "output_type": "display_data"
    }
   ],
   "source": [
    "Vxy = V.subs([(b,2*a),(x,a/2),(y,3*a/4)]).simplify()\n",
    "display(Vxy)"
   ]
  },
  {
   "attachments": {},
   "cell_type": "markdown",
   "id": "a0bf7e8d",
   "metadata": {},
   "source": [
    "Podemos avaliar $V$ com quantos termos quisermos, quanto mais termos mais preciso é o resultado. Porém, há um momento que adicionar novos termos não melhora o resultado."
   ]
  },
  {
   "cell_type": "code",
   "execution_count": 180,
   "id": "3843dbce",
   "metadata": {},
   "outputs": [
    {
     "data": {
      "text/latex": [
       "$\\displaystyle 0.6675 V_{o}$"
      ],
      "text/plain": [
       "0.6675*V_o"
      ]
     },
     "metadata": {},
     "output_type": "display_data"
    },
    {
     "data": {
      "text/latex": [
       "$\\displaystyle 0.634 V_{o}$"
      ],
      "text/plain": [
       "0.634*V_o"
      ]
     },
     "metadata": {},
     "output_type": "display_data"
    },
    {
     "data": {
      "text/latex": [
       "$\\displaystyle 0.6376 V_{o}$"
      ],
      "text/plain": [
       "0.6376*V_o"
      ]
     },
     "metadata": {},
     "output_type": "display_data"
    },
    {
     "data": {
      "text/latex": [
       "$\\displaystyle 0.6375 V_{o}$"
      ],
      "text/plain": [
       "0.6375*V_o"
      ]
     },
     "metadata": {},
     "output_type": "display_data"
    }
   ],
   "source": [
    "display(Vxy.subs(N,3).doit().evalf(4))\n",
    "display(Vxy.subs(N,7).doit().evalf(4))\n",
    "display(Vxy.subs(N,13).doit().evalf(4))\n",
    "display(Vxy.subs(N,23).doit().evalf(4))"
   ]
  },
  {
   "attachments": {},
   "cell_type": "markdown",
   "id": "301608a4",
   "metadata": {},
   "source": [
    "Podemos visualizar melhor funções de duas variáveis usando gráficos de superfície ou de contorno. A seguir segue um código que permite construir esse tipo de gráfico."
   ]
  },
  {
   "cell_type": "code",
   "execution_count": 181,
   "id": "d6f116d4",
   "metadata": {},
   "outputs": [],
   "source": [
    "fV = V.subs([(a,1),(b,1),(Vo,100),(N,17)]).doit().evalf()\n",
    "Vxy = sp.lambdify((x,y),fV)"
   ]
  },
  {
   "cell_type": "code",
   "execution_count": 182,
   "id": "553ee914",
   "metadata": {},
   "outputs": [
    {
     "data": {
      "image/png": "[encoded data removed]",
      "text/plain": [
       "<Figure size 640x480 with 2 Axes>"
      ]
     },
     "metadata": {},
     "output_type": "display_data"
    }
   ],
   "source": [
    "from numpy import meshgrid, linspace\n",
    "xx = linspace(0,1,50)\n",
    "yy = linspace(0,1,50)\n",
    "[X,Y] = meshgrid(xx,yy)\n",
    "VV = Vxy(X,Y)\n",
    "from matplotlib.pyplot import contour\n",
    "from matplotlib import pyplot as plt\n",
    "plt.contourf(X,Y,VV,levels=20)\n",
    "plt.xlabel('x (m)')\n",
    "plt.ylabel('y (m)')\n",
    "plt.colorbar()\n",
    "plt.show()"
   ]
  },
  {
   "attachments": {},
   "cell_type": "markdown",
   "id": "c19698d6",
   "metadata": {},
   "source": [
    "<center> <img src='./Figs/Ex6.6.svg'> </center>"
   ]
  },
  {
   "attachments": {},
   "cell_type": "markdown",
   "id": "40eccda6",
   "metadata": {},
   "source": [
    "Neste caso, a condição de contorno mudou para $V(x,a) = V_o(x)$. Só utilizamos essa informação no final, para determinar os coeficientes $c_n$. Então:"
   ]
  },
  {
   "cell_type": "code",
   "execution_count": 183,
   "id": "d92f7cf2",
   "metadata": {},
   "outputs": [
    {
     "data": {
      "text/latex": [
       "$\\displaystyle V(x,y) = \\sum_{n=1}^{N} c{\\left(n \\right)} \\sin{\\left(\\frac{\\pi n x}{b} \\right)} \\sinh{\\left(\\frac{\\pi n y}{b} \\right)}$"
      ],
      "text/plain": [
       "<IPython.core.display.Math object>"
      ]
     },
     "metadata": {},
     "output_type": "display_data"
    },
    {
     "data": {
      "text/latex": [
       "$\\displaystyle c_n = \\frac{2 \\int\\limits_{0}^{b} 10 \\sin{\\left(\\frac{3 \\pi x}{b} \\right)} \\sin{\\left(\\frac{\\pi n x}{b} \\right)}\\, dx}{b \\sinh{\\left(\\frac{\\pi a n}{b} \\right)}}$"
      ],
      "text/plain": [
       "<IPython.core.display.Math object>"
      ]
     },
     "metadata": {},
     "output_type": "display_data"
    }
   ],
   "source": [
    "c = Function('c')\n",
    "V = sp.Sum(c(n)*sin(n*pi*x/b)*sinh(n*pi*y/b), (n,1,N))\n",
    "display(Math('V(x,y) = ' + latex(V)))\n",
    "Vo = 10*sin(3*pi*x/b)\n",
    "c  = lambda n: (2/(b*sinh(n*pi*a/b))) * Integral(Vo * sin(n*pi*x/b), (x,0,b))\n",
    "display(Math('c_n = ' + latex(c(n))))"
   ]
  },
  {
   "attachments": {},
   "cell_type": "markdown",
   "id": "34b8bdd9",
   "metadata": {},
   "source": [
    "Vamos resolver:"
   ]
  },
  {
   "cell_type": "code",
   "execution_count": 184,
   "id": "29674ceb",
   "metadata": {},
   "outputs": [
    {
     "data": {
      "text/latex": [
       "$\\displaystyle c_n = \\frac{2 \\left(\\begin{cases} 0 & \\text{for}\\: n \\neq 3 \\\\5 b & \\text{otherwise} \\end{cases}\\right)}{b \\sinh{\\left(\\frac{\\pi a n}{b} \\right)}}$"
      ],
      "text/plain": [
       "<IPython.core.display.Math object>"
      ]
     },
     "metadata": {},
     "output_type": "display_data"
    }
   ],
   "source": [
    "display(Math('c_n = ' + latex(c(n).doit())))"
   ]
  },
  {
   "cell_type": "code",
   "execution_count": 185,
   "id": "f9f27447",
   "metadata": {},
   "outputs": [
    {
     "data": {
      "text/latex": [
       "$\\displaystyle \\frac{10 \\sin{\\left(\\frac{3 \\pi x}{b} \\right)} \\sinh{\\left(\\frac{3 \\pi y}{b} \\right)}}{\\sinh{\\left(\\frac{3 \\pi a}{b} \\right)}}$"
      ],
      "text/plain": [
       "10*sin(3*pi*x/b)*sinh(3*pi*y/b)/sinh(3*pi*a/b)"
      ]
     },
     "metadata": {},
     "output_type": "display_data"
    }
   ],
   "source": [
    "# Calcula os coeficientes e substitui\n",
    "V_itemb = sp.Sum(c(n)*sin(n*pi*x/b)*sinh(n*pi*y/b), (n,1,N))\n",
    "# Avalia a soma com 10 termos\n",
    "display(V_itemb.subs(N,5).doit())"
   ]
  },
  {
   "attachments": {},
   "cell_type": "markdown",
   "id": "95511d75",
   "metadata": {},
   "source": [
    "Para o item (c)"
   ]
  },
  {
   "cell_type": "code",
   "execution_count": 186,
   "id": "75b2d390",
   "metadata": {},
   "outputs": [
    {
     "data": {
      "text/latex": [
       "$\\displaystyle 0$"
      ],
      "text/plain": [
       "0"
      ]
     },
     "metadata": {},
     "output_type": "display_data"
    },
    {
     "data": {
      "text/latex": [
       "$\\displaystyle \\sum_{n=1}^{N} 0$"
      ],
      "text/plain": [
       "Sum(0, (n, 1, N))"
      ]
     },
     "metadata": {},
     "output_type": "display_data"
    }
   ],
   "source": [
    "Vo = 2*sin(pi*x/b)+(1/10)*sin(5*pi*x/b)\n",
    "c  = lambda n: ((2/(b*sinh(n*pi*a/b))) * \\\n",
    "                Integral(Vo * sin(n*pi*x/b), (x,0,b))).doit()\n",
    "# Calcula os coeficientes e substitui\n",
    "V_itemc = sp.Sum(c(n)*sin(n*pi*x/b)*sinh(n*pi*y/b), (n,1,N))\n",
    "display(c(n))\n",
    "# Avalia a soma com 10 termos\n",
    "display(V_itemc)"
   ]
  },
  {
   "attachments": {},
   "cell_type": "markdown",
   "id": "6c1a4320",
   "metadata": {},
   "source": [
    "Infelizmente esse é um exemplo em que o sympy falha ao calcular os resultados condicionais a $n$. Então, precisamos usar um pouco da teoria de Fourier e lembrar que as integrais de seno só serão diferentes de $0$ para $n=1$ e $n=5$."
   ]
  },
  {
   "cell_type": "code",
   "execution_count": 187,
   "id": "7091235f",
   "metadata": {},
   "outputs": [
    {
     "data": {
      "text/plain": [
       "[2.0/sinh(pi*a/b), 0, 0, 0, 0.1/sinh(5*pi*a/b), 0, 0, 0, 0]"
      ]
     },
     "execution_count": 187,
     "metadata": {},
     "output_type": "execute_result"
    }
   ],
   "source": [
    "from numpy import arange\n",
    "[c(n) for n in arange(1,10)]"
   ]
  },
  {
   "cell_type": "code",
   "execution_count": 188,
   "id": "a196106b",
   "metadata": {},
   "outputs": [
    {
     "data": {
      "text/latex": [
       "$\\displaystyle \\frac{2.0 \\sin{\\left(\\frac{\\pi x}{b} \\right)} \\sinh{\\left(\\frac{\\pi x}{b} \\right)}}{\\sinh{\\left(\\frac{\\pi a}{b} \\right)}} + \\frac{0.1 \\sin{\\left(\\frac{5 \\pi x}{b} \\right)} \\sinh{\\left(\\frac{5 \\pi x}{b} \\right)}}{\\sinh{\\left(\\frac{5 \\pi a}{b} \\right)}}$"
      ],
      "text/plain": [
       "2.0*sin(pi*x/b)*sinh(pi*x/b)/sinh(pi*a/b) + 0.1*sin(5*pi*x/b)*sinh(5*pi*x/b)/sinh(5*pi*a/b)"
      ]
     },
     "metadata": {},
     "output_type": "display_data"
    }
   ],
   "source": [
    "V = 0\n",
    "for n in arange(1,10):\n",
    "    V+= c(n)*sin(n*pi*x/b)*sinh(pi*x*n/b)\n",
    "\n",
    "display(V) "
   ]
  },
  {
   "attachments": {},
   "cell_type": "markdown",
   "id": "34527635",
   "metadata": {},
   "source": [
    "<center> <img src='./Figs/Ex6.7.svg'> </center>"
   ]
  }
 ],
 "metadata": {
  "kernelspec": {
   "display_name": "Python 3 (ipykernel)",
   "language": "python",
   "name": "python3"
  },
  "language_info": {
   "codemirror_mode": {
    "name": "ipython",
    "version": 3
   },
   "file_extension": ".py",
   "mimetype": "text/x-python",
   "name": "python",
   "nbconvert_exporter": "python",
   "pygments_lexer": "ipython3",
   "version": "3.11.1"
  }
 },
 "nbformat": 4,
 "nbformat_minor": 5
}
