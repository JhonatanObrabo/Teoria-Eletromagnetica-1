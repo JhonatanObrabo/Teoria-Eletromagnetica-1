{
 "cells": [
  {
   "attachments": {},
   "cell_type": "markdown",
   "id": "3a85463a",
   "metadata": {
    "tags": []
   },
   "source": [
    "$\\newcommand{\\ax}{\\mathbf{a}_x}$\n",
    "$\\newcommand{\\ay}{\\mathbf{a}_y}$\n",
    "$\\newcommand{\\az}{\\mathbf{a}_z}$\n",
    "$\\newcommand{\\arho}{\\mathbf{a}_\\rho}$\n",
    "$\\newcommand{\\ap}{\\mathbf{a}_\\phi}$\n",
    "$\\newcommand{\\ar}{\\mathbf{a}_r}$\n",
    "$\\newcommand{\\at}{\\mathbf{a}_\\theta}$\n",
    "$\\newcommand{\\grad}[1]{\\nabla #1}$\n",
    "$\\renewcommand{\\div}[1]{\\mathbf{\\nabla} \\cdot \\mathbf{#1}}$\n",
    "$\\newcommand{\\rot}[1]{\\mathbf{\\nabla} \\times \\mathbf{#1}}$\n",
    "$\\newcommand{\\parcial}[2]{\\displaystyle\\frac{\\partial #1}{\\partial #2}}$\n",
    "$\\newcommand{\\pard}[2]{\\displaystyle\\frac{\\partial^2 {#1}}{\\partial {#2}^2}}$\n",
    "$\\newcommand{\\lapcart}[1]{\\pard{#1}{x}+\\pard{#1}{y}+\\pard{#1}{z}}$\n",
    "$\\newcommand{\\lapcili}[1]{\\frac{1}{\\rho}\\parcial{}{\\rho}\\left(\\rho \\parcial{#1}{\\rho}\\right)+\\frac{1}{\\rho^2}\\pard{#1}{\\phi}+\\pard{#1}{z}}$\n",
    "$\\newcommand{\\lapesf}[1]{\\frac{1}{r^2}\\parcial{}{r}\\left(r^2 \\parcial{#1}{r}\\right)+\\frac{1}{r^2\\sin \\theta }\\left(\\sin \\theta \\, \\parcial{#1}{\\theta}\\right)+\\frac{1}{r^2\\sin \\theta}\\pard{V}{\\phi}}$\n",
    "\n"
   ]
  },
  {
   "attachments": {},
   "cell_type": "markdown",
   "id": "b25518e0",
   "metadata": {},
   "source": [
    "# Densidade de energia em campo elétrico"
   ]
  },
  {
   "attachments": {},
   "cell_type": "markdown",
   "id": "4342d76c",
   "metadata": {},
   "source": [
    "$$\n",
    "W = \\frac{1}{2}\\sum_{k=1}^N  Q_kV_k\n",
    "$$\n",
    "\n",
    "$$\n",
    "W = \\frac{1}{2}\\int V\\,dQ\n",
    "$$\n",
    "\n"
   ]
  },
  {
   "attachments": {},
   "cell_type": "markdown",
   "id": "19f9adf0",
   "metadata": {},
   "source": [
    "Para uma distribuição de volume:\n",
    "$$\n",
    "W = \\frac{1}{2}\\int \\rho_v\\, V\\, dv\n",
    "$$"
   ]
  },
  {
   "attachments": {},
   "cell_type": "markdown",
   "id": "60337f00",
   "metadata": {},
   "source": [
    "Usando identidades vetorias, mostra-se que:\n",
    "$$\n",
    "W = \\frac{1}{2} \\int \\mathbf{D}\\cdot \\mathbf{E} dv\n",
    "$$\n",
    "\n",
    "$w_E = \\frac{1}{2}\\mathbf{D\\cdot E} \\rightarrow$ densidade de eletrostática de energia ($J/m^3$). \n",
    "\n",
    "<center> <img src='./Figs/Ex4.14.svg'> </center>\n"
   ]
  },
  {
   "cell_type": "code",
   "execution_count": 7,
   "id": "01a2d080",
   "metadata": {},
   "outputs": [
    {
     "name": "stdout",
     "output_type": "stream",
     "text": [
      "13.37 nano Joule\n"
     ]
    }
   ],
   "source": [
    "import sympy as sp\n",
    "eps0 = 1e-9/(36*sp.pi)\n",
    "q1 = -1e-9\n",
    "q2 = 4e-9\n",
    "q3 = 3e-9\n",
    "V = lambda q,r1,r2: q/(4*sp.pi*eps0*(r1-r2).norm())\n",
    "r1 = sp.ImmutableMatrix([0,0,0])\n",
    "r2 = sp.ImmutableMatrix([0,0,1])\n",
    "r3 = sp.ImmutableMatrix([1,0,0])\n",
    "W1 = q1*(V(q2,r2,r1) + V(q3,r3,r1))\n",
    "W2 = q2*(V(q1,r1,r2) + V(q3,r3,r2))\n",
    "W3 = q3*(V(q1,r1,r3) + V(q2,r2,r3))\n",
    "W = (W1+W2+W3)/2\n",
    "from IPython.display import display, Math\n",
    "print((W*1e9).evalf(4), 'nano Joule')"
   ]
  },
  {
   "attachments": {},
   "cell_type": "markdown",
   "id": "3dfab88a",
   "metadata": {},
   "source": [
    "<center> <img src='./Figs/Ex4.15.svg'> </center>\n"
   ]
  },
  {
   "cell_type": "code",
   "execution_count": null,
   "id": "5f0f9c61",
   "metadata": {},
   "outputs": [],
   "source": []
  }
 ],
 "metadata": {
  "kernelspec": {
   "display_name": "Python 3 (ipykernel)",
   "language": "python",
   "name": "python3"
  },
  "language_info": {
   "codemirror_mode": {
    "name": "ipython",
    "version": 3
   },
   "file_extension": ".py",
   "mimetype": "text/x-python",
   "name": "python",
   "nbconvert_exporter": "python",
   "pygments_lexer": "ipython3",
   "version": "3.11.1"
  }
 },
 "nbformat": 4,
 "nbformat_minor": 5
}
