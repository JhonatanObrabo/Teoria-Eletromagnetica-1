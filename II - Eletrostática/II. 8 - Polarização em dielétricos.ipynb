{
 "cells": [
  {
   "attachments": {},
   "cell_type": "markdown",
   "id": "3a85463a",
   "metadata": {
    "tags": []
   },
   "source": [
    "$\\newcommand{\\ax}{\\mathbf{a}_x}$\n",
    "$\\newcommand{\\ay}{\\mathbf{a}_y}$\n",
    "$\\newcommand{\\az}{\\mathbf{a}_z}$\n",
    "$\\newcommand{\\arho}{\\mathbf{a}_\\rho}$\n",
    "$\\newcommand{\\ap}{\\mathbf{a}_\\phi}$\n",
    "$\\newcommand{\\ar}{\\mathbf{a}_r}$\n",
    "$\\newcommand{\\at}{\\mathbf{a}_\\theta}$\n",
    "$\\newcommand{\\grad}[1]{\\nabla #1}$\n",
    "$\\renewcommand{\\div}[1]{\\mathbf{\\nabla} \\cdot \\mathbf{#1}}$\n",
    "$\\newcommand{\\rot}[1]{\\mathbf{\\nabla} \\times \\mathbf{#1}}$\n",
    "$\\newcommand{\\parcial}[2]{\\displaystyle\\frac{\\partial #1}{\\partial #2}}$\n",
    "$\\newcommand{\\pard}[2]{\\displaystyle\\frac{\\partial^2 {#1}}{\\partial {#2}^2}}$\n",
    "$\\newcommand{\\lapcart}[1]{\\pard{#1}{x}+\\pard{#1}{y}+\\pard{#1}{z}}$\n",
    "$\\newcommand{\\lapcili}[1]{\\frac{1}{\\rho}\\parcial{}{\\rho}\\left(\\rho \\parcial{#1}{\\rho}\\right)+\\frac{1}{\\rho^2}\\pard{#1}{\\phi}+\\pard{#1}{z}}$\n",
    "$\\newcommand{\\lapesf}[1]{\\frac{1}{r^2}\\parcial{}{r}\\left(r^2 \\parcial{#1}{r}\\right)+\\frac{1}{r^2\\sin \\theta }\\left(\\sin \\theta \\, \\parcial{#1}{\\theta}\\right)+\\frac{1}{r^2\\sin \\theta}\\pard{V}{\\phi}}$\n",
    "\n"
   ]
  },
  {
   "attachments": {},
   "cell_type": "markdown",
   "id": "b25518e0",
   "metadata": {},
   "source": [
    "# Polarização em dielétricos"
   ]
  },
  {
   "attachments": {},
   "cell_type": "markdown",
   "id": "18e7ac47",
   "metadata": {},
   "source": [
    "Em um dielétrico, a quantidade de elétrons livres nas camadas mais externas do material é bastante inferior em relação à quantidade observada em condutores.\n",
    "\n",
    "Isso não quer dizer que não haja movimento de carga se aplicado um campo externo. Ele ocorre, por um intervalo de tempo, e depois as cargas se acomodam e ficam praticamente estáticas.\n",
    "\n",
    "Assim, o dielétrico tende a ficar polarizado, com cargas estáticas formadas na superfície. O comportamento é semelhante a um dipolo elétrico. "
   ]
  },
  {
   "attachments": {},
   "cell_type": "markdown",
   "id": "bd7a5d2c",
   "metadata": {},
   "source": [
    "## Equações importantes do dielétrico:"
   ]
  },
  {
   "attachments": {},
   "cell_type": "markdown",
   "id": "b0e28421",
   "metadata": {},
   "source": [
    "Polarização total:\n",
    "$$\n",
    "\\mathbf{P} = \\lim_{\\Delta v\\rightarrow 0}\\frac{\\sum Q_k\\mathbf{d}_k}{\\Delta v}\n",
    "$$\n",
    "\n",
    "Supondo o dielétrico formado por pequenos dipolos."
   ]
  },
  {
   "attachments": {},
   "cell_type": "markdown",
   "id": "48540773",
   "metadata": {},
   "source": [
    "Densidade superficial de polarização\n",
    "$$\n",
    "\\rho_{ps} = \\mathbf{P\\cdot}\\mathbf{a}_n\\\\\n",
    "$$\n",
    "$\\mathbf{a}_n$ é o vetor normal à superfície do dielétrico. "
   ]
  },
  {
   "attachments": {},
   "cell_type": "markdown",
   "id": "56a6a46e",
   "metadata": {},
   "source": [
    "Densidade volumétrica de polarização\n",
    "$$\n",
    "\\rho_{pv} = -\\div{P}\n",
    "$$"
   ]
  },
  {
   "attachments": {},
   "cell_type": "markdown",
   "id": "e4614287",
   "metadata": {},
   "source": [
    "<center> <img src='./Figs/Fig5.8.svg'> </center>"
   ]
  },
  {
   "attachments": {},
   "cell_type": "markdown",
   "id": "bb4e3da1",
   "metadata": {},
   "source": [
    "Densidade de fluxo no dielétrico:\n",
    "$$\n",
    "\\mathbf{D} = \\epsilon_0\\mathbf{E} + \\mathbf{{P}}\n",
    "$$\n",
    "\n",
    "O dielétrico produz um aumento do campo líquido no interior, devido à polarização. "
   ]
  },
  {
   "attachments": {},
   "cell_type": "markdown",
   "id": "efe82183",
   "metadata": {},
   "source": [
    "Dielétrico linear:\n",
    "$$\n",
    "\\mathbf{P} = \\chi_0\\,\\epsilon_0\\,\\mathbf{E}\n",
    "$$\n",
    "\n",
    "$\\chi_0$ é chamada *suscetibilidade elétrica*. Mede o quanto o dielétrico é sensível ao campo elétrico. "
   ]
  },
  {
   "attachments": {},
   "cell_type": "markdown",
   "id": "fe44ee38",
   "metadata": {},
   "source": [
    "<center> <img src='./Figs/Ex5.5.svg'> </center>"
   ]
  },
  {
   "attachments": {},
   "cell_type": "markdown",
   "id": "b16672f1",
   "metadata": {},
   "source": [
    "Para uma face genérica, por exemplo $x=-L/2$\n",
    "$$\n",
    "\\begin{align*}\n",
    "    \\rho_{ps} = \\mathbf{P}\\cdot -\\ax = -ax = aL/2\n",
    "\\end{align*}\n",
    "$$\n",
    "\n",
    "Pela simetria do problema, esse resultado se repete em todas as faces.\n",
    "\n",
    "Para a carga superficial total:\n",
    "$$\n",
    "\\begin{align*}\n",
    "    Q_s &= Q_{\\text{face esq.}} + Q_{\\text{face dir.}} + ...\\\\\n",
    "    &= \\frac{aL}0{2}\\cdot L^2 + \\frac{aL}{2}\\cdot L^2 + \\dots\n",
    "    &= 6 \\cdot \\frac{aL^3}{2} = 6 aL^3     \n",
    "\\end{align*}\n",
    "$$\n",
    "\n",
    "Para a carga volumétrica, a distribuição será:\n",
    "$$\n",
    "\\begin{align*}\n",
    "    \\rho_{pv} &= -\\div{P} = - (a+a+a) -3a\\\\\n",
    "    Q_v &= \\int_v \\rho_{pf} dv = -3a \\int_v dv = -3a L^3 = 0\n",
    "\\end{align*}\n",
    "$$\n",
    "\n",
    "Logo a carga total:\n",
    "$$\n",
    "    Q = Q_s + Q_v = 3aL^3 -3aL^3 = 0\n",
    "$$"
   ]
  },
  {
   "attachments": {},
   "cell_type": "markdown",
   "id": "90b86e6b",
   "metadata": {},
   "source": [
    "<center> <img src='./Figs/pratico5.5.svg'> </center>"
   ]
  },
  {
   "attachments": {},
   "cell_type": "markdown",
   "id": "d7754e17",
   "metadata": {},
   "source": [
    "<center> <img src='./Figs/Ex5.6.svg'> </center>"
   ]
  },
  {
   "cell_type": "code",
   "execution_count": null,
   "id": "0d0b1d49",
   "metadata": {},
   "outputs": [],
   "source": []
  },
  {
   "attachments": {},
   "cell_type": "markdown",
   "id": "e211f359",
   "metadata": {},
   "source": [
    "<center> <img src='./Figs/pratico5.6.svg'> </center>"
   ]
  },
  {
   "attachments": {},
   "cell_type": "markdown",
   "id": "302c7d13",
   "metadata": {},
   "source": [
    "<center> <img src='./Figs/Ex5.7.svg'> </center>"
   ]
  },
  {
   "cell_type": "code",
   "execution_count": 11,
   "id": "6c9ef1a8",
   "metadata": {},
   "outputs": [
    {
     "data": {
      "text/latex": [
       "$\\displaystyle \\rho_{ps} =13.12\\;pC/m^2$"
      ],
      "text/plain": [
       "<IPython.core.display.Math object>"
      ]
     },
     "metadata": {},
     "output_type": "display_data"
    },
    {
     "data": {
      "text/latex": [
       "$\\displaystyle F =-1.263\\;pN$"
      ],
      "text/plain": [
       "<IPython.core.display.Math object>"
      ]
     },
     "metadata": {},
     "output_type": "display_data"
    }
   ],
   "source": [
    "from sympy import pi,latex\n",
    "from IPython.display import display, Math\n",
    "epsr = 5.7\n",
    "r = 10e-2\n",
    "q1 = 2e-12\n",
    "q2 = -4e-12\n",
    "eps0 = 1e-9/(36*pi)\n",
    "E = q1/(4*pi*eps0*epsr*r**2)\n",
    "Xe = epsr-1\n",
    "P = Xe*eps0*E\n",
    "rho_ps = P\n",
    "F = E*q2\n",
    "display(Math(r'\\rho_{ps} =' + latex((1e12*rho_ps).evalf(4)) + '\\;pC/m^2' ))\n",
    "display(Math(r'F =' + latex((1e12*F).evalf(4)) + '\\;pN' ))"
   ]
  },
  {
   "attachments": {},
   "cell_type": "markdown",
   "id": "ba7972ed",
   "metadata": {},
   "source": [
    "<center> <img src='./Figs/pratico5.7.svg'> </center>"
   ]
  },
  {
   "attachments": {},
   "cell_type": "markdown",
   "id": "12dfb3a4",
   "metadata": {},
   "source": [
    "<center> <img src='./Figs/Ex5.8.svg'> </center>"
   ]
  },
  {
   "attachments": {},
   "cell_type": "markdown",
   "id": "55a16c41",
   "metadata": {},
   "source": [
    "<center> <img src='./Figs/pratico5.8.svg'> </center>"
   ]
  }
 ],
 "metadata": {
  "kernelspec": {
   "display_name": "Python 3 (ipykernel)",
   "language": "python",
   "name": "python3"
  },
  "language_info": {
   "codemirror_mode": {
    "name": "ipython",
    "version": 3
   },
   "file_extension": ".py",
   "mimetype": "text/x-python",
   "name": "python",
   "nbconvert_exporter": "python",
   "pygments_lexer": "ipython3",
   "version": "3.11.1"
  }
 },
 "nbformat": 4,
 "nbformat_minor": 5
}
