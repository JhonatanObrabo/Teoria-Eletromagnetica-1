{
 "cells": [
  {
   "attachments": {},
   "cell_type": "markdown",
   "metadata": {},
   "source": [
    "# **Sistemas de coordenadas**"
   ]
  },
  {
   "attachments": {},
   "cell_type": "markdown",
   "metadata": {},
   "source": [
    "Um sistema ortogonal é aquele em que as superfícies coordenadas são mutuamente perpendiculares. "
   ]
  },
  {
   "attachments": {},
   "cell_type": "markdown",
   "metadata": {},
   "source": [
    "## **Coordenadas cartesianas** - $(x,y,z)$. "
   ]
  },
  {
   "attachments": {},
   "cell_type": "markdown",
   "metadata": {},
   "source": [
    "É o sistema retangular convencional. Ele é útil para trabalhar com geometrias arbitrárias, simétricas ou não."
   ]
  },
  {
   "attachments": {},
   "cell_type": "markdown",
   "metadata": {},
   "source": [
    "Vetor padrão: $(A_x,A_y,A_z)$"
   ]
  },
  {
   "attachments": {},
   "cell_type": "markdown",
   "metadata": {},
   "source": [
    "Quaisquer coordendas podem assumir qualquer valor real: \n",
    "\n",
    "$$\n",
    "\\begin{align}\n",
    "        -\\infty < &x < \\infty\\\\\n",
    "        -\\infty < &y < \\infty\\\\\n",
    "        -\\infty < &z < \\infty\n",
    "\\end{align}\n",
    "$$"
   ]
  },
  {
   "attachments": {},
   "cell_type": "markdown",
   "metadata": {},
   "source": [
    "## **Coordenadas cilíndricas** - $(\\rho, \\phi, z)$"
   ]
  },
  {
   "attachments": {},
   "cell_type": "markdown",
   "metadata": {},
   "source": [
    "Nesse sistema um ponto é localizado como se estivesse na superfície lateral de um cilindro, colocado \"em pé\" em relação ao eixo $Z$ (o eixo do cilindro é o eixo $Z$).\n",
    "\n",
    "Nestas condições, o ponto é localizado através da geometria do cilindro onde o ponto se encontra: o raio $\\rho$, a altura $z$ e o ângulo $\\phi$ formado entre o eixo $X$ (do sistema retangular) e o raio do cilindro, chamado de *azimutal*.  \n",
    "<p align=\"center\">\n",
    "<img src=\"Fig2.1.svg\">\n",
    "</p>\n",
    "\n",
    "Note que a figura já apresenta os vetores unitários associados a cada uma das coordenadas. "
   ]
  },
  {
   "attachments": {},
   "cell_type": "markdown",
   "metadata": {},
   "source": [
    "Devido ao significado geométrico das coordenadas, elas só podem assumir valores nos seguintes domínios:\n",
    "\n",
    "$$\n",
    "\\begin{align}\n",
    "    0 &\\leq \\rho < \\infty\\\\\n",
    "    0 & \\leq \\phi < 2\\pi\\\\\n",
    "    -\\infty & < z < \\infty\n",
    "\\end{align}\n",
    "$$"
   ]
  },
  {
   "attachments": {},
   "cell_type": "markdown",
   "metadata": {},
   "source": [
    "Um vetor $\\mathbf{A}$ em coordenadas cilíndricas é descrito como $(A_{\\rho}, A_{\\phi}, A_{z})=A_{\\rho}\\mathbf{a}_{\\rho}+ A_{\\phi}\\mathbf{a}_{\\phi}+ A_{z}\\mathbf{a}_{z}$. \n",
    "\n",
    "O módulo do vetor $\\mathbf{A}$ é $|\\mathbf{A}| = \\sqrt{A_\\rho^2+A_\\phi^2+A_z^2}$."
   ]
  },
  {
   "attachments": {},
   "cell_type": "markdown",
   "metadata": {},
   "source": [
    "A conversão de coordenadas retangulares para cilíndricas é feita como:\n",
    "\n",
    "$$\n",
    "\\begin{align}\n",
    "    \\rho &= \\sqrt{x^2+y^2}\\\\\n",
    "    \\phi &= \\tan^{-1} \\frac{y}{x}\\\\\n",
    "    z &= z \\text{  (i.e, não se altera)}\n",
    "\\end{align}\n",
    "$$"
   ]
  },
  {
   "attachments": {},
   "cell_type": "markdown",
   "metadata": {},
   "source": [
    "Cilíndrico para retangular:\n",
    "\n",
    "$$\n",
    "\\begin{align}\n",
    "    x &= \\rho \\cos \\phi\\\\\n",
    "    y &= \\rho \\sin \\phi\\\\\n",
    "    z &= z\n",
    "\\end{align}\n",
    "$$"
   ]
  },
  {
   "attachments": {},
   "cell_type": "markdown",
   "metadata": {},
   "source": [
    "Note que os vetores unitários $\\mathbf{a}_{\\rho}$ e $\\mathbf{a}_{\\phi}$ não são constantes, uma vez que mudam de direção, dependendo da localização do ponto. No entanto, em qualquer posição, eles serão sempre mutuamente ortogonais. \n",
    "\n",
    "A relação entre os vetores unitários cartesianos e cilíndricos são as seguintes:\n",
    "\n",
    "$$\n",
    "\\begin{align}\n",
    "    \\mathbf{a}_x &= \\cos \\phi\\, \\mathbf{a}_{\\rho} - \\sin \\phi\\,\\mathbf{a}_{\\rho}\\\\\n",
    "    \\mathbf{a}_y &= \\sin \\phi\\, \\mathbf{a}_{\\rho} + \\cos \\phi\\,\\mathbf{a}_{\\rho}\\\\\n",
    "    \\mathbf{a}_z &= \\mathbf{a}_z\n",
    "\\end{align}\n",
    "$$\n",
    "ou\n",
    "$$\n",
    "\\begin{align}\n",
    "    \\mathbf{a}_\\rho &= \\cos \\phi\\, \\mathbf{a}_{x} + \\sin \\phi\\,\\mathbf{a}_{y}\\\\\n",
    "    \\mathbf{a}_\\phi &= -\\sin \\phi\\, \\mathbf{a}_{x} + \\cos \\phi\\,\\mathbf{a}_{y}\\\\\n",
    "    \\mathbf{a}_z &= \\mathbf{a}_z\n",
    "\\end{align}\n",
    "$$\n"
   ]
  },
  {
   "attachments": {},
   "cell_type": "markdown",
   "metadata": {},
   "source": [
    "Pode-se mudar um vetor da base retangular para cilíndrica, ou vice versa, usando um esquema de multiplicação matricial :"
   ]
  },
  {
   "cell_type": "code",
   "execution_count": 2,
   "metadata": {},
   "outputs": [],
   "source": [
    "import sympy as sp\n",
    "from IPython.display import display,Math"
   ]
  },
  {
   "cell_type": "code",
   "execution_count": 3,
   "metadata": {
    "code_folding": [],
    "tags": []
   },
   "outputs": [],
   "source": [
    "phi = sp.symbols('\\phi')\n",
    "Ar,Aphi,Az = sp.symbols(['A_\\\\rho','A_\\\\phi', 'A_z'])\n",
    "Ax,Ay = sp.symbols(['A_x','A_y'])\n",
    "V = sp.symbols('\\mathbf{V}')\n",
    "ret2cil = sp.Matrix([[sp.cos(phi), sp.sin(phi),0],[-sp.sin(phi), sp.cos(phi),0],[0,0,1]])\n",
    "cil2ret = ret2cil.inv()\n",
    "Vcil = sp.Matrix([[Ar,Aphi,Az]]).T\n",
    "Vret = sp.Matrix([[Ax,Ay,Az]]).T\n",
    "def render_align(expr):\n",
    "    if type(expr) == str:\n",
    "        return r'$$\\begin{align}' + (expr) + r'\\end{align}$$'\n",
    "    else:\n",
    "        return r'$$\\begin{align}' + sp.latex(expr) + r'\\end{align}$$'\n",
    "\n",
    "def equacionar(esq,dir,align=True):\n",
    "    if type(esq) != str:\n",
    "        esq = sp.latex(esq)\n",
    "    if type(dir) != str:\n",
    "        dir = sp.latex(dir)\n",
    "    if align:\n",
    "        return (esq) + ' &= ' + (dir)\n",
    "    else:\n",
    "        return esq + ' = ' + dir\n",
    "\n",
    "def lado_lado(x1,x2):\n",
    "    return sp.latex(x1) + r'\\,' + sp.latex(x2)\n",
    "\n",
    "eq1 = render_align(equacionar(V,Vcil))\n",
    "eq2 = render_align(equacionar(Vcil,lado_lado(ret2cil,Vret)))\n",
    "\n",
    "eq3 = sp.latex(ret2cil) + '^{-1} = ' + sp.latex(cil2ret)\n"
   ]
  },
  {
   "attachments": {},
   "cell_type": "markdown",
   "metadata": {
    "variables": {
     "eq2": "$$\\begin{align}\\left[\\begin{matrix}A_{\\rho}\\\\A_{\\phi}\\\\A_{z}\\end{matrix}\\right] &amp;= \\left[\\begin{matrix}\\cos{\\left(\\phi \\right)} &amp; \\sin{\\left(\\phi \\right)} &amp; 0\\\\- \\sin{\\left(\\phi \\right)} &amp; \\cos{\\left(\\phi \\right)} &amp; 0\\\\0 &amp; 0 &amp; 1\\end{matrix}\\right]\\,\\left[\\begin{matrix}A_{x}\\\\A_{y}\\\\A_{z}\\end{matrix}\\right]\\end{align}$$"
    }
   },
   "source": [
    "Suponha um vetor na base retangular representado na forma matricial. Para converter para a base cilíndrica fazemos:"
   ]
  },
  {
   "cell_type": "code",
   "execution_count": 4,
   "metadata": {},
   "outputs": [
    {
     "data": {
      "text/latex": [
       "$\\displaystyle \\begin{align}\\left[\\begin{matrix}A_{\\rho}\\\\A_{\\phi}\\\\A_{z}\\end{matrix}\\right] &= \\left[\\begin{matrix}\\cos{\\left(\\phi \\right)} & \\sin{\\left(\\phi \\right)} & 0\\\\- \\sin{\\left(\\phi \\right)} & \\cos{\\left(\\phi \\right)} & 0\\\\0 & 0 & 1\\end{matrix}\\right]\\,\\left[\\begin{matrix}A_{x}\\\\A_{y}\\\\A_{z}\\end{matrix}\\right]\\end{align}$"
      ],
      "text/plain": [
       "<IPython.core.display.Math object>"
      ]
     },
     "metadata": {},
     "output_type": "display_data"
    }
   ],
   "source": [
    "display(Math(eq2))"
   ]
  },
  {
   "attachments": {},
   "cell_type": "markdown",
   "metadata": {},
   "source": [
    "Para converter de cilíndrico para retangular, calculamos primeiro a matriz de transformação inversa. "
   ]
  },
  {
   "cell_type": "code",
   "execution_count": 5,
   "metadata": {},
   "outputs": [
    {
     "data": {
      "text/latex": [
       "$\\displaystyle \\left[\\begin{matrix}\\cos{\\left(\\phi \\right)} & \\sin{\\left(\\phi \\right)} & 0\\\\- \\sin{\\left(\\phi \\right)} & \\cos{\\left(\\phi \\right)} & 0\\\\0 & 0 & 1\\end{matrix}\\right]^{-1}=\\left[\\begin{matrix}- \\frac{\\sin^{2}{\\left(\\phi \\right)}}{\\cos{\\left(\\phi \\right)}} + \\frac{1}{\\cos{\\left(\\phi \\right)}} & - \\sin{\\left(\\phi \\right)} & 0\\\\\\sin{\\left(\\phi \\right)} & \\cos{\\left(\\phi \\right)} & 0\\\\0 & 0 & 1\\end{matrix}\\right]$"
      ],
      "text/plain": [
       "<IPython.core.display.Math object>"
      ]
     },
     "metadata": {},
     "output_type": "display_data"
    }
   ],
   "source": [
    "lado_esquerdo = sp.latex(ret2cil) + '^{-1}'\n",
    "inversa = ret2cil.inv()\n",
    "lado_direito = sp.latex(inversa)\n",
    "equacao = lado_esquerdo + '=' + lado_direito\n",
    "display(Math(equacao))"
   ]
  },
  {
   "attachments": {},
   "cell_type": "markdown",
   "metadata": {},
   "source": [
    "Essa matriz pode ainda ser simplificada, usando uma identidade trigonométrica, resultando:"
   ]
  },
  {
   "cell_type": "code",
   "execution_count": 6,
   "metadata": {},
   "outputs": [
    {
     "data": {
      "text/latex": [
       "$\\displaystyle \\left[\\begin{matrix}\\cos{\\left(\\phi \\right)} & \\sin{\\left(\\phi \\right)} & 0\\\\- \\sin{\\left(\\phi \\right)} & \\cos{\\left(\\phi \\right)} & 0\\\\0 & 0 & 1\\end{matrix}\\right]^{-1}=\\left[\\begin{matrix}\\cos{\\left(\\phi \\right)} & - \\sin{\\left(\\phi \\right)} & 0\\\\\\sin{\\left(\\phi \\right)} & \\cos{\\left(\\phi \\right)} & 0\\\\0 & 0 & 1\\end{matrix}\\right]$"
      ],
      "text/plain": [
       "<IPython.core.display.Math object>"
      ]
     },
     "metadata": {},
     "output_type": "display_data"
    }
   ],
   "source": [
    "inversa.simplify()\n",
    "lado_direito = sp.latex(inversa)\n",
    "equacao = lado_esquerdo + '=' + lado_direito\n",
    "display(Math(equacao))"
   ]
  },
  {
   "attachments": {},
   "cell_type": "markdown",
   "metadata": {},
   "source": [
    "Desta forma, para transformar de **cilíndricas** para retangular:"
   ]
  },
  {
   "cell_type": "code",
   "execution_count": 7,
   "metadata": {},
   "outputs": [
    {
     "data": {
      "text/latex": [
       "$\\displaystyle \\left[\\begin{matrix}A_{x}\\\\A_{y}\\\\A_{z}\\end{matrix}\\right] = \\left[\\begin{matrix}\\cos{\\left(\\phi \\right)} & - \\sin{\\left(\\phi \\right)} & 0\\\\\\sin{\\left(\\phi \\right)} & \\cos{\\left(\\phi \\right)} & 0\\\\0 & 0 & 1\\end{matrix}\\right]\\left[\\begin{matrix}A_{\\rho}\\\\A_{\\phi}\\\\A_{z}\\end{matrix}\\right]$"
      ],
      "text/plain": [
       "<IPython.core.display.Math object>"
      ]
     },
     "metadata": {},
     "output_type": "display_data"
    }
   ],
   "source": [
    "lesq = sp.latex(Vret)\n",
    "ldir = sp.latex(inversa) + sp.latex(Vcil)\n",
    "eq = lesq + ' = ' + ldir\n",
    "display(Math(eq))"
   ]
  },
  {
   "attachments": {},
   "cell_type": "markdown",
   "metadata": {},
   "source": [
    "## **Coordenadas esféricas**"
   ]
  },
  {
   "attachments": {},
   "cell_type": "markdown",
   "metadata": {},
   "source": [
    "Esse é um sistema de coordendas também ortogonal, utilizado em problemas que tem simetria esférica. \n",
    "\n",
    "A idéia é semelhante ao sistema cilíndrico, exceto que o ponto é imaginado na superfície de uma esfera. Neste caso, ele é localizado pelo raio da esfera $r$ e dois ângulos: $\\theta$, chamado colatitude, formado entre o eixo $z$ e o vetor posição do ponto; e $\\phi$, o azimute, definido da mesma forma que nas coordenadas cilíndricas. \n",
    "<p align=\"center\">\n",
    "<img src=\"Fig2.4.svg\">\n",
    "</p>\n"
   ]
  },
  {
   "attachments": {},
   "cell_type": "markdown",
   "metadata": {},
   "source": [
    "### Mudanças de coordenadas de um ponto:\n",
    "\n",
    "Retangular para esférico\n",
    "$$\n",
    "\\begin{align}\n",
    "    r &= \\sqrt{x^2+y^2+z^2}\\\\\n",
    "    \\theta &= \\tan^{-1} \\frac{\\sqrt{x^2+y^2}}{z}\\\\\n",
    "    \\phi &= \\tan^{-1} \\frac{y}{x}\n",
    "\\end{align}\n",
    "$$\n",
    "\n",
    "Esférico para retangular\n",
    "$$\n",
    "\\begin{align}\n",
    "    x &= r\\sin\\theta \\cos \\phi\\\\\n",
    "    y &= r \\sin \\theta \\sin \\phi\\\\\n",
    "    z &= r\\cos \\theta\n",
    "\\end{align}\n",
    "$$"
   ]
  },
  {
   "attachments": {},
   "cell_type": "markdown",
   "metadata": {},
   "source": [
    "### Transformação de componentes"
   ]
  },
  {
   "cell_type": "code",
   "execution_count": 8,
   "metadata": {},
   "outputs": [],
   "source": [
    "phi,theta = sp.symbols(['\\\\phi','\\\\theta'])\n",
    "Ar,Aphi,Atheta = sp.symbols(['A_\\\\rho','A_\\\\phi', 'A_\\\\theta'])\n",
    "Ax,Ay,Az = sp.symbols(['A_x','A_y','Az'])\n",
    "Vesf = sp.Matrix([[Ar,Aphi,Atheta]]).T\n",
    "Vret = sp.Matrix([[Ax,Ay,Az]]).T\n",
    "from sympy import sin,cos"
   ]
  },
  {
   "attachments": {},
   "cell_type": "markdown",
   "metadata": {},
   "source": [
    "**Retangular para esférica (matricial)**"
   ]
  },
  {
   "cell_type": "code",
   "execution_count": 9,
   "metadata": {},
   "outputs": [
    {
     "data": {
      "text/latex": [
       "$\\displaystyle \\left[\\begin{matrix}A_{\\rho}\\\\A_{\\phi}\\\\A_{\\theta}\\end{matrix}\\right]=\\left[\\begin{matrix}\\sin{\\left(\\theta \\right)} \\cos{\\left(\\phi \\right)} & \\sin{\\left(\\phi \\right)} \\sin{\\left(\\theta \\right)} & \\cos{\\left(\\theta \\right)}\\\\\\cos{\\left(\\phi \\right)} \\cos{\\left(\\theta \\right)} & \\sin{\\left(\\phi \\right)} \\cos{\\left(\\theta \\right)} & - \\sin{\\left(\\theta \\right)}\\\\- \\sin{\\left(\\phi \\right)} & \\cos{\\left(\\phi \\right)} & 0\\end{matrix}\\right]\\left[\\begin{matrix}A_{x}\\\\A_{y}\\\\Az\\end{matrix}\\right]$"
      ],
      "text/plain": [
       "<IPython.core.display.Math object>"
      ]
     },
     "metadata": {},
     "output_type": "display_data"
    }
   ],
   "source": [
    "ret2esf = sp.Matrix([[sin(theta)*cos(phi),sin(theta)*sin(phi), cos(theta)],\n",
    "                     [cos(theta)*cos(phi),cos(theta)*sin(phi),-sin(theta)],\n",
    "                     [-sin(phi),cos(phi),0]])\n",
    "lesq = sp.latex(Vesf)\n",
    "ldir = sp.latex(ret2esf) + sp.latex(Vret)\n",
    "eq = lesq + '=' + ldir\n",
    "display(Math(eq))"
   ]
  },
  {
   "attachments": {},
   "cell_type": "markdown",
   "metadata": {},
   "source": [
    "**Esférica para retangular**"
   ]
  },
  {
   "cell_type": "code",
   "execution_count": 10,
   "metadata": {},
   "outputs": [
    {
     "data": {
      "text/latex": [
       "$\\displaystyle \\left[\\begin{matrix}\\frac{\\sin{\\left(\\theta \\right)} \\cos{\\left(\\phi \\right)}}{\\sin^{2}{\\left(\\phi \\right)} \\sin^{2}{\\left(\\theta \\right)} + \\sin^{2}{\\left(\\phi \\right)} \\cos^{2}{\\left(\\theta \\right)} + \\sin^{2}{\\left(\\theta \\right)} \\cos^{2}{\\left(\\phi \\right)} + \\cos^{2}{\\left(\\phi \\right)} \\cos^{2}{\\left(\\theta \\right)}} & \\frac{\\cos{\\left(\\phi \\right)} \\cos{\\left(\\theta \\right)}}{\\sin^{2}{\\left(\\phi \\right)} \\sin^{2}{\\left(\\theta \\right)} + \\sin^{2}{\\left(\\phi \\right)} \\cos^{2}{\\left(\\theta \\right)} + \\sin^{2}{\\left(\\theta \\right)} \\cos^{2}{\\left(\\phi \\right)} + \\cos^{2}{\\left(\\phi \\right)} \\cos^{2}{\\left(\\theta \\right)}} & - \\frac{\\sin{\\left(\\phi \\right)}}{\\sin^{2}{\\left(\\phi \\right)} + \\cos^{2}{\\left(\\phi \\right)}}\\\\\\frac{\\sin{\\left(\\phi \\right)} \\sin{\\left(\\theta \\right)}}{\\sin^{2}{\\left(\\phi \\right)} \\sin^{2}{\\left(\\theta \\right)} + \\sin^{2}{\\left(\\phi \\right)} \\cos^{2}{\\left(\\theta \\right)} + \\sin^{2}{\\left(\\theta \\right)} \\cos^{2}{\\left(\\phi \\right)} + \\cos^{2}{\\left(\\phi \\right)} \\cos^{2}{\\left(\\theta \\right)}} & \\frac{\\sin{\\left(\\phi \\right)} \\cos{\\left(\\theta \\right)}}{\\sin^{2}{\\left(\\phi \\right)} \\sin^{2}{\\left(\\theta \\right)} + \\sin^{2}{\\left(\\phi \\right)} \\cos^{2}{\\left(\\theta \\right)} + \\sin^{2}{\\left(\\theta \\right)} \\cos^{2}{\\left(\\phi \\right)} + \\cos^{2}{\\left(\\phi \\right)} \\cos^{2}{\\left(\\theta \\right)}} & \\frac{\\cos{\\left(\\phi \\right)}}{\\sin^{2}{\\left(\\phi \\right)} + \\cos^{2}{\\left(\\phi \\right)}}\\\\\\frac{\\cos{\\left(\\theta \\right)}}{\\sin^{2}{\\left(\\theta \\right)} + \\cos^{2}{\\left(\\theta \\right)}} & - \\frac{\\sin{\\left(\\theta \\right)}}{\\sin^{2}{\\left(\\theta \\right)} + \\cos^{2}{\\left(\\theta \\right)}} & 0\\end{matrix}\\right]$"
      ],
      "text/plain": [
       "<IPython.core.display.Math object>"
      ]
     },
     "metadata": {},
     "output_type": "display_data"
    }
   ],
   "source": [
    "inversa = ret2esf.inv()\n",
    "display(Math(sp.latex(inversa)))"
   ]
  },
  {
   "attachments": {},
   "cell_type": "markdown",
   "metadata": {},
   "source": [
    "Novamente, o resultado precisa ser simplificado:"
   ]
  },
  {
   "cell_type": "code",
   "execution_count": 11,
   "metadata": {},
   "outputs": [
    {
     "data": {
      "text/latex": [
       "$\\displaystyle \\left[\\begin{matrix}\\sin{\\left(\\theta \\right)} \\cos{\\left(\\phi \\right)} & \\cos{\\left(\\phi \\right)} \\cos{\\left(\\theta \\right)} & - \\sin{\\left(\\phi \\right)}\\\\\\sin{\\left(\\phi \\right)} \\sin{\\left(\\theta \\right)} & \\sin{\\left(\\phi \\right)} \\cos{\\left(\\theta \\right)} & \\cos{\\left(\\phi \\right)}\\\\\\cos{\\left(\\theta \\right)} & - \\sin{\\left(\\theta \\right)} & 0\\end{matrix}\\right]$"
      ],
      "text/plain": [
       "<IPython.core.display.Math object>"
      ]
     },
     "metadata": {},
     "output_type": "display_data"
    }
   ],
   "source": [
    "inversa.simplify()\n",
    "display(Math(sp.latex(inversa)))"
   ]
  },
  {
   "attachments": {},
   "cell_type": "markdown",
   "metadata": {},
   "source": [
    "Então:"
   ]
  },
  {
   "cell_type": "code",
   "execution_count": 12,
   "metadata": {},
   "outputs": [
    {
     "data": {
      "text/latex": [
       "$\\displaystyle \\left[\\begin{matrix}A_{x}\\\\A_{y}\\\\Az\\end{matrix}\\right] = \\left[\\begin{matrix}\\sin{\\left(\\theta \\right)} \\cos{\\left(\\phi \\right)} & \\cos{\\left(\\phi \\right)} \\cos{\\left(\\theta \\right)} & - \\sin{\\left(\\phi \\right)}\\\\\\sin{\\left(\\phi \\right)} \\sin{\\left(\\theta \\right)} & \\sin{\\left(\\phi \\right)} \\cos{\\left(\\theta \\right)} & \\cos{\\left(\\phi \\right)}\\\\\\cos{\\left(\\theta \\right)} & - \\sin{\\left(\\theta \\right)} & 0\\end{matrix}\\right]\\left[\\begin{matrix}A_{\\rho}\\\\A_{\\phi}\\\\A_{\\theta}\\end{matrix}\\right]$"
      ],
      "text/plain": [
       "<IPython.core.display.Math object>"
      ]
     },
     "metadata": {},
     "output_type": "display_data"
    }
   ],
   "source": [
    "lesq = sp.latex(Vret)\n",
    "ldir = sp.latex(inversa) + sp.latex(Vesf)\n",
    "eq = lesq + ' = ' + ldir\n",
    "display(Math(eq))"
   ]
  }
 ],
 "metadata": {
  "kernelspec": {
   "display_name": "Python 3 (ipykernel)",
   "language": "python",
   "name": "python3"
  },
  "language_info": {
   "codemirror_mode": {
    "name": "ipython",
    "version": 3
   },
   "file_extension": ".py",
   "mimetype": "text/x-python",
   "name": "python",
   "nbconvert_exporter": "python",
   "pygments_lexer": "ipython3",
   "version": "3.11.2"
  },
  "vscode": {
   "interpreter": {
    "hash": "e1735dd0795dce195fb98475ccf229151ed44a61fb274eb18cdb7c8302916985"
   }
  }
 },
 "nbformat": 4,
 "nbformat_minor": 4
}
