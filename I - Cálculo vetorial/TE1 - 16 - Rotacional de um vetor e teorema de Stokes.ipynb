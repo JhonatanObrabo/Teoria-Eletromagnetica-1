{
 "cells": [
  {
   "attachments": {},
   "cell_type": "markdown",
   "id": "a2243965",
   "metadata": {},
   "source": [
    "*Macros*\n",
    "$\\newcommand{\\ax}{\\mathbf{a}_x}$\n",
    "$\\newcommand{\\ay}{\\mathbf{a}_y}$\n",
    "$\\newcommand{\\az}{\\mathbf{a}_z}$\n",
    "$\\newcommand{\\arho}{\\mathbf{a}_\\rho}$\n",
    "$\\newcommand{\\ap}{\\mathbf{a}_\\phi}$\n",
    "$\\newcommand{\\ar}{\\mathbf{a}_r}$\n",
    "$\\newcommand{\\at}{\\mathbf{a}_\\theta}$\n",
    "$\\newcommand{\\grad}[1]{\\nabla #1}$\n",
    "$\\renewcommand{\\div}[1]{\\mathbf{\\nabla} \\cdot \\mathbf{#1}}$\n",
    "$\\newcommand{\\rot}[1]{\\mathbf{\\nabla} \\times \\mathbf{#1}}$\n",
    "$\\newcommand{\\parcial}[2]{\\frac{\\partial #1}{\\partial #2}}$"
   ]
  },
  {
   "cell_type": "markdown",
   "id": "b25518e0",
   "metadata": {},
   "source": [
    "# Rotacional de um vetor"
   ]
  },
  {
   "cell_type": "markdown",
   "id": "27ae18f6",
   "metadata": {},
   "source": [
    "Anteriormente definimos a circulação de um campo $\\mathbf{A}$ ao redor de um caminho fechado $L$ como a integral $\\oint_{L} \\mathbf{A}\\cdot d \\mathbf{l}$. \n",
    "\n",
    "Lembre-se que um caminho fechado define uma superfície no espaço. \n",
    "\n",
    "O rotacional de $\\mathbf{A}$ é um vetor axial (ou rotacional) cuja magnitude é igual à máxima circulação de $\\mathbf{A}$ por unidade de área, à medida que a área tende a zero e cuja direção é normal (perpendicular) à direção da área, quando a mesma é orientada a promover máxima circulação.\n",
    "$$\n",
    "\\begin{align}\n",
    "    \\text{rot }\\mathbf{A} = \\rot{A} = \\lim_{\\Delta S\\rightarrow 0} \\frac{\\displaystyle\\oint_L \\mathbf{A}\\cdot d\\mathbf{l}}{\\Delta S}\\,\\mathbf{a}_n\n",
    "\\end{align}\n",
    "$$"
   ]
  },
  {
   "cell_type": "markdown",
   "id": "3055113d",
   "metadata": {},
   "source": [
    "O rotacional do campo vetorial $\\mathbf{A}$ em um determinado ponto representa o quanto o campo \"se enrosca\" em torno do do ponto. Um campo que não possui percursos fechados possui rotacional zero. "
   ]
  },
  {
   "attachments": {},
   "cell_type": "markdown",
   "id": "ec26f94d",
   "metadata": {},
   "source": [
    "Rotacional em coordenadas cartesianas:\n",
    "$$\n",
    "\\begin{align}\n",
    "    \\rot{A} &= \\left[\\parcial{A_z}{y}-\\parcial{A_y}{z}\\right]\\ax+ \\left[\\parcial{A_x}{z}-\\parcial{A_z}{x}\\right]\\ay+\\left[\\parcial{A_y}{x}-\\parcial{A_x}{y}\\right]\\az\\\\\n",
    "    &= \\left|\\begin{array}{ccc} \\ax & \\ay & \\az\\\\ \\parcial{}{x} & \\parcial{}{y} & \\parcial{}{z}\\\\ A_x &A_y & A_z\\end{array}\\right|\n",
    "\\end{align}\n",
    "$$\n",
    "\n",
    "Em coordenadas cilíndricas:\n",
    "$$\n",
    "\\begin{align}\n",
    "    \\rot{A} = \\frac{1}{\\rho}\\,\\left|\\begin{array}{ccc} \\arho & \\rho\\ap & \\az\\\\ \n",
    "    \\parcial{}{\\rho} & \\parcial{}{\\phi} & \\parcial{}{z}\\\\ \n",
    "    A_\\rho & \\rho A_\\phi & A_z\\end{array}\\right|\n",
    "\\end{align}\n",
    "$$\n",
    "\n",
    "Em coordenadas esféricas:\n",
    "$$\n",
    "\\begin{align}\n",
    "    \\rot{A} = \\frac{1}{r^2\\sin\\theta}\\,\\left|\\begin{array}{ccc} \\ar & r\\,\\at & r\\sin\\theta\\,\\ap\\\\ \n",
    "    \\parcial{}{r} & \\parcial{}{\\theta} & \\parcial{}{\\phi}\\\\ \n",
    "    A_r & rA_\\theta & r\\sin\\theta\\,A_\\phi\\end{array}\\right|\n",
    "\\end{align}\n",
    "$$"
   ]
  },
  {
   "attachments": {},
   "cell_type": "markdown",
   "id": "93964eed",
   "metadata": {},
   "source": [
    "\n",
    "**Observações**  \n",
    "- O rotacional de um vetor produz um outro vetor\n",
    "- $\\rot{(A+B)} = \\rot{A}+\\rot{B}$  \n",
    "- $\\nabla\\times{(V\\mathbf{A})} = V\\rot{A}+\\grad{V}\\times \\mathbf{A}$\n",
    "- $\\div{(\\rot{A})}=0$\n",
    "- $\\nabla\\times{\\grad{V}}= \\mathbf{0}$"
   ]
  },
  {
   "cell_type": "markdown",
   "id": "3595d232",
   "metadata": {},
   "source": [
    "## Teorema de Stokes"
   ]
  },
  {
   "cell_type": "markdown",
   "id": "857c9696",
   "metadata": {},
   "source": [
    "A circulação de um vetor $\\mathbf{A}$ ao redor de um caminho fechado $L$ é igual à integral de superfície do rotacional de $\\mathbf{A}$ sobre a superfície (aberta) delimitada pelo percurso $L$ (supondo $\\mathbf{A}$ e $\\rot{A}$ contínuos em $S$).\n",
    "$$\n",
    "\\begin{align}\n",
    "    \\oint_L \\mathbf{A}\\cdot d\\mathbf{l} = \\int_S (\\rot{A})\\cdot d\\mathbf{S}\n",
    "\\end{align}\n",
    "$$"
   ]
  },
  {
   "cell_type": "markdown",
   "id": "3d83666c",
   "metadata": {},
   "source": [
    "**Exemplo 3.8:** Determine o rotacional dos campos do exemplo 3.6  \n",
    "(a) $\\mathbf{P} = x^2yz\\,\\ax+xz\\,\\az$  \n",
    "(b) $\\mathbf{Q} = \\rho \\,\\sin\\phi\\,\\arho+\\rho^2z\\,\\ap+z\\cos\\phi \\,\\az$  \n",
    "(c) $\\mathbf{T} = \\displaystyle\\frac{\\cos\\theta}{r^2}\\,\\ar+r\\, \\sin \\theta\\, \\cos \\phi\\, \\at+\\cos \\theta\\, \\ap$"
   ]
  },
  {
   "cell_type": "code",
   "execution_count": 1,
   "id": "f6fcfedd",
   "metadata": {},
   "outputs": [],
   "source": [
    "import sympy as sp"
   ]
  },
  {
   "cell_type": "code",
   "execution_count": 3,
   "id": "400db98b",
   "metadata": {},
   "outputs": [
    {
     "data": {
      "text/latex": [
       "$\\displaystyle \\left[\\begin{matrix}0\\\\x^{2} y - z\\\\- x^{2} z\\end{matrix}\\right]$"
      ],
      "text/plain": [
       "Matrix([\n",
       "[         0],\n",
       "[x**2*y - z],\n",
       "[   -x**2*z]])"
      ]
     },
     "execution_count": 3,
     "metadata": {},
     "output_type": "execute_result"
    }
   ],
   "source": [
    "# (a)\n",
    "x,y,z = sp.symbols(['x', 'y', 'z'])\n",
    "P = sp.Matrix([x**2*y*z, 0, x*z])\n",
    "def rot_cart(A):\n",
    "    Ax = A[0]\n",
    "    Ay = A[1]\n",
    "    Az = A[2]\n",
    "    Rx = sp.diff(Az,y)-sp.diff(Ay,z)\n",
    "    Ry = sp.diff(Ax,z)-sp.diff(Az,x)\n",
    "    Rz = sp.diff(Ay,x)-sp.diff(Ax,y)\n",
    "    return sp.Matrix([Rx, Ry, Rz])\n",
    "rot_cart(P)"
   ]
  },
  {
   "cell_type": "code",
   "execution_count": 12,
   "id": "782e64cb",
   "metadata": {},
   "outputs": [
    {
     "data": {
      "text/latex": [
       "$\\displaystyle \\left[\\begin{matrix}- \\frac{\\rho^{3} + z \\sin{\\left(\\phi \\right)}}{\\rho}\\\\0\\\\3 \\rho z - \\cos{\\left(\\phi \\right)}\\end{matrix}\\right]$"
      ],
      "text/plain": [
       "Matrix([\n",
       "[-(rho**3 + z*sin(phi))/rho],\n",
       "[                         0],\n",
       "[        3*rho*z - cos(phi)]])"
      ]
     },
     "execution_count": 12,
     "metadata": {},
     "output_type": "execute_result"
    }
   ],
   "source": [
    "# (b)\n",
    "rho, phi = sp.symbols(['rho','phi'])\n",
    "from sympy import sin, cos\n",
    "def rot_cil(A):\n",
    "    Arho = A[0]\n",
    "    Aphi = A[1]\n",
    "    Az = A[2]\n",
    "    Rrho = (1/rho)*sp.diff(Az,phi)-sp.diff(Aphi,z)\n",
    "    Rphi = sp.diff(Arho,z)-sp.diff(Az,rho)\n",
    "    Rz = (1/rho)*(sp.diff(rho*Aphi,rho)-sp.diff(Arho,phi))\n",
    "    return sp.Matrix([Rrho, Rphi, Rz])\n",
    "\n",
    "Q = sp.Matrix([rho*sin(phi), rho**2*z, z*cos(phi)])\n",
    "sp.simplify(rot_cil(Q))"
   ]
  },
  {
   "cell_type": "code",
   "execution_count": 20,
   "id": "431b0bf5",
   "metadata": {},
   "outputs": [
    {
     "data": {
      "text/latex": [
       "$\\displaystyle \\left[\\begin{matrix}\\frac{r \\sin{\\left(\\phi \\right)} \\sin{\\left(\\theta \\right)} - \\sin^{2}{\\left(\\theta \\right)} + \\cos^{2}{\\left(\\theta \\right)}}{r \\sin{\\left(\\theta \\right)}}\\\\- \\frac{\\cos{\\left(\\theta \\right)}}{r}\\\\\\frac{2 r \\sin{\\left(\\theta \\right)} \\cos{\\left(\\phi \\right)} + \\frac{\\sin{\\left(\\theta \\right)}}{r^{2}}}{r}\\end{matrix}\\right]$"
      ],
      "text/plain": [
       "Matrix([\n",
       "[(r*sin(phi)*sin(theta) - sin(theta)**2 + cos(theta)**2)/(r*sin(theta))],\n",
       "[                                                         -cos(theta)/r],\n",
       "[                         (2*r*sin(theta)*cos(phi) + sin(theta)/r**2)/r]])"
      ]
     },
     "execution_count": 20,
     "metadata": {},
     "output_type": "execute_result"
    }
   ],
   "source": [
    "#(c)\n",
    "r, theta = sp.symbols(['r', 'theta'])\n",
    "from sympy import diff\n",
    "T = sp.Matrix([cos(theta)/r**2, r*sin(theta)*cos(phi), cos(theta)])\n",
    "def rot_esf(A):\n",
    "    Ar = A[0]\n",
    "    Ath = A[1]\n",
    "    Aphi = A[2]\n",
    "    Xr = (1/(r*sin(theta))) * (diff(Aphi*sin(theta),theta)-diff(Ath,phi))\n",
    "    Xth = (1/r)*((1/sin(theta))*diff(Ar,phi)-diff(r*Aphi,r))\n",
    "    Xphi = (1/r)*(diff(r*Ath,r)-diff(Ar,theta))\n",
    "    return sp.Matrix([Xr, Xth, Xphi])\n",
    "\n",
    "(rot_esf(T))\n"
   ]
  },
  {
   "attachments": {},
   "cell_type": "markdown",
   "id": "12af53a5",
   "metadata": {},
   "source": [
    "<center> <img src='Pratico3.8.svg'> </center>\n",
    "\n",
    "<center> <img src='Pratico3.6.svg'> </center>"
   ]
  },
  {
   "cell_type": "markdown",
   "id": "609e4967",
   "metadata": {},
   "source": [
    "**Exemplo 3.9:** Se $\\mathbf{A}=\\rho\\, \\cos \\phi\\, \\arho+\\sin\\phi \\,\\ap$, avalie a circulação de $\\mathbf{A}$ ao redor do caminho ilustrado na Fig.3.23. Confirme o resultado pelo teorema de Stokes. \n",
    "\n",
    "<p align=\"center\">\n",
    "    <img src=\"Fig3.23.svg\">\n",
    "</p>"
   ]
  },
  {
   "cell_type": "code",
   "execution_count": 30,
   "id": "b5e26632",
   "metadata": {},
   "outputs": [],
   "source": [
    "A = sp.Matrix([rho*cos(phi),sin(phi),0])\n",
    "from sympy import pi, Integral,latex\n",
    "from IPython.display import display, Math"
   ]
  },
  {
   "cell_type": "code",
   "execution_count": 31,
   "id": "06916685",
   "metadata": {},
   "outputs": [
    {
     "data": {
      "text/latex": [
       "$\\displaystyle \\int\\limits_{\\frac{\\pi}{3}}^{\\frac{\\pi}{6}} 2 \\sin{\\left(\\phi \\right)}\\, d\\phi=1 - \\sqrt{3}$"
      ],
      "text/plain": [
       "<IPython.core.display.Math object>"
      ]
     },
     "metadata": {},
     "output_type": "display_data"
    }
   ],
   "source": [
    "# trecho ab\n",
    "dl1 = sp.Matrix([0, rho, 0])\n",
    "limite = [(phi,60*pi/180,30*pi/180)]\n",
    "linha = [(rho,2)]\n",
    "A.dot(dl1).subs(linha)\n",
    "I_ab = Integral(A.dot(dl1).subs(linha),limite[0])\n",
    "display(Math(latex(I_ab) + '=' + latex(I_ab.doit())))"
   ]
  },
  {
   "cell_type": "code",
   "execution_count": 32,
   "id": "e4263d21",
   "metadata": {},
   "outputs": [
    {
     "data": {
      "text/latex": [
       "$\\displaystyle \\int\\limits_{2}^{5} \\frac{\\sqrt{3} \\rho}{2}\\, d\\rho=\\frac{21 \\sqrt{3}}{4}$"
      ],
      "text/plain": [
       "<IPython.core.display.Math object>"
      ]
     },
     "metadata": {},
     "output_type": "display_data"
    }
   ],
   "source": [
    "# trecho bc\n",
    "dl2 = sp.Matrix([1, 0, 0])\n",
    "limite = [(rho,2,5)]\n",
    "linha = [(phi,30*pi/180)]\n",
    "I_bc = Integral(A.dot(dl2).subs(linha),limite[0])\n",
    "display(Math(latex(I_bc) + '=' + latex(I_bc.doit())))"
   ]
  },
  {
   "cell_type": "code",
   "execution_count": 34,
   "id": "a6966ea6",
   "metadata": {},
   "outputs": [
    {
     "data": {
      "text/latex": [
       "$\\displaystyle \\int\\limits_{\\frac{\\pi}{6}}^{\\frac{\\pi}{3}} 5 \\sin{\\left(\\phi \\right)}\\, d\\phi=- \\frac{5}{2} + \\frac{5 \\sqrt{3}}{2}$"
      ],
      "text/plain": [
       "<IPython.core.display.Math object>"
      ]
     },
     "metadata": {},
     "output_type": "display_data"
    }
   ],
   "source": [
    "# trecho cd\n",
    "dl3 = sp.Matrix([0, rho, 0])\n",
    "limite = [(phi,30*pi/180,60*pi/180)]\n",
    "linha = [(rho,5),(z,0)]\n",
    "I_cd = Integral(A.dot(dl3).subs(linha),limite[0])\n",
    "display(Math(latex(I_cd) + '=' + latex(I_cd.doit())))"
   ]
  },
  {
   "cell_type": "code",
   "execution_count": 35,
   "id": "2e76b8f1",
   "metadata": {},
   "outputs": [
    {
     "data": {
      "text/latex": [
       "$\\displaystyle \\int\\limits_{5}^{2} \\frac{\\rho}{2}\\, d\\rho=- \\frac{21}{4}$"
      ],
      "text/plain": [
       "<IPython.core.display.Math object>"
      ]
     },
     "metadata": {},
     "output_type": "display_data"
    }
   ],
   "source": [
    "# trecho da\n",
    "dl4 = sp.Matrix([1, 0, 0])\n",
    "limite = [(rho,5,2)]\n",
    "linha = [(phi,60*pi/180),(z,0)]\n",
    "I_da = Integral(A.dot(dl4).subs(linha),limite[0])\n",
    "display(Math(latex(I_da) + '=' + latex(I_da.doit())))"
   ]
  },
  {
   "cell_type": "code",
   "execution_count": 39,
   "id": "31759e19",
   "metadata": {},
   "outputs": [
    {
     "data": {
      "text/latex": [
       "$\\displaystyle \\int\\limits_{5}^{2} \\frac{\\rho}{2}\\, d\\rho + \\int\\limits_{\\frac{\\pi}{3}}^{\\frac{\\pi}{6}} 2 \\sin{\\left(\\phi \\right)}\\, d\\phi + \\int\\limits_{\\frac{\\pi}{6}}^{\\frac{\\pi}{3}} 5 \\sin{\\left(\\phi \\right)}\\, d\\phi + \\int\\limits_{2}^{5} \\frac{\\sqrt{3} \\rho}{2}\\, d\\rho$"
      ],
      "text/plain": [
       "<IPython.core.display.Math object>"
      ]
     },
     "metadata": {},
     "output_type": "display_data"
    },
    {
     "data": {
      "text/latex": [
       "$\\displaystyle - \\frac{27}{4} + \\frac{27 \\sqrt{3}}{4}$"
      ],
      "text/plain": [
       "<IPython.core.display.Math object>"
      ]
     },
     "metadata": {},
     "output_type": "display_data"
    }
   ],
   "source": [
    "I = I_ab + I_bc + I_cd + I_da\n",
    "display(Math(latex(I)))\n",
    "display(Math(latex(I.doit())))\n"
   ]
  },
  {
   "cell_type": "code",
   "execution_count": 45,
   "id": "6ee4a9ff",
   "metadata": {},
   "outputs": [
    {
     "data": {
      "text/latex": [
       "$\\displaystyle \\int\\limits_{\\frac{\\pi}{6}}^{\\frac{\\pi}{3}}\\int\\limits_{2}^{5} \\left(\\rho \\sin{\\left(\\phi \\right)} + \\sin{\\left(\\phi \\right)}\\right)\\, d\\rho\\, d\\phi=- \\frac{27}{4} + \\frac{27 \\sqrt{3}}{4}$"
      ],
      "text/plain": [
       "<IPython.core.display.Math object>"
      ]
     },
     "metadata": {},
     "output_type": "display_data"
    }
   ],
   "source": [
    "# usando teorema de stokes\n",
    "dS = sp.Matrix([0, 0, rho])\n",
    "limite = [(rho,2,5),(phi,30*pi/180,60*pi/180)]\n",
    "area = [(z,0)]\n",
    "I_S = Integral(rot_cil(A).dot(dS).subs(area),limite[0],limite[1])\n",
    "display(Math(latex(I_S) + '=' + latex(I_S.doit())))"
   ]
  },
  {
   "attachments": {},
   "cell_type": "markdown",
   "id": "e7809df5",
   "metadata": {},
   "source": [
    "<center> <img src='Pratico3.9.svg'> </center>"
   ]
  }
 ],
 "metadata": {
  "kernelspec": {
   "display_name": "Python 3 (ipykernel)",
   "language": "python",
   "name": "python3"
  },
  "language_info": {
   "codemirror_mode": {
    "name": "ipython",
    "version": 3
   },
   "file_extension": ".py",
   "mimetype": "text/x-python",
   "name": "python",
   "nbconvert_exporter": "python",
   "pygments_lexer": "ipython3",
   "version": "3.11.1"
  }
 },
 "nbformat": 4,
 "nbformat_minor": 5
}
