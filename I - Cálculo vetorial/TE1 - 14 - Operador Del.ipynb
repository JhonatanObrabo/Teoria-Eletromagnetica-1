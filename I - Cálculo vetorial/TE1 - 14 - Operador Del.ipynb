{
 "cells": [
  {
   "attachments": {},
   "cell_type": "markdown",
   "id": "3a85463a",
   "metadata": {
    "jupyter": {
     "source_hidden": true
    },
    "tags": []
   },
   "source": [
    "$\\newcommand{\\ax}{\\mathbf{a}_x}$\n",
    "$\\newcommand{\\ay}{\\mathbf{a}_y}$\n",
    "$\\newcommand{\\az}{\\mathbf{a}_z}$\n",
    "$\\newcommand{\\arho}{\\mathbf{a}_\\rho}$\n",
    "$\\newcommand{\\ap}{\\mathbf{a}_\\phi}$\n",
    "$\\newcommand{\\ar}{\\mathbf{a}_r}$\n",
    "$\\newcommand{\\at}{\\mathbf{a}_\\theta}$\n",
    "$\\newcommand{\\grad}[1]{\\nabla #1}$\n",
    "$\\renewcommand{\\div}[1]{\\mathbf{\\nabla} \\cdot \\mathbf{#1}}$\n",
    "$\\newcommand{\\rot}[1]{\\mathbf{\\nabla} \\times \\mathbf{#1}}$\n",
    "$\\newcommand{\\parcial}[2]{\\frac{\\partial #1}{\\partial #2}}$"
   ]
  },
  {
   "cell_type": "markdown",
   "id": "52bd4ddd",
   "metadata": {},
   "source": []
  },
  {
   "cell_type": "markdown",
   "id": "b25518e0",
   "metadata": {},
   "source": [
    "# Operador Del (ou Nabla) - $\\nabla$"
   ]
  },
  {
   "cell_type": "markdown",
   "id": "49bc2546",
   "metadata": {
    "tags": []
   },
   "source": [
    "O operador nabla, escrito $\\nabla$, é um operador vetorial diferencial. Em coordenadas cartesianas:\n",
    "\n",
    "$$\n",
    "\\begin{align}\n",
    "\\nabla = \\frac{\\partial}{\\partial x}\\ax+\\frac{\\partial}{\\partial y}\\ay+\\frac{\\partial}{\\partial z}\\az\n",
    "\\end{align}\n",
    "$$\n",
    "\n",
    "O operador também é conhecido como operador gradiente.\n",
    "\n",
    "Não se trata de um vetor propriamente dito. Ele sozinho não tem significado, mas acabamos tratando ele como vetor nas operações, produzindo assim uma interpretação que faz sentido. \n",
    "\n",
    "Por exemplo:\n",
    "- O gradiente de um escalar $V$ é escrito $\\grad{V}$\n",
    "- O divergente de um vetor $\\mathbf{A}$ é escrito $\\div{A}$\n",
    "- O rotacional de um vetor $\\mathbf{A}$ é escrito $\\rot{A}$\n",
    "- O Laplaciano de um escalar $V$ é escrito $\\nabla^2V$"
   ]
  },
  {
   "attachments": {},
   "cell_type": "markdown",
   "id": "da9f9296",
   "metadata": {},
   "source": [
    "## $\\nabla$ em outros sistemas de coordenadas\n",
    "\n",
    "Cilíndricas:  \n",
    "$$\n",
    "\\begin{align}\n",
    "    \\nabla &= \\arho\\, \\frac{\\partial}{\\partial \\rho}+\\ap\\,\\frac{1}{\\rho}\\,\\frac{\\partial }{\\partial \\phi} + \\az \\frac{\\partial}{\\partial z}\n",
    "\\end{align}\n",
    "$$\n",
    "\n",
    "Esféricas:  \n",
    "$$\n",
    "\\begin{align}\n",
    "    \\nabla &= \\ar\\, \\frac{\\partial}{\\partial r}+\\at\\,\\frac{1}{r}\\,\\frac{\\partial }{\\partial \\theta} + \\ap \\frac{1}{r\\,\\sin \\theta}\\frac{\\partial}{\\partial \\phi}\n",
    "\\end{align}\n",
    "$$\n",
    "\n"
   ]
  },
  {
   "attachments": {},
   "cell_type": "markdown",
   "id": "dd700f1b",
   "metadata": {},
   "source": [
    "## Gradiente\n",
    "\n",
    "O gradiente de um campo escalar $V$ é um vetor que representa a magnitude e a direção da máxima taxa de variação espacial de $V$. \n",
    "$$\n",
    "    \\nabla V = \\frac{\\partial V}{\\partial x}\\mathbf{a}_x\n",
    "    +\\frac{\\partial V}{\\partial y}\\mathbf{a}_y\n",
    "    \\frac{\\partial V}{\\partial z}\\mathbf{a}_z\n",
    "$$\n",
    "\n",
    "\n",
    "O gradiente está associado à diferencial total de uma função $V(x,y,z)$. \n",
    "\n",
    "$$\n",
    "\\begin{align}\n",
    "    dV &= \\parcial{V}{x}\\,dx+\\parcial{V}{y}\\,dy+\\parcial{V}{z}\\,dz\\\\\n",
    "    &= \\left[\\begin{array}{lcr}\n",
    "    \\displaystyle\\parcial{V}{x} & \\displaystyle\\parcial{V}{y} &\\displaystyle\\parcial{V}{z}\n",
    "    \\end{array}\\right]\\cdot \\left[\\begin{array}{ccc}dx\\, & dy\\, & dz\\,\\end{array}\\right]\\\\\n",
    "    &= \\grad{V}\\cdot d\\mathbf{l}\n",
    "\\end{align}\n",
    "$$\n",
    "\n",
    "**Propriedades**\n",
    "- $\\grad{(V+U)} = \\grad{V}+\\grad{U}$\n",
    "- $\\grad{V\\,U} = V\\,\\grad{U}+U\\,\\grad{V}$\n",
    "\n",
    "A magnitude de $\\grad{V}$ é igual à máxima taxa de variação em $V$ por unidade de distância.\n",
    "\n",
    "$\\grad{V}$ aponta para a direção da máxima taxa de variação de $V$\n",
    "\n",
    "Se $\\mathbf{A}= \\grad{V}$ então $V$ é dito o potencial escalar de $\\mathbf{A}$"
   ]
  },
  {
   "cell_type": "markdown",
   "id": "6037b82b",
   "metadata": {},
   "source": [
    "**Exemplo 3.3**: Encontre o gradiente dos seguintes campos escalares  \n",
    "(a) $V= e^{-z}\\sin 2x \\, \\cosh y$  \n",
    "(b) $U = \\rho^2\\,z\\cos 2\\phi$  \n",
    "(c) $W = 10r\\,\\sin^2\\theta\\, \\cos \\phi$\n"
   ]
  },
  {
   "cell_type": "code",
   "execution_count": 2,
   "id": "ca338896",
   "metadata": {},
   "outputs": [],
   "source": [
    "import sympy as sp\n",
    "from sympy import exp, sin, cos, cosh, sinh, Derivative"
   ]
  },
  {
   "cell_type": "code",
   "execution_count": 7,
   "id": "11bef693",
   "metadata": {},
   "outputs": [
    {
     "data": {
      "text/latex": [
       "$\\displaystyle \\left[\\begin{matrix}2 e^{- z} \\cos{\\left(2 x \\right)} \\cosh{\\left(y \\right)}\\\\e^{- z} \\sin{\\left(2 x \\right)} \\sinh{\\left(y \\right)}\\\\- e^{- z} \\sin{\\left(2 x \\right)} \\cosh{\\left(y \\right)}\\end{matrix}\\right]$"
      ],
      "text/plain": [
       "Matrix([\n",
       "[2*exp(-z)*cos(2*x)*cosh(y)],\n",
       "[  exp(-z)*sin(2*x)*sinh(y)],\n",
       "[ -exp(-z)*sin(2*x)*cosh(y)]])"
      ]
     },
     "execution_count": 7,
     "metadata": {},
     "output_type": "execute_result"
    }
   ],
   "source": [
    "# (a)\n",
    "x,y,z = sp.symbols(['x', 'y','z'])\n",
    "V = exp(-z) * sin(2*x) * cosh(y)\n",
    "grad = sp.Matrix([sp.diff(V,x), sp.diff(V,y), sp.diff(V,z)])\n",
    "grad"
   ]
  },
  {
   "cell_type": "code",
   "execution_count": 9,
   "id": "8daa7757",
   "metadata": {},
   "outputs": [
    {
     "data": {
      "text/latex": [
       "$\\displaystyle \\left[\\begin{matrix}2 e^{- z} \\cos{\\left(2 x \\right)} \\cosh{\\left(y \\right)}\\\\e^{- z} \\sin{\\left(2 x \\right)} \\sinh{\\left(y \\right)}\\\\- e^{- z} \\sin{\\left(2 x \\right)} \\cosh{\\left(y \\right)}\\end{matrix}\\right]$"
      ],
      "text/plain": [
       "Matrix([\n",
       "[2*exp(-z)*cos(2*x)*cosh(y)],\n",
       "[  exp(-z)*sin(2*x)*sinh(y)],\n",
       "[ -exp(-z)*sin(2*x)*cosh(y)]])"
      ]
     },
     "execution_count": 9,
     "metadata": {},
     "output_type": "execute_result"
    }
   ],
   "source": [
    "def grad_cart(V):\n",
    "    return sp.Matrix([sp.diff(V,x), sp.diff(V,y), sp.diff(V,z)])\n",
    "\n",
    "grad_cart(V)"
   ]
  },
  {
   "cell_type": "code",
   "execution_count": 10,
   "id": "8f348d00",
   "metadata": {},
   "outputs": [],
   "source": [
    "#(b)\n",
    "rho, phi = sp.symbols(['rho','phi'])\n",
    "def grad_cili(V):\n",
    "    return sp.Matrix([sp.diff(V,rho), \n",
    "                      (1/rho)* sp.diff(V,phi), \n",
    "                      sp.diff(V,z)])    "
   ]
  },
  {
   "cell_type": "code",
   "execution_count": 13,
   "id": "5c3af00c",
   "metadata": {},
   "outputs": [
    {
     "data": {
      "text/latex": [
       "$\\displaystyle \\rho^{2} z \\cos{\\left(2 \\phi \\right)}$"
      ],
      "text/plain": [
       "rho**2*z*cos(2*phi)"
      ]
     },
     "execution_count": 13,
     "metadata": {},
     "output_type": "execute_result"
    }
   ],
   "source": [
    "U = rho**2 * z * cos(2*phi)\n",
    "U\n"
   ]
  },
  {
   "cell_type": "code",
   "execution_count": 15,
   "id": "8731c107",
   "metadata": {},
   "outputs": [
    {
     "data": {
      "text/latex": [
       "$\\displaystyle \\left[\\begin{matrix}2 \\rho z \\cos{\\left(2 \\phi \\right)}\\\\- 2 \\rho z \\sin{\\left(2 \\phi \\right)}\\\\\\rho^{2} \\cos{\\left(2 \\phi \\right)}\\end{matrix}\\right]$"
      ],
      "text/plain": [
       "Matrix([\n",
       "[ 2*rho*z*cos(2*phi)],\n",
       "[-2*rho*z*sin(2*phi)],\n",
       "[  rho**2*cos(2*phi)]])"
      ]
     },
     "execution_count": 15,
     "metadata": {},
     "output_type": "execute_result"
    }
   ],
   "source": [
    "grad_cili(U)"
   ]
  },
  {
   "cell_type": "code",
   "execution_count": 16,
   "id": "ab672a99",
   "metadata": {},
   "outputs": [],
   "source": [
    "# (c)\n",
    "r, theta = sp.symbols(['r','theta'])\n",
    "def grad_esf(V):\n",
    "    return sp.Matrix([sp.diff(V,r), \n",
    "                      (1/r)* sp.diff(V,theta), \n",
    "                      (1/(r*sin(theta)))*sp.diff(V,phi)])"
   ]
  },
  {
   "cell_type": "code",
   "execution_count": 17,
   "id": "0b55e754",
   "metadata": {},
   "outputs": [
    {
     "data": {
      "text/latex": [
       "$\\displaystyle \\left[\\begin{matrix}10 \\sin^{2}{\\left(\\theta \\right)} \\cos{\\left(\\phi \\right)}\\\\20 \\sin{\\left(\\theta \\right)} \\cos{\\left(\\phi \\right)} \\cos{\\left(\\theta \\right)}\\\\- 10 \\sin{\\left(\\phi \\right)} \\sin{\\left(\\theta \\right)}\\end{matrix}\\right]$"
      ],
      "text/plain": [
       "Matrix([\n",
       "[        10*sin(theta)**2*cos(phi)],\n",
       "[20*sin(theta)*cos(phi)*cos(theta)],\n",
       "[          -10*sin(phi)*sin(theta)]])"
      ]
     },
     "execution_count": 17,
     "metadata": {},
     "output_type": "execute_result"
    }
   ],
   "source": [
    "W = 10 * r * sin(theta)**2 * cos(phi)\n",
    "grad_esf(W)"
   ]
  },
  {
   "attachments": {},
   "cell_type": "markdown",
   "id": "e93a0488",
   "metadata": {},
   "source": [
    "<center> <img src='Pratico3.3.svg'> </center>"
   ]
  },
  {
   "cell_type": "markdown",
   "id": "8d64627b",
   "metadata": {},
   "source": [
    "**Exemplo 3.4**: dado $W=x^2y^2+xyz$, calcule $\\grad{W}$ e a derivada direcional $dW/dl$ na direção $3\\ax+4\\ay+12\\az$ em $(2,-1,0)$"
   ]
  },
  {
   "cell_type": "code",
   "execution_count": 23,
   "id": "8815830f",
   "metadata": {},
   "outputs": [
    {
     "data": {
      "text/latex": [
       "$\\displaystyle - \\frac{44}{13}$"
      ],
      "text/plain": [
       "-44/13"
      ]
     },
     "execution_count": 23,
     "metadata": {},
     "output_type": "execute_result"
    }
   ],
   "source": [
    "ponto = [(x,2),(y,-1),(z,0)]\n",
    "W = x**2 * y**2 + x*y*z\n",
    "l = sp.Matrix([3,4,12])\n",
    "al = l/l.norm()\n",
    "(grad_cart(W).subs(ponto)).dot(al) "
   ]
  },
  {
   "attachments": {},
   "cell_type": "markdown",
   "id": "3da85340",
   "metadata": {},
   "source": [
    "<center> <img src='Pratico3.4.svg'> </center>"
   ]
  },
  {
   "cell_type": "markdown",
   "id": "967e7840",
   "metadata": {},
   "source": [
    "**Exemplo 3.5**: encontre o ângulo que a linha $x=y=2z$ intercepta o elipsoide $x^2+y^2+2z^2=10$"
   ]
  },
  {
   "cell_type": "code",
   "execution_count": 28,
   "id": "9fb3c5f5",
   "metadata": {},
   "outputs": [
    {
     "data": {
      "text/latex": [
       "$\\displaystyle 74.206830951736$"
      ],
      "text/plain": [
       "74.2068309517360"
      ]
     },
     "execution_count": 28,
     "metadata": {},
     "output_type": "execute_result"
    }
   ],
   "source": [
    "f = x**2 +y**2 + 2*z**2 -10\n",
    "ponto = [(x,2),(y,2),(z,1)]\n",
    "r = sp.Matrix([2,2,1])\n",
    "n = grad_cart(f).subs(ponto)\n",
    "psi = sp.asin(r.dot(n)/(r.norm()*n.norm()))*180/sp.pi\n",
    "psi.evalf()"
   ]
  }
 ],
 "metadata": {
  "kernelspec": {
   "display_name": "Python 3 (ipykernel)",
   "language": "python",
   "name": "python3"
  },
  "language_info": {
   "codemirror_mode": {
    "name": "ipython",
    "version": 3
   },
   "file_extension": ".py",
   "mimetype": "text/x-python",
   "name": "python",
   "nbconvert_exporter": "python",
   "pygments_lexer": "ipython3",
   "version": "3.11.1"
  }
 },
 "nbformat": 4,
 "nbformat_minor": 5
}
