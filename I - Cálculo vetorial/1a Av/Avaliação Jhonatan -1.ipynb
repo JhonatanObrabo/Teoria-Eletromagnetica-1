{
 "cells": [
  {
   "cell_type": "code",
   "execution_count": 210,
   "metadata": {},
   "outputs": [],
   "source": [
    "import sympy as sp\n",
    "from sympy import sin, cos, latex, pi, Integral\n",
    "from IPython.display import display, Math\n",
    "rho, z, phi = sp.symbols(['rho', 'z', 'phi'])\n",
    "F = sp.Matrix([6*rho**2*sin(phi), z*cos(phi), -7*rho*z])"
   ]
  },
  {
   "cell_type": "code",
   "execution_count": 211,
   "metadata": {},
   "outputs": [],
   "source": [
    "# Questão 1 \n"
   ]
  },
  {
   "attachments": {},
   "cell_type": "markdown",
   "metadata": {},
   "source": [
    "**Questão 2**"
   ]
  },
  {
   "attachments": {},
   "cell_type": "markdown",
   "metadata": {},
   "source": [
    "**Transformação de coordenadas e compontentes**"
   ]
  },
  {
   "cell_type": "code",
   "execution_count": 212,
   "metadata": {},
   "outputs": [],
   "source": [
    "x,y,z = sp.symbols(['x', 'y', 'z'])\n",
    "D = sp.ImmutableMatrix([7*x,-y,4*z])/(x**2+y**2)"
   ]
  },
  {
   "attachments": {},
   "cell_type": "markdown",
   "metadata": {},
   "source": [
    "**Converte cartesiano para cilíndrico**"
   ]
  },
  {
   "cell_type": "code",
   "execution_count": 213,
   "metadata": {},
   "outputs": [],
   "source": [
    "def vetor_cart2cil(Vcart):\n",
    "    cart2cil = [(x,rho*cos(phi)),(y,rho*sin(phi))  ]\n",
    "    ret2cil = sp.ImmutableMatrix([[cos(phi), sin(phi),0],\n",
    "                        [-sin(phi), cos(phi),0],\n",
    "                        [0,0,1]])\n",
    "    Vcil = ret2cil @ Vcart\n",
    "    Vcil = Vcil.subs(cart2cil).simplify()\n",
    "    return Vcil"
   ]
  },
  {
   "attachments": {},
   "cell_type": "markdown",
   "metadata": {},
   "source": [
    "**Vetor cartesiano convertido para coodenadas Cilíndricas**"
   ]
  },
  {
   "cell_type": "code",
   "execution_count": 214,
   "metadata": {},
   "outputs": [
    {
     "data": {
      "text/latex": [
       "$\\displaystyle \\left[\\begin{matrix}\\frac{7 - 8 \\sin^{2}{\\left(\\phi \\right)}}{\\rho}\\\\- \\frac{4 \\sin{\\left(2 \\phi \\right)}}{\\rho}\\\\\\frac{4 z}{\\rho^{2}}\\end{matrix}\\right]$"
      ],
      "text/plain": [
       "Matrix([\n",
       "[(7 - 8*sin(phi)**2)/rho],\n",
       "[      -4*sin(2*phi)/rho],\n",
       "[             4*z/rho**2]])"
      ]
     },
     "execution_count": 214,
     "metadata": {},
     "output_type": "execute_result"
    }
   ],
   "source": [
    "Dcil = vetor_cart2cil(D)\n",
    "Dcil"
   ]
  },
  {
   "cell_type": "code",
   "execution_count": 215,
   "metadata": {},
   "outputs": [
    {
     "data": {
      "text/latex": [
       "$\\displaystyle \\left[\\begin{matrix}1 + \\frac{\\sqrt{5}}{2}\\\\- \\frac{\\sqrt{2 \\sqrt{5} + 10}}{2}\\\\5\\end{matrix}\\right]$"
      ],
      "text/plain": [
       "Matrix([\n",
       "[          1 + sqrt(5)/2],\n",
       "[-sqrt(2*sqrt(5) + 10)/2],\n",
       "[                      5]])"
      ]
     },
     "execution_count": 215,
     "metadata": {},
     "output_type": "execute_result"
    }
   ],
   "source": [
    "Ponto = [(rho,2), (phi, pi/5), (z,5)]\n",
    "Dcil.subs(Ponto).simplify()"
   ]
  },
  {
   "attachments": {},
   "cell_type": "markdown",
   "metadata": {},
   "source": [
    "**Questão3**"
   ]
  },
  {
   "cell_type": "code",
   "execution_count": 216,
   "metadata": {},
   "outputs": [],
   "source": [
    "H = sp.ImmutableMatrix([4*rho*sin(phi), -2*rho*cos(phi),-6*rho])\n",
    "P = [(rho,2), (phi,30*pi/180), (z,-1)]"
   ]
  },
  {
   "cell_type": "code",
   "execution_count": 217,
   "metadata": {},
   "outputs": [
    {
     "data": {
      "text/latex": [
       "$\\displaystyle \\left[\\begin{matrix}\\frac{2 \\sqrt{43}}{43}\\\\- \\frac{\\sqrt{129}}{43}\\\\- \\frac{6 \\sqrt{43}}{43}\\end{matrix}\\right]$"
      ],
      "text/plain": [
       "Matrix([\n",
       "[ 2*sqrt(43)/43],\n",
       "[ -sqrt(129)/43],\n",
       "[-6*sqrt(43)/43]])"
      ]
     },
     "execution_count": 217,
     "metadata": {},
     "output_type": "execute_result"
    }
   ],
   "source": [
    "# A)\n",
    "h = H.subs(P).simplify()\n",
    "aH = h/h.norm()\n",
    "aH"
   ]
  },
  {
   "cell_type": "code",
   "execution_count": 218,
   "metadata": {},
   "outputs": [
    {
     "data": {
      "text/latex": [
       "$\\displaystyle 3 \\sqrt{3}$"
      ],
      "text/plain": [
       "3*sqrt(3)"
      ]
     },
     "execution_count": 218,
     "metadata": {},
     "output_type": "execute_result"
    }
   ],
   "source": [
    "# B)\n",
    "ret2cil = sp.Matrix([[sp.cos(phi), sp.sin(phi),0],[-sp.sin(phi), sp.cos(phi),0],[0,0,1]])\n",
    "cil2ret = ret2cil.inv()\n",
    "h_cart = (cil2ret @ h).subs(P)\n",
    "h_cart[0]"
   ]
  },
  {
   "cell_type": "code",
   "execution_count": 219,
   "metadata": {},
   "outputs": [
    {
     "data": {
      "text/latex": [
       "$\\displaystyle 4$"
      ],
      "text/plain": [
       "4"
      ]
     },
     "execution_count": 219,
     "metadata": {},
     "output_type": "execute_result"
    }
   ],
   "source": [
    "# C)\n",
    "h[0]"
   ]
  }
 ],
 "metadata": {
  "kernelspec": {
   "display_name": "Python 3",
   "language": "python",
   "name": "python3"
  },
  "language_info": {
   "codemirror_mode": {
    "name": "ipython",
    "version": 3
   },
   "file_extension": ".py",
   "mimetype": "text/x-python",
   "name": "python",
   "nbconvert_exporter": "python",
   "pygments_lexer": "ipython3",
   "version": "3.11.2"
  },
  "orig_nbformat": 4
 },
 "nbformat": 4,
 "nbformat_minor": 2
}
