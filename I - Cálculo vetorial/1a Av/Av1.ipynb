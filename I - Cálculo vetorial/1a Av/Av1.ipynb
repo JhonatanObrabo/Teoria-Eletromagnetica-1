{
 "cells": [
  {
   "attachments": {},
   "cell_type": "markdown",
   "metadata": {},
   "source": [
    "### 1a Avaliação - Teoria Eletromagnética - 2023.2\n",
    "\n",
    "$\\newcommand{\\ax}{\\mathbf{a}_x}$\n",
    "$\\newcommand{\\ay}{\\mathbf{a}_y}$\n",
    "$\\newcommand{\\az}{\\mathbf{a}_z}$\n",
    "$\\newcommand{\\arho}{\\mathbf{a}_\\rho}$\n",
    "$\\newcommand{\\ap}{\\mathbf{a}_\\phi}$\n",
    "$\\newcommand{\\ar}{\\mathbf{a}_r}$\n",
    "$\\newcommand{\\at}{\\mathbf{a}_\\theta}$\n",
    "$\\newcommand{\\grad}[1]{\\nabla #1}$\n",
    "$\\renewcommand{\\div}[1]{\\mathbf{\\nabla} \\cdot \\mathbf{#1}}$\n",
    "$\\newcommand{\\rot}[1]{\\mathbf{\\nabla} \\times \\mathbf{#1}}$\n",
    "$\\newcommand{\\parcial}[2]{\\frac{\\partial #1}{\\partial #2}}$"
   ]
  },
  {
   "attachments": {},
   "cell_type": "markdown",
   "metadata": {},
   "source": [
    "*Informe na célula de código abaixo os dados do seu número de matrícula:* \n",
    "- *ano de entrada: 4 primeiros dígitos*\n",
    "- *posição: 4 últimos dígitos, removendo zeros à esquerda.*   \n",
    "\n",
    "*Exemplo: se o seu número é **2014**3394**0099**, então use:\n",
    "ano = 2014 e mat = 99*"
   ]
  },
  {
   "cell_type": "code",
   "execution_count": 1,
   "metadata": {},
   "outputs": [],
   "source": [
    "# Informe aqui o seu ano de entrada\n",
    "ano = 2020\n",
    "# Informe o número correspondente aos 4 últimos dígitos da sua matrícula\n",
    "mat = 21\n",
    "# Agora execute o notebook inteiro."
   ]
  },
  {
   "attachments": {},
   "cell_type": "markdown",
   "metadata": {},
   "source": [
    "*Depois de informar os dados, execute o arquivo inteiro, para gerar as questões. Caso ocorra algum erro, peça ajuda ao professor*\n",
    "\n",
    "*Resolva as questões abaixo, **justificando** todas as respostas. Utilize markdown para escrever texto e Python para fazer as contas.*\n",
    "\n",
    "*O exame é individual. É permitido consulta a material pessoal*"
   ]
  },
  {
   "cell_type": "code",
   "execution_count": 2,
   "metadata": {},
   "outputs": [],
   "source": [
    "# \n",
    "# Não modifique esta célula! Você pode comprometer a sua avaliação.\n",
    "from numpy.random import RandomState\n",
    "from IPython.display import display, Math\n",
    "from sympy import symbols, sin, cos, latex\n",
    "from sympy import ImmutableMatrix as matriz\n",
    "from numpy import arange\n",
    "rng = RandomState(ano+mat)\n",
    "dig = arange(-9,10)\n",
    "dig = dig[dig!=0]\n",
    "n = rng.randint(0,dig.size,20)\n",
    "#n = randint(0,dig.size,20)\n",
    "x,y,z,rho,phi,r,theta = symbols(['x','y','z','rho','phi','r','theta'])\n",
    "def expr(coef, X, a):\n",
    "    termo = ['','','']\n",
    "    for i in range(3):\n",
    "        if coef[i]==0:\n",
    "            termo[i]= ''\n",
    "        else:\n",
    "            if i==0:\n",
    "                if coef[i]==1:\n",
    "                    sinal = ''\n",
    "                    numero = 1\n",
    "                elif coef[i]==-1:\n",
    "                    sinal = '-'\n",
    "                    numero = 1\n",
    "                elif coef[i]>0:\n",
    "                    sinal = ''\n",
    "                    numero = abs(coef[i])\n",
    "                else:\n",
    "                    sinal = '-'\n",
    "                    numero = abs(coef[i])    \n",
    "            else:\n",
    "                if coef[i]==1:\n",
    "                    sinal = '+'\n",
    "                    numero = 1\n",
    "                elif coef[i]==-1:\n",
    "                    sinal = '-'\n",
    "                    numero = 1\n",
    "                elif coef[i]>0:\n",
    "                    sinal = '+'\n",
    "                    numero = abs(coef[i])\n",
    "                else:\n",
    "                    sinal = '-'\n",
    "                    numero = abs(coef[i])\n",
    "        termo[i] = sinal + latex(numero*X[i]) + r'\\,' +a[i]\n",
    "    return (termo)\n",
    "def Q1():\n",
    "    F = matriz([rho**2*sin(phi), z*cos(phi), rho*z])\n",
    "    a = [r'\\mathbf{a}_{\\rho}', r'\\mathbf{a}_{\\phi}', r'\\mathbf{a}_{z}']\n",
    "    coef = dig[n[0:3]]\n",
    "    termos = expr(coef,F,a)\n",
    "    string = r'\\mathbf{F} = ' + ''.join(termos)\n",
    "    return display(Math(string))\n",
    "def Q2():\n",
    "    D = matriz([x, y, 1])\n",
    "    a = [r'\\mathbf{a}_{x}', r'\\mathbf{a}_{y}', r'\\mathbf{a}_{z}']\n",
    "    coef = dig[n[3:6]]\n",
    "    num = expr(coef,D,a)\n",
    "    num = ''.join(num)\n",
    "    den = r'x^2+y^2'\n",
    "    string = r'\\mathbf{D} = \\frac{' + num + '}{' + den + '}'\n",
    "    return display(Math(string))\n",
    "def Q3():\n",
    "    H = matriz([rho*sin(phi), z*rho*cos(phi), rho])\n",
    "    a = [r'\\mathbf{a}_{\\rho}', r'\\mathbf{a}_{\\phi}', r'\\mathbf{a}_{z}']\n",
    "    coef = dig[n[5:8]]\n",
    "    string = r'\\mathbf{H} = ' + ''.join(expr(coef,H,a))\n",
    "    return display(Math(string))\n",
    "def Q4():\n",
    "    coef = dig[n[8:14]]\n",
    "    G = matriz([x*y, coef[4]*x**2-coef[5]*y**2, x*z**2])\n",
    "    a = [r'\\mathbf{a}_{x}', r'\\mathbf{a}_{y}', r'\\mathbf{a}_{z}']\n",
    "    termos = expr(coef,G,a)\n",
    "    num = termos[0]+'+(' +latex(G[1])+')'+  a[1] + termos[2]\n",
    "    string = r'\\mathbf{G} = ' + num\n",
    "    return display(Math(string))\n"
   ]
  },
  {
   "attachments": {},
   "cell_type": "markdown",
   "metadata": {},
   "source": [
    "**(2 pts) - Questão 1.** *Dado o campo:*"
   ]
  },
  {
   "cell_type": "code",
   "execution_count": 3,
   "metadata": {},
   "outputs": [
    {
     "data": {
      "text/latex": [
       "$\\displaystyle \\mathbf{F} = 6 \\rho^{2} \\sin{\\left(\\phi \\right)}\\,\\mathbf{a}_{\\rho}+z \\cos{\\left(\\phi \\right)}\\,\\mathbf{a}_{\\phi}-7 \\rho z\\,\\mathbf{a}_{z}$"
      ],
      "text/plain": [
       "<IPython.core.display.Math object>"
      ]
     },
     "metadata": {},
     "output_type": "display_data"
    }
   ],
   "source": [
    "#\n",
    "Q1()"
   ]
  },
  {
   "attachments": {},
   "cell_type": "markdown",
   "metadata": {},
   "source": [
    "*Calcule o fluxo total gerado por este campo através de um cilindro de raio $5$ e altura 10, cuja base está em $z=-2$.* "
   ]
  },
  {
   "cell_type": "code",
   "execution_count": null,
   "metadata": {},
   "outputs": [],
   "source": [
    "\n"
   ]
  },
  {
   "attachments": {},
   "cell_type": "markdown",
   "metadata": {},
   "source": [
    "**Solução**:"
   ]
  },
  {
   "attachments": {},
   "cell_type": "markdown",
   "metadata": {},
   "source": [
    "**(1 pt) - Questão 2.** *Expresse o campo:*"
   ]
  },
  {
   "cell_type": "code",
   "execution_count": 4,
   "metadata": {},
   "outputs": [
    {
     "data": {
      "text/latex": [
       "$\\displaystyle \\mathbf{D} = \\frac{7 x\\,\\mathbf{a}_{x}-y\\,\\mathbf{a}_{y}+4\\,\\mathbf{a}_{z}}{x^2+y^2}$"
      ],
      "text/plain": [
       "<IPython.core.display.Math object>"
      ]
     },
     "metadata": {},
     "output_type": "display_data"
    }
   ],
   "source": [
    "#\n",
    "Q2()"
   ]
  },
  {
   "attachments": {},
   "cell_type": "markdown",
   "metadata": {},
   "source": [
    "*em coordenadas e componentes cilíndricas. Calcule $\\mathbf{D}$ no ponto cujas coordenadas cilíndricas são $(2,\\frac{\\pi}{5},5)$. Calcule também a projeção de $\\mathbf{D}$ neste ponto sobre o vetor $\\az-2\\arho$* "
   ]
  },
  {
   "attachments": {},
   "cell_type": "markdown",
   "metadata": {},
   "source": [
    "**Solução**:"
   ]
  },
  {
   "attachments": {},
   "cell_type": "markdown",
   "metadata": {},
   "source": [
    "**(1 pt) - Questão 3.** *Seja:*"
   ]
  },
  {
   "cell_type": "code",
   "execution_count": 5,
   "metadata": {},
   "outputs": [
    {
     "data": {
      "text/latex": [
       "$\\displaystyle \\mathbf{H} = 4 \\rho \\sin{\\left(\\phi \\right)}\\,\\mathbf{a}_{\\rho}-2 \\rho z \\cos{\\left(\\phi \\right)}\\,\\mathbf{a}_{\\phi}-6 \\rho\\,\\mathbf{a}_{z}$"
      ],
      "text/plain": [
       "<IPython.core.display.Math object>"
      ]
     },
     "metadata": {},
     "output_type": "display_data"
    }
   ],
   "source": [
    "#\n",
    "Q3()"
   ]
  },
  {
   "attachments": {},
   "cell_type": "markdown",
   "metadata": {},
   "source": [
    "*No ponto $P(2, 30^\\circ, -1)$, determine:*  \n",
    "*a) um vetor unitário ao longo de $\\mathbf{H}$*  \n",
    "*b) a componente de $\\mathbf{H}$ paralela à $\\ay$*  \n",
    "*c) a componente de $\\mathbf{H}$ normal à superfície $\\rho=2$*  "
   ]
  },
  {
   "attachments": {},
   "cell_type": "markdown",
   "metadata": {},
   "source": [
    "**Solução**:"
   ]
  },
  {
   "cell_type": "code",
   "execution_count": null,
   "metadata": {},
   "outputs": [],
   "source": []
  },
  {
   "attachments": {},
   "cell_type": "markdown",
   "metadata": {},
   "source": [
    "**(2 pts) - Questão 4.** *Calcule a integral de linha do campo:*"
   ]
  },
  {
   "cell_type": "code",
   "execution_count": 6,
   "metadata": {},
   "outputs": [
    {
     "data": {
      "text/latex": [
       "$\\displaystyle \\mathbf{G} = 2 x y\\,\\mathbf{a}_{x}+(7 x^{2} - y^{2})\\mathbf{a}_{y}+3 x z^{2}\\,\\mathbf{a}_{z}$"
      ],
      "text/plain": [
       "<IPython.core.display.Math object>"
      ]
     },
     "metadata": {},
     "output_type": "display_data"
    }
   ],
   "source": [
    "#\n",
    "Q4()"
   ]
  },
  {
   "attachments": {},
   "cell_type": "markdown",
   "metadata": {},
   "source": [
    "*no percurso ABCDA, onde os vértices são os pontos:*\n",
    "- $A(0,0,3)$\n",
    "- $B(0,1,3)$\n",
    "- $C(2,1,3)$\n",
    "- $D(2,0,3)$"
   ]
  },
  {
   "attachments": {},
   "cell_type": "markdown",
   "metadata": {},
   "source": [
    "**Solução**:"
   ]
  },
  {
   "cell_type": "code",
   "execution_count": null,
   "metadata": {},
   "outputs": [],
   "source": []
  }
 ],
 "metadata": {
  "kernelspec": {
   "display_name": "Python 3",
   "language": "python",
   "name": "python3"
  },
  "language_info": {
   "codemirror_mode": {
    "name": "ipython",
    "version": 3
   },
   "file_extension": ".py",
   "mimetype": "text/x-python",
   "name": "python",
   "nbconvert_exporter": "python",
   "pygments_lexer": "ipython3",
   "version": "3.11.2"
  },
  "orig_nbformat": 4
 },
 "nbformat": 4,
 "nbformat_minor": 2
}
