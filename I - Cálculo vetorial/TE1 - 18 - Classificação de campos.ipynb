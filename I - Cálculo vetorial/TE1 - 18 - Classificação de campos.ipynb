{
 "cells": [
  {
   "attachments": {},
   "cell_type": "markdown",
   "id": "3a85463a",
   "metadata": {
    "tags": []
   },
   "source": [
    "$\\newcommand{\\ax}{\\mathbf{a}_x}$\n",
    "$\\newcommand{\\ay}{\\mathbf{a}_y}$\n",
    "$\\newcommand{\\az}{\\mathbf{a}_z}$\n",
    "$\\newcommand{\\arho}{\\mathbf{a}_\\rho}$\n",
    "$\\newcommand{\\ap}{\\mathbf{a}_\\phi}$\n",
    "$\\newcommand{\\ar}{\\mathbf{a}_r}$\n",
    "$\\newcommand{\\at}{\\mathbf{a}_\\theta}$\n",
    "$\\newcommand{\\grad}[1]{\\nabla #1}$\n",
    "$\\renewcommand{\\div}[1]{\\mathbf{\\nabla} \\cdot \\mathbf{#1}}$\n",
    "$\\newcommand{\\rot}[1]{\\mathbf{\\nabla} \\times \\mathbf{#1}}$\n",
    "$\\newcommand{\\parcial}[2]{\\displaystyle\\frac{\\partial #1}{\\partial #2}}$\n",
    "$\\newcommand{\\pard}[2]{\\displaystyle\\frac{\\partial^2 {#1}}{\\partial {#2}^2}}$\n",
    "$\\newcommand{\\lapcart}[1]{\\pard{#1}{x}+\\pard{#1}{y}+\\pard{#1}{z}}$\n",
    "$\\newcommand{\\lapcili}[1]{\\frac{1}{\\rho}\\parcial{}{\\rho}\\left(\\rho \\parcial{#1}{\\rho}\\right)+\\frac{1}{\\rho^2}\\pard{#1}{\\phi}+\\pard{#1}{z}}$\n",
    "$\\newcommand{\\lapesf}[1]{\\frac{1}{r^2}\\parcial{}{r}\\left(r^2 \\parcial{#1}{r}\\right)+\\frac{1}{r^2\\sin \\theta }\\left(\\sin \\theta \\, \\parcial{#1}{\\theta}\\right)+\\frac{1}{r^2\\sin \\theta}\\pard{V}{\\phi}}$\n",
    "\n"
   ]
  },
  {
   "attachments": {},
   "cell_type": "markdown",
   "id": "b25518e0",
   "metadata": {},
   "source": [
    "# Classificação de campos"
   ]
  },
  {
   "attachments": {},
   "cell_type": "markdown",
   "id": "7e53519d-02dd-4d8f-83c4-883b41f21742",
   "metadata": {},
   "source": [
    "Campos vetoriais recebem nomes especiais conforme o comportamento de suas divergências ou rotacionais. Existem quatro classificações de interesse."
   ]
  },
  {
   "attachments": {},
   "cell_type": "markdown",
   "id": "773542b7-1940-4c23-81f5-34318e24b8cf",
   "metadata": {},
   "source": [
    "## Campo solenoidal\n",
    "\n",
    "Um campo é solenoidal se seu divergente é nulo, $\\div{A} = 0$.\n",
    "\n",
    "Esse é um campo que não é nem uma fonte nem um sorvedouro (\"ralo\").  Para qualquer superfície fechada no espaço, as linhas de fluxo de $\\mathbf{A}$ que entram na superfície obrigatoriamente saem em algum ponto. \n",
    "\n",
    "Exemplos de campos deste tipo: fluidos incompressíveis, campos magnéticos, densidade de corrente de condução em regime permanente. \n",
    "\n",
    "Um campo solenoidal sempre pode ser descrito como o rotacional de outro campo. Isso se deve ao fato de $\\div{\\left(\\rot{F}\\right)}=0$ sempre. Neste caso, podemos escrever que o campo solenoidal $\\mathbf{A} = \\rot{F}$"
   ]
  },
  {
   "attachments": {},
   "cell_type": "markdown",
   "id": "47331654-862b-49b6-859d-fefc63db0c6f",
   "metadata": {},
   "source": [
    "## Campo irrotacional ou potencial\n",
    "\n",
    "Um campo é potencial quando o rotacional é nulo, $\\rot{A}=\\mathbf{0}$\n",
    "\n",
    "Esses campos são também chamados **conservativos.**\n",
    "\n",
    "Exemplos: campo eletrostático, campo gravitacional.\n",
    "\n",
    "Um campo irrotacional $\\mathbf{A}$ pode sempre ser escrito como o gradiente de um campo escalar $V$, chamado de potencial do campo, isto é $\\mathbf{A} = -\\grad{V}$. Isso ocorre devido à propriedade do rotacional que estabelece que $\\rot{(\\grad{V})} = \\mathbf{0}$"
   ]
  },
  {
   "attachments": {},
   "cell_type": "markdown",
   "id": "22ac2f28-f084-4890-961e-fd022cc1b593",
   "metadata": {},
   "source": [
    "<p align=\"center\">\n",
    "    <img src=\"Fig3.24.svg\">\n",
    "</p>"
   ]
  },
  {
   "attachments": {},
   "cell_type": "markdown",
   "id": "792dbe2b-b5a7-44be-b86c-1809e2ac67ca",
   "metadata": {},
   "source": [
    "## Teorema de Helmholtz\n",
    "\n",
    "Suponha que um campo $\\mathbf{A}$ seja tal que $\\div{A}=\\rho_v$ e $\\rot{A}=\\mathbf{\\rho}_s$, onde $\\rho_v$ e $\\mathbf{\\rho}_s$ são chamadas densidades de fonte e de circulação, respectivamente. \n",
    "\n",
    "Se as duas densidades decaem a zero no infinito, então $\\mathbf{A}$ pode ser escrito como a soma de um campo irrotacional e outro solenoidal, i.e.:\n",
    "$$\n",
    "\\begin{align}\n",
    "\\mathbf{A} = -\\grad{V} + \\rot{B}\n",
    "\\end{align}\n",
    "$$"
   ]
  },
  {
   "attachments": {},
   "cell_type": "markdown",
   "id": "7758ee2b",
   "metadata": {},
   "source": [
    "<center> <img src='./figs/Ex3.12.svg'> </center>"
   ]
  },
  {
   "attachments": {},
   "cell_type": "markdown",
   "id": "5ab095df",
   "metadata": {},
   "source": [
    "<center> <img src='./figs/pratico3.12.svg'> </center>"
   ]
  }
 ],
 "metadata": {
  "kernelspec": {
   "display_name": "Python 3 (ipykernel)",
   "language": "python",
   "name": "python3"
  },
  "language_info": {
   "codemirror_mode": {
    "name": "ipython",
    "version": 3
   },
   "file_extension": ".py",
   "mimetype": "text/x-python",
   "name": "python",
   "nbconvert_exporter": "python",
   "pygments_lexer": "ipython3",
   "version": "3.11.1"
  }
 },
 "nbformat": 4,
 "nbformat_minor": 5
}
