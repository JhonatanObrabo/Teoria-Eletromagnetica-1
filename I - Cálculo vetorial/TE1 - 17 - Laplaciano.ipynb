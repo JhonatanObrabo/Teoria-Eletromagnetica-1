{
 "cells": [
  {
   "attachments": {},
   "cell_type": "markdown",
   "id": "09e0b5ab",
   "metadata": {},
   "source": [
    "$\\newcommand{\\ax}{\\mathbf{a}_x}$\n",
    "$\\newcommand{\\ay}{\\mathbf{a}_y}$\n",
    "$\\newcommand{\\az}{\\mathbf{a}_z}$\n",
    "$\\newcommand{\\arho}{\\mathbf{a}_\\rho}$\n",
    "$\\newcommand{\\ap}{\\mathbf{a}_\\phi}$\n",
    "$\\newcommand{\\ar}{\\mathbf{a}_r}$\n",
    "$\\newcommand{\\at}{\\mathbf{a}_\\theta}$\n",
    "$\\newcommand{\\grad}[1]{\\nabla #1}$\n",
    "$\\renewcommand{\\div}[1]{\\mathbf{\\nabla} \\cdot \\mathbf{#1}}$\n",
    "$\\newcommand{\\rot}[1]{\\mathbf{\\nabla} \\times \\mathbf{#1}}$\n",
    "$\\newcommand{\\parcial}[2]{\\displaystyle\\frac{\\partial #1}{\\partial #2}}$\n",
    "$\\newcommand{\\pard}[2]{\\displaystyle\\frac{\\partial^2 {#1}}{\\partial {#2}^2}}$\n",
    "$\\newcommand{\\lapcart}[1]{\\pard{#1}{x}+\\pard{#1}{y}+\\pard{#1}{z}}$\n",
    "$\\newcommand{\\lapcili}[1]{\\frac{1}{\\rho}\\parcial{}{\\rho}\\left(\\rho \\parcial{#1}{\\rho}\\right)+\\frac{1}{\\rho^2}\\pard{#1}{\\phi}+\\pard{#1}{z}}$\n",
    "$\\newcommand{\\lapesf}[1]{\\frac{1}{r^2}\\parcial{}{r}\\left(r^2 \\parcial{#1}{r}\\right)+\\frac{1}{r^2\\sin \\theta }\\left(\\sin \\theta \\, \\parcial{#1}{\\theta}\\right)+\\frac{1}{r^2\\sin \\theta}\\pard{V}{\\phi}}$"
   ]
  },
  {
   "attachments": {},
   "cell_type": "markdown",
   "id": "b25518e0",
   "metadata": {},
   "source": [
    "# Laplaciano de um escalar"
   ]
  },
  {
   "attachments": {},
   "cell_type": "markdown",
   "id": "8ae2a69d",
   "metadata": {},
   "source": [
    "O Laplaciano de um campo escalar $V$ é escrito $\\nabla^2V$ é definido como a divergência do gradiente de $V$. \n",
    "\n",
    "Em coordenadas cartesianas:  \n",
    "$$\n",
    "\\begin{align}\n",
    "    \\nabla^2V &= \\lapcart{V}\n",
    "\\end{align}\n",
    "$$\n",
    "\n",
    "Coordenadas cilíndricas\n",
    "$$\n",
    "\\begin{align}\n",
    "    \\nabla^2V &= \\lapcili{V}\n",
    "\\end{align}\n",
    "$$\n",
    "\n",
    "Coordenadas esféricas\n",
    "$$\n",
    "\\begin{align}\n",
    "    \\nabla^2V &= \\lapesf{V}\n",
    "\\end{align}\n",
    "$$\n",
    "\n"
   ]
  },
  {
   "attachments": {},
   "cell_type": "markdown",
   "id": "69105ab3-3afb-4be2-a64b-eebae35d04bd",
   "metadata": {},
   "source": [
    "Um campo escalar é dito **harmônico** em uma dada região se o Laplaciano se anula naquela região.  \n",
    "$$\n",
    "\\begin{align}\n",
    "    \\nabla^2 V = 0\n",
    "\\end{align}\n",
    "$$"
   ]
  },
  {
   "attachments": {},
   "cell_type": "markdown",
   "id": "52fe5988-b012-435b-b004-02d9ad8e926e",
   "metadata": {},
   "source": [
    "## Laplaciano de um vetor"
   ]
  },
  {
   "attachments": {},
   "cell_type": "markdown",
   "id": "c8d786ec-90cb-4381-a5f4-e490d632853a",
   "metadata": {},
   "source": [
    "Podemos também definir o Laplaciano de um vetor. \n",
    "\n",
    "A simbologia é a mesma do Laplaciano do escalar. Neste caso, você deve atentar ao contexto para saber o que usar.\n",
    "\n",
    "O Laplaciano de um campo $\\mathbf{A}$ vetorial é definido como:\n",
    "$$\n",
    "\\begin{align}\n",
    "    \\nabla^2 \\mathbf{A} = \\grad{\\left(\\div{A}\\right)} - \\rot{\\rot{A}}\n",
    "\\end{align}\n",
    "$$\n",
    "\n",
    "Essa é a definição geral, e pode ser usada para calcular o Laplaciano de um vetor em qualquer sistema de coordenadas.\n",
    "\n",
    "Apenas no sistema cartesiano, a expressão fechada é simples:\n",
    "$$\n",
    "\\begin{align}\n",
    "    \\nabla^2 \\mathbf{A} = \\nabla^2 A_x\\, \\ax + \\nabla^2 A_y\\, \\ay + \\nabla^2 A_z\\, \\az\n",
    "\\end{align}\n",
    "$$"
   ]
  },
  {
   "attachments": {},
   "cell_type": "markdown",
   "id": "c201938c-a1d5-47df-a5fa-4e7d2850dde0",
   "metadata": {},
   "source": [
    "## **Exemplo**: \n",
    "\n",
    "Encontre o Laplaciano dos seguintes campos escalares:  \n",
    "(a) $V= e^{-z}\\sin 2x\\, \\cosh y$  \n",
    "(b) $U=\\rho^2\\,z\\, \\cos 2\\phi$  \n",
    "(c) $W = 10r\\,\\sin^2\\theta\\,\\cos \\phi$"
   ]
  },
  {
   "cell_type": "code",
   "execution_count": 2,
   "id": "a1a77b1b",
   "metadata": {},
   "outputs": [],
   "source": [
    "import sympy as sp\n",
    "from sympy import symbols, sin, cos, exp, latex, cosh, diff\n",
    "x,y,z = symbols(['x','y', 'z'])\n",
    "rho,phi = symbols(['rho', 'phi'])\n",
    "r, theta = symbols(['r','theta'])"
   ]
  },
  {
   "cell_type": "code",
   "execution_count": 3,
   "id": "5039c74f",
   "metadata": {},
   "outputs": [
    {
     "data": {
      "text/latex": [
       "$\\displaystyle - 2 e^{- z} \\sin{\\left(2 x \\right)} \\cosh{\\left(y \\right)}$"
      ],
      "text/plain": [
       "-2*exp(-z)*sin(2*x)*cosh(y)"
      ]
     },
     "execution_count": 3,
     "metadata": {},
     "output_type": "execute_result"
    }
   ],
   "source": [
    "# (a)\n",
    "def lap_cart(V):\n",
    "    return diff(V,x,2) + diff(V,y,2) + diff(V,z,2)\n",
    "\n",
    "V = exp(-z)*sin(2*x)*cosh(y)\n",
    "lap_cart(V)"
   ]
  },
  {
   "cell_type": "code",
   "execution_count": 9,
   "id": "c11259d5",
   "metadata": {},
   "outputs": [
    {
     "data": {
      "text/latex": [
       "$\\displaystyle 0$"
      ],
      "text/plain": [
       "0"
      ]
     },
     "execution_count": 9,
     "metadata": {},
     "output_type": "execute_result"
    }
   ],
   "source": [
    "# (b)\n",
    "def lap_cil(V):\n",
    "    L = (1/rho)*diff(rho*diff(V,rho),rho) + \\\n",
    "        (1/rho**2)*diff(V,phi,2) + diff(V,z,2)\n",
    "    return L\n",
    "\n",
    "U = rho**2*z*cos(2*phi)\n",
    "lap_cil(U)"
   ]
  },
  {
   "cell_type": "code",
   "execution_count": 16,
   "id": "c8c9bd7f",
   "metadata": {},
   "outputs": [
    {
     "data": {
      "text/latex": [
       "$\\displaystyle \\frac{10 \\cdot \\left(4 \\cos^{2}{\\left(\\theta \\right)} - 1\\right) \\cos{\\left(\\phi \\right)}}{r}$"
      ],
      "text/plain": [
       "10*(4*cos(theta)**2 - 1)*cos(phi)/r"
      ]
     },
     "metadata": {},
     "output_type": "display_data"
    },
    {
     "data": {
      "text/latex": [
       "$\\displaystyle \\frac{10 \\cdot \\left(2 \\cos{\\left(2 \\theta \\right)} + 1\\right) \\cos{\\left(\\phi \\right)}}{r}$"
      ],
      "text/plain": [
       "10*(2*cos(2*theta) + 1)*cos(phi)/r"
      ]
     },
     "execution_count": 16,
     "metadata": {},
     "output_type": "execute_result"
    }
   ],
   "source": [
    "# (c)\n",
    "def lap_esf(V):\n",
    "    return (1/r**2)*diff(r**2*diff(V,r),r) + \\\n",
    "        (1/(r**2*sin(theta)))*diff(sin(theta)*diff(V,theta),theta) + \\\n",
    "        (1/(r**2*sin(theta)**2))*diff(V,phi,2)\n",
    "\n",
    "W = 10*r*sin(theta)**2*cos(phi)\n",
    "Lc = lap_esf(W).simplify()\n",
    "from IPython.display import display\n",
    "display(Lc)\n",
    "Lc.subs({cos(theta)**2 : (1+cos(2*theta))/2})"
   ]
  },
  {
   "attachments": {},
   "cell_type": "markdown",
   "id": "a5dac52e",
   "metadata": {},
   "source": [
    "<center> <img src='./figs/Pratico3.11.svg'> </center>"
   ]
  },
  {
   "cell_type": "code",
   "execution_count": 22,
   "id": "2f349325",
   "metadata": {},
   "outputs": [
    {
     "data": {
      "text/latex": [
       "$\\displaystyle \\left[\\begin{matrix}0\\\\- 3 x^{2} y\\\\3 x^{2} z - 3 x^{2}\\end{matrix}\\right]$"
      ],
      "text/plain": [
       "Matrix([\n",
       "[                0],\n",
       "[        -3*x**2*y],\n",
       "[3*x**2*z - 3*x**2]])"
      ]
     },
     "metadata": {},
     "output_type": "display_data"
    },
    {
     "data": {
      "text/latex": [
       "$\\displaystyle 6 x y - 2$"
      ],
      "text/plain": [
       "6*x*y - 2"
      ]
     },
     "metadata": {},
     "output_type": "display_data"
    },
    {
     "data": {
      "text/latex": [
       "$\\displaystyle \\left[\\begin{matrix}6 y\\\\6 x z\\\\6 x y\\end{matrix}\\right]$"
      ],
      "text/plain": [
       "Matrix([\n",
       "[  6*y],\n",
       "[6*x*z],\n",
       "[6*x*y]])"
      ]
     },
     "metadata": {},
     "output_type": "display_data"
    }
   ],
   "source": [
    "def rot_cart(A):\n",
    "    Ax = A[0]\n",
    "    Ay = A[1]\n",
    "    Az = A[2]\n",
    "    Rx = sp.diff(Az,y)-sp.diff(Ay,z)\n",
    "    Ry = sp.diff(Ax,z)-sp.diff(Az,x)\n",
    "    Rz = sp.diff(Ay,x)-sp.diff(Ax,y)\n",
    "    return sp.Matrix([Rx, Ry, Rz])\n",
    "\n",
    "from sympy import ImmutableMatrix as matriz\n",
    "\n",
    "A = matriz([3*x**2*y, x**3*z , x**3*y-2*z])\n",
    "\n",
    "def div_cart(A):\n",
    "    Ax = A[0]\n",
    "    Ay = A[1]\n",
    "    Az = A[2]\n",
    "    D = diff(Ax,x)+diff(Ay,y)+diff(Az,z)\n",
    "    return D\n",
    "\n",
    "from IPython.display import display\n",
    "\n",
    "display(rot_cart(A))\n",
    "display(div_cart(A))\n",
    "display(lap_cart(A))\n",
    "\n"
   ]
  },
  {
   "cell_type": "code",
   "execution_count": 26,
   "id": "2eb13092",
   "metadata": {},
   "outputs": [
    {
     "data": {
      "text/latex": [
       "$\\displaystyle \\int\\limits_{0}^{2 \\pi}\\int\\limits_{\\frac{\\pi}{4}}^{\\frac{2 \\pi}{3}} 100 \\sin{\\left(\\theta \\right)}\\, d\\theta\\, d\\phi$"
      ],
      "text/plain": [
       "Integral(100*sin(theta), (theta, pi/4, 2*pi/3), (phi, 0, 2*pi))"
      ]
     },
     "metadata": {},
     "output_type": "display_data"
    },
    {
     "data": {
      "text/latex": [
       "$\\displaystyle 2 \\pi \\left(50 + 50 \\sqrt{2}\\right)$"
      ],
      "text/plain": [
       "2*pi*(50 + 50*sqrt(2))"
      ]
     },
     "metadata": {},
     "output_type": "display_data"
    }
   ],
   "source": [
    "I = sp.Integral((r**2*sin(theta)).subs(r,10),\\\n",
    "            (theta,sp.pi/4,2*sp.pi/3),\\\n",
    "            (phi,0,2*sp.pi))\n",
    "display(I)\n",
    "display(I.doit())"
   ]
  },
  {
   "cell_type": "code",
   "execution_count": 27,
   "id": "04deb611",
   "metadata": {},
   "outputs": [
    {
     "data": {
      "text/latex": [
       "$\\displaystyle \\int\\limits_{\\frac{\\pi}{6}}^{\\frac{\\pi}{2}}\\int\\limits_{\\frac{\\pi}{2}}^{\\pi}\\int\\limits_{1}^{3} r^{2} \\sin{\\left(\\theta \\right)}\\, dr\\, d\\theta\\, d\\phi$"
      ],
      "text/plain": [
       "Integral(r**2*sin(theta), (r, 1, 3), (theta, pi/2, pi), (phi, pi/6, pi/2))"
      ]
     },
     "metadata": {},
     "output_type": "display_data"
    },
    {
     "data": {
      "text/latex": [
       "$\\displaystyle \\frac{26 \\pi}{9}$"
      ],
      "text/plain": [
       "26*pi/9"
      ]
     },
     "metadata": {},
     "output_type": "display_data"
    }
   ],
   "source": [
    "vol = sp.Integral(r**2*sin(theta),(r,1,3),\\\n",
    "                  (theta,sp.pi/2,3*sp.pi/3),\\\n",
    "                  (phi,sp.pi/6,sp.pi/2))\n",
    "display(vol)\n",
    "display(vol.doit())"
   ]
  },
  {
   "cell_type": "code",
   "execution_count": 31,
   "id": "2766c587",
   "metadata": {},
   "outputs": [
    {
     "data": {
      "text/latex": [
       "$\\displaystyle z$"
      ],
      "text/plain": [
       "z"
      ]
     },
     "execution_count": 31,
     "metadata": {},
     "output_type": "execute_result"
    }
   ],
   "source": [
    "matriz"
   ]
  },
  {
   "cell_type": "code",
   "execution_count": 33,
   "id": "30f95654",
   "metadata": {},
   "outputs": [
    {
     "data": {
      "text/latex": [
       "$\\displaystyle \\left[\\begin{matrix}x - y\\\\x^{2} + y z\\\\- 5 y z\\end{matrix}\\right]$"
      ],
      "text/plain": [
       "Matrix([\n",
       "[     x - y],\n",
       "[x**2 + y*z],\n",
       "[    -5*y*z]])"
      ]
     },
     "metadata": {},
     "output_type": "display_data"
    }
   ],
   "source": [
    "H = matriz([x-y, x**2+z*y, -5*y*z])\n",
    "display(H)\n",
    "t = symbols('t')\n",
    "P1 = matriz([1,0,0])\n",
    "P2 = matriz([0,0,0])\n",
    "P3 = matriz([0,0,1])\n",
    "P4 = matriz([0,2,0])"
   ]
  },
  {
   "cell_type": "code",
   "execution_count": 41,
   "id": "35a7dcc2",
   "metadata": {},
   "outputs": [
    {
     "data": {
      "text/latex": [
       "$\\displaystyle \\int\\limits_{0}^{1} \\left(- t + \\left(1 - t\\right)^{2} + 1\\right)\\, dt$"
      ],
      "text/plain": [
       "Integral(-t + (1 - t)**2 + 1, (t, 0, 1))"
      ]
     },
     "metadata": {},
     "output_type": "display_data"
    },
    {
     "data": {
      "text/latex": [
       "$\\displaystyle \\frac{5}{6}$"
      ],
      "text/plain": [
       "5/6"
      ]
     },
     "metadata": {},
     "output_type": "display_data"
    }
   ],
   "source": [
    "# trecho P1->P2\n",
    "dl = matriz([1,1,1])\n",
    "reta = (P2-P1)*t+P1\n",
    "coord_reta = [(x,reta[0]), (y,reta[1]), (z,reta[2])]\n",
    "I1 = sp.Integral(H.dot(dl).subs(coord_reta),(t,0,1))\n",
    "display(I1)\n",
    "display(I1.doit())\n"
   ]
  },
  {
   "cell_type": "code",
   "execution_count": 42,
   "id": "1b76b78d",
   "metadata": {},
   "outputs": [
    {
     "data": {
      "text/latex": [
       "$\\displaystyle \\int\\limits_{0}^{1} 0\\, dt$"
      ],
      "text/plain": [
       "Integral(0, (t, 0, 1))"
      ]
     },
     "metadata": {},
     "output_type": "display_data"
    },
    {
     "data": {
      "text/latex": [
       "$\\displaystyle 0$"
      ],
      "text/plain": [
       "0"
      ]
     },
     "metadata": {},
     "output_type": "display_data"
    }
   ],
   "source": [
    "# trecho P2->P3\n",
    "dl = matriz([1,1,1])\n",
    "reta = (P3-P2)*t+P2\n",
    "coord_reta = [(x,reta[0]), (y,reta[1]), (z,reta[2])]\n",
    "I2 = sp.Integral(H.dot(dl).subs(coord_reta),(t,0,1))\n",
    "display(I2)\n",
    "display(I2.doit())"
   ]
  },
  {
   "cell_type": "code",
   "execution_count": 44,
   "id": "c979f535",
   "metadata": {},
   "outputs": [
    {
     "data": {
      "text/latex": [
       "$\\displaystyle \\int\\limits_{0}^{1} \\left(- 8 t \\left(1 - t\\right) - 2 t\\right)\\, dt$"
      ],
      "text/plain": [
       "Integral(-8*t*(1 - t) - 2*t, (t, 0, 1))"
      ]
     },
     "metadata": {},
     "output_type": "display_data"
    },
    {
     "data": {
      "text/latex": [
       "$\\displaystyle - \\frac{7}{3}$"
      ],
      "text/plain": [
       "-7/3"
      ]
     },
     "metadata": {},
     "output_type": "display_data"
    }
   ],
   "source": [
    "# trecho P3->P4\n",
    "dl = matriz([1,1,1])\n",
    "reta = (P4-P3)*t+P3\n",
    "coord_reta = [(x,reta[0]), (y,reta[1]), (z,reta[2])]\n",
    "I3 = sp.Integral(H.dot(dl).subs(coord_reta),(t,0,1))\n",
    "display(I3)\n",
    "display(I3.doit())"
   ]
  },
  {
   "cell_type": "code",
   "execution_count": 45,
   "id": "3994572a",
   "metadata": {},
   "outputs": [
    {
     "data": {
      "text/latex": [
       "$\\displaystyle - \\frac{14}{3}$"
      ],
      "text/plain": [
       "-14/3"
      ]
     },
     "metadata": {},
     "output_type": "display_data"
    }
   ],
   "source": [
    "display((I1+I2+I3).doit())"
   ]
  },
  {
   "cell_type": "code",
   "execution_count": 49,
   "id": "1f19acc4",
   "metadata": {},
   "outputs": [
    {
     "data": {
      "text/latex": [
       "$\\displaystyle \\left[\\begin{matrix}0\\\\0\\\\\\frac{4 \\rho^{3}}{3}\\end{matrix}\\right]$"
      ],
      "text/plain": [
       "Matrix([\n",
       "[         0],\n",
       "[         0],\n",
       "[4*rho**3/3]])"
      ]
     },
     "metadata": {},
     "output_type": "display_data"
    }
   ],
   "source": [
    "from sympy import pi, Integral\n",
    "dS1 = matriz([0,0,rho])\n",
    "V = (x+y)*z\n",
    "V = V.subs({x:rho*cos(phi), y:rho*sin(phi)})\n",
    "S = [(z,2)]\n",
    "lim = [(rho,0,rho),(phi,0,pi/2)]\n",
    "I1 = Integral((V*dS1).subs(S),lim[0],lim[1])\n",
    "display(I1.doit())"
   ]
  },
  {
   "cell_type": "code",
   "execution_count": 50,
   "id": "d4d131b8",
   "metadata": {},
   "outputs": [
    {
     "data": {
      "text/latex": [
       "$\\displaystyle \\left[\\begin{matrix}0\\\\0\\\\0\\end{matrix}\\right]$"
      ],
      "text/plain": [
       "Matrix([\n",
       "[0],\n",
       "[0],\n",
       "[0]])"
      ]
     },
     "metadata": {},
     "output_type": "display_data"
    }
   ],
   "source": [
    "dS2 = matriz([0,0,-rho])\n",
    "S = [(z,0)]\n",
    "lim = [(rho,0,rho),(phi,0,pi/2)]\n",
    "I2 = Integral((V*dS2).subs(S),lim[0],lim[1])\n",
    "display(I2.doit())"
   ]
  },
  {
   "cell_type": "code",
   "execution_count": 52,
   "id": "ffc0c684",
   "metadata": {},
   "outputs": [
    {
     "data": {
      "text/latex": [
       "$\\displaystyle \\left[\\begin{matrix}0\\\\- \\rho^{2}\\\\0\\end{matrix}\\right]$"
      ],
      "text/plain": [
       "Matrix([\n",
       "[      0],\n",
       "[-rho**2],\n",
       "[      0]])"
      ]
     },
     "metadata": {},
     "output_type": "display_data"
    }
   ],
   "source": [
    "dS3 = matriz([0,-1,0])\n",
    "S = [(phi,0)]\n",
    "lim = [(rho,0,rho),(z,0,2)]\n",
    "I3 = Integral((V*dS3).subs(S),lim[0],lim[1])\n",
    "display(I3.doit())"
   ]
  },
  {
   "cell_type": "code",
   "execution_count": 53,
   "id": "4ea76ad5",
   "metadata": {},
   "outputs": [
    {
     "data": {
      "text/latex": [
       "$\\displaystyle \\left[\\begin{matrix}0\\\\\\rho^{2}\\\\0\\end{matrix}\\right]$"
      ],
      "text/plain": [
       "Matrix([\n",
       "[     0],\n",
       "[rho**2],\n",
       "[     0]])"
      ]
     },
     "metadata": {},
     "output_type": "display_data"
    }
   ],
   "source": [
    "dS4 = matriz([0,1,0])\n",
    "S = [(phi,pi/2)]\n",
    "lim = [(rho,0,rho),(z,0,2)]\n",
    "I4 = Integral((V*dS4).subs(S),lim[0],lim[1])\n",
    "display(I4.doit())"
   ]
  },
  {
   "cell_type": "code",
   "execution_count": 54,
   "id": "6e7897dc",
   "metadata": {},
   "outputs": [
    {
     "data": {
      "text/latex": [
       "$\\displaystyle \\left[\\begin{matrix}4 \\rho^{2}\\\\0\\\\0\\end{matrix}\\right]$"
      ],
      "text/plain": [
       "Matrix([\n",
       "[4*rho**2],\n",
       "[       0],\n",
       "[       0]])"
      ]
     },
     "metadata": {},
     "output_type": "display_data"
    }
   ],
   "source": [
    "dS5 = matriz([rho,0,0])\n",
    "S = [(rho,rho)]\n",
    "lim = [(phi,0,pi/2),(z,0,2)]\n",
    "I5 = Integral((V*dS5).subs(S),lim[0],lim[1])\n",
    "display(I5.doit())"
   ]
  },
  {
   "cell_type": "code",
   "execution_count": 55,
   "id": "f97fa4a8",
   "metadata": {},
   "outputs": [
    {
     "data": {
      "text/latex": [
       "$\\displaystyle \\int\\limits_{0}^{\\frac{\\pi}{2}}\\int\\limits_{0}^{\\rho} \\left[\\begin{matrix}0\\\\0\\\\2 \\rho \\left(\\rho \\sin{\\left(\\phi \\right)} + \\rho \\cos{\\left(\\phi \\right)}\\right)\\end{matrix}\\right]\\, d\\rho\\, d\\phi + 2 \\int\\limits_{0}^{2}\\int\\limits_{0}^{\\rho} \\left[\\begin{matrix}0\\\\- \\rho z\\\\0\\end{matrix}\\right]\\, d\\rho\\, dz + \\int\\limits_{0}^{2}\\int\\limits_{0}^{\\rho} \\left[\\begin{matrix}0\\\\\\rho z\\\\0\\end{matrix}\\right]\\, d\\rho\\, dz + \\int\\limits_{0}^{2}\\int\\limits_{0}^{\\frac{\\pi}{2}} \\left[\\begin{matrix}\\rho z \\left(\\rho \\sin{\\left(\\phi \\right)} + \\rho \\cos{\\left(\\phi \\right)}\\right)\\\\0\\\\0\\end{matrix}\\right]\\, d\\phi\\, dz$"
      ],
      "text/plain": [
       "Integral(Matrix([\n",
       "[                                  0],\n",
       "[                                  0],\n",
       "[2*rho*(rho*sin(phi) + rho*cos(phi))]]), (rho, 0, rho), (phi, 0, pi/2)) + 2*Integral(Matrix([\n",
       "[     0],\n",
       "[-rho*z],\n",
       "[     0]]), (rho, 0, rho), (z, 0, 2)) + Integral(Matrix([\n",
       "[    0],\n",
       "[rho*z],\n",
       "[    0]]), (rho, 0, rho), (z, 0, 2)) + Integral(Matrix([\n",
       "[rho*z*(rho*sin(phi) + rho*cos(phi))],\n",
       "[                                  0],\n",
       "[                                  0]]), (phi, 0, pi/2), (z, 0, 2))"
      ]
     },
     "metadata": {},
     "output_type": "display_data"
    },
    {
     "data": {
      "text/latex": [
       "$\\displaystyle \\left[\\begin{matrix}4 \\rho^{2}\\\\- \\rho^{2}\\\\\\frac{4 \\rho^{3}}{3}\\end{matrix}\\right]$"
      ],
      "text/plain": [
       "Matrix([\n",
       "[  4*rho**2],\n",
       "[   -rho**2],\n",
       "[4*rho**3/3]])"
      ]
     },
     "metadata": {},
     "output_type": "display_data"
    }
   ],
   "source": [
    "display(I1+I2+I3+I4+I5)\n",
    "display((I1+I2+I3+I4+I5).doit())"
   ]
  },
  {
   "cell_type": "code",
   "execution_count": 58,
   "id": "d78fb563",
   "metadata": {},
   "outputs": [
    {
     "data": {
      "text/latex": [
       "$\\displaystyle \\left[\\begin{matrix}25 \\pi k \\cos{\\left(\\frac{\\pi x}{2} \\right)} \\cosh{\\left(\\frac{\\pi y}{2} \\right)}\\\\25 \\pi k \\sin{\\left(\\frac{\\pi x}{2} \\right)} \\sinh{\\left(\\frac{\\pi y}{2} \\right)}\\\\0\\end{matrix}\\right]$"
      ],
      "text/plain": [
       "Matrix([\n",
       "[25*pi*k*cos(pi*x/2)*cosh(pi*y/2)],\n",
       "[25*pi*k*sin(pi*x/2)*sinh(pi*y/2)],\n",
       "[                               0]])"
      ]
     },
     "metadata": {},
     "output_type": "display_data"
    },
    {
     "data": {
      "text/latex": [
       "$\\displaystyle 0$"
      ],
      "text/plain": [
       "0"
      ]
     },
     "metadata": {},
     "output_type": "display_data"
    }
   ],
   "source": [
    "T = 50*sin(pi*x/2)*cosh(pi*y/2)\n",
    "def grad_cart(A):\n",
    "    return matriz([diff(A,x), diff(A,y), diff(A,z)])\n",
    "\n",
    "k = symbols('k')\n",
    "H = k*grad_cart(T)\n",
    "display(H)\n",
    "display(div_cart(H))"
   ]
  },
  {
   "cell_type": "code",
   "execution_count": 63,
   "id": "34e6c497",
   "metadata": {},
   "outputs": [
    {
     "data": {
      "text/latex": [
       "$\\displaystyle \\left[\\begin{matrix}6 y z\\\\6 x y\\\\3 x^{2} y z\\end{matrix}\\right]$"
      ],
      "text/plain": [
       "Matrix([\n",
       "[     6*y*z],\n",
       "[     6*x*y],\n",
       "[3*x**2*y*z]])"
      ]
     },
     "metadata": {},
     "output_type": "display_data"
    },
    {
     "data": {
      "text/latex": [
       "$\\displaystyle \\left[\\begin{matrix}6 y z\\\\6 x y\\\\3 x^{2} y z\\end{matrix}\\right]$"
      ],
      "text/plain": [
       "Matrix([\n",
       "[     6*y*z],\n",
       "[     6*x*y],\n",
       "[3*x**2*y*z]])"
      ]
     },
     "metadata": {},
     "output_type": "display_data"
    },
    {
     "data": {
      "text/latex": [
       "$\\displaystyle 3 x^{2} y z^{2} + 6 x y^{2} + 6 x y z$"
      ],
      "text/plain": [
       "3*x**2*y*z**2 + 6*x*y**2 + 6*x*y*z"
      ]
     },
     "metadata": {},
     "output_type": "display_data"
    }
   ],
   "source": [
    "x,y,z = symbols(['x','y','z'],real=True)\n",
    "r = matriz([x,y,z])\n",
    "T = matriz([2*z*y, x*y*2, x**2*y*z])\n",
    "display(div_cart(r)*T)\n",
    "display(div_cart(r)*T)\n",
    "display(div_cart(r)*(r.dot(T)))\n"
   ]
  },
  {
   "cell_type": "code",
   "execution_count": 65,
   "id": "1cb6a7aa",
   "metadata": {},
   "outputs": [
    {
     "data": {
      "text/latex": [
       "$\\displaystyle 2 x^{2} + 2 y^{2} + 2 z^{2}$"
      ],
      "text/plain": [
       "2*x**2 + 2*y**2 + 2*z**2"
      ]
     },
     "metadata": {},
     "output_type": "display_data"
    }
   ],
   "source": [
    "r.norm()\n",
    "display(r.dot(grad_cart(r.norm()**2)))"
   ]
  }
 ],
 "metadata": {
  "kernelspec": {
   "display_name": "Python 3 (ipykernel)",
   "language": "python",
   "name": "python3"
  },
  "language_info": {
   "codemirror_mode": {
    "name": "ipython",
    "version": 3
   },
   "file_extension": ".py",
   "mimetype": "text/x-python",
   "name": "python",
   "nbconvert_exporter": "python",
   "pygments_lexer": "ipython3",
   "version": "3.11.1"
  }
 },
 "nbformat": 4,
 "nbformat_minor": 5
}
