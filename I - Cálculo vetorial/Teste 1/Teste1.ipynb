{
 "cells": [
  {
   "attachments": {},
   "cell_type": "markdown",
   "metadata": {},
   "source": [
    "*Macros*\n",
    "$\\newcommand{\\ax}{\\mathbf{a}_x}$\n",
    "$\\newcommand{\\ay}{\\mathbf{a}_y}$\n",
    "$\\newcommand{\\az}{\\mathbf{a}_z}$\n",
    "$\\newcommand{\\arho}{\\mathbf{a}_\\rho}$\n",
    "$\\newcommand{\\ap}{\\mathbf{a}_\\phi}$\n",
    "$\\newcommand{\\ar}{\\mathbf{a}_r}$\n",
    "$\\newcommand{\\at}{\\mathbf{a}_\\theta}$\n",
    "$\\newcommand{\\grad}[1]{\\nabla #1}$\n",
    "$\\renewcommand{\\div}[1]{\\mathbf{\\nabla} \\cdot \\mathbf{#1}}$\n",
    "$\\newcommand{\\rot}[1]{\\mathbf{\\nabla} \\times \\mathbf{#1}}$\n",
    "$\\newcommand{\\parcial}[2]{\\frac{\\partial #1}{\\partial #2}}$"
   ]
  },
  {
   "attachments": {},
   "cell_type": "markdown",
   "metadata": {},
   "source": [
    "1. Dado o vetor: \n",
    "$$\n",
    "    \\mathbf{F} = \\rho^2\\sin\\phi\\, \\arho+\n",
    "    z \\cos \\phi\\, \\ap+\\rho z\\, \\az\n",
    "$$\n",
    "\n",
    "Calcule o fluxo total que sai através do cilindro **ôco**: $1\\leq\\rho\\leq 2$, $-1\\leq z \\leq 1$.\n",
    "\n",
    "Se o cilindro for fechado, calcule o fluxo total usando o teorema da divergência. "
   ]
  },
  {
   "attachments": {},
   "cell_type": "markdown",
   "metadata": {},
   "source": []
  },
  {
   "attachments": {},
   "cell_type": "markdown",
   "metadata": {},
   "source": [
    "2. Expresse o campo: \n",
    "$$\n",
    "    \\mathbf{D} = \\frac{x\\,\\ax+y\\,\\ay}{x^2+y^2}\n",
    "$$\n",
    "em coordenadas e componentes cilíndricas. Calcule $\\mathbf{D}$ no ponto onde $\\rho=2$, $\\phi=0,2\\pi$ e $z=5$, expressando o resultado em componentes cilíndricos **E** cartesianos. "
   ]
  },
  {
   "attachments": {},
   "cell_type": "markdown",
   "metadata": {},
   "source": []
  },
  {
   "attachments": {},
   "cell_type": "markdown",
   "metadata": {},
   "source": [
    "3. Seja $\\mathbf{H} = 5\\rho \\sin \\phi\\, \\arho - \\rho z \\cos \\phi\\, \\ap + 2\\rho \\,\\az$. No ponto $P(2, 30^\\circ, -1)$, determine:  \n",
    "a) um vetor unitário ao longo de $\\mathbf{H}$  \n",
    "b) a componente de $\\mathbf{H}$ paralela à $\\ax$  \n",
    "c) a componente de $\\mathbf{H}$ normal à $\\rho=2$  \n",
    "d) a componente de $\\mathbf{H}$ tangencial a $\\phi = 30^\\circ$\n"
   ]
  },
  {
   "attachments": {},
   "cell_type": "markdown",
   "metadata": {},
   "source": []
  },
  {
   "attachments": {},
   "cell_type": "markdown",
   "metadata": {},
   "source": [
    "4. Se a integral $\\int_{A}^B \\mathbf{F}\\cdot d\\mathbf{l}$ representa o trabalho realizado para deslocar uma partícula de $A$ até $B$, encontre o trabalho realizado pelo campo de força:\n",
    "$$\n",
    "    \\mathbf{F} = 2xy\\,\\ax+(x^2-z^2)\\ay -3xz^2\\,\\az\n",
    "$$\n",
    "que se desloca de $A(0,0,0)$ até $B(2,1,3)$ nos seguintes percursos:  \n",
    "a) $(0,0,0)\\rightarrow(0,1,0)\\rightarrow(2,1,0)\\rightarrow(2,1,3)$  \n",
    "b) Linha reta entre $A$ e $B$. \n"
   ]
  }
 ],
 "metadata": {
  "kernelspec": {
   "display_name": "Python 3",
   "language": "python",
   "name": "python3"
  },
  "language_info": {
   "codemirror_mode": {
    "name": "ipython",
    "version": 3
   },
   "file_extension": ".py",
   "mimetype": "text/x-python",
   "name": "python",
   "nbconvert_exporter": "python",
   "pygments_lexer": "ipython3",
   "version": "3.11.1"
  },
  "orig_nbformat": 4
 },
 "nbformat": 4,
 "nbformat_minor": 2
}
