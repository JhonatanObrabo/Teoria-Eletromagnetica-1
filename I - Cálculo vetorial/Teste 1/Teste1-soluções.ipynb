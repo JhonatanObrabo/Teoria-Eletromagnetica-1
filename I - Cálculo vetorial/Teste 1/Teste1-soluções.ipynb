{
 "cells": [
  {
   "attachments": {},
   "cell_type": "markdown",
   "metadata": {},
   "source": [
    "*Macros*\n",
    "$\\newcommand{\\ax}{\\mathbf{a}_x}$\n",
    "$\\newcommand{\\ay}{\\mathbf{a}_y}$\n",
    "$\\newcommand{\\az}{\\mathbf{a}_z}$\n",
    "$\\newcommand{\\arho}{\\mathbf{a}_\\rho}$\n",
    "$\\newcommand{\\ap}{\\mathbf{a}_\\phi}$\n",
    "$\\newcommand{\\ar}{\\mathbf{a}_r}$\n",
    "$\\newcommand{\\at}{\\mathbf{a}_\\theta}$\n",
    "$\\newcommand{\\grad}[1]{\\nabla #1}$\n",
    "$\\renewcommand{\\div}[1]{\\mathbf{\\nabla} \\cdot \\mathbf{#1}}$\n",
    "$\\newcommand{\\rot}[1]{\\mathbf{\\nabla} \\times \\mathbf{#1}}$\n",
    "$\\newcommand{\\parcial}[2]{\\frac{\\partial #1}{\\partial #2}}$"
   ]
  },
  {
   "attachments": {},
   "cell_type": "markdown",
   "metadata": {},
   "source": [
    "1. Dado o vetor: \n",
    "$$\n",
    "    \\mathbf{F} = \\rho^2\\sin\\phi\\, \\arho+\n",
    "    z \\cos \\phi\\, \\ap+\\rho z\\, \\az\n",
    "$$\n",
    "\n",
    "Calcule o fluxo total que sai através do cilindro **ôco**: $1\\leq\\rho\\leq 2$, $-1\\leq z \\leq 1$.\n",
    "\n",
    "Se o cilindro for fechado, calcule o fluxo total usando o teorema da divergência. "
   ]
  },
  {
   "attachments": {},
   "cell_type": "markdown",
   "metadata": {},
   "source": [
    "Resp: \n",
    "O fluxo atravessa 4 áreas:\n",
    "- Lateral interna: $\\rho=1$\n",
    "- Lateral externa: $\\rho=2$\n",
    "- Casca superior: $z=1$\n",
    "- Casca inferior: $z=-1$"
   ]
  },
  {
   "cell_type": "code",
   "execution_count": 110,
   "metadata": {},
   "outputs": [],
   "source": [
    "import sympy as sp\n",
    "from sympy import sin, cos, latex, pi, Integral\n",
    "from IPython.display import display, Math\n",
    "\n",
    "rho, z, phi = sp.symbols(['rho', 'z', 'phi'])\n",
    "F = sp.Matrix([rho**2*sin(phi), z*cos(phi), rho*z])"
   ]
  },
  {
   "cell_type": "code",
   "execution_count": 111,
   "metadata": {},
   "outputs": [
    {
     "data": {
      "text/latex": [
       "$\\displaystyle \\int\\limits_{-1}^{1}\\int\\limits_{0}^{2 \\pi} \\left(- \\sin{\\left(\\phi \\right)}\\right)\\, d\\phi\\, dz=0$"
      ],
      "text/plain": [
       "<IPython.core.display.Math object>"
      ]
     },
     "metadata": {},
     "output_type": "display_data"
    }
   ],
   "source": [
    "# Lateral interna\n",
    "dS1 = sp.Matrix([-rho,0,0])\n",
    "S1 = [(rho,1)]\n",
    "lim1 = [(phi,0,2*pi), (z,-1,1)]\n",
    "psi1 = Integral(F.dot(dS1).subs(S1),lim1[0],lim1[1])\n",
    "display(Math(latex(psi1) + '=' + latex(psi1.doit())))\n"
   ]
  },
  {
   "cell_type": "code",
   "execution_count": 112,
   "metadata": {},
   "outputs": [
    {
     "data": {
      "text/latex": [
       "$\\displaystyle \\int\\limits_{-1}^{1}\\int\\limits_{0}^{2 \\pi} 8 \\sin{\\left(\\phi \\right)}\\, d\\phi\\, dz=0$"
      ],
      "text/plain": [
       "<IPython.core.display.Math object>"
      ]
     },
     "metadata": {},
     "output_type": "display_data"
    }
   ],
   "source": [
    "# Lateral externa\n",
    "dS2 = sp.Matrix([rho,0,0])\n",
    "S2 = [(rho,2)]\n",
    "lim2 = [(phi,0,2*pi), (z,-1,1)]\n",
    "psi2 = Integral(F.dot(dS2).subs(S2),lim2[0],lim2[1])\n",
    "display(Math(latex(psi2) + '=' + latex(psi2.doit())))"
   ]
  },
  {
   "cell_type": "code",
   "execution_count": 113,
   "metadata": {},
   "outputs": [
    {
     "data": {
      "text/latex": [
       "$\\displaystyle \\int\\limits_{1}^{2}\\int\\limits_{0}^{2 \\pi} \\rho^{2}\\, d\\phi\\, d\\rho=\\frac{14 \\pi}{3}$"
      ],
      "text/plain": [
       "<IPython.core.display.Math object>"
      ]
     },
     "metadata": {},
     "output_type": "display_data"
    }
   ],
   "source": [
    "# Topo\n",
    "dS3 = sp.Matrix([0,0,rho])\n",
    "S3 = [(z,1)]\n",
    "lim3 = [(phi,0,2*pi), (rho,1,2)]\n",
    "psi3 = Integral(F.dot(dS3).subs(S3),lim3[0],lim3[1])\n",
    "display(Math(latex(psi3) + '=' + latex(psi3.doit())))"
   ]
  },
  {
   "cell_type": "code",
   "execution_count": 114,
   "metadata": {},
   "outputs": [
    {
     "data": {
      "text/latex": [
       "$\\displaystyle \\int\\limits_{1}^{2}\\int\\limits_{0}^{2 \\pi} \\rho^{2}\\, d\\phi\\, d\\rho=\\frac{14 \\pi}{3}$"
      ],
      "text/plain": [
       "<IPython.core.display.Math object>"
      ]
     },
     "metadata": {},
     "output_type": "display_data"
    }
   ],
   "source": [
    "# Fundo\n",
    "dS4 = sp.Matrix([0,0,-rho])\n",
    "S4 = [(z,-1)]\n",
    "lim4 = [(phi,0,2*pi), (rho,1,2)]\n",
    "psi4 = Integral(F.dot(dS4).subs(S4),lim4[0],lim4[1])\n",
    "display(Math(latex(psi4) + '=' + latex(psi4.doit())))"
   ]
  },
  {
   "cell_type": "code",
   "execution_count": 115,
   "metadata": {},
   "outputs": [
    {
     "data": {
      "text/latex": [
       "$\\displaystyle \\frac{28 \\pi}{3}$"
      ],
      "text/plain": [
       "28*pi/3"
      ]
     },
     "execution_count": 115,
     "metadata": {},
     "output_type": "execute_result"
    }
   ],
   "source": [
    "Total = psi1 + psi2 + psi3 + psi4\n",
    "Total.doit()"
   ]
  },
  {
   "attachments": {},
   "cell_type": "markdown",
   "metadata": {},
   "source": [
    "Se o cilindro for fechado, temos o volume cilíndrico: $0\\leq \\rho \\leq 2$ e $-1\\leq z \\leq 1$. Para o teorema da divergência devemos usar:\n",
    "$$\n",
    "    \\Psi = \\int_v \\nabla\\cdot \\mathbf{F} dv\n",
    "$$"
   ]
  },
  {
   "cell_type": "code",
   "execution_count": 116,
   "metadata": {},
   "outputs": [],
   "source": [
    "# Divergente em coordenadas cilíndricas\n",
    "def div_cil(A):\n",
    "    return (1/rho)*sp.diff(rho*A[0],rho)+(1/rho)*sp.diff(A[1],phi)+sp.diff(A[2],z)"
   ]
  },
  {
   "cell_type": "code",
   "execution_count": 117,
   "metadata": {},
   "outputs": [
    {
     "data": {
      "text/latex": [
       "$\\displaystyle \\int\\limits_{-1}^{1}\\int\\limits_{0}^{2 \\pi}\\int\\limits_{0}^{2} \\rho \\left(3 \\rho \\sin{\\left(\\phi \\right)} + \\rho - \\frac{z \\sin{\\left(\\phi \\right)}}{\\rho}\\right)\\, d\\rho\\, d\\phi\\, dz=\\frac{32 \\pi}{3}$"
      ],
      "text/plain": [
       "<IPython.core.display.Math object>"
      ]
     },
     "metadata": {},
     "output_type": "display_data"
    }
   ],
   "source": [
    "dv = rho#drho dphi dz\n",
    "volume = [(rho,0,2), (phi,0,2*pi), (z,-1,1)]\n",
    "Fluxo = Integral(div_cil(F)*dv,volume[0],volume[1],volume[2])\n",
    "display(Math(latex(Fluxo) + '=' + latex(Fluxo.doit())) )"
   ]
  },
  {
   "attachments": {},
   "cell_type": "markdown",
   "metadata": {},
   "source": [
    "2. Expresse o campo: \n",
    "$$\n",
    "    \\mathbf{D} = \\frac{x\\,\\ax+y\\,\\ay}{x^2+y^2}\n",
    "$$\n",
    "em coordenadas e componentes cilíndricas. Calcule $\\mathbf{D}$ no ponto onde $\\rho=2$, $\\phi=0,2\\pi$ e $z=5$, expressando o resultado em componentes cilíndricos **E** cartesianos. "
   ]
  },
  {
   "attachments": {},
   "cell_type": "markdown",
   "metadata": {},
   "source": [
    "*Resp:* Precisamos usar transformações de coordenadas e de componentes. "
   ]
  },
  {
   "cell_type": "code",
   "execution_count": 118,
   "metadata": {},
   "outputs": [],
   "source": [
    "x,y = sp.symbols(['x', 'y'])\n",
    "D = sp.ImmutableMatrix([x,y,0])/(x**2+y**2)"
   ]
  },
  {
   "cell_type": "code",
   "execution_count": 119,
   "metadata": {},
   "outputs": [],
   "source": [
    "# Converte e simplifica vetor cartesiano para cilíndrico\n",
    "def vetor_cart2cil(Vcart):\n",
    "    # Converte cartesianas para cilíndricas\n",
    "    cart2cil = [(x,rho*cos(phi)),(y,rho*sin(phi))  ]\n",
    "    # Componentes cartesianas para cilíndricas\n",
    "    ret2cil = sp.ImmutableMatrix([[cos(phi), sin(phi),0],\n",
    "                        [-sin(phi), cos(phi),0],\n",
    "                        [0,0,1]])\n",
    "    Vcil = ret2cil @ Vcart\n",
    "    Vcil = Vcil.subs(cart2cil).simplify()\n",
    "    return Vcil"
   ]
  },
  {
   "cell_type": "code",
   "execution_count": 120,
   "metadata": {},
   "outputs": [
    {
     "data": {
      "text/latex": [
       "$\\displaystyle \\left[\\begin{matrix}\\frac{1}{\\rho}\\\\0\\\\0\\end{matrix}\\right]$"
      ],
      "text/plain": [
       "Matrix([\n",
       "[1/rho],\n",
       "[    0],\n",
       "[    0]])"
      ]
     },
     "execution_count": 120,
     "metadata": {},
     "output_type": "execute_result"
    }
   ],
   "source": [
    "Dcil = vetor_cart2cil(D)\n",
    "Dcil"
   ]
  },
  {
   "cell_type": "code",
   "execution_count": 121,
   "metadata": {},
   "outputs": [
    {
     "data": {
      "text/latex": [
       "$\\displaystyle \\left[\\begin{matrix}\\frac{1}{2}\\\\0\\\\0\\end{matrix}\\right]$"
      ],
      "text/plain": [
       "Matrix([\n",
       "[1/2],\n",
       "[  0],\n",
       "[  0]])"
      ]
     },
     "execution_count": 121,
     "metadata": {},
     "output_type": "execute_result"
    }
   ],
   "source": [
    "Ponto = [(rho,2), (phi, pi/5), (z,5)]\n",
    "Dcil.subs(Ponto)"
   ]
  },
  {
   "cell_type": "code",
   "execution_count": 122,
   "metadata": {},
   "outputs": [
    {
     "data": {
      "text/latex": [
       "$\\displaystyle \\left[\\begin{matrix}\\frac{1}{8} + \\frac{\\sqrt{5}}{8}\\\\\\frac{\\sqrt{10 - 2 \\sqrt{5}}}{8}\\\\0\\end{matrix}\\right]$"
      ],
      "text/plain": [
       "Matrix([\n",
       "[       1/8 + sqrt(5)/8],\n",
       "[sqrt(10 - 2*sqrt(5))/8],\n",
       "[                     0]])"
      ]
     },
     "execution_count": 122,
     "metadata": {},
     "output_type": "execute_result"
    }
   ],
   "source": [
    "# Converte o ponto cilíndrico em cartesiano\n",
    "def ponto_cil2cart(P):\n",
    "    X = (rho*cos(phi)).subs(P)\n",
    "    Y = (rho*sin(phi)).subs(P)\n",
    "    Z = z.subs(P)\n",
    "    return [(x,X),(y,Y),(z,Z)]\n",
    "\n",
    "Ponto_cart = ponto_cil2cart(Ponto)\n",
    "D.subs(Ponto_cart).simplify()"
   ]
  },
  {
   "attachments": {},
   "cell_type": "markdown",
   "metadata": {},
   "source": [
    "3. Seja $\\mathbf{H} = 5\\rho \\sin \\phi\\, \\arho - \\rho z \\cos \\phi\\, \\ap + 2\\rho \\,\\az$. No ponto $P(2, 30^\\circ, -1)$, determine:  \n",
    "a) um vetor unitário ao longo de $\\mathbf{H}$  \n",
    "b) a componente de $\\mathbf{H}$ paralela à $\\ax$  \n",
    "c) a componente de $\\mathbf{H}$ normal à $\\rho=2$  \n",
    "d) a componente de $\\mathbf{H}$ tangencial a $\\phi = 30^\\circ$\n"
   ]
  },
  {
   "cell_type": "code",
   "execution_count": 123,
   "metadata": {},
   "outputs": [],
   "source": [
    "H = sp.ImmutableMatrix([5*rho*sin(phi), -rho*z*cos(phi),2*rho])\n",
    "P = [(rho,2), (phi,30*pi/180), (z,-1)]"
   ]
  },
  {
   "cell_type": "code",
   "execution_count": 124,
   "metadata": {},
   "outputs": [
    {
     "data": {
      "text/latex": [
       "$\\displaystyle \\left[\\begin{matrix}\\frac{5 \\sqrt{11}}{22}\\\\\\frac{\\sqrt{33}}{22}\\\\\\frac{2 \\sqrt{11}}{11}\\end{matrix}\\right]$"
      ],
      "text/plain": [
       "Matrix([\n",
       "[5*sqrt(11)/22],\n",
       "[  sqrt(33)/22],\n",
       "[2*sqrt(11)/11]])"
      ]
     },
     "execution_count": 124,
     "metadata": {},
     "output_type": "execute_result"
    }
   ],
   "source": [
    "# a)\n",
    "h = H.subs(P).simplify()\n",
    "aH = h/h.norm()\n",
    "aH"
   ]
  },
  {
   "cell_type": "code",
   "execution_count": 125,
   "metadata": {},
   "outputs": [
    {
     "data": {
      "text/latex": [
       "$\\displaystyle 2 \\sqrt{3}$"
      ],
      "text/plain": [
       "2*sqrt(3)"
      ]
     },
     "execution_count": 125,
     "metadata": {},
     "output_type": "execute_result"
    }
   ],
   "source": [
    "# b)\n",
    "ret2cil = sp.Matrix([[sp.cos(phi), sp.sin(phi),0],[-sp.sin(phi), sp.cos(phi),0],[0,0,1]])\n",
    "cil2ret = ret2cil.inv()\n",
    "h_cart = (cil2ret @ h).subs(P)\n",
    "h_cart[0]"
   ]
  },
  {
   "cell_type": "code",
   "execution_count": 126,
   "metadata": {},
   "outputs": [
    {
     "data": {
      "text/latex": [
       "$\\displaystyle 5$"
      ],
      "text/plain": [
       "5"
      ]
     },
     "execution_count": 126,
     "metadata": {},
     "output_type": "execute_result"
    }
   ],
   "source": [
    "# c)\n",
    "h[0]"
   ]
  },
  {
   "cell_type": "code",
   "execution_count": 127,
   "metadata": {},
   "outputs": [
    {
     "data": {
      "text/latex": [
       "$\\displaystyle \\left[\\begin{matrix}5\\\\0\\\\4\\end{matrix}\\right]$"
      ],
      "text/plain": [
       "Matrix([\n",
       "[5],\n",
       "[0],\n",
       "[4]])"
      ]
     },
     "execution_count": 127,
     "metadata": {},
     "output_type": "execute_result"
    }
   ],
   "source": [
    "# d) \n",
    "hp = sp.ImmutableMatrix([0,h[1],0])\n",
    "ht = h - hp\n",
    "ht"
   ]
  },
  {
   "attachments": {},
   "cell_type": "markdown",
   "metadata": {},
   "source": [
    "4. Se a integral $\\int_{A}^B \\mathbf{F}\\cdot d\\mathbf{l}$ representa o trabalho realizado para deslocar uma partícula de $A$ até $B$, encontre o trabalho realizado pelo campo de força:\n",
    "$$\n",
    "    \\mathbf{F} = 2xy\\,\\ax+(x^2-z^2)\\ay -3xz^2\\,\\az\n",
    "$$\n",
    "que se desloca de $A(0,0,0)$ até $B(2,1,3)$ nos seguintes percursos:  \n",
    "a) $(0,0,0)\\rightarrow(0,1,0)\\rightarrow(2,1,0)\\rightarrow(2,1,3)$  \n",
    "b) Linha reta entre $A$ e $B$. \n"
   ]
  },
  {
   "cell_type": "code",
   "execution_count": 128,
   "metadata": {},
   "outputs": [
    {
     "data": {
      "text/latex": [
       "$\\displaystyle \\int\\limits_{0}^{1} 0\\, dt$"
      ],
      "text/plain": [
       "Integral(0, (t, 0, 1))"
      ]
     },
     "execution_count": 128,
     "metadata": {},
     "output_type": "execute_result"
    }
   ],
   "source": [
    "# a)\n",
    "F = sp.ImmutableMatrix([2*x*y,(x**2-z**2), -3*x*z**2])\n",
    "t = sp.symbols('t')\n",
    "\n",
    "P0 = sp.ImmutableMatrix([0,0,0])\n",
    "P1 = sp.ImmutableMatrix([0,1,0])\n",
    "ponto = (P1-P0)*t+P0\n",
    "dl1 = P1-P0\n",
    "reta1 = [(x,ponto[0]), (y,ponto[1]), (z,ponto[2])]\n",
    "I1 = Integral(F.dot(dl1).subs(reta1),(t,0,1))\n",
    "I1"
   ]
  },
  {
   "cell_type": "code",
   "execution_count": 129,
   "metadata": {},
   "outputs": [
    {
     "data": {
      "text/latex": [
       "$\\displaystyle \\int\\limits_{0}^{1} 8 t\\, dt$"
      ],
      "text/plain": [
       "Integral(8*t, (t, 0, 1))"
      ]
     },
     "execution_count": 129,
     "metadata": {},
     "output_type": "execute_result"
    }
   ],
   "source": [
    "P2 = sp.ImmutableMatrix([2,1,0])\n",
    "ponto = (P2-P1)*t+P1\n",
    "dl2 = P2-P1\n",
    "reta2 = [(x,ponto[0]), (y,ponto[1]), (z,ponto[2])]\n",
    "I2 = Integral(F.dot(dl2).subs(reta2),(t,0,1))\n",
    "I2"
   ]
  },
  {
   "cell_type": "code",
   "execution_count": 130,
   "metadata": {},
   "outputs": [
    {
     "data": {
      "text/latex": [
       "$\\displaystyle \\int\\limits_{0}^{1} \\left(- 162 t^{2}\\right)\\, dt$"
      ],
      "text/plain": [
       "Integral(-162*t**2, (t, 0, 1))"
      ]
     },
     "execution_count": 130,
     "metadata": {},
     "output_type": "execute_result"
    }
   ],
   "source": [
    "P3 = sp.ImmutableMatrix([2,1,3])\n",
    "ponto = (P3-P2)*t+P2\n",
    "dl3 = P3-P2\n",
    "reta3 = [(x,ponto[0]), (y,ponto[1]), (z,ponto[2])]\n",
    "I3 = Integral(F.dot(dl3).subs(reta3),(t,0,1))\n",
    "I3"
   ]
  },
  {
   "cell_type": "code",
   "execution_count": 131,
   "metadata": {},
   "outputs": [
    {
     "data": {
      "text/latex": [
       "$\\displaystyle -50$"
      ],
      "text/plain": [
       "-50"
      ]
     },
     "execution_count": 131,
     "metadata": {},
     "output_type": "execute_result"
    }
   ],
   "source": [
    "(I1+I2+I3).doit()"
   ]
  },
  {
   "cell_type": "code",
   "execution_count": 132,
   "metadata": {},
   "outputs": [
    {
     "data": {
      "text/latex": [
       "$\\displaystyle - \\frac{79}{2}$"
      ],
      "text/plain": [
       "-79/2"
      ]
     },
     "execution_count": 132,
     "metadata": {},
     "output_type": "execute_result"
    }
   ],
   "source": [
    "# b)\n",
    "F = sp.ImmutableMatrix([2*x*y,(x**2-z**2), -3*x*z**2])\n",
    "Pf = sp.ImmutableMatrix([2,1,3])\n",
    "Pi = sp.ImmutableMatrix([0,0,0])\n",
    "t = sp.symbols('t')\n",
    "ponto = (Pf-Pi)*t+Pi\n",
    "dl = Pf-Pi\n",
    "reta = [(x,ponto[0]), (y,ponto[1]), (z,ponto[2])]\n",
    "Integral(F.dot(dl).subs(reta),(t,0,1)).doit()"
   ]
  }
 ],
 "metadata": {
  "kernelspec": {
   "display_name": "Python 3",
   "language": "python",
   "name": "python3"
  },
  "language_info": {
   "codemirror_mode": {
    "name": "ipython",
    "version": 3
   },
   "file_extension": ".py",
   "mimetype": "text/x-python",
   "name": "python",
   "nbconvert_exporter": "python",
   "pygments_lexer": "ipython3",
   "version": "3.11.2"
  },
  "orig_nbformat": 4
 },
 "nbformat": 4,
 "nbformat_minor": 2
}
