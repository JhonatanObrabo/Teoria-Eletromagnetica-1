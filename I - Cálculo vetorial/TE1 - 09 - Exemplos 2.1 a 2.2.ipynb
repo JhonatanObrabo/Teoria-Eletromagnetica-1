{
 "cells": [
  {
   "attachments": {},
   "cell_type": "markdown",
   "id": "9f7389bf",
   "metadata": {},
   "source": [
    "### Exemplo 2.1\n",
    "\n",
    "Dado o ponto $P(2,-6,3)$ e o vetor $\\mathbf{A}=y\\mathbf{a}_x+(x+z)\\mathbf{a}_y$, expresse $P$ e $\\mathbf{A}$ em coordenadas cilíndricas e esféricas. Avalie $\\mathbf{A}$ em $P$ nos sistemas Cartesiano, cilíndrico e esférico. "
   ]
  },
  {
   "attachments": {},
   "cell_type": "markdown",
   "id": "64124d38",
   "metadata": {},
   "source": [
    "**Solução**"
   ]
  },
  {
   "cell_type": "code",
   "execution_count": 1,
   "id": "1a8d5b1f",
   "metadata": {
    "code_folding": [
     0
    ],
    "run_control": {
     "marked": false
    }
   },
   "outputs": [],
   "source": [
    "# Bibliotecas usadas\n",
    "import sympy as sp\n",
    "import numpy as np\n",
    "from sympy import cos, sin\n",
    "from IPython.display import display, Math"
   ]
  },
  {
   "cell_type": "code",
   "execution_count": 2,
   "id": "fb2fc407",
   "metadata": {
    "code_folding": [
     0
    ]
   },
   "outputs": [],
   "source": [
    "# Símbolos\n",
    "rho,phi,theta,r = sp.symbols(['\\\\rho','\\\\phi','\\\\theta','r'])\n",
    "x,y,z = sp.symbols(['x','y','z'])"
   ]
  },
  {
   "cell_type": "code",
   "execution_count": 3,
   "id": "c448c0c5",
   "metadata": {
    "code_folding": [
     0
    ]
   },
   "outputs": [],
   "source": [
    "# Matrizes de transformação\n",
    "ret2cil = sp.Matrix([[sp.cos(phi), sp.sin(phi),0],\n",
    "                     [-sp.sin(phi), sp.cos(phi),0],\n",
    "                     [0,0,1]])\n",
    "\n",
    "ret2esf = sp.Matrix([[sin(theta)*cos(phi),sin(theta)*sin(phi), cos(theta)],\n",
    "                     [cos(theta)*cos(phi),cos(theta)*sin(phi),-sin(theta)],\n",
    "                     [-sin(phi),cos(phi),0]])"
   ]
  },
  {
   "cell_type": "code",
   "execution_count": 4,
   "id": "f8d0a866",
   "metadata": {
    "code_folding": [
     0
    ]
   },
   "outputs": [],
   "source": [
    "# Funções para mudanças de coordenadas de um ponto\n",
    "def coord_cil(P):\n",
    "    x = P[0]\n",
    "    y = P[1]\n",
    "    z = P[2]\n",
    "    rho = sp.sqrt(x**2+y**2)\n",
    "    phi = sp.atan2(y,x)*180/sp.pi\n",
    "    return sp.Matrix([rho,phi,z])\n",
    "\n",
    "def coord_esf(P):\n",
    "    x = P[0]\n",
    "    y = P[1]\n",
    "    z = P[2]\n",
    "    r = sp.sqrt(x**2+y**2+z**2)\n",
    "    theta = sp.atan2(sp.sqrt(x**2+y**2),z)*180/np.pi\n",
    "    phi = sp.atan2(y,x)*180/np.pi\n",
    "    return sp.Matrix([r,theta,phi])\n",
    "\n",
    "# Função para abreviar display(Math())\n",
    "def imprimir(expr):\n",
    "    display(Math(expr))"
   ]
  },
  {
   "cell_type": "code",
   "execution_count": 5,
   "id": "cdeaa36a",
   "metadata": {
    "code_folding": []
   },
   "outputs": [
    {
     "data": {
      "text/latex": [
       "$\\displaystyle \\text{Ponto dado: } P\\left( -2, \\  6, \\  3\\right)$"
      ],
      "text/plain": [
       "<IPython.core.display.Math object>"
      ]
     },
     "metadata": {},
     "output_type": "display_data"
    },
    {
     "data": {
      "text/latex": [
       "$\\displaystyle \\text{Coord. cilíndricas: }\\left[\\begin{matrix}6.325\\\\108.4\\\\3.0\\end{matrix}\\right]$"
      ],
      "text/plain": [
       "<IPython.core.display.Math object>"
      ]
     },
     "metadata": {},
     "output_type": "display_data"
    },
    {
     "data": {
      "text/latex": [
       "$\\displaystyle \\text{Coord. esféricas: }\\left[\\begin{matrix}7.0\\\\64.62\\\\108.4\\end{matrix}\\right]$"
      ],
      "text/plain": [
       "<IPython.core.display.Math object>"
      ]
     },
     "metadata": {},
     "output_type": "display_data"
    }
   ],
   "source": [
    "#Para o ponto dado:\n",
    "P = (-2,6,3)\n",
    "texto1 = r'\\text{Ponto dado: } P' + sp.latex(P)\n",
    "display(Math(texto1))\n",
    "Pcil = coord_cil(P)\n",
    "texto2 = r'\\text{Coord. cilíndricas: }' + sp.latex(Pcil.evalf(4))\n",
    "imprimir(texto2)\n",
    "Pesf = coord_esf(P)\n",
    "texto3 = r'\\text{Coord. esféricas: }' + sp.latex(Pesf.evalf(4))\n",
    "imprimir(texto3)"
   ]
  },
  {
   "attachments": {},
   "cell_type": "markdown",
   "id": "1d4c29b8",
   "metadata": {},
   "source": [
    "Para converter o vetor $\\mathbf{A}$, primeiro multiplicamos pela matriz de transformação:"
   ]
  },
  {
   "cell_type": "code",
   "execution_count": 6,
   "id": "d114e875",
   "metadata": {
    "code_folding": [
     0
    ]
   },
   "outputs": [
    {
     "data": {
      "text/latex": [
       "$\\displaystyle \\mathbf{A}_{\\text{cilindrico}} = \\left[\\begin{matrix}\\cos{\\left(\\phi \\right)} & \\sin{\\left(\\phi \\right)} & 0\\\\- \\sin{\\left(\\phi \\right)} & \\cos{\\left(\\phi \\right)} & 0\\\\0 & 0 & 1\\end{matrix}\\right]\\left[\\begin{matrix}y\\\\x + z\\\\0\\end{matrix}\\right]$"
      ],
      "text/plain": [
       "<IPython.core.display.Math object>"
      ]
     },
     "metadata": {},
     "output_type": "display_data"
    },
    {
     "data": {
      "text/latex": [
       "$\\displaystyle \\mathbf{A}_{\\text{cilindrico}} = \\left[\\begin{matrix}y \\cos{\\left(\\phi \\right)} + \\left(x + z\\right) \\sin{\\left(\\phi \\right)}\\\\- y \\sin{\\left(\\phi \\right)} + \\left(x + z\\right) \\cos{\\left(\\phi \\right)}\\\\0\\end{matrix}\\right]$"
      ],
      "text/plain": [
       "<IPython.core.display.Math object>"
      ]
     },
     "metadata": {},
     "output_type": "display_data"
    }
   ],
   "source": [
    "# Define o vetor A em retangulares e transforma pela matriz\n",
    "Aret = sp.Matrix([[y,x+z,0]]).T\n",
    "Acil = ret2cil @ Aret  #sp.MatMul(ret2cil,Aret)\n",
    "display(Math(r'\\mathbf{A}_{\\text{cilindrico}} = '+ sp.latex(ret2cil) + sp.latex(Aret)))\n",
    "display(Math(r'\\mathbf{A}_{\\text{cilindrico}} = '+ sp.latex(Acil)))"
   ]
  },
  {
   "attachments": {},
   "cell_type": "markdown",
   "id": "08ceed76",
   "metadata": {},
   "source": [
    "Note que $x$, $y$ e $z$ no resultado representam as coordenadas retangulares de um ponto. Então, temos que convertê-los para coordenadas cilindricas também. Assim"
   ]
  },
  {
   "cell_type": "code",
   "execution_count": 7,
   "id": "234177c3",
   "metadata": {
    "code_folding": [
     0
    ]
   },
   "outputs": [
    {
     "data": {
      "text/latex": [
       "$\\displaystyle \\mathbf{A}_{\\text{cilindrico}} = \\left[\\begin{matrix}\\rho \\sin{\\left(\\phi \\right)} \\cos{\\left(\\phi \\right)} + \\left(\\rho \\cos{\\left(\\phi \\right)} + z\\right) \\sin{\\left(\\phi \\right)}\\\\- \\rho \\sin^{2}{\\left(\\phi \\right)} + \\left(\\rho \\cos{\\left(\\phi \\right)} + z\\right) \\cos{\\left(\\phi \\right)}\\\\0\\end{matrix}\\right]$"
      ],
      "text/plain": [
       "<IPython.core.display.Math object>"
      ]
     },
     "metadata": {},
     "output_type": "display_data"
    }
   ],
   "source": [
    "# Substitui x, y e z pelos correspondentes em coordenadas cilíndricas\n",
    "Acil = Acil.subs([  (x,rho*cos(phi))  ,  (y,rho*sin(phi))  ])\n",
    "display(Math(r'\\mathbf{A}_{\\text{cilindrico}} = '+ sp.latex(Acil)))"
   ]
  },
  {
   "attachments": {},
   "cell_type": "markdown",
   "id": "2d9abbdc",
   "metadata": {},
   "source": [
    "Podemos fazer algumas simplificações:"
   ]
  },
  {
   "cell_type": "code",
   "execution_count": 8,
   "id": "d69d36d8",
   "metadata": {
    "code_folding": [
     0
    ]
   },
   "outputs": [
    {
     "data": {
      "text/latex": [
       "$\\displaystyle \\mathbf{A}_{\\text{cilindrico}} = \\left[\\begin{matrix}\\left(2 \\rho \\cos{\\left(\\phi \\right)} + z\\right) \\sin{\\left(\\phi \\right)}\\\\- 2 \\rho \\sin^{2}{\\left(\\phi \\right)} + \\rho + z \\cos{\\left(\\phi \\right)}\\\\0\\end{matrix}\\right]$"
      ],
      "text/plain": [
       "<IPython.core.display.Math object>"
      ]
     },
     "metadata": {},
     "output_type": "display_data"
    }
   ],
   "source": [
    "# Simplifica o resultado\n",
    "Acil.simplify()\n",
    "display(Math(r'\\mathbf{A}_{\\text{cilindrico}} = '+ sp.latex(Acil)))"
   ]
  },
  {
   "attachments": {},
   "cell_type": "markdown",
   "id": "1379b230",
   "metadata": {},
   "source": [
    "Fazemos o mesmo para coordenadas esféricas"
   ]
  },
  {
   "cell_type": "code",
   "execution_count": 9,
   "id": "5dfdf404",
   "metadata": {
    "code_folding": [
     0
    ]
   },
   "outputs": [
    {
     "name": "stdout",
     "output_type": "stream",
     "text": [
      "Transformação:\n"
     ]
    },
    {
     "data": {
      "text/latex": [
       "$\\displaystyle \\mathbf{A}_{\\text{esférico}} = \\left[\\begin{matrix}\\sin{\\left(\\theta \\right)} \\cos{\\left(\\phi \\right)} & \\sin{\\left(\\phi \\right)} \\sin{\\left(\\theta \\right)} & \\cos{\\left(\\theta \\right)}\\\\\\cos{\\left(\\phi \\right)} \\cos{\\left(\\theta \\right)} & \\sin{\\left(\\phi \\right)} \\cos{\\left(\\theta \\right)} & - \\sin{\\left(\\theta \\right)}\\\\- \\sin{\\left(\\phi \\right)} & \\cos{\\left(\\phi \\right)} & 0\\end{matrix}\\right]\\left[\\begin{matrix}y\\\\x + z\\\\0\\end{matrix}\\right]$"
      ],
      "text/plain": [
       "<IPython.core.display.Math object>"
      ]
     },
     "metadata": {},
     "output_type": "display_data"
    },
    {
     "data": {
      "text/latex": [
       "$\\displaystyle \\mathbf{A}_{\\text{esférico}} = \\left[\\begin{matrix}y \\sin{\\left(\\theta \\right)} \\cos{\\left(\\phi \\right)} + \\left(x + z\\right) \\sin{\\left(\\phi \\right)} \\sin{\\left(\\theta \\right)}\\\\y \\cos{\\left(\\phi \\right)} \\cos{\\left(\\theta \\right)} + \\left(x + z\\right) \\sin{\\left(\\phi \\right)} \\cos{\\left(\\theta \\right)}\\\\- y \\sin{\\left(\\phi \\right)} + \\left(x + z\\right) \\cos{\\left(\\phi \\right)}\\end{matrix}\\right]$"
      ],
      "text/plain": [
       "<IPython.core.display.Math object>"
      ]
     },
     "metadata": {},
     "output_type": "display_data"
    },
    {
     "name": "stdout",
     "output_type": "stream",
     "text": [
      "Substituição:\n"
     ]
    },
    {
     "data": {
      "text/latex": [
       "$\\displaystyle \\mathbf{A}_{\\text{esférico}} = \\left[\\begin{matrix}r \\sin{\\left(\\phi \\right)} \\sin^{2}{\\left(\\theta \\right)} \\cos{\\left(\\phi \\right)} + \\left(r \\sin{\\left(\\theta \\right)} \\cos{\\left(\\phi \\right)} + r \\cos{\\left(\\theta \\right)}\\right) \\sin{\\left(\\phi \\right)} \\sin{\\left(\\theta \\right)}\\\\r \\sin{\\left(\\phi \\right)} \\sin{\\left(\\theta \\right)} \\cos{\\left(\\phi \\right)} \\cos{\\left(\\theta \\right)} + \\left(r \\sin{\\left(\\theta \\right)} \\cos{\\left(\\phi \\right)} + r \\cos{\\left(\\theta \\right)}\\right) \\sin{\\left(\\phi \\right)} \\cos{\\left(\\theta \\right)}\\\\- r \\sin^{2}{\\left(\\phi \\right)} \\sin{\\left(\\theta \\right)} + \\left(r \\sin{\\left(\\theta \\right)} \\cos{\\left(\\phi \\right)} + r \\cos{\\left(\\theta \\right)}\\right) \\cos{\\left(\\phi \\right)}\\end{matrix}\\right]$"
      ],
      "text/plain": [
       "<IPython.core.display.Math object>"
      ]
     },
     "metadata": {},
     "output_type": "display_data"
    },
    {
     "name": "stdout",
     "output_type": "stream",
     "text": [
      "Simplificação\n"
     ]
    },
    {
     "data": {
      "text/latex": [
       "$\\displaystyle \\mathbf{A}_{\\text{esférico}} = \\left[\\begin{matrix}r \\left(2 \\sin{\\left(\\theta \\right)} \\cos{\\left(\\phi \\right)} + \\cos{\\left(\\theta \\right)}\\right) \\sin{\\left(\\phi \\right)} \\sin{\\left(\\theta \\right)}\\\\r \\left(2 \\sin{\\left(\\theta \\right)} \\cos{\\left(\\phi \\right)} + \\cos{\\left(\\theta \\right)}\\right) \\sin{\\left(\\phi \\right)} \\cos{\\left(\\theta \\right)}\\\\\\frac{r \\left(- \\sin{\\left(2 \\phi - \\theta \\right)} + \\sin{\\left(2 \\phi + \\theta \\right)} + \\cos{\\left(\\phi - \\theta \\right)} + \\cos{\\left(\\phi + \\theta \\right)}\\right)}{2}\\end{matrix}\\right]$"
      ],
      "text/plain": [
       "<IPython.core.display.Math object>"
      ]
     },
     "metadata": {},
     "output_type": "display_data"
    }
   ],
   "source": [
    "# Transforma para esférica, substitui e simplifica\n",
    "Aesf = ret2esf@Aret\n",
    "print('Transformação:')\n",
    "display(Math(r'\\mathbf{A}_{\\text{esférico}} = '+ sp.latex(ret2esf) + sp.latex(Aret)))\n",
    "display(Math(r'\\mathbf{A}_{\\text{esférico}} = '+ sp.latex(Aesf)))\n",
    "print('Substituição:')\n",
    "Aesf = Aesf.subs([(x,r*sin(theta)*cos(phi)),\n",
    "                  (y,r*sin(theta)*sin(phi)),\n",
    "                  (z,r*cos(theta))])\n",
    "display(Math(r'\\mathbf{A}_{\\text{esférico}} = '+ sp.latex(Aesf)))\n",
    "print('Simplificação')\n",
    "Aesf.simplify()\n",
    "display(Math(r'\\mathbf{A}_{\\text{esférico}} = '+ sp.latex(Aesf)))"
   ]
  },
  {
   "attachments": {},
   "cell_type": "markdown",
   "id": "5c9ed32c",
   "metadata": {},
   "source": [
    "Vamos avaliar cada vetor agora usando as respectivas coordenadas"
   ]
  },
  {
   "cell_type": "code",
   "execution_count": 10,
   "id": "3c04c77a",
   "metadata": {
    "code_folding": [
     0
    ]
   },
   "outputs": [
    {
     "data": {
      "text/latex": [
       "$\\displaystyle \\mathbf{A}_{\\text{retangular}} = \\left[\\begin{matrix}6\\\\1\\\\0\\end{matrix}\\right]$"
      ],
      "text/plain": [
       "<IPython.core.display.Math object>"
      ]
     },
     "metadata": {},
     "output_type": "display_data"
    },
    {
     "data": {
      "text/latex": [
       "$\\displaystyle \\mathbf{A}_{\\text{cilindrico}} = \\left[\\begin{matrix}2.846 - 0.6 \\rho\\\\- 0.8 \\rho - 0.9487\\\\0\\end{matrix}\\right]$"
      ],
      "text/plain": [
       "<IPython.core.display.Math object>"
      ]
     },
     "metadata": {},
     "output_type": "display_data"
    },
    {
     "data": {
      "text/latex": [
       "$\\displaystyle \\mathbf{A}_{\\text{esferico}} = \\left[\\begin{matrix}-0.8571\\\\-0.4066\\\\-6.008\\end{matrix}\\right]$"
      ],
      "text/plain": [
       "<IPython.core.display.Math object>"
      ]
     },
     "metadata": {},
     "output_type": "display_data"
    }
   ],
   "source": [
    "# Substitui as coordenadas do ponto em cada representação\n",
    "rad = np.pi/180\n",
    "Aret_num = Aret.subs([(x,P[0]),   (y,P[1]),   (z,P[2])])\n",
    "display(Math(r'\\mathbf{A}_{\\text{retangular}} = ' + sp.latex(Aret_num)))\n",
    "Acil_num = Acil.subs([(r,Pcil[0]),    (phi,Pcil[1]*rad),   (z,Pcil[2])])\n",
    "Acil_num = Acil_num.evalf(4)\n",
    "display(Math(r'\\mathbf{A}_{\\text{cilindrico}} = ' + sp.latex(Acil_num)))\n",
    "Aesf_num = Aesf.subs([(r,Pesf[0]),    (theta,Pesf[1]*rad),   (phi,Pesf[2]*rad)])\n",
    "Aesf_num = Aesf_num.evalf(4)\n",
    "display(Math(r'\\mathbf{A}_{\\text{esferico}} = ' + sp.latex(Aesf_num)))"
   ]
  },
  {
   "attachments": {},
   "cell_type": "markdown",
   "id": "252ab6d9",
   "metadata": {},
   "source": [
    "### **Exemplo 2.2**\n",
    "\n",
    "Expresse o vetor $\\mathbf{B}= \\frac{10}{r}\\mathbf{a}_r+r\\cos \\theta \\,\\mathbf{a}_\\theta + \\mathbf{a}_\\phi$ em coordenadas cartesianas e cilíndricas. Encontre $\\mathbf{B}(-3,4,0)$ e $\\mathbf{B}(5,\\pi/2,-2)$"
   ]
  },
  {
   "cell_type": "code",
   "execution_count": 11,
   "id": "d4531caa",
   "metadata": {
    "code_folding": [
     0
    ]
   },
   "outputs": [
    {
     "data": {
      "text/latex": [
       "$\\displaystyle \\mathbf{B}_{\\text{esf}}=\\left[\\begin{matrix}\\frac{10}{r}\\\\r \\cos{\\left(\\theta \\right)}\\\\1\\end{matrix}\\right]$"
      ],
      "text/plain": [
       "<IPython.core.display.Math object>"
      ]
     },
     "metadata": {},
     "output_type": "display_data"
    }
   ],
   "source": [
    "# Define o vetor B\n",
    "B = sp.Matrix([[10/r, r*cos(theta), 1]]).T\n",
    "B_simb = sp.symbols(r'\\mathbf{B}_{\\text{esf}}')\n",
    "display(Math(sp.latex(B_simb) + '=' + sp.latex(B)))"
   ]
  },
  {
   "attachments": {},
   "cell_type": "markdown",
   "id": "65d857b8",
   "metadata": {},
   "source": [
    "Vamos converter o vetor no sistema cilíndrico para o cartesiano. Para isso precisamos primeiro da matriz de transformação inversa. "
   ]
  },
  {
   "cell_type": "code",
   "execution_count": 12,
   "id": "2d312742",
   "metadata": {
    "code_folding": [
     0
    ]
   },
   "outputs": [
    {
     "data": {
      "text/latex": [
       "$\\displaystyle \\left[\\begin{matrix}\\sin{\\left(\\theta \\right)} \\cos{\\left(\\phi \\right)} & \\cos{\\left(\\phi \\right)} \\cos{\\left(\\theta \\right)} & - \\sin{\\left(\\phi \\right)}\\\\\\sin{\\left(\\phi \\right)} \\sin{\\left(\\theta \\right)} & \\sin{\\left(\\phi \\right)} \\cos{\\left(\\theta \\right)} & \\cos{\\left(\\phi \\right)}\\\\\\cos{\\left(\\theta \\right)} & - \\sin{\\left(\\theta \\right)} & 0\\end{matrix}\\right]$"
      ],
      "text/plain": [
       "Matrix([\n",
       "[sin(\\theta)*cos(\\phi), cos(\\phi)*cos(\\theta), -sin(\\phi)],\n",
       "[sin(\\phi)*sin(\\theta), sin(\\phi)*cos(\\theta),  cos(\\phi)],\n",
       "[          cos(\\theta),          -sin(\\theta),          0]])"
      ]
     },
     "execution_count": 12,
     "metadata": {},
     "output_type": "execute_result"
    }
   ],
   "source": [
    "# Calcula e exibe a matriz de transformação esférico para retangular\n",
    "esf2ret = ret2esf.inv()\n",
    "esf2ret.simplify()\n",
    "esf2ret"
   ]
  },
  {
   "cell_type": "code",
   "execution_count": 13,
   "id": "86c09831",
   "metadata": {
    "code_folding": [
     0
    ]
   },
   "outputs": [
    {
     "data": {
      "text/latex": [
       "$\\displaystyle \\mathbf{B}_{\\text{ret}}=\\left[\\begin{matrix}\\sin{\\left(\\theta \\right)} \\cos{\\left(\\phi \\right)} & \\cos{\\left(\\phi \\right)} \\cos{\\left(\\theta \\right)} & - \\sin{\\left(\\phi \\right)}\\\\\\sin{\\left(\\phi \\right)} \\sin{\\left(\\theta \\right)} & \\sin{\\left(\\phi \\right)} \\cos{\\left(\\theta \\right)} & \\cos{\\left(\\phi \\right)}\\\\\\cos{\\left(\\theta \\right)} & - \\sin{\\left(\\theta \\right)} & 0\\end{matrix}\\right]\\left[\\begin{matrix}r \\cos{\\left(\\phi \\right)} \\cos^{2}{\\left(\\theta \\right)} - \\sin{\\left(\\phi \\right)} + \\frac{10 \\sin{\\left(\\theta \\right)} \\cos{\\left(\\phi \\right)}}{r}\\\\r \\sin{\\left(\\phi \\right)} \\cos^{2}{\\left(\\theta \\right)} + \\cos{\\left(\\phi \\right)} + \\frac{10 \\sin{\\left(\\phi \\right)} \\sin{\\left(\\theta \\right)}}{r}\\\\- r \\sin{\\left(\\theta \\right)} \\cos{\\left(\\theta \\right)} + \\frac{10 \\cos{\\left(\\theta \\right)}}{r}\\end{matrix}\\right]$"
      ],
      "text/plain": [
       "<IPython.core.display.Math object>"
      ]
     },
     "metadata": {},
     "output_type": "display_data"
    },
    {
     "data": {
      "text/latex": [
       "$\\displaystyle \\mathbf{B}_{\\text{ret}}=\\left[\\begin{matrix}r \\cos{\\left(\\phi \\right)} \\cos^{2}{\\left(\\theta \\right)} - \\sin{\\left(\\phi \\right)} + \\frac{10 \\sin{\\left(\\theta \\right)} \\cos{\\left(\\phi \\right)}}{r}\\\\r \\sin{\\left(\\phi \\right)} \\cos^{2}{\\left(\\theta \\right)} + \\cos{\\left(\\phi \\right)} + \\frac{10 \\sin{\\left(\\phi \\right)} \\sin{\\left(\\theta \\right)}}{r}\\\\- r \\sin{\\left(\\theta \\right)} \\cos{\\left(\\theta \\right)} + \\frac{10 \\cos{\\left(\\theta \\right)}}{r}\\end{matrix}\\right]$"
      ],
      "text/plain": [
       "<IPython.core.display.Math object>"
      ]
     },
     "metadata": {},
     "output_type": "display_data"
    }
   ],
   "source": [
    "# Converte o vetor esférico para retangular\n",
    "Bret = esf2ret@B\n",
    "Bret_simb = sp.symbols(r'\\mathbf{B}_{\\text{ret}}')\n",
    "display(Math(sp.latex(Bret_simb) + '=' + sp.latex(esf2ret) + sp.latex(Bret)))\n",
    "display(Math(sp.latex(Bret_simb) + '=' + sp.latex(Bret)))"
   ]
  },
  {
   "attachments": {},
   "cell_type": "markdown",
   "id": "e246e832",
   "metadata": {},
   "source": [
    "Vamos simplificar o resultado"
   ]
  },
  {
   "cell_type": "code",
   "execution_count": 14,
   "id": "f190127d",
   "metadata": {
    "code_folding": [
     0
    ]
   },
   "outputs": [
    {
     "data": {
      "text/latex": [
       "$\\displaystyle \\mathbf{B}_{\\text{ret}}=\\left[\\begin{matrix}r \\cos{\\left(\\phi \\right)} \\cos^{2}{\\left(\\theta \\right)} - \\sin{\\left(\\phi \\right)} + \\frac{10 \\sin{\\left(\\theta \\right)} \\cos{\\left(\\phi \\right)}}{r}\\\\r \\sin{\\left(\\phi \\right)} \\cos^{2}{\\left(\\theta \\right)} + \\cos{\\left(\\phi \\right)} + \\frac{10 \\sin{\\left(\\phi \\right)} \\sin{\\left(\\theta \\right)}}{r}\\\\\\frac{\\left(- r^{2} \\sin{\\left(\\theta \\right)} + 10\\right) \\cos{\\left(\\theta \\right)}}{r}\\end{matrix}\\right]$"
      ],
      "text/plain": [
       "<IPython.core.display.Math object>"
      ]
     },
     "metadata": {},
     "output_type": "display_data"
    }
   ],
   "source": [
    "# Simplifica, se puder\n",
    "Bret.simplify()\n",
    "display(Math(sp.latex(Bret_simb) + '=' + sp.latex(Bret)))"
   ]
  },
  {
   "attachments": {},
   "cell_type": "markdown",
   "id": "310ed8be",
   "metadata": {},
   "source": [
    "Note que neste momento, temos um vetor <b>na base cartesiana</b> (isto é, $\\mathbf{a}_x$, $\\mathbf{a}_y$, $\\mathbf{a}_z$), mas  cujas componentes são expressas em <b>coordenadas esféricas</b>.\n",
    "\n",
    "<p style='text-align: justify;'> No livro a solução considera, neste momento, substituir as expressões de transformação das coordenadas de esférico para retangular. Assim, teríamos uma solução coerente: um vetor de base retangular, definido em termos de coordenadas retangulares. Se você quiser obter uma fórmula geral para isso, então o procedimento é válido. Repare, porém, que as expressões resultantes ficam bastante complicadas! </p>\n",
    "\n",
    "Para o que foi pedido, entretanto, isso não é necessário. O problema pede um valor **numérico** do vetor em um ponto específico. Então, podemos fazer o seguinte:\n",
    "1. Transformar o **ponto** solicitado de coordenadas retangulares para esféricas.\n",
    "2. Avaliar as componentes **retangulares** do vetor usando as coordenadas esféricas. "
   ]
  },
  {
   "cell_type": "code",
   "execution_count": 15,
   "id": "e3e91d54",
   "metadata": {
    "code_folding": [
     0
    ]
   },
   "outputs": [
    {
     "data": {
      "text/latex": [
       "$\\displaystyle \\mathbf{B}_{\\text{ret}}=\\left[\\begin{matrix}-2.0\\\\1.0\\\\2.91 \\cdot 10^{-16}\\end{matrix}\\right]$"
      ],
      "text/plain": [
       "<IPython.core.display.Math object>"
      ]
     },
     "metadata": {},
     "output_type": "display_data"
    }
   ],
   "source": [
    "# Avalia numericamente o vetor B em componentes retangulares\n",
    "Pesf = coord_esf((-3,4,0))\n",
    "rad = sp.pi/180\n",
    "Bret_num=Bret.subs([(r,Pesf[0]),(theta,Pesf[1]*rad),(phi,Pesf[2]*rad)])\n",
    "display(Math(sp.latex(Bret_simb) + '=' + sp.latex(Bret_num.evalf(3))))"
   ]
  },
  {
   "attachments": {},
   "cell_type": "markdown",
   "id": "7a490f48",
   "metadata": {},
   "source": [
    "O resultado concorda com a resposta do livro. Note que a componente $z$ é numericamente muito pequena. "
   ]
  },
  {
   "attachments": {},
   "cell_type": "markdown",
   "id": "fb70ff44",
   "metadata": {},
   "source": [
    "Agora, vamos converter o ponto $(5,\\pi/2,-2)$ para retangular e, em seguida, para esférico:"
   ]
  },
  {
   "cell_type": "code",
   "execution_count": 16,
   "id": "3649a758",
   "metadata": {
    "code_folding": [
     0
    ]
   },
   "outputs": [
    {
     "data": {
      "text/latex": [
       "$\\displaystyle \\left[\\begin{matrix}5\\\\\\frac{\\pi}{2}\\\\-2\\end{matrix}\\right]_{\\text{ cilindrico}} = \\left[\\begin{matrix}0\\\\5\\\\-2\\end{matrix}\\right]_{\\text{ retangular}} = \\left[\\begin{matrix}5.385\\\\111.8\\\\90.0\\end{matrix}\\right]_{\\text{ esférico}}$"
      ],
      "text/plain": [
       "<IPython.core.display.Math object>"
      ]
     },
     "metadata": {},
     "output_type": "display_data"
    }
   ],
   "source": [
    "# Converte o ponto dado para todas as coordenadas\n",
    "def coord_cil_para_ret(P):\n",
    "    rho = P[0]\n",
    "    phi = P[1]\n",
    "    z = P[2]\n",
    "    return sp.Matrix([rho*cos(phi), rho*sin(phi), z])\n",
    "\n",
    "P_cil = sp.Matrix([5,sp.pi/2,-2])\n",
    "P_ret = coord_cil_para_ret(P_cil)\n",
    "P_esf = coord_esf(P_ret).evalf(4)\n",
    "texto = sp.latex(P_cil) + r'_{\\text{ cilindrico}} = '\n",
    "texto += sp.latex(P_ret) + r'_{\\text{ retangular}} = '\n",
    "texto += sp.latex(P_esf) + r'_{\\text{ esférico}}'\n",
    "display(Math(texto))"
   ]
  },
  {
   "attachments": {},
   "cell_type": "markdown",
   "id": "b760de56",
   "metadata": {},
   "source": [
    "Note que o ângulo em cilíndricas está em radianos, mas em graus nas coordenadas esféricas. Conhecido o ponto em esféricas, podemos calcular o vetor em componentes retangulares.\n"
   ]
  },
  {
   "cell_type": "code",
   "execution_count": 17,
   "id": "b550e858",
   "metadata": {
    "code_folding": [
     0
    ]
   },
   "outputs": [
    {
     "data": {
      "text/latex": [
       "$\\displaystyle \\mathbf{B}_{\\text{retangular}} = \\left[\\begin{matrix}-1.0\\\\2.467\\\\1.167\\end{matrix}\\right]$"
      ],
      "text/plain": [
       "<IPython.core.display.Math object>"
      ]
     },
     "metadata": {},
     "output_type": "display_data"
    }
   ],
   "source": [
    "# Calcula numericamente o vetor em componentes retangulares\n",
    "Bret_num = Bret.subs([(r,P_esf[0]),(theta,P_esf[1]*rad),(phi,P_esf[2]*rad)])\n",
    "display(Math(r'\\mathbf{B}_{\\text{retangular}} = '+ sp.latex(Bret_num.evalf(4))))"
   ]
  },
  {
   "attachments": {},
   "cell_type": "markdown",
   "id": "4fec5bd8",
   "metadata": {},
   "source": [
    "Basta agora transformar este vetor para *componentes* cilíndricas, usando as **coordenadas** cilíndricas do ponto"
   ]
  },
  {
   "cell_type": "code",
   "execution_count": 18,
   "id": "9ab4a7fc",
   "metadata": {
    "code_folding": [
     0
    ]
   },
   "outputs": [
    {
     "data": {
      "text/latex": [
       "$\\displaystyle \\mathbf{B}_{\\text{cilindrico}}=\\left[\\begin{matrix}0 & 1 & 0\\\\-1 & 0 & 0\\\\0 & 0 & 1\\end{matrix}\\right]\\left[\\begin{matrix}-1.0\\\\2.467\\\\1.167\\end{matrix}\\right]$"
      ],
      "text/plain": [
       "<IPython.core.display.Math object>"
      ]
     },
     "metadata": {},
     "output_type": "display_data"
    },
    {
     "data": {
      "text/latex": [
       "$\\displaystyle \\mathbf{B}_{\\text{cilindrico}}=\\left[\\begin{matrix}2.467\\\\1.0\\\\1.167\\end{matrix}\\right]$"
      ],
      "text/plain": [
       "<IPython.core.display.Math object>"
      ]
     },
     "metadata": {},
     "output_type": "display_data"
    }
   ],
   "source": [
    "# Converte o vetor retangular para componentes cilíndricas\n",
    "Bcil_simb = sp.symbols(r'\\mathbf{B}_{\\text{cilindrico}}')\n",
    "matriz = ret2cil.subs([(r,P_cil[0]),(phi,P_cil[1]),(z,P_cil[2])])\n",
    "display(Math(sp.latex(Bcil_simb) + '=' + sp.latex(matriz) + sp.latex(Bret_num.evalf(4))))\n",
    "Bcil = matriz*Bret_num\n",
    "display(Math(sp.latex(Bcil_simb) + '=' + sp.latex(Bcil.evalf(4))))"
   ]
  },
  {
   "attachments": {},
   "cell_type": "markdown",
   "id": "a7444716",
   "metadata": {},
   "source": [
    "<p style='text-align: justify;'> \n",
    "Novamente, um dos resultados não deu exatamente igual ao livro. Isso se deve às aproximações e truncamentos intermediários. Mas perceba que a diferença é razoavelmente pequena em relação ao resultado teórico. </p>\n",
    "\n",
    "<p style='text-align: justify;'> \n",
    "A lição mais importante desses exemplos: <b>quando lidando com campos, podemos ter vetores em uma determinada base, mas cujas componentes são dadas por coordenadas que não necessaramente coincidem com a base</b>. Exemplo: campo na base retangular, descrito por coordenadas esféricas. </p>\n",
    "\n",
    "Quando nos referimos a vetor (ou campo vetorial), dizemos **componentes** retangulares, cilíndricas ou esféricas.\n",
    "\n",
    "Quando nos referimos a ponto, dizemos **coordenadas** retangulares, cilíndricas ou esféricas."
   ]
  }
 ],
 "metadata": {
  "kernelspec": {
   "display_name": "Python 3 (ipykernel)",
   "language": "python",
   "name": "python3"
  },
  "language_info": {
   "codemirror_mode": {
    "name": "ipython",
    "version": 3
   },
   "file_extension": ".py",
   "mimetype": "text/x-python",
   "name": "python",
   "nbconvert_exporter": "python",
   "pygments_lexer": "ipython3",
   "version": "3.11.2"
  }
 },
 "nbformat": 4,
 "nbformat_minor": 5
}
