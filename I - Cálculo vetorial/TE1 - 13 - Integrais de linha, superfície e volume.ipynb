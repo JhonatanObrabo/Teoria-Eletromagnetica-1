{
 "cells": [
  {
   "cell_type": "markdown",
   "id": "7ed961f0",
   "metadata": {},
   "source": [
    "$\\newcommand{\\ax}{\\mathbf{a}_x}$\n",
    "$\\newcommand{\\ay}{\\mathbf{a}_y}$\n",
    "$\\newcommand{\\az}{\\mathbf{a}_z}$\n",
    "$\\newcommand{\\arho}{\\mathbf{a}_\\rho}$\n",
    "$\\newcommand{\\ap}{\\mathbf{a}_\\phi}$\n",
    "$\\newcommand{\\ar}{\\mathbf{a}_r}$\n",
    "$\\newcommand{\\at}{\\mathbf{a}_\\theta}$\n",
    "$\\newcommand{\\grad}[1]{\\nabla #1}$\n",
    "$\\renewcommand{\\div}[1]{\\mathbf{\\nabla} \\cdot \\mathbf{#1}}$\n",
    "$\\newcommand{\\rot}[1]{\\mathbf{\\nabla} \\times \\mathbf{#1}}$\n",
    "$\\newcommand{\\parcial}[2]{\\frac{\\partial #1}{\\partial #2}}$"
   ]
  },
  {
   "cell_type": "markdown",
   "id": "4bebc9c3",
   "metadata": {},
   "source": [
    "# Integrais de linha, superfície e volume"
   ]
  },
  {
   "cell_type": "markdown",
   "id": "ae6836d8",
   "metadata": {},
   "source": [
    "Neste curso vamos explorar leis físicas que para serem expressas de uma forma bem geral e eficiente precisam ser escritas em termos de integrais contendo vetores."
   ]
  },
  {
   "cell_type": "markdown",
   "id": "41cf1b0b",
   "metadata": {},
   "source": [
    "## Integral de linha\n",
    "\n",
    "A primeira delas é a integral de linha. A definição de \"linha\" aqui é de um \"caminho\" unidimensional ao longo de qualquer curva no espaço. Linha, curva e contorno serão sinônimos daqui para frente.\n",
    "\n",
    "A integral de linha $\\displaystyle\\int_L \\mathbf{A}\\cdot d\\mathbf{l}$ é a integral da componente tangencial do vetor $\\mathbf{A}$ ao longo da curva $L$. "
   ]
  },
  {
   "cell_type": "markdown",
   "id": "9c23b382",
   "metadata": {},
   "source": [
    "Interpretação física: o caminho $L$ é composto por diversos elementos diferenciais $d\\mathbf{l}$ (vetores). O campo vetorial $\\mathbf{A}$ está presente em todos os pontos do espaço. Imagine então, que em cada elemento diferencial checamos qual é o vetor $\\mathbf{A}$ presente naquele ponto, e aí calculamos o produto escalar entre o elemento e o vetor naquela localização. A integral de linhar é a soma de todos estes produtos, desde o início do caminho até o final. "
   ]
  },
  {
   "attachments": {},
   "cell_type": "markdown",
   "id": "c3436648",
   "metadata": {},
   "source": [
    "Às vezes, o caminho percorrido começa e termina no mesmo ponto. Isso faz com que ele seja uma curva fechada. Quando a integral de linha for feita em uma curva fechada isso será explicitamente declarado na integral, devido sua importância física.\n",
    "\n",
    "$$\n",
    "\\begin{align}\n",
    "    \\oint_L \\mathbf{A}\\cdot d\\mathbf{l}\n",
    "\\end{align}\n",
    "$$\n",
    "\n",
    "$L$ e necessariamente um percurso fechado. Esse tipo de integral é chamado de **circulação de $\\mathbf{A}$** ao redor de $L$. (!)\n",
    "\n",
    "Note que uma linha fechada define necessariamente uma superfície. "
   ]
  },
  {
   "cell_type": "markdown",
   "id": "c773c9af",
   "metadata": {},
   "source": [
    "Um bom exemplo de integral de linha prática é o trabalho de uma força, que está associado à quantidade de energia de uma partícula. O trabalho é uma quantia escalar e é calculado ao longo de um caminho que a força percorre. Como a força e o deslocamento podem ser tridimensionais, então podemos escrever:\n",
    "\n",
    "$$\n",
    "\\begin{align}\n",
    "    \\int_P^Q \\mathbf{F}\\cdot d\\mathbf{l} &= \\int_P^Q  (F_x\\mathbf{a}_x+F_y\\mathbf{a}_y+F_z\\mathbf{a}_z)\\cdot (dx\\,\\mathbf{a}_x+dy\\,\\mathbf{a}_y+dz\\,\\mathbf{a}_z)\\\\\n",
    "    &= \n",
    "    \\int_{X_P}^{X_Q} {F}_x\\, dx+\\int_{Y_P}^{Y_Q} {F}_y\\, dy + \\int_{Z_P}^{Z_Q} {F}_z\\, dz\n",
    "\\end{align}\n",
    "$$\n",
    "\n",
    "onde $P(X_P, Y_P, Z_P)$ é o ponto de partida e $Q(X_Q, Y_Q, Z_Q)$ o de chegada. \n",
    "\n",
    "<p align=\"center\">\n",
    "    <img src=\"Fig3.8.svg\">\n",
    "</p>"
   ]
  },
  {
   "cell_type": "markdown",
   "id": "fe209b35",
   "metadata": {},
   "source": [
    "## Integral de superfície\n",
    "\n",
    "Dado um campo vetorial $\\mathbf{A}$ contínuo em uma região contendo uma superfície suave $S$, definimos a integral de superfície ou o **fluxo** de $\\mathbf{A}$ através de $S$ como:\n",
    "\n",
    "$$\n",
    "\\begin{align}\n",
    "    \\Psi &= \\int_{S} \\mathbf{A}\\cdot d\\mathbf{S}\n",
    "\\end{align}\n",
    "$$\n",
    "\n",
    "Lembre-se que $d\\mathbf{S}$ é um elemento de área, e a sua direção é normal (perpendicular) à sua superfície. \n",
    "\n",
    "Quando a superfície é fechada, definido assim um volume, indicamos:\n",
    "\n",
    "$$\n",
    "\\begin{align}\n",
    "    \\Psi &= \\oint_{S} \\mathbf{A}\\cdot d\\mathbf{S}\n",
    "\\end{align}\n",
    "$$\n",
    "\n",
    "e nesse caso $\\Psi$ é chamado *fluxo líquido que sai de $S$*. \n",
    "\n",
    "<p align=\"center\">\n",
    "    <img src=\"Fig3.9.svg\">\n",
    "</p>"
   ]
  },
  {
   "attachments": {},
   "cell_type": "markdown",
   "id": "f34676bc",
   "metadata": {},
   "source": [
    "## Integral de volume\n",
    "\n",
    "A integral de volume é definida em termos de um campo (ou distribuição escalar) ao redor de um \"sólido\" $V$.\n",
    "\n",
    "$$\n",
    "\\begin{align}\n",
    "    \\int_{V} \\rho \\,dv\n",
    "\\end{align}\n",
    "$$"
   ]
  },
  {
   "cell_type": "markdown",
   "id": "c1bf4fb8",
   "metadata": {},
   "source": [
    "**Exemplo 3.2:** Dado $\\mathbf{F} = x^2\\,\\mathbf{a}_x-xz\\mathbf{a}_y-y^2\\mathbf{a}_z$, determine a circulação de $F$ no caminho mostrado na Figura. \n",
    "\n",
    "<p align=\"center\">\n",
    "    <img src=\"Fig3.10.svg\">\n",
    "</p>"
   ]
  },
  {
   "cell_type": "markdown",
   "id": "9c09fbaf",
   "metadata": {},
   "source": [
    "Apesar do caminho ser simples a sua irregularidade requer que a integral seja separada em quatro partes:\n",
    "\n",
    "$$\n",
    "\\begin{align}\n",
    "    \\oint_C \\mathbf{F}\\cdot d\\mathbf{l} = \\int_1 + \\int_2 + \\int_3 + \\int_4\n",
    "\\end{align}\n",
    "$$\n",
    "\n",
    "Os índices denotam a avaliação da integral em cada um dos trechos."
   ]
  },
  {
   "cell_type": "code",
   "execution_count": 15,
   "id": "04ce4ffb",
   "metadata": {},
   "outputs": [
    {
     "ename": "ModuleNotFoundError",
     "evalue": "No module named 'numpy'",
     "output_type": "error",
     "traceback": [
      "\u001b[1;31m---------------------------------------------------------------------------\u001b[0m",
      "\u001b[1;31mModuleNotFoundError\u001b[0m                       Traceback (most recent call last)",
      "Cell \u001b[1;32mIn[15], line 3\u001b[0m\n\u001b[0;32m      1\u001b[0m \u001b[39m# \u001b[39;00m\n\u001b[0;32m      2\u001b[0m \u001b[39mimport\u001b[39;00m \u001b[39msympy\u001b[39;00m \u001b[39mas\u001b[39;00m \u001b[39msp\u001b[39;00m\n\u001b[1;32m----> 3\u001b[0m \u001b[39mimport\u001b[39;00m \u001b[39mnumpy\u001b[39;00m \u001b[39mas\u001b[39;00m \u001b[39mnp\u001b[39;00m\n\u001b[0;32m      4\u001b[0m \u001b[39mfrom\u001b[39;00m \u001b[39mIPython\u001b[39;00m\u001b[39m.\u001b[39;00m\u001b[39mdisplay\u001b[39;00m \u001b[39mimport\u001b[39;00m display, Math\n",
      "\u001b[1;31mModuleNotFoundError\u001b[0m: No module named 'numpy'"
     ]
    }
   ],
   "source": [
    "# \n",
    "import sympy as sp\n",
    "import numpy as np\n",
    "from IPython.display import display, Math"
   ]
  },
  {
   "attachments": {},
   "cell_type": "markdown",
   "id": "a7c3a588",
   "metadata": {},
   "source": [
    "Primeiro, definimos as variáveis e o campo"
   ]
  },
  {
   "cell_type": "code",
<<<<<<< HEAD
   "execution_count": null,
=======
   "execution_count": 2,
>>>>>>> 9a74f5dbdb60b866007e203d828d23024b59a0d9
   "id": "c202a58a",
   "metadata": {},
   "outputs": [],
   "source": [
    "x,y,z = sp.symbols(['x', 'y', 'z'])\n",
    "F = [x**2, -x*z , -y**2]"
   ]
  },
  {
   "attachments": {},
   "cell_type": "markdown",
   "id": "e42fb7cb",
   "metadata": {},
   "source": [
    "Quebramos a integral em 4 partes. No primeiro trecho, não temos variação em $y$ e em $z$. E a variação em $x$ é de 0 a 1. Logo:"
   ]
  },
  {
   "cell_type": "code",
   "execution_count": 25,
   "id": "d5f3bd04",
   "metadata": {},
   "outputs": [
    {
     "data": {
      "text/latex": [
       "$\\displaystyle \\int\\limits_{1}^{0} x^{2}\\, dx$"
      ],
      "text/plain": [
       "Integral(x**2, (x, 1, 0))"
      ]
     },
     "execution_count": 25,
     "metadata": {},
     "output_type": "execute_result"
    }
   ],
   "source": [
    "# Trecho 1 (1,0,0) -> (0,0,0)\n",
<<<<<<< HEAD
    "I1 =  sp.integral(F[0], (x,1,0))\n",
    "I1\n"
=======
    "I1 = sp.Integral(F[0],(x,1,0))\n",
    "I1"
   ]
  },
  {
   "attachments": {},
   "cell_type": "markdown",
   "id": "4ac622e9",
   "metadata": {},
   "source": [
    "O resultado parcial é:"
>>>>>>> 9a74f5dbdb60b866007e203d828d23024b59a0d9
   ]
  },
  {
   "cell_type": "code",
<<<<<<< HEAD
   "execution_count": null,
   "id": "3abc99e9",
   "metadata": {},
   "outputs": [],
   "source": [
    "I2 = sp.integral(F[1].subs([(x,0),(z,0)]),(y,0,1))"
=======
   "execution_count": 26,
   "id": "0a617caa",
   "metadata": {},
   "outputs": [
    {
     "data": {
      "text/latex": [
       "$\\displaystyle - \\frac{1}{3}$"
      ],
      "text/plain": [
       "-1/3"
      ]
     },
     "execution_count": 26,
     "metadata": {},
     "output_type": "execute_result"
    }
   ],
   "source": [
    "I1.doit()"
   ]
  },
  {
   "attachments": {},
   "cell_type": "markdown",
   "id": "5032079e",
   "metadata": {},
   "source": [
    "No segundo trecho, $x=0$ e $z = 0$. A variação é apenas em $y$, de 0 a 1. "
>>>>>>> 9a74f5dbdb60b866007e203d828d23024b59a0d9
   ]
  },
  {
   "cell_type": "code",
<<<<<<< HEAD
   "execution_count": null,
   "id": "ec3a8b57",
   "metadata": {},
   "outputs": [],
   "source": [
    "I3 = sp.integral(f[0].subs([(z,x),(y,1)]),(x,0,1))+ sp.integral (F[2].subs([(x,z),(y,1)]),(z,0,1))"
=======
   "execution_count": 14,
   "id": "4197ff76",
   "metadata": {},
   "outputs": [
    {
     "data": {
      "text/latex": [
       "$\\displaystyle \\int\\limits_{0}^{1} 0\\, dy$"
      ],
      "text/plain": [
       "Integral(0, (y, 0, 1))"
      ]
     },
     "execution_count": 14,
     "metadata": {},
     "output_type": "execute_result"
    }
   ],
   "source": [
    "I2 = sp.Integral(F[1].subs([(x,0),(z,0)]),(y,0,1))\n",
    "I2"
   ]
  },
  {
   "attachments": {},
   "cell_type": "markdown",
   "id": "7b7356f1",
   "metadata": {},
   "source": [
    "No trecho 3, temos que $z=x$ sobre a face. Além disso $y=1$ não varia), logo temos apenas duas integrais. Os limites em ambos $x$ e $z$ são [0,1]. "
>>>>>>> 9a74f5dbdb60b866007e203d828d23024b59a0d9
   ]
  },
  {
   "cell_type": "code",
<<<<<<< HEAD
   "execution_count": null,
   "id": "45db64d1",
   "metadata": {},
   "outputs": [],
   "source": [
    "I4 = sp.integral(f[0].subs([(z,x),(y,1)]),(x,0,1))+ sp.integral F[2].subs"
=======
   "execution_count": 19,
   "id": "306609af",
   "metadata": {},
   "outputs": [
    {
     "data": {
      "text/latex": [
       "$\\displaystyle \\int\\limits_{0}^{1} \\left(-1\\right)\\, dz + \\int\\limits_{0}^{1} x^{2}\\, dx$"
      ],
      "text/plain": [
       "Integral(-1, (z, 0, 1)) + Integral(x**2, (x, 0, 1))"
      ]
     },
     "execution_count": 19,
     "metadata": {},
     "output_type": "execute_result"
    }
   ],
   "source": [
    "I3 = sp.Integral(F[0].subs([(z,x),(y,1)]),(x,0,1)) + sp.Integral(F[2].subs([(x,z),(y,1)]),(z,0,1))\n",
    "I3"
   ]
  },
  {
   "cell_type": "code",
   "execution_count": 20,
   "id": "234d2217",
   "metadata": {},
   "outputs": [
    {
     "data": {
      "text/latex": [
       "$\\displaystyle - \\frac{2}{3}$"
      ],
      "text/plain": [
       "-2/3"
      ]
     },
     "execution_count": 20,
     "metadata": {},
     "output_type": "execute_result"
    }
   ],
   "source": [
    "I3.doit()"
   ]
  },
  {
   "cell_type": "code",
   "execution_count": 24,
   "id": "25ba8eff",
   "metadata": {},
   "outputs": [
    {
     "data": {
      "text/latex": [
       "$\\displaystyle \\int\\limits_{1}^{0} \\left(- z^{2}\\right)\\, dz + \\int\\limits_{1}^{0} \\left(- y\\right)\\, dy$"
      ],
      "text/plain": [
       "Integral(-z**2, (z, 1, 0)) + Integral(-y, (y, 1, 0))"
      ]
     },
     "execution_count": 24,
     "metadata": {},
     "output_type": "execute_result"
    }
   ],
   "source": [
    "I4 = sp.Integral(F[1].subs([(z,y),(x,1)]),(y,1,0)) + sp.Integral(F[2].subs([(y,z),(x,1)]),(z,1,0))\n",
    "I4"
   ]
  },
  {
   "cell_type": "code",
   "execution_count": 23,
   "id": "decc78ee",
   "metadata": {},
   "outputs": [
    {
     "data": {
      "text/latex": [
       "$\\displaystyle - \\frac{5}{6}$"
      ],
      "text/plain": [
       "-5/6"
      ]
     },
     "execution_count": 23,
     "metadata": {},
     "output_type": "execute_result"
    }
   ],
   "source": [
    "I4.doit()"
   ]
  },
  {
   "cell_type": "code",
   "execution_count": 27,
   "id": "9581e935",
   "metadata": {},
   "outputs": [
    {
     "data": {
      "text/latex": [
       "$\\displaystyle \\int\\limits_{0}^{1} \\left(-1\\right)\\, dz + \\int\\limits_{1}^{0} x^{2}\\, dx + \\int\\limits_{0}^{1} 0\\, dy + \\int\\limits_{0}^{1} x^{2}\\, dx + \\int\\limits_{1}^{0} \\left(- z^{2}\\right)\\, dz + \\int\\limits_{1}^{0} \\left(- y\\right)\\, dy$"
      ],
      "text/plain": [
       "Integral(-1, (z, 0, 1)) + Integral(x**2, (x, 1, 0)) + Integral(0, (y, 0, 1)) + Integral(x**2, (x, 0, 1)) + Integral(-z**2, (z, 1, 0)) + Integral(-y, (y, 1, 0))"
      ]
     },
     "execution_count": 27,
     "metadata": {},
     "output_type": "execute_result"
    }
   ],
   "source": [
    "I = I1+I2+I3+I4\n",
    "I"
   ]
  },
  {
   "cell_type": "code",
   "execution_count": 28,
   "id": "c43374b3",
   "metadata": {},
   "outputs": [
    {
     "data": {
      "text/latex": [
       "$\\displaystyle - \\frac{1}{6}$"
      ],
      "text/plain": [
       "-1/6"
      ]
     },
     "execution_count": 28,
     "metadata": {},
     "output_type": "execute_result"
    }
   ],
   "source": [
    "I.doit()"
>>>>>>> 9a74f5dbdb60b866007e203d828d23024b59a0d9
   ]
  }
 ],
 "metadata": {
  "kernelspec": {
   "display_name": "Python 3 (ipykernel)",
   "language": "python",
   "name": "python3"
  },
  "language_info": {
   "codemirror_mode": {
    "name": "ipython",
    "version": 3
   },
   "file_extension": ".py",
   "mimetype": "text/x-python",
   "name": "python",
   "nbconvert_exporter": "python",
   "pygments_lexer": "ipython3",
   "version": "3.11.2"
  }
 },
 "nbformat": 4,
 "nbformat_minor": 5
}
