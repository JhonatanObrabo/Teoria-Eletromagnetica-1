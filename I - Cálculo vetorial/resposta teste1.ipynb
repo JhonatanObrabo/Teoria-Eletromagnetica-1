{
 "cells": [
  {
   "cell_type": "code",
   "execution_count": 108,
   "metadata": {},
   "outputs": [],
   "source": [
    "#Questão 2"
   ]
  },
  {
   "cell_type": "code",
   "execution_count": 109,
   "metadata": {},
   "outputs": [],
   "source": [
    "\n",
    "import sympy as sp\n",
    "import numpy as np\n",
    "from sympy import cos, sin\n",
    "from IPython.display import display, Math"
   ]
  },
  {
   "cell_type": "code",
   "execution_count": 110,
   "metadata": {},
   "outputs": [],
   "source": [
    "rho,phi,theta,r = sp.symbols(['\\\\rho','\\\\phi','\\\\theta','r'])\n",
    "x,y,z = sp.symbols(['x','y','z'])"
   ]
  },
  {
   "cell_type": "code",
   "execution_count": 111,
   "metadata": {},
   "outputs": [],
   "source": [
    "ret2cil = sp.Matrix([[sp.cos(phi), sp.sin(phi),0],[-sp.sin(phi), sp.cos(phi),0],[0,0,1]])"
   ]
  },
  {
   "cell_type": "code",
   "execution_count": 115,
   "metadata": {},
   "outputs": [
    {
     "data": {
      "text/latex": [
       "$\\displaystyle \\mathbf{A}_{\\text{cilindrico}} = \\left[\\begin{matrix}\\cos{\\left(\\phi \\right)} & \\sin{\\left(\\phi \\right)} & 0\\\\- \\sin{\\left(\\phi \\right)} & \\cos{\\left(\\phi \\right)} & 0\\\\0 & 0 & 1\\end{matrix}\\right]\\left[\\begin{matrix}\\frac{x}{x^{2} + y^{2}}\\\\\\frac{y}{x^{2} + y^{2}}\\\\0\\end{matrix}\\right]$"
      ],
      "text/plain": [
       "<IPython.core.display.Math object>"
      ]
     },
     "metadata": {},
     "output_type": "display_data"
    },
    {
     "data": {
      "text/latex": [
       "$\\displaystyle \\mathbf{A}_{\\text{cilindrico}} = \\left[\\begin{matrix}\\frac{x \\cos{\\left(\\phi \\right)}}{x^{2} + y^{2}} + \\frac{y \\sin{\\left(\\phi \\right)}}{x^{2} + y^{2}}\\\\- \\frac{x \\sin{\\left(\\phi \\right)}}{x^{2} + y^{2}} + \\frac{y \\cos{\\left(\\phi \\right)}}{x^{2} + y^{2}}\\\\0\\end{matrix}\\right]$"
      ],
      "text/plain": [
       "<IPython.core.display.Math object>"
      ]
     },
     "metadata": {},
     "output_type": "display_data"
    }
   ],
   "source": [
    "# Define o vetor A em retangulares e transforma pela matriz\n",
    "Dret = sp.Matrix([[x/(x**2+y**2),y/(x**2+y**2),0]]).T\n",
    "Dcil = ret2cil @ Dret\n",
    "display(Math(r'\\mathbf{A}_{\\text{cilindrico}} = '+ sp.latex(ret2cil) + sp.latex(Dret)))\n",
    "display(Math(r'\\mathbf{A}_{\\text{cilindrico}} = '+ sp.latex(Dcil)))"
   ]
  },
  {
   "cell_type": "code",
   "execution_count": 116,
   "metadata": {},
   "outputs": [
    {
     "ename": "SyntaxError",
     "evalue": "invalid syntax. Maybe you meant '==' or ':=' instead of '='? (1680268553.py, line 1)",
     "output_type": "error",
     "traceback": [
      "\u001b[1;36m  Cell \u001b[1;32mIn[116], line 1\u001b[1;36m\u001b[0m\n\u001b[1;33m    P = (rho=2,phi=0,2*pi,z=5)\u001b[0m\n\u001b[1;37m         ^\u001b[0m\n\u001b[1;31mSyntaxError\u001b[0m\u001b[1;31m:\u001b[0m invalid syntax. Maybe you meant '==' or ':=' instead of '='?\n"
     ]
    }
   ],
   "source": [
    "P = (rho=2,phi=0,2*pi,z=5)\n",
    "texto1 = r'\\text{Ponto dado: } P' + sp.latex(P)\n",
    "display(Math(texto1))\n",
    "Pcil = coord_cil(P)\n",
    "texto2 = r'\\text{Coord. cilíndricas: }' + sp.latex(Pcil.evalf(4))\n",
    "imprimir(texto2)\n",
    "Pesf = coord_esf(P)\n",
    "texto3 = r'\\text{Coord. esféricas: }' + sp.latex(Pesf.evalf(4))\n",
    "imprimir(texto3)"
   ]
  }
 ],
 "metadata": {
  "kernelspec": {
   "display_name": "Python 3",
   "language": "python",
   "name": "python3"
  },
  "language_info": {
   "codemirror_mode": {
    "name": "ipython",
    "version": 3
   },
   "file_extension": ".py",
   "mimetype": "text/x-python",
   "name": "python",
   "nbconvert_exporter": "python",
   "pygments_lexer": "ipython3",
   "version": "3.11.2"
  },
  "orig_nbformat": 4
 },
 "nbformat": 4,
 "nbformat_minor": 2
}
