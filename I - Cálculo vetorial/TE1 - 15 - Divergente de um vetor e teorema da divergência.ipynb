{
 "cells": [
  {
   "attachments": {},
   "cell_type": "markdown",
   "id": "3a85463a",
   "metadata": {
    "tags": []
   },
   "source": [
    "$%Macros$\n",
    "$\\newcommand{\\ax}{\\mathbf{a}_x}$\n",
    "$\\newcommand{\\ay}{\\mathbf{a}_y}$\n",
    "$\\newcommand{\\az}{\\mathbf{a}_z}$\n",
    "$\\newcommand{\\arho}{\\mathbf{a}_\\rho}$\n",
    "$\\newcommand{\\ap}{\\mathbf{a}_\\phi}$\n",
    "$\\newcommand{\\ar}{\\mathbf{a}_r}$\n",
    "$\\newcommand{\\at}{\\mathbf{a}_\\theta}$\n",
    "$\\newcommand{\\grad}[1]{\\nabla #1}$\n",
    "$\\renewcommand{\\div}[1]{\\mathbf{\\nabla} \\cdot \\mathbf{#1}}$\n",
    "$\\newcommand{\\rot}[1]{\\mathbf{\\nabla} \\times \\mathbf{#1}}$\n",
    "$\\newcommand{\\parcial}[2]{\\frac{\\partial #1}{\\partial #2}}$"
   ]
  },
  {
   "cell_type": "markdown",
   "id": "b25518e0",
   "metadata": {},
   "source": [
    "# Divergente de um vetor"
   ]
  },
  {
   "cell_type": "markdown",
   "id": "27ae18f6",
   "metadata": {},
   "source": [
    "Anteriormente definimos o fluxo líquido de um campo $\\mathbf{A}$ saindo de uma superfície fechada $S$ como a integral $\\oint \\mathbf{A}\\cdot d \\mathbf{S}$. \n",
    "\n",
    "Lembre-se que uma superfície fechada define um volume no espaço. \n",
    "\n",
    "O divergente de um vetor $\\mathbf{A}$ em um dado ponto $P$ é o fluxo de saída por unidade de volume à medida que esse volume diminui.  \n",
    "$$\n",
    "\\begin{align}\n",
    "    \\text{div }\\mathbf{A} = \\div{A} = \\lim_{\\Delta v\\rightarrow 0} \\frac{\\displaystyle\\oint_S \\mathbf{A}\\cdot d\\mathbf{S}}{\\Delta v}\n",
    "\\end{align}\n",
    "$$\n",
    "\n",
    "<p align=\"center\">\n",
    "    <img src=\"Fig3.15.svg\">\n",
    "</p>"
   ]
  },
  {
   "cell_type": "markdown",
   "id": "3055113d",
   "metadata": {},
   "source": [
    "Fisicamente, a divergência do campo vetorial $\\mathbf{A}$ em um determinado representa uma medida de quanto o campo diverge ou emana ou se origina desse ponto. A Figura 3.15(a) mostra que a divergência de um campo vetorial no ponto $P$ é positiva porque o vetor diverge (ou se espalha) em $P$.\n",
    "\n",
    "Na Figura 3.15(b) um campo vetorial tem divergência negativa (ou convergência) em $P$, e na Figura\n",
    "3.15(c) um campo vetorial tem divergência zero em $P$. A divergência de um campo vetorial também pode ser vista simplesmente como o limite da intensidade da fonte do campo por unidade de volume (ou densidade da fonte); é positivo em um ponto fonte no campo e negativo em um ponto sumidouro, ou zero onde há nem sumidouro nem fonte."
   ]
  },
  {
   "attachments": {},
   "cell_type": "markdown",
   "id": "ec26f94d",
   "metadata": {
    "jupyter": {
     "source_hidden": true
    },
    "tags": []
   },
   "source": [
    "A divergência de um campo $\\mathbf{A}$ pode ser deduzida em coordenadas cartesianas usando argumentos geométricos, que resulta exatamente na definição já apresentada:\n",
    "$$\n",
    "\\begin{align}\n",
    "    \\div{A} = \\parcial{A_x}{x}+\\parcial{A_y}{y}+\\parcial{A_z}{z}\n",
    "\\end{align}\n",
    "$$\n",
    "\n",
    "Em coordenadas cilíndricas:\n",
    "$$\n",
    "\\begin{align}\n",
    "    \\div{A} = \\frac{1}{\\rho}\\parcial{(\\rho A_\\rho)}{\\rho}+\\frac{1}{\\rho}\\parcial{A_\\phi}{\\phi}+\\parcial{A_z}{z}\n",
    "\\end{align}\n",
    "$$\n",
    "\n",
    "Em coordenadas esféricas:\n",
    "$$\n",
    "\\begin{align}\n",
    "    \\div{A} = \\frac{1}{r^2}\\parcial{(r^2 A_r)}{r}+\\frac{1}{(r\\,\\sin \\theta)}\\parcial{A_\\theta \\sin \\theta}{\\theta}+\\frac{1}{r\\sin \\theta}\\parcial{A_\\phi}{\\phi}\n",
    "\\end{align}\n",
    "$$\n"
   ]
  },
  {
   "attachments": {},
   "cell_type": "markdown",
   "id": "435ed7ff",
   "metadata": {},
   "source": [
    "\n",
    "**Propriedades**  \n",
    "- $\\div{(A+B)} = \\div{A}+\\div{B}$  \n",
    "- $\\nabla \\cdot (V\\mathbf{A}) = V \\div{A} + \\mathbf{A}\\cdot \\grad{V}$"
   ]
  },
  {
   "cell_type": "markdown",
   "id": "3595d232",
   "metadata": {},
   "source": [
    "## Teorema da divergência"
   ]
  },
  {
   "cell_type": "markdown",
   "id": "857c9696",
   "metadata": {},
   "source": [
    "O fluxo total de saída  de um vetor $\\mathbf{A}$ em uma superfície fechada $S$ é igual à integral de volume da divergência de $\\mathbf{A}$ neste volume. \n",
    "$$\n",
    "\\begin{align}\n",
    "    \\oint_S \\mathbf{A}\\cdot d\\mathbf{S} = \\int_v \\div{A}dv\n",
    "\\end{align}\n",
    "$$"
   ]
  },
  {
   "cell_type": "markdown",
   "id": "3d83666c",
   "metadata": {},
   "source": [
    "**Exemplo 3.6:** Determine a divergência dos campos vetoriais:  \n",
    "(a) $\\mathbf{P} = x^2yz\\,\\ax+xz\\,\\az$  \n",
    "(b) $\\mathbf{Q} = \\rho \\,\\sin\\phi\\,\\arho+\\rho^2z\\,\\ap+z\\cos\\phi \\,\\az$  \n",
    "(c) $\\mathbf{T} = \\displaystyle\\frac{\\cos\\theta}{r^2}\\,\\ar+r\\, \\sin \\theta\\, \\cos \\phi\\, \\at+\\cos \\theta\\, \\ap$"
   ]
  },
  {
   "cell_type": "code",
   "execution_count": 44,
   "id": "9f6e1dc2",
   "metadata": {},
   "outputs": [],
   "source": [
    "import sympy as sp\n",
    "from sympy import exp, sin, cos"
   ]
  },
  {
   "cell_type": "code",
   "execution_count": 45,
   "id": "974fc7bb",
   "metadata": {},
   "outputs": [
    {
     "data": {
      "text/latex": [
       "$\\displaystyle 2 x y z + x$"
      ],
      "text/plain": [
       "2*x*y*z + x"
      ]
     },
     "execution_count": 45,
     "metadata": {},
     "output_type": "execute_result"
    }
   ],
   "source": [
    "#(a)\n",
    "x,y,z = sp.symbols(['x', 'y', 'z'])\n",
    "P = sp.Matrix([x**2 * y * z,  0, x*z])\n",
    "def div_cart(A):\n",
    "    return sp.diff(A[0],x)+sp.diff(A[1],y)+sp.diff(A[2],z)\n",
    "\n",
    "div_cart(P)"
   ]
  },
  {
   "cell_type": "code",
   "execution_count": 46,
   "id": "9622ed38",
   "metadata": {},
   "outputs": [],
   "source": [
    "rho, phi = sp.symbols(['rho','phi'])\n",
    "def div_cil(A):\n",
    "    return (1/rho)*sp.diff(rho*A[0],rho)+(1/rho)*sp.diff(A[1],phi)+sp.diff(A[2],z)"
   ]
  },
  {
   "cell_type": "code",
   "execution_count": 47,
   "id": "7343c610",
   "metadata": {},
   "outputs": [
    {
     "data": {
      "text/latex": [
       "$\\displaystyle \\left[\\begin{matrix}\\rho^{2} \\sin{\\left(\\phi \\right)}\\\\\\rho^{2} z\\\\z \\cos{\\left(\\phi \\right)}\\end{matrix}\\right]$"
      ],
      "text/plain": [
       "Matrix([\n",
       "[rho**2*sin(phi)],\n",
       "[       rho**2*z],\n",
       "[     z*cos(phi)]])"
      ]
     },
     "execution_count": 47,
     "metadata": {},
     "output_type": "execute_result"
    }
   ],
   "source": [
    "Q = sp.Matrix([rho**2*sin(phi), rho**2 * z, z*cos(phi)])\n",
    "Q"
   ]
  },
  {
   "cell_type": "code",
   "execution_count": 48,
   "id": "0f6fcff1",
   "metadata": {},
   "outputs": [
    {
     "data": {
      "text/latex": [
       "$\\displaystyle 3 \\rho \\sin{\\left(\\phi \\right)} + \\cos{\\left(\\phi \\right)}$"
      ],
      "text/plain": [
       "3*rho*sin(phi) + cos(phi)"
      ]
     },
     "execution_count": 48,
     "metadata": {},
     "output_type": "execute_result"
    }
   ],
   "source": [
    "div_cil(Q)"
   ]
  },
  {
   "cell_type": "code",
   "execution_count": 49,
   "id": "05c59362",
   "metadata": {},
   "outputs": [],
   "source": [
    "r, theta = sp.symbols(['r','theta'])\n",
    "def div_esf(A):\n",
    "    D = (1/r**2)*sp.diff(r**2*A[0],r)+(1/(r*sin(theta)))*sp.diff(A[1]*sin(theta),theta)+(1/(r*sin(theta)))*sp.diff(A[2],phi)\n",
    "    return D"
   ]
  },
  {
   "cell_type": "code",
   "execution_count": 50,
   "id": "df743ff1",
   "metadata": {},
   "outputs": [
    {
     "data": {
      "text/latex": [
       "$\\displaystyle \\left[\\begin{matrix}\\frac{\\cos{\\left(\\theta \\right)}}{r^{2}}\\\\r \\sin{\\left(\\theta \\right)} \\cos{\\left(\\phi \\right)}\\\\\\cos{\\left(\\theta \\right)}\\end{matrix}\\right]$"
      ],
      "text/plain": [
       "Matrix([\n",
       "[      cos(theta)/r**2],\n",
       "[r*sin(theta)*cos(phi)],\n",
       "[           cos(theta)]])"
      ]
     },
     "execution_count": 50,
     "metadata": {},
     "output_type": "execute_result"
    }
   ],
   "source": [
    "T = sp.Matrix([cos(theta)/r**2,  r*sin(theta)*cos(phi), cos(theta)])\n",
    "T\n"
   ]
  },
  {
   "cell_type": "code",
   "execution_count": 51,
   "id": "7b073b96",
   "metadata": {},
   "outputs": [
    {
     "data": {
      "text/latex": [
       "$\\displaystyle 2 \\cos{\\left(\\phi \\right)} \\cos{\\left(\\theta \\right)}$"
      ],
      "text/plain": [
       "2*cos(phi)*cos(theta)"
      ]
     },
     "execution_count": 51,
     "metadata": {},
     "output_type": "execute_result"
    }
   ],
   "source": [
    "div_esf(T)"
   ]
  },
  {
   "cell_type": "markdown",
   "id": "609e4967",
   "metadata": {},
   "source": [
    "**Exemplo 3.7:** Se $\\mathbf{G}(r)= 10e^{-2z}(\\rho \\arho+\\az)$, determine o fluxo $\\mathbf{G}$ em toda a superfície do cilindro $\\rho =1 $, $0\\leq z \\leq 1$. Confirme o resultado pelo teorema da divergência. \n",
    "\n",
    "<p align=\"center\">\n",
    "    <img src=\"Fig3.18.svg\">\n",
    "</p>"
   ]
  },
  {
   "cell_type": "code",
   "execution_count": 52,
   "id": "83ae62c5",
   "metadata": {},
   "outputs": [],
   "source": [
    "import sympy as sp\n",
    "from sympy import cos, sin, exp,pi, integrate, Integral, latex\n",
    "from IPython.display import display, Math"
   ]
  },
  {
   "cell_type": "code",
   "execution_count": 53,
   "id": "7d800123",
   "metadata": {},
   "outputs": [],
   "source": [
    "z, phi, rho = sp.symbols(['z','phi', 'rho'])\n",
    "G = 10*exp(-2*z)*sp.Matrix([rho, 0, 1])"
   ]
  },
  {
   "cell_type": "code",
   "execution_count": 54,
   "id": "8690e63a",
   "metadata": {},
   "outputs": [
    {
     "data": {
      "text/latex": [
       "$\\displaystyle \\int\\limits_{0}^{1}\\int\\limits_{0}^{2 \\pi} 10 e^{- 2 z}\\, d\\phi\\, dz=- \\frac{10 \\pi}{e^{2}} + 10 \\pi$"
      ],
      "text/plain": [
       "<IPython.core.display.Math object>"
      ]
     },
     "metadata": {},
     "output_type": "display_data"
    }
   ],
   "source": [
    "# Para área lateral\n",
    "dS1 = rho*sp.Matrix([1, 0, 0])\n",
    "limite = [(phi,0,2*pi),(z,0,1)]\n",
    "superf = [(rho,1)]\n",
    "lateral = Integral(G.dot(dS1).subs(superf),limite[0],limite[1])\n",
    "display(Math(latex(lateral) + '=' + latex(lateral.doit())))"
   ]
  },
  {
   "cell_type": "code",
   "execution_count": 55,
   "id": "307a5015",
   "metadata": {},
   "outputs": [
    {
     "data": {
      "text/latex": [
       "$\\displaystyle \\int\\limits_{0}^{1}\\int\\limits_{0}^{2 \\pi} \\frac{10 \\rho}{e^{2}}\\, d\\phi\\, d\\rho=\\frac{10 \\pi}{e^{2}}$"
      ],
      "text/plain": [
       "<IPython.core.display.Math object>"
      ]
     },
     "metadata": {},
     "output_type": "display_data"
    }
   ],
   "source": [
    "# Para área superior\n",
    "dS2 = rho* sp.Matrix([0, 0, 1])\n",
    "limite = [(phi,0,2*pi),(rho,0,1)]\n",
    "superf = [(z,1)]\n",
    "topo = Integral(G.dot(dS2).subs(superf),limite[0],limite[1])\n",
    "display(Math(latex(topo) + '=' + latex(topo.doit())))"
   ]
  },
  {
   "cell_type": "code",
   "execution_count": 56,
   "id": "c1a30657",
   "metadata": {},
   "outputs": [
    {
     "data": {
      "text/latex": [
       "$\\displaystyle \\int\\limits_{0}^{1}\\int\\limits_{0}^{2 \\pi} \\left(- 10 \\rho\\right)\\, d\\phi\\, d\\rho=- 10 \\pi$"
      ],
      "text/plain": [
       "<IPython.core.display.Math object>"
      ]
     },
     "metadata": {},
     "output_type": "display_data"
    }
   ],
   "source": [
    "# Para área base\n",
    "dS3 = rho* sp.Matrix([0, 0, -1])\n",
    "limite = [(phi,0,2*pi),(rho,0,1)]\n",
    "superf = [(z,0)]\n",
    "base = Integral(G.dot(dS3).subs(superf),limite[0],limite[1])\n",
    "display(Math(latex(base) + '=' + latex(base.doit())))"
   ]
  },
  {
   "cell_type": "code",
   "execution_count": 58,
   "id": "7f769cd8",
   "metadata": {},
   "outputs": [
    {
     "data": {
      "text/latex": [
       "$\\displaystyle \\oint_S \\mathbf{G}\\cdot d\\mathbf{S} = 0$"
      ],
      "text/plain": [
       "<IPython.core.display.Math object>"
      ]
     },
     "metadata": {},
     "output_type": "display_data"
    }
   ],
   "source": [
    "# Somando as partes\n",
    "display(Math(r'\\oint_S \\mathbf{G}\\cdot d\\mathbf{S} = '+ latex((lateral+base+topo).doit())))"
   ]
  },
  {
   "cell_type": "code",
   "execution_count": 61,
   "id": "79f2065f",
   "metadata": {},
   "outputs": [
    {
     "data": {
      "text/latex": [
       "$\\displaystyle 0$"
      ],
      "text/plain": [
       "0"
      ]
     },
     "execution_count": 61,
     "metadata": {},
     "output_type": "execute_result"
    }
   ],
   "source": [
    "# Usando o teorema da divergência\n",
    "dv = rho\n",
    "vol = [(rho,0,1), (phi,0,2*pi), (z,0,1)]\n",
    "divergente = div_cil(G)\n",
    "divergente"
   ]
  },
  {
   "cell_type": "code",
   "execution_count": 65,
   "id": "3ee60bd5",
   "metadata": {},
   "outputs": [
    {
     "data": {
      "text/latex": [
       "$\\displaystyle \\int \\mathbf{\\nabla}\\cdot \\mathbf{G}\\, dv = \\int\\limits_{0}^{1}\\int\\limits_{0}^{2 \\pi}\\int\\limits_{0}^{1} 0\\, d\\rho\\, d\\phi\\, dz=0$"
      ],
      "text/plain": [
       "<IPython.core.display.Math object>"
      ]
     },
     "metadata": {},
     "output_type": "display_data"
    }
   ],
   "source": [
    "fluxo = Integral(div_cil(G)*dv,vol[0],vol[1],vol[2])\n",
    "display(Math(r'\\int \\mathbf{\\nabla}\\cdot \\mathbf{G}\\, dv = '\n",
    "             + latex(fluxo) + '=' + latex(fluxo.doit())))"
   ]
  },
  {
   "attachments": {},
   "cell_type": "markdown",
   "id": "abc991e4",
   "metadata": {},
   "source": [
    "<center> <img src='Pratico3.7.svg'> </center>"
   ]
  }
 ],
 "metadata": {
  "kernelspec": {
   "display_name": "Python 3 (ipykernel)",
   "language": "python",
   "name": "python3"
  },
  "language_info": {
   "codemirror_mode": {
    "name": "ipython",
    "version": 3
   },
   "file_extension": ".py",
   "mimetype": "text/x-python",
   "name": "python",
   "nbconvert_exporter": "python",
   "pygments_lexer": "ipython3",
   "version": "3.11.1"
  }
 },
 "nbformat": 4,
 "nbformat_minor": 5
}
