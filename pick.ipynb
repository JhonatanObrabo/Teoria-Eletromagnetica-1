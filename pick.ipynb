{
 "cells": [
  {
   "cell_type": "code",
   "execution_count": 88,
   "metadata": {},
   "outputs": [
    {
     "name": "stdout",
     "output_type": "stream",
     "text": [
      "[ 2  9 11 18 24 30 34 36]\n"
     ]
    },
    {
     "data": {
      "text/plain": [
       "array([ 4,  9, 16, 19, 20, 31, 33, 36, 37, 42])"
      ]
     },
     "execution_count": 88,
     "metadata": {},
     "output_type": "execute_result"
    }
   ],
   "source": [
    "import numpy as np\n",
    "\n",
    "L = [np.arange(i,f) for i,f in zip([1,11,21,31,41,51],[11,21,31,41,51,61])]\n",
    "\n",
    "from numpy.random import choice\n",
    "\n",
    "def probs(n):\n",
    "    K = np.arange(1,np.max([int(10*np.round(n/10)), n]),10)\n",
    "    L = [choice(np.arange(k,k+10),2,replace=False) for k in K]\n",
    "    L = np.block(L)\n",
    "    L = np.sort(L)\n",
    "    return L\n",
    "\n",
    "L = probs(32)\n",
    "print(np.block(L))\n",
    "def probs2(n):\n",
    "    L2 = (np.sort(choice(np.arange(1,n),10,replace=False)))\n",
    "    return L2\n",
    "probs2(43)\n"
   ]
  }
 ],
 "metadata": {
  "kernelspec": {
   "display_name": "Python 3",
   "language": "python",
   "name": "python3"
  },
  "language_info": {
   "codemirror_mode": {
    "name": "ipython",
    "version": 3
   },
   "file_extension": ".py",
   "mimetype": "text/x-python",
   "name": "python",
   "nbconvert_exporter": "python",
   "pygments_lexer": "ipython3",
   "version": "3.11.1"
  },
  "orig_nbformat": 4
 },
 "nbformat": 4,
 "nbformat_minor": 2
}
