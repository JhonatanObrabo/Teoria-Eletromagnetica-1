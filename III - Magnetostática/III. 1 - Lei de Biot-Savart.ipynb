{
 "cells": [
  {
   "attachments": {},
   "cell_type": "markdown",
   "id": "3a85463a",
   "metadata": {
    "tags": []
   },
   "source": [
    "$\\newcommand{\\ax}{\\mathbf{a}_x}$\n",
    "$\\newcommand{\\ay}{\\mathbf{a}_y}$\n",
    "$\\newcommand{\\az}{\\mathbf{a}_z}$\n",
    "$\\newcommand{\\arho}{\\mathbf{a}_\\rho}$\n",
    "$\\newcommand{\\ap}{\\mathbf{a}_\\phi}$\n",
    "$\\newcommand{\\ar}{\\mathbf{a}_r}$\n",
    "$\\newcommand{\\at}{\\mathbf{a}_\\theta}$\n",
    "$\\newcommand{\\grad}[1]{\\nabla #1}$\n",
    "$\\renewcommand{\\div}[1]{\\mathbf{\\nabla} \\cdot \\mathbf{#1}}$\n",
    "$\\newcommand{\\rot}[1]{\\mathbf{\\nabla} \\times \\mathbf{#1}}$\n",
    "$\\newcommand{\\parcial}[2]{\\displaystyle\\frac{\\partial #1}{\\partial #2}}$\n",
    "$\\newcommand{\\pard}[2]{\\displaystyle\\frac{\\partial^2 {#1}}{\\partial {#2}^2}}$\n",
    "$\\newcommand{\\lapcart}[1]{\\pard{#1}{x}+\\pard{#1}{y}+\\pard{#1}{z}}$\n",
    "$\\newcommand{\\lapcili}[1]{\\frac{1}{\\rho}\\parcial{}{\\rho}\\left(\\rho \\parcial{#1}{\\rho}\\right)+\\frac{1}{\\rho^2}\\pard{#1}{\\phi}+\\pard{#1}{z}}$\n",
    "$\\newcommand{\\lapesf}[1]{\\frac{1}{r^2}\\parcial{}{r}\\left(r^2 \\parcial{#1}{r}\\right)+\\frac{1}{r^2\\sin \\theta }\\left(\\sin \\theta \\, \\parcial{#1}{\\theta}\\right)+\\frac{1}{r^2\\sin \\theta}\\pard{V}{\\phi}}$\n",
    "\n"
   ]
  },
  {
   "attachments": {},
   "cell_type": "markdown",
   "id": "b25518e0",
   "metadata": {},
   "source": [
    "# Lei de Biot-Savart"
   ]
  },
  {
   "attachments": {},
   "cell_type": "markdown",
   "id": "76d5b089",
   "metadata": {},
   "source": [
    "## Campo e densidade de fluxo"
   ]
  },
  {
   "attachments": {},
   "cell_type": "markdown",
   "id": "1770f627",
   "metadata": {},
   "source": [
    "$$\n",
    "    \\mathbf{B} = \\mu \\, \\mathbf{H}\n",
    "$$"
   ]
  },
  {
   "attachments": {},
   "cell_type": "markdown",
   "id": "2230deeb",
   "metadata": {},
   "source": [
    "Campos magnetostáticos são produzidos por corrente contínua constante. "
   ]
  },
  {
   "attachments": {},
   "cell_type": "markdown",
   "id": "3a3828e7",
   "metadata": {},
   "source": [
    "## Lei de Biot-Savart"
   ]
  },
  {
   "attachments": {},
   "cell_type": "markdown",
   "id": "408da8a3",
   "metadata": {},
   "source": [
    "Trata do campo produzido por elemento de corrente elétrica\n",
    "\n",
    "$$\n",
    "    d\\mathbf{H} = \\frac{d\\mathbf{I} \\times \\mathbf{a}_R}{4\\pi R^2} = \\frac{d\\mathbf{I} \\times \\mathbf{R}}{4\\pi R^3}\n",
    "$$"
   ]
  },
  {
   "attachments": {},
   "cell_type": "markdown",
   "id": "70db317a",
   "metadata": {},
   "source": [
    "<center> <img src = './figs/Fig7.1.svg'> </center>"
   ]
  },
  {
   "attachments": {},
   "cell_type": "markdown",
   "id": "6cc8aeea",
   "metadata": {},
   "source": [
    "Direção do campo:\n",
    "\n",
    "<center> <img src = './figs/Fig7.2.svg'> </center>\n",
    "\n",
    "<center> <img src = './figs/Fig7.3.svg'> </center>"
   ]
  },
  {
   "attachments": {},
   "cell_type": "markdown",
   "id": "bd55cb7b",
   "metadata": {},
   "source": [
    "Elementos de corrente:\n",
    "$$\n",
    "\\begin{align}\n",
    "    d\\mathbf{I} &= I d\\mathbf{l}\\\\\n",
    "    d\\mathbf{I} &= \\mathbf{K} dS\\\\\n",
    "    d\\mathbf{I} &= \\mathbf{J} dv\n",
    "\\end{align}\n",
    "$$"
   ]
  },
  {
   "attachments": {},
   "cell_type": "markdown",
   "id": "bcf602b4",
   "metadata": {},
   "source": [
    "<center> <img src = './figs/Fig7.4.svg'> </center>"
   ]
  },
  {
   "attachments": {},
   "cell_type": "markdown",
   "id": "a634d253",
   "metadata": {},
   "source": [
    "<center> <img src = './figs/Ex7.1.svg'> </center>"
   ]
  },
  {
   "cell_type": "code",
   "execution_count": 1,
   "id": "e7598878",
   "metadata": {},
   "outputs": [],
   "source": [
    "import sympy as sp\n",
    "from sympy import ImmutableMatrix as matriz\n",
    "from sympy import Integral, pi, latex\n",
    "from IPython.display import display, Math\n",
    "\n",
    "x = sp.symbols('x')"
   ]
  },
  {
   "cell_type": "code",
   "execution_count": 8,
   "id": "2af57c74",
   "metadata": {},
   "outputs": [
    {
     "data": {
      "text/latex": [
       "$\\displaystyle \\mathbf{H} = \\int\\limits_{0}^{2} \\left[\\begin{matrix}0\\\\- \\frac{25}{2 \\pi \\left(\\left|{x}\\right|^{2} + 25\\right)^{\\frac{3}{2}}}\\\\0\\end{matrix}\\right]\\, dx=\\left[\\begin{matrix}0\\\\-0.05911\\\\0\\end{matrix}\\right]\\, A/m$"
      ],
      "text/plain": [
       "<IPython.core.display.Math object>"
      ]
     },
     "metadata": {},
     "output_type": "display_data"
    }
   ],
   "source": [
    "P = matriz([0,0,5])      # Posição do ponto de interesse\n",
    "El = matriz([x,0,0])     # Posição do elemento de corrente\n",
    "R = P-El                # Vetor deslocamento\n",
    "I = 10                  # Corrente do elemento\n",
    "dl = matriz([1,0,0])    # dl = dx ax\n",
    "dH = I*dl.cross(R)/(4*pi*R.norm()**3)   # Lei de Biot-Savart\n",
    "H = Integral(dH,(x,0,2))\n",
    "display(Math(r'\\mathbf{H} = ' + latex(H) + '=' + \n",
    "             latex(H.doit().evalf(4)) + '\\, A/m'))"
   ]
  },
  {
   "attachments": {},
   "cell_type": "markdown",
   "id": "a060bcef",
   "metadata": {},
   "source": [
    "<center> <img src = './figs/Ex7.2.svg'> </center>"
   ]
  },
  {
   "cell_type": "code",
   "execution_count": 11,
   "id": "74628d3e",
   "metadata": {},
   "outputs": [
    {
     "data": {
      "text/latex": [
       "$\\displaystyle \\mathbf{H} = \\int\\limits_{0}^{\\infty} \\left[\\begin{matrix}0\\\\0\\\\\\frac{3}{\\pi \\left(\\left|{x + 3}\\right|^{2} + 16\\right)^{\\frac{3}{2}}}\\end{matrix}\\right]\\, dx + \\int\\limits_{\\infty}^{0} \\left[\\begin{matrix}- \\frac{3}{\\pi \\left(\\left|{z}\\right|^{2} + 25\\right)^{\\frac{3}{2}}}\\\\- \\frac{9}{4 \\pi \\left(\\left|{z}\\right|^{2} + 25\\right)^{\\frac{3}{2}}}\\\\0\\end{matrix}\\right]\\, dz=\\left[\\begin{matrix}38.2\\\\28.65\\\\23.87\\end{matrix}\\right]mA/m$"
      ],
      "text/plain": [
       "<IPython.core.display.Math object>"
      ]
     },
     "metadata": {},
     "output_type": "display_data"
    }
   ],
   "source": [
    "x,y,z = sp.symbols('x y z')\n",
    "P = matriz([-3,4,0])\n",
    "El1 = matriz([0,0,z])\n",
    "El2 = matriz([x,0,0])\n",
    "R1 = P-El1\n",
    "R2 = P-El2\n",
    "I = 3\n",
    "dl1 = matriz([0,0,1])\n",
    "dl2 = matriz([1,0,0])\n",
    "dH1 = I*dl1.cross(R1)/(4*pi*R1.norm()**3)\n",
    "dH2 = I*dl2.cross(R2)/(4*pi*R2.norm()**3)\n",
    "H = Integral(dH1,(z,sp.oo,0)) + Integral(dH2,(x,0,sp.oo))\n",
    "display(Math(r'\\mathbf{H} = ' + latex(H) + '=' + \n",
    "             latex((H.doit()*1e3).evalf(4)) + 'mA/m'))"
   ]
  },
  {
   "attachments": {},
   "cell_type": "markdown",
   "id": "ae8fbf8a",
   "metadata": {},
   "source": [
    "<center> <img src = './figs/Ex7.3.svg'> </center>"
   ]
  },
  {
   "cell_type": "code",
   "execution_count": 12,
   "id": "59f81cdc",
   "metadata": {},
   "outputs": [],
   "source": [
    "rho, phi = sp.symbols('rho phi')\n",
    "cos = sp.cos\n",
    "sin = sp.sin\n",
    "def ret2cil(v):\n",
    "    M = sp.ImmutableMatrix([[sp.cos(phi), sp.sin(phi),0],\n",
    "                     [-sp.sin(phi), sp.cos(phi),0],\n",
    "                     [0,0,1]])\n",
    "    vc = M@v\n",
    "    coord = [(x,rho*cos(phi)), (y,rho*sin(phi))]\n",
    "    return vc.subs(coord).simplify()\n"
   ]
  },
  {
   "cell_type": "code",
   "execution_count": 57,
   "id": "7666c044",
   "metadata": {},
   "outputs": [
    {
     "data": {
      "text/latex": [
       "$\\displaystyle \\int\\limits_{0}^{2 \\pi} \\left[\\begin{matrix}\\frac{5 h \\rho \\cos{\\left(\\phi \\right)}}{2 \\pi \\left(h^{2} + \\rho^{2}\\right)^{\\frac{3}{2}}}\\\\\\frac{5 h \\rho \\sin{\\left(\\phi \\right)}}{2 \\pi \\left(h^{2} + \\rho^{2}\\right)^{\\frac{3}{2}}}\\\\\\frac{5 \\rho^{2}}{2 \\pi \\left(h^{2} + \\rho^{2}\\right)^{\\frac{3}{2}}}\\end{matrix}\\right]\\, d\\phi$"
      ],
      "text/plain": [
       "Integral(Matrix([\n",
       "[5*h*rho*cos(phi)/(2*pi*(h**2 + rho**2)**(3/2))],\n",
       "[5*h*rho*sin(phi)/(2*pi*(h**2 + rho**2)**(3/2))],\n",
       "[        5*rho**2/(2*pi*(h**2 + rho**2)**(3/2))]]), (phi, 0, 2*pi))"
      ]
     },
     "metadata": {},
     "output_type": "display_data"
    },
    {
     "data": {
      "text/latex": [
       "$\\displaystyle \\left[\\begin{matrix}0\\\\0\\\\\\frac{5 \\rho^{2}}{\\left(h^{2} + \\rho^{2}\\right)^{\\frac{3}{2}}}\\end{matrix}\\right]$"
      ],
      "text/plain": [
       "Matrix([\n",
       "[                              0],\n",
       "[                              0],\n",
       "[5*rho**2/(h**2 + rho**2)**(3/2)]])"
      ]
     },
     "metadata": {},
     "output_type": "display_data"
    }
   ],
   "source": [
    "I = 10\n",
    "x,y = sp.symbols('x y',Positive=True)\n",
    "h = sp.symbols('h',Positive=True)\n",
    "rho = sp.symbols('rho', Positive=True)\n",
    "P = matriz([0,0,h])\n",
    "El = matriz([x,y,0])\n",
    "R = P-El\n",
    "Rcil = ret2cil(R)\n",
    "diff = sp.diff\n",
    "raiz = sp.sqrt\n",
    "dl = matriz([diff(rho*cos(phi),phi), diff(rho*sin(phi),phi), 0])\n",
    "coord = [(x,rho*cos(phi)), (y,rho*sin(phi))]\n",
    "dH = (I*dl.cross(R)/(4*pi*(raiz(R.dot(R)))**3)).subs(coord).trigsimp()\n",
    "H = Integral(dH,(phi,0,2*pi))\n",
    "display(H)\n",
    "display(H.doit())\n"
   ]
  },
  {
   "cell_type": "code",
   "execution_count": 20,
   "id": "bcc064bc",
   "metadata": {},
   "outputs": [
    {
     "data": {
      "text/latex": [
       "$\\displaystyle \\left[\\begin{matrix}0.48\\\\0\\\\0.36\\end{matrix}\\right]$"
      ],
      "text/plain": [
       "Matrix([\n",
       "[0.48],\n",
       "[   0],\n",
       "[0.36]])"
      ]
     },
     "execution_count": 20,
     "metadata": {},
     "output_type": "execute_result"
    }
   ],
   "source": [
    "H = H.doit()\n",
    "H.subs([(h,4),(rho,3)]).evalf(4)"
   ]
  }
 ],
 "metadata": {
  "kernelspec": {
   "display_name": "Python 3 (ipykernel)",
   "language": "python",
   "name": "python3"
  },
  "language_info": {
   "codemirror_mode": {
    "name": "ipython",
    "version": 3
   },
   "file_extension": ".py",
   "mimetype": "text/x-python",
   "name": "python",
   "nbconvert_exporter": "python",
   "pygments_lexer": "ipython3",
   "version": "3.11.1"
  }
 },
 "nbformat": 4,
 "nbformat_minor": 5
}
