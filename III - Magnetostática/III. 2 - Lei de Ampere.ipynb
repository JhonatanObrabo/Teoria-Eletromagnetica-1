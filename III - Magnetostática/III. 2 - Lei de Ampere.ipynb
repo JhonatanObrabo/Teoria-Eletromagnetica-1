{
 "cells": [
  {
   "attachments": {},
   "cell_type": "markdown",
   "id": "3a85463a",
   "metadata": {
    "tags": []
   },
   "source": [
    "$\\newcommand{\\ax}{\\mathbf{a}_x}$\n",
    "$\\newcommand{\\ay}{\\mathbf{a}_y}$\n",
    "$\\newcommand{\\az}{\\mathbf{a}_z}$\n",
    "$\\newcommand{\\arho}{\\mathbf{a}_\\rho}$\n",
    "$\\newcommand{\\ap}{\\mathbf{a}_\\phi}$\n",
    "$\\newcommand{\\ar}{\\mathbf{a}_r}$\n",
    "$\\newcommand{\\at}{\\mathbf{a}_\\theta}$\n",
    "$\\newcommand{\\grad}[1]{\\nabla #1}$\n",
    "$\\renewcommand{\\div}[1]{\\mathbf{\\nabla} \\cdot \\mathbf{#1}}$\n",
    "$\\newcommand{\\rot}[1]{\\mathbf{\\nabla} \\times \\mathbf{#1}}$\n",
    "$\\newcommand{\\parcial}[2]{\\displaystyle\\frac{\\partial #1}{\\partial #2}}$\n",
    "$\\newcommand{\\pard}[2]{\\displaystyle\\frac{\\partial^2 {#1}}{\\partial {#2}^2}}$\n",
    "$\\newcommand{\\lapcart}[1]{\\pard{#1}{x}+\\pard{#1}{y}+\\pard{#1}{z}}$\n",
    "$\\newcommand{\\lapcili}[1]{\\frac{1}{\\rho}\\parcial{}{\\rho}\\left(\\rho \\parcial{#1}{\\rho}\\right)+\\frac{1}{\\rho^2}\\pard{#1}{\\phi}+\\pard{#1}{z}}$\n",
    "$\\newcommand{\\lapesf}[1]{\\frac{1}{r^2}\\parcial{}{r}\\left(r^2 \\parcial{#1}{r}\\right)+\\frac{1}{r^2\\sin \\theta }\\left(\\sin \\theta \\, \\parcial{#1}{\\theta}\\right)+\\frac{1}{r^2\\sin \\theta}\\pard{V}{\\phi}}$\n",
    "\n"
   ]
  },
  {
   "attachments": {},
   "cell_type": "markdown",
   "id": "b25518e0",
   "metadata": {},
   "source": [
    "# **Lei de Ampere**"
   ]
  },
  {
   "attachments": {},
   "cell_type": "markdown",
   "id": "3bec3bbd",
   "metadata": {},
   "source": [
    "Forma integral: \n",
    "\n",
    "$$\n",
    "    \\oint \\mathbf{H}\\cdot d\\mathbf{l} = I_{\\text{env}}\n",
    "$$"
   ]
  },
  {
   "attachments": {},
   "cell_type": "markdown",
   "id": "fd39ceb7",
   "metadata": {},
   "source": [
    "Usando teorema de Stokes:\n"
   ]
  },
  {
   "attachments": {},
   "cell_type": "markdown",
   "id": "52c8ac12",
   "metadata": {},
   "source": [
    "$$\n",
    "\\begin{align}\n",
    "    \\oint_L \\mathbf{H}\\cdot d\\mathbf{l} &= \\int_S \\rot{H} \\cdot d\\mathbf{S}\\\\\n",
    "    I_{\\text{env}} &= \\int_{S} \\mathbf{J}\\cdot d\\mathbf{S}\n",
    "\\end{align}\n",
    "$$"
   ]
  },
  {
   "attachments": {},
   "cell_type": "markdown",
   "id": "d2762579",
   "metadata": {},
   "source": [
    "Forma diferencial:\n",
    "$$\n",
    "    \\rot{H} = \\mathbf{J}\n",
    "$$"
   ]
  },
  {
   "attachments": {},
   "cell_type": "markdown",
   "id": "5afc5114",
   "metadata": {},
   "source": [
    "## **Aplicações:**"
   ]
  },
  {
   "attachments": {},
   "cell_type": "markdown",
   "id": "7dde3b50",
   "metadata": {},
   "source": [
    "Tal como na lei de Gauss, podemos usar a lei de Àmpere para resolver o campo, desde que tenhamos condições de simetria e variação do campo."
   ]
  },
  {
   "attachments": {},
   "cell_type": "markdown",
   "id": "eba76bf9",
   "metadata": {},
   "source": [
    "$$\n",
    "    H \\cdot \\text{comprimento do percurso} = \\text{corrente atravessando}\n",
    "$$"
   ]
  },
  {
   "attachments": {},
   "cell_type": "markdown",
   "id": "3d7df95a",
   "metadata": {},
   "source": [
    "### Linha infinita"
   ]
  },
  {
   "attachments": {},
   "cell_type": "markdown",
   "id": "43a1b753",
   "metadata": {},
   "source": [
    "$$\n",
    "\\mathbf{H} = \\frac{I}{2\\pi \\rho }\\,\\ap\n",
    "$$"
   ]
  },
  {
   "attachments": {},
   "cell_type": "markdown",
   "id": "94acb42c",
   "metadata": {},
   "source": [
    "<center> <img src = './figs/Fig.7.10.svg'> </center>"
   ]
  },
  {
   "attachments": {},
   "cell_type": "markdown",
   "id": "9f0f124d",
   "metadata": {},
   "source": [
    "### Lâmina de corrente"
   ]
  },
  {
   "attachments": {},
   "cell_type": "markdown",
   "id": "7568737a",
   "metadata": {},
   "source": [
    "$$\n",
    "    \\mathbf{K} = K_y \\, \\ay\n",
    "$$"
   ]
  },
  {
   "attachments": {},
   "cell_type": "markdown",
   "id": "c2f2cc29",
   "metadata": {},
   "source": [
    "<center> <img src = './figs/Fig7.11.svg' width = '100%'> </center>"
   ]
  },
  {
   "attachments": {},
   "cell_type": "markdown",
   "id": "d03acbab",
   "metadata": {},
   "source": [
    "Pode ser interpretada como um conjunto infinito de filamentos de corrente.\n",
    "\n",
    "Devido a lâmina ser infinita, para qualquer ponto no espaço sempre teremos dois filamentos simétricos que produzem efeitos de campo que se cancelam na direção $z$. \n",
    "\n",
    "Os sentidos de campo são opostos dependendo se o ponto está acima ou abaixo da lâmina. \n",
    "\n",
    "$$\n",
    "\\mathbf{H} = H_x \\, \\ax\n",
    "$$\n",
    "\n",
    "Aplicando a lei de Àmpere no caminho 1-2-3-4-1"
   ]
  },
  {
   "attachments": {},
   "cell_type": "markdown",
   "id": "8b441111",
   "metadata": {},
   "source": [
    "$$\n",
    "    0\\cdot (-a) + (-H_x)\\, (-b) + 0 \\cdot a +  H_x\\cdot b = 2b \\,H_x \n",
    "$$"
   ]
  },
  {
   "attachments": {},
   "cell_type": "markdown",
   "id": "0ee781c2",
   "metadata": {},
   "source": [
    "Corrente total envolvida:\n",
    "$$\n",
    "    I_{\\text{env}} = K_y \\,b\n",
    "$$"
   ]
  },
  {
   "attachments": {},
   "cell_type": "markdown",
   "id": "cb441e39",
   "metadata": {},
   "source": [
    "Logo o campo em $z>0$ é:\n",
    "$$\n",
    "    H_x = \\frac{K_y\\, b}{2b} = \\frac{K_y}{2}\n",
    "$$"
   ]
  },
  {
   "attachments": {},
   "cell_type": "markdown",
   "id": "0d1a09b9",
   "metadata": {},
   "source": [
    "Resultado geral:\n",
    "$$\n",
    "\\mathbf{H} = \\frac{1}{2}\\mathbf{K}\\times \\mathbf{a}_n\n",
    "$$\n",
    "onde $\\mathbf{a}_n$ é o vetor normal ao plano da lâmina, na direção do ponto de interesse. "
   ]
  },
  {
   "attachments": {},
   "cell_type": "markdown",
   "id": "8f387913",
   "metadata": {},
   "source": [
    "## Linha coaxial"
   ]
  },
  {
   "attachments": {},
   "cell_type": "markdown",
   "id": "2b98c9cf",
   "metadata": {},
   "source": [
    "<center> <img src = './figs/Fig7.12.svg' width = '100%'> </center>"
   ]
  },
  {
   "attachments": {},
   "cell_type": "markdown",
   "id": "9b65b2af",
   "metadata": {},
   "source": [
    "Variação do campo: $\\mathbf{H} = H_\\phi(\\rho) \\ap$"
   ]
  },
  {
   "attachments": {},
   "cell_type": "markdown",
   "id": "e880592e",
   "metadata": {},
   "source": [
    "**Dentro do condutor central**: $0 <\\rho < a $"
   ]
  },
  {
   "attachments": {},
   "cell_type": "markdown",
   "id": "203d3898",
   "metadata": {},
   "source": [
    "A corrente envolvida é uma fração da distribuição de corrente interna:\n",
    "$$\n",
    "    I_{\\text{env}} = \\frac{\\pi \\rho^2}{\\pi a^2}\\,I \n",
    "$$"
   ]
  },
  {
   "attachments": {},
   "cell_type": "markdown",
   "id": "69bd706d",
   "metadata": {},
   "source": [
    "$$\n",
    "    H_\\phi \\, 2\\pi \\rho = \\frac{\\pi \\rho^2}{\\pi a^2}\\,I \\Rightarrow H_\\phi = \\frac{I\\rho}{2\\pi a^2}\n",
    "$$"
   ]
  },
  {
   "attachments": {},
   "cell_type": "markdown",
   "id": "6b69e8a8",
   "metadata": {},
   "source": [
    "**Meio do cabo**: $a <\\rho < b $\n",
    "\n",
    "A corrente envolvida é toda a corrente do condutor central, mas nada do condutor externo"
   ]
  },
  {
   "attachments": {},
   "cell_type": "markdown",
   "id": "c0668b54",
   "metadata": {},
   "source": [
    "$$\n",
    "    H_\\phi \\, 2\\pi \\rho = I  \\Rightarrow H_\\phi = \\frac{I}{2\\pi \\rho}\n",
    "$$"
   ]
  },
  {
   "attachments": {},
   "cell_type": "markdown",
   "id": "a9edc7e5",
   "metadata": {},
   "source": [
    "**Dentro do condutor externo**: $b <\\rho < b+t $"
   ]
  },
  {
   "attachments": {},
   "cell_type": "markdown",
   "id": "7c66be6e",
   "metadata": {},
   "source": [
    "Distribuição de corrente no condutor externo:\n",
    "$$\n",
    "    I' = \\frac{-I}{\\pi\\left[(b+t)^2-b^2\\right]}\n",
    "$$"
   ]
  },
  {
   "attachments": {},
   "cell_type": "markdown",
   "id": "eb03aa56",
   "metadata": {},
   "source": [
    "Fração de corrente no condutor externo, dentro de um raio $\\rho$\n",
    "$$\n",
    "    I'' = \\frac{-I\\, \\pi \\left[\\rho^2-b^2\\right]}{\\pi\\left[(b+t)^2-b^2\\right]}\n",
    "$$"
   ]
  },
  {
   "attachments": {},
   "cell_type": "markdown",
   "id": "2f071d91",
   "metadata": {},
   "source": [
    "A corrente envolvida é toda a corrente do condutor central mais uma fração devida ao condutor externo\n",
    "$$\n",
    "\\begin{align}\n",
    "    I_{\\text{env}} &= I + I'' = I -\\frac{I\\, \\pi \\left[\\rho^2-b^2\\right]}{\\pi\\left[(b+t)^2-b^2\\right]}\\\\\n",
    "    &= I\\frac{(b+t)^2-b^2-\\rho^2+b^2}{(b+t)^2-b^2}\\\\\n",
    "    &= I\\frac{(b+t)^2-\\rho^2}{(b+t)^2-b^2}\n",
    "\\end{align}\n",
    "$$"
   ]
  },
  {
   "attachments": {},
   "cell_type": "markdown",
   "id": "cccbed8f",
   "metadata": {},
   "source": [
    "Logo:\n",
    "$$\n",
    "    H_\\phi \\, 2\\pi \\rho = I\\frac{(b+t)^2-\\rho^2}{(b+t)^2-b^2} \\Rightarrow\n",
    "    H_\\phi = \\frac{I}{2\\pi \\rho}\\,\\frac{(b+t)^2-\\rho^2}{(b+t)^2-b^2}\n",
    "$$"
   ]
  },
  {
   "attachments": {},
   "cell_type": "markdown",
   "id": "5761786c",
   "metadata": {},
   "source": [
    "**Fora do cabo**: $b+t <\\rho $\n",
    "\n",
    "A corrente envolvida é a soma das correntes totais nos condutores. Como são de sentidos opostos, o total é zero. Então $H_\\phi = 0$. "
   ]
  },
  {
   "attachments": {},
   "cell_type": "markdown",
   "id": "86b7306d",
   "metadata": {},
   "source": [
    "<center> <img src = './figs/ex7.5.svg' width = '100%'> </center>"
   ]
  },
  {
   "attachments": {},
   "cell_type": "markdown",
   "id": "1db0e573",
   "metadata": {},
   "source": [
    "(a) O ponto (1,1,1) está acima do plano $z=0$, mas abaixo do plano $z=4$. Logo $\\mathbf{a}_n = \\az$ e $\\mathbf{a}_n = -\\az$ respectivamente. \n",
    "\n",
    "$$\n",
    "    \\begin{align}\n",
    "    \\mathbf{H_1} &= 0,5 \\, (-10\\ax)\\times (\\az)\\\\\n",
    "    \\mathbf{H_2} &= 0,5 \\, (10\\ax)\\times (-\\az)\n",
    "    \\end{align}\n",
    "$$"
   ]
  },
  {
   "cell_type": "code",
   "execution_count": 1,
   "id": "b12a7ca9",
   "metadata": {},
   "outputs": [],
   "source": [
    "import sympy as sp\n",
    "from sympy import ImmutableMatrix as matriz"
   ]
  },
  {
   "cell_type": "code",
   "execution_count": 7,
   "id": "95cb8b64",
   "metadata": {},
   "outputs": [
    {
     "data": {
      "text/latex": [
       "$\\displaystyle \\left[\\begin{matrix}0\\\\10.0\\\\0\\end{matrix}\\right]$"
      ],
      "text/plain": [
       "Matrix([\n",
       "[   0],\n",
       "[10.0],\n",
       "[   0]])"
      ]
     },
     "execution_count": 7,
     "metadata": {},
     "output_type": "execute_result"
    }
   ],
   "source": [
    "K1 = matriz([-10,0,0])\n",
    "K2 = matriz([10,0,0])\n",
    "an1 = matriz([0,0,1])\n",
    "an2 = matriz([0,0,-1])\n",
    "H = 0.5*K1.cross(an1)+0.5*K2.cross(an2)\n",
    "H"
   ]
  },
  {
   "attachments": {},
   "cell_type": "markdown",
   "id": "f5f43484",
   "metadata": {},
   "source": [
    "(b) O ponto (0,-3,10) está acima das duas lâminas. Logo:"
   ]
  },
  {
   "cell_type": "code",
   "execution_count": 8,
   "id": "aba327fe",
   "metadata": {},
   "outputs": [
    {
     "data": {
      "text/latex": [
       "$\\displaystyle \\left[\\begin{matrix}0\\\\0\\\\0\\end{matrix}\\right]$"
      ],
      "text/plain": [
       "Matrix([\n",
       "[0],\n",
       "[0],\n",
       "[0]])"
      ]
     },
     "execution_count": 8,
     "metadata": {},
     "output_type": "execute_result"
    }
   ],
   "source": [
    "an1 = matriz([0,0,1])\n",
    "an2 = matriz([0,0,1])\n",
    "H = 0.5*K1.cross(an1)+0.5*K2.cross(an2)\n",
    "H"
   ]
  },
  {
   "attachments": {},
   "cell_type": "markdown",
   "id": "e145f4c6",
   "metadata": {},
   "source": [
    "<center> <img src = './figs/ex7.6.svg' width = '100%'> </center>"
   ]
  }
 ],
 "metadata": {
  "kernelspec": {
   "display_name": "Python 3 (ipykernel)",
   "language": "python",
   "name": "python3"
  },
  "language_info": {
   "codemirror_mode": {
    "name": "ipython",
    "version": 3
   },
   "file_extension": ".py",
   "mimetype": "text/x-python",
   "name": "python",
   "nbconvert_exporter": "python",
   "pygments_lexer": "ipython3",
   "version": "3.11.1"
  }
 },
 "nbformat": 4,
 "nbformat_minor": 5
}
