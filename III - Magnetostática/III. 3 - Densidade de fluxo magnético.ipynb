{
 "cells": [
  {
   "attachments": {},
   "cell_type": "markdown",
   "id": "3a85463a",
   "metadata": {
    "tags": []
   },
   "source": [
    "$\\newcommand{\\ax}{\\mathbf{a}_x}$\n",
    "$\\newcommand{\\ay}{\\mathbf{a}_y}$\n",
    "$\\newcommand{\\az}{\\mathbf{a}_z}$\n",
    "$\\newcommand{\\arho}{\\mathbf{a}_\\rho}$\n",
    "$\\newcommand{\\ap}{\\mathbf{a}_\\phi}$\n",
    "$\\newcommand{\\ar}{\\mathbf{a}_r}$\n",
    "$\\newcommand{\\at}{\\mathbf{a}_\\theta}$\n",
    "$\\newcommand{\\grad}[1]{\\nabla #1}$\n",
    "$\\renewcommand{\\div}[1]{\\mathbf{\\nabla} \\cdot \\mathbf{#1}}$\n",
    "$\\newcommand{\\rot}[1]{\\mathbf{\\nabla} \\times \\mathbf{#1}}$\n",
    "$\\newcommand{\\parcial}[2]{\\displaystyle\\frac{\\partial #1}{\\partial #2}}$\n",
    "$\\newcommand{\\pard}[2]{\\displaystyle\\frac{\\partial^2 {#1}}{\\partial {#2}^2}}$\n",
    "$\\newcommand{\\lapcart}[1]{\\pard{#1}{x}+\\pard{#1}{y}+\\pard{#1}{z}}$\n",
    "$\\newcommand{\\lapcili}[1]{\\frac{1}{\\rho}\\parcial{}{\\rho}\\left(\\rho \\parcial{#1}{\\rho}\\right)+\\frac{1}{\\rho^2}\\pard{#1}{\\phi}+\\pard{#1}{z}}$\n",
    "$\\newcommand{\\lapesf}[1]{\\frac{1}{r^2}\\parcial{}{r}\\left(r^2 \\parcial{#1}{r}\\right)+\\frac{1}{r^2\\sin \\theta }\\left(\\sin \\theta \\, \\parcial{#1}{\\theta}\\right)+\\frac{1}{r^2\\sin \\theta}\\pard{V}{\\phi}}$\n",
    "\n"
   ]
  },
  {
   "attachments": {},
   "cell_type": "markdown",
   "id": "b25518e0",
   "metadata": {},
   "source": [
    "# Densidade de fluxo magnético"
   ]
  },
  {
   "attachments": {},
   "cell_type": "markdown",
   "id": "9f8569f8",
   "metadata": {},
   "source": [
    "Semelhante ao fluxo elétrico. Linhas de fluxo são paralelas à direção do campo.\n",
    "\n",
    "Densidade de fluxo\n",
    "$$\n",
    "    \\mathbf{B} = \\mu_0 \\mathbf{H} \\quad\\quad Wb/m^2 \\text{ ou } T\n",
    "$$\n",
    "\n",
    "Permeabilidade magnética no vácuo (ou espaço livre):\n",
    "$$\n",
    "    \\mu_0 = 4\\pi \\cdot 10^{-7} \\quad H/m\n",
    "$$\n",
    "\n",
    "Fluxo:\n",
    "$$\n",
    "\\Psi = \\int_S \\mathbf{B}\\cdot d\\mathbf{S}\n",
    "    $$"
   ]
  },
  {
   "attachments": {},
   "cell_type": "markdown",
   "id": "06430e81",
   "metadata": {},
   "source": [
    "Não existe carga magnética simples (monopolo). As linhas de campo magnético sempre se fecham sobre si mesmas"
   ]
  },
  {
   "attachments": {},
   "cell_type": "markdown",
   "id": "c1881d4f",
   "metadata": {},
   "source": [
    "$$\n",
    "    \\div{B} = 0\n",
    "$$\n",
    "(*Lei de Gauss para o campo magnético*)"
   ]
  },
  {
   "attachments": {},
   "cell_type": "markdown",
   "id": "98095b7c",
   "metadata": {},
   "source": [
    "## Equações de Maxwell estáticas"
   ]
  },
  {
   "attachments": {},
   "cell_type": "markdown",
   "id": "202e03d6",
   "metadata": {},
   "source": [
    "$$\n",
    "\\begin{align}\n",
    "    \\div{D} &= \\rho_v\\\\\n",
    "    \\div{B} &= 0\\\\\n",
    "    \\rot{E} &= \\mathbf{0}\\\\\n",
    "    \\rot{H} &= \\mathbf{J}\n",
    "\\end{align}\n",
    "$$"
   ]
  },
  {
   "attachments": {},
   "cell_type": "markdown",
   "id": "5534b643",
   "metadata": {},
   "source": [
    "## Potenciais magnéticos\n",
    "\n",
    "Devido às proprieades do campo e do fluxo, podemos definir campos potenciais que servem para descrever o campo magnético."
   ]
  },
  {
   "attachments": {},
   "cell_type": "markdown",
   "id": "403992ea",
   "metadata": {},
   "source": [
    "Potencial escalar:\n",
    "\n",
    "$$"
   ]
  },
  {
   "attachments": {},
   "cell_type": "markdown",
   "id": "13853067",
   "metadata": {},
   "source": [
    "$$\n",
    "    \\mathbf{H} = -\\grad{V_m};\n",
    "     \\quad \\mathbf{J=0}\n",
    "$$"
   ]
  },
  {
   "attachments": {},
   "cell_type": "markdown",
   "id": "ffcdef23",
   "metadata": {},
   "source": [
    "Potencial vetorial\n",
    "    "
   ]
  },
  {
   "attachments": {},
   "cell_type": "markdown",
   "id": "802d3855",
   "metadata": {},
   "source": [
    "$$\n",
    "    \\mathbf{B} = \\rot{A}\n",
    "$$"
   ]
  },
  {
   "attachments": {},
   "cell_type": "markdown",
   "id": "a6c0e38c",
   "metadata": {},
   "source": [
    "**Torque devido à força magnética**\n",
    "\n",
    "$$\n",
    "    \\mathbf{T} = \\mathbf{r\\times F}\n",
    "$$"
   ]
  },
  {
   "attachments": {},
   "cell_type": "markdown",
   "id": "91d32273",
   "metadata": {},
   "source": [
    "**Momento de dipolo magnético**\n",
    "\n",
    "$$\n",
    "    \\mathbf{m} = IS\\mathbf{a}_n\n",
    "$$"
   ]
  },
  {
   "attachments": {},
   "cell_type": "markdown",
   "id": "34cdf1bc",
   "metadata": {},
   "source": [
    "**Magnetização de materiais**"
   ]
  },
  {
   "attachments": {},
   "cell_type": "markdown",
   "id": "e896016f",
   "metadata": {},
   "source": [
    "Magnetização:\n",
    "$$\n",
    "    \\mathbf{M} = \\lim_{\\Delta v \\rightarrow 0} \\frac{\\sum_k{\\mathbf{m}_k}}{\\Delta v}\n",
    "$$"
   ]
  },
  {
   "attachments": {},
   "cell_type": "markdown",
   "id": "27519c21",
   "metadata": {},
   "source": [
    "Densidades de corrente ligada, em volume e em superfície:\n",
    "$$\n",
    "\\begin{align}\n",
    "\\mathbf{J}_m &= \\rot{M}\\\\\n",
    "\\mathbf{K}_m &= \\mathbf{M}\\times \\mathbf{a}_n\n",
    "\\end{align}\n",
    "$$"
   ]
  },
  {
   "attachments": {},
   "cell_type": "markdown",
   "id": "3d7c224c",
   "metadata": {},
   "source": [
    "Susceptibilidade magnética:\n",
    "$$\n",
    "\\begin{align}\n",
    "    \\mathbf{B} &= \\mu_0(\\mathbf{H+M})\\\\\n",
    "    \\mathbf{M} &= \\chi_m\\mathbf{H}\\\\\n",
    "    \\mathbf{B} &= \\mu \\mathbf{H}\n",
    "\\end{align}\n",
    "$$\n",
    "\n",
    "$$\n",
    "\\begin{align}\n",
    "\\mu &= \\mu_r \\mu_0\\\\\n",
    "\\mu_r &= 1 + \\chi_m = \\frac{\\mu}{\\mu_0}\n",
    "\\end{align}\n",
    "$$"
   ]
  },
  {
   "attachments": {},
   "cell_type": "markdown",
   "id": "297db3d2",
   "metadata": {},
   "source": [
    "<center> <img src='./figs/Fig8.13.svg'> </center>"
   ]
  },
  {
   "attachments": {},
   "cell_type": "markdown",
   "id": "b184cac5",
   "metadata": {},
   "source": [
    "Histerese:\n",
    "<center> <img src='./figs/Fig8.15.svg'> </center>"
   ]
  },
  {
   "attachments": {},
   "cell_type": "markdown",
   "id": "169680d2",
   "metadata": {},
   "source": [
    "**Condições de fronteira**"
   ]
  },
  {
   "attachments": {},
   "cell_type": "markdown",
   "id": "3c2b8022",
   "metadata": {},
   "source": [
    "<center> <img src='./figs/Fig8.16.svg'> </center>"
   ]
  },
  {
   "attachments": {},
   "cell_type": "markdown",
   "id": "d98cbd69",
   "metadata": {},
   "source": [
    "$$\n",
    "\\begin{align}\n",
    "    B_{1n} &= B_{2n}\\\\\n",
    "    H_{1t} - H_{2t} &= K\\\\\n",
    "    \\frac{\\tan \\theta_1}{\\tan \\theta_2} &= \\frac{\\mu_1}{\\mu_2}\n",
    "\\end{align}\n",
    "$$"
   ]
  },
  {
   "attachments": {},
   "cell_type": "markdown",
   "id": "8deea925",
   "metadata": {},
   "source": [
    "**Indutância**\n",
    "\n",
    "Enlace:\n",
    "$$\n",
    "    \\lambda = N \\psi\n",
    "$$\n",
    "\n",
    "Indutância:\n",
    "$$\n",
    "    L = \\frac{\\lambda}{I}\n",
    "$$"
   ]
  },
  {
   "attachments": {},
   "cell_type": "markdown",
   "id": "b8594f02",
   "metadata": {},
   "source": [
    "<center> <img src='./figs/tab8.3.svg'> </center>"
   ]
  },
  {
   "attachments": {},
   "cell_type": "markdown",
   "id": "86e11f57",
   "metadata": {},
   "source": [
    "\n",
    "Energia armazenada no indutor:\n",
    "$$\n",
    "    W = \\frac{1}{2}\\, LI^2\n",
    "$$"
   ]
  },
  {
   "attachments": {},
   "cell_type": "markdown",
   "id": "3565c6a5",
   "metadata": {},
   "source": [
    "\n",
    "Indutância própria e mútua\n",
    "<center> <img src='./figs/Fig8.20.svg'> </center>"
   ]
  },
  {
   "attachments": {},
   "cell_type": "markdown",
   "id": "29521fde",
   "metadata": {},
   "source": [
    "$$\n",
    "    \\begin{align}\n",
    "    M_{12} &= \\frac{\\lambda_{12}}{I_2} = \\frac{N_1\\Psi_{12}}{I_2}\\\\\n",
    "    M_{21} &= \\frac{\\lambda_{21}}{I_1} = \\frac{N_2\\Psi_{21}}{I_1}\\\\\n",
    "    M_{12} &= M_{21}\n",
    "    \\end{align}\n",
    "$$"
   ]
  },
  {
   "attachments": {},
   "cell_type": "markdown",
   "id": "15ab0c1a",
   "metadata": {},
   "source": [
    "Energia total em um circuito magnético:\n",
    "$$\n",
    "    W = \\frac{1}{2}\\,L_1I_1^2 + \\frac{1}{2}\\,L_2I_2^2 \\pm \\frac{1}{2}\\,M_{12}I_1I_2\n",
    "$$"
   ]
  },
  {
   "attachments": {},
   "cell_type": "markdown",
   "id": "5113db47",
   "metadata": {},
   "source": [
    "**Circuitos magnéticos**"
   ]
  },
  {
   "attachments": {},
   "cell_type": "markdown",
   "id": "762cb570",
   "metadata": {},
   "source": [
    "<center> <img src='./figs/fig8.24.svg'> </center>"
   ]
  },
  {
   "attachments": {},
   "cell_type": "markdown",
   "id": "6cec6092",
   "metadata": {},
   "source": [
    "<center> <img src='./figs/tab8.4.svg'> </center>"
   ]
  },
  {
   "attachments": {},
   "cell_type": "markdown",
   "id": "907fd447",
   "metadata": {},
   "source": [
    "Força magneto-motriz:\n",
    "$$\n",
    "    \\mathscr{F} = NI \\quad Ae\n",
    "$$\n",
    "- $Ae$ = Ampere-espira"
   ]
  },
  {
   "attachments": {},
   "cell_type": "markdown",
   "id": "6e016ba8",
   "metadata": {},
   "source": [
    "Relutância magnética\n",
    "$$\n",
    "    \\mathscr{R} = \\frac{l}{\\mu \\,S}\\quad Ae/Wb\n",
    "$$"
   ]
  },
  {
   "attachments": {},
   "cell_type": "markdown",
   "id": "4a060ea0",
   "metadata": {},
   "source": [
    "Lei de Ohm para fluxo magnético:\n",
    "$$\n",
    "    \\mathscr{F} = \\Psi\\, \\mathscr{R}\n",
    "$$"
   ]
  },
  {
   "attachments": {},
   "cell_type": "markdown",
   "id": "4f58c741",
   "metadata": {},
   "source": [
    "- Elementos em série: fluxo é o mesmo\n",
    "- Elementos em paralelo: FMM é a mesma"
   ]
  },
  {
   "attachments": {},
   "cell_type": "markdown",
   "id": "d65f26e1",
   "metadata": {},
   "source": [
    "**Força em materiais magnéticos**"
   ]
  },
  {
   "attachments": {},
   "cell_type": "markdown",
   "id": "420b77e7",
   "metadata": {},
   "source": [
    "$$\n",
    "    F = -\\frac{B^2S}{2\\mu_0}\n",
    "$$"
   ]
  },
  {
   "attachments": {},
   "cell_type": "markdown",
   "id": "3ae6591f",
   "metadata": {},
   "source": [
    "<center> <img src='./figs/fig8.25.svg'> </center>"
   ]
  },
  {
   "attachments": {},
   "cell_type": "markdown",
   "id": "e04decef",
   "metadata": {},
   "source": [
    "<center> <img src='./figs/ex8.14.svg'> </center>"
   ]
  },
  {
   "cell_type": "code",
   "execution_count": 1,
   "id": "d836ab27",
   "metadata": {},
   "outputs": [],
   "source": [
    "import sympy as sp"
   ]
  },
  {
   "cell_type": "code",
   "execution_count": 5,
   "id": "85fa4b87",
   "metadata": {},
   "outputs": [
    {
     "name": "stdout",
     "output_type": "stream",
     "text": [
      "3.979 Ampere\n"
     ]
    }
   ],
   "source": [
    "mu0 = 4*sp.pi*1e-7\n",
    "mu = 1000*mu0\n",
    "a = 1e-2\n",
    "S = sp.pi*a**2\n",
    "rho0 = 10e-2\n",
    "l = 2*sp.pi*rho0\n",
    "R = l/(mu*S)\n",
    "Psi = 0.5e-3\n",
    "F = R*Psi\n",
    "N = 200\n",
    "I = F/N\n",
    "print(I.evalf(4), 'Ampere')"
   ]
  },
  {
   "attachments": {},
   "cell_type": "markdown",
   "id": "5952b04c",
   "metadata": {},
   "source": [
    "<center> <img src='./figs/ex8.15.svg'> </center>"
   ]
  },
  {
   "cell_type": "code",
   "execution_count": 11,
   "id": "d931370a",
   "metadata": {},
   "outputs": [
    {
     "name": "stdout",
     "output_type": "stream",
     "text": [
      "1.767e+4 Ae\n",
      "44.17 A\n"
     ]
    }
   ],
   "source": [
    "cm2 = 1e-4     # Converte para metros quadrados\n",
    "cm = 1e-2       # Converte para metros\n",
    "S = 10*cm2    # Área em metros quadrados\n",
    "l_eferro = 1*cm # l em metros \n",
    "R_eferro = l_eferro/(mu0*S)\n",
    "mu = 50*mu0\n",
    "l_esq = 10*cm+10*cm+10*cm\n",
    "l_meio = (10*cm-l_eferro)\n",
    "R_esq = l_esq/(mu*S)\n",
    "R_meio = l_meio/(mu*S)\n",
    "B = 1.5 # Wb/m^2\n",
    "fluxo_eferro = B*S\n",
    "queda_eferro = fluxo_eferro*R_eferro\n",
    "fluxo_esq = fluxo_eferro/2\n",
    "queda_esq = R_esq*fluxo_esq\n",
    "fluxo_meio = fluxo_eferro\n",
    "queda_meio = fluxo_meio*R_meio\n",
    "fmm = queda_eferro + queda_esq +queda_meio\n",
    "print(fmm.evalf(4), 'Ae')\n",
    "N = 400\n",
    "I = fmm/N\n",
    "print(I.evalf(4), 'A')\n"
   ]
  },
  {
   "attachments": {},
   "cell_type": "markdown",
   "id": "7e0862e7",
   "metadata": {},
   "source": [
    "<center> <img src='./figs/ex8.16.svg'> </center>"
   ]
  },
  {
   "cell_type": "code",
   "execution_count": 17,
   "id": "c8e90dbf",
   "metadata": {},
   "outputs": [
    {
     "name": "stdout",
     "output_type": "stream",
     "text": [
      "1.110\n",
      "162.0  espiras\n"
     ]
    }
   ],
   "source": [
    "mm = 1e-3\n",
    "mu = 3000*mu0\n",
    "S = 40*cm2\n",
    "l = 50*cm\n",
    "e = 0.1*mm\n",
    "I = 1\n",
    "massa = 400\n",
    "g = 9.81\n",
    "F = massa*g/2\n",
    "B = sp.sqrt(2*mu0*F/S)\n",
    "print(B.evalf(4))\n",
    "#Psi = B*S\n",
    "R_u = l/(mu*S)\n",
    "R_eferro = 2*e/(mu0*S)\n",
    "N = (B*e/mu0)*(R_eferro+R_u)/(R_eferro*I)\n",
    "print(N.evalf(4),  ' espiras' )\n"
   ]
  }
 ],
 "metadata": {
  "kernelspec": {
   "display_name": "Python 3 (ipykernel)",
   "language": "python",
   "name": "python3"
  },
  "language_info": {
   "codemirror_mode": {
    "name": "ipython",
    "version": 3
   },
   "file_extension": ".py",
   "mimetype": "text/x-python",
   "name": "python",
   "nbconvert_exporter": "python",
   "pygments_lexer": "ipython3",
   "version": "3.11.1"
  }
 },
 "nbformat": 4,
 "nbformat_minor": 5
}
